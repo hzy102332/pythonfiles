{
 "cells": [
  {
   "cell_type": "code",
   "execution_count": 77,
   "metadata": {
    "collapsed": true
   },
   "outputs": [
    {
     "name": "stdout",
     "output_type": "stream",
     "text": [
      "    ID   name  gender  age  height\n",
      "0  001    Bob    True   16    1.88\n",
      "1  002    Tom   False   20    1.78\n",
      "2  003  Jerry    True   18    1.81\n",
      "3  004   Nick   False   18    1.86\n",
      "4  005   Jack    True   17    1.74\n",
      "5  006    Amy   False   18    1.75\n",
      "6  007    Joe    True   16    1.56\n"
     ]
    }
   ],
   "source": [
    "import pandas as pd\n",
    "from pandas import DataFrame\n",
    "data = {'ID':['001','002','003','004','005','006','007'],\n",
    "        'name':['Bob','Tom','Jerry','Nick','Jack','Amy','Joe'],\n",
    "        'gender':[True,False,True,False,True,False,True],\n",
    "        'age':[16,20,18,18,17,18,16],\n",
    "        'height':[1.88,1.78,1.81,1.86,1.74,1.75,1.76]}\n",
    "frame = pd.DataFrame(data)\n",
    "print(frame)"
   ]
  },
  {
   "cell_type": "code",
   "execution_count": 1,
   "outputs": [
    {
     "ename": "NameError",
     "evalue": "name 'frame' is not defined",
     "output_type": "error",
     "traceback": [
      "\u001B[1;31m---------------------------------------------------------------------------\u001B[0m",
      "\u001B[1;31mNameError\u001B[0m                                 Traceback (most recent call last)",
      "\u001B[1;32m<ipython-input-1-9c75be399c65>\u001B[0m in \u001B[0;36m<module>\u001B[1;34m\u001B[0m\n\u001B[1;32m----> 1\u001B[1;33m \u001B[0mprint\u001B[0m\u001B[1;33m(\u001B[0m\u001B[0mframe\u001B[0m\u001B[1;33m.\u001B[0m\u001B[0mname\u001B[0m\u001B[1;33m)\u001B[0m\u001B[1;33m\u001B[0m\u001B[1;33m\u001B[0m\u001B[0m\n\u001B[0m\u001B[0;32m      2\u001B[0m \u001B[0mprint\u001B[0m\u001B[1;33m(\u001B[0m\u001B[0mframe\u001B[0m\u001B[1;33m[\u001B[0m\u001B[1;34m'name'\u001B[0m\u001B[1;33m]\u001B[0m\u001B[1;33m)\u001B[0m\u001B[1;33m\u001B[0m\u001B[1;33m\u001B[0m\u001B[0m\n\u001B[0;32m      3\u001B[0m \u001B[0mprint\u001B[0m\u001B[1;33m(\u001B[0m\u001B[0mframe\u001B[0m\u001B[1;33m[\u001B[0m\u001B[1;33m[\u001B[0m\u001B[1;34m'name'\u001B[0m\u001B[1;33m,\u001B[0m\u001B[1;34m'age'\u001B[0m\u001B[1;33m]\u001B[0m\u001B[1;33m]\u001B[0m\u001B[1;33m)\u001B[0m\u001B[1;33m\u001B[0m\u001B[1;33m\u001B[0m\u001B[0m\n",
      "\u001B[1;31mNameError\u001B[0m: name 'frame' is not defined"
     ]
    }
   ],
   "source": [
    "print(frame.name)\n",
    "print(frame['name'])\n",
    "print(frame[['name','age']])"
   ],
   "metadata": {
    "collapsed": false,
    "pycharm": {
     "name": "#%%\n"
    }
   }
  },
  {
   "cell_type": "code",
   "execution_count": 62,
   "outputs": [
    {
     "name": "stdout",
     "output_type": "stream",
     "text": [
      "    ID name  gender  age  height\n",
      "0  001  Bob    True   16    1.88\n"
     ]
    }
   ],
   "source": [
    "print(frame[0:1])"
   ],
   "metadata": {
    "collapsed": false,
    "pycharm": {
     "name": "#%%\n"
    }
   }
  },
  {
   "cell_type": "code",
   "execution_count": 63,
   "outputs": [
    {
     "name": "stdout",
     "output_type": "stream",
     "text": [
      "    ID   name  gender  age  height\n",
      "2  003  Jerry    True   18    1.81\n",
      "4  005   Jack    True   17    1.74\n",
      "6  007    Joe    True   16    1.76\n"
     ]
    }
   ],
   "source": [
    "print(frame[2:7:2])"
   ],
   "metadata": {
    "collapsed": false,
    "pycharm": {
     "name": "#%%\n"
    }
   }
  },
  {
   "cell_type": "code",
   "execution_count": 64,
   "outputs": [
    {
     "name": "stdout",
     "output_type": "stream",
     "text": [
      "1    Tom\n",
      "Name: name, dtype: object\n"
     ]
    }
   ],
   "source": [
    "print(frame[1:2]['name'])"
   ],
   "metadata": {
    "collapsed": false,
    "pycharm": {
     "name": "#%%\n"
    }
   }
  },
  {
   "cell_type": "code",
   "execution_count": 65,
   "outputs": [
    {
     "name": "stdout",
     "output_type": "stream",
     "text": [
      "ID          002\n",
      "name        Tom\n",
      "gender    False\n",
      "age          20\n",
      "height     1.78\n",
      "Name: 1, dtype: object\n"
     ]
    }
   ],
   "source": [
    "print(frame.loc[1])"
   ],
   "metadata": {
    "collapsed": false,
    "pycharm": {
     "name": "#%%\n"
    }
   }
  },
  {
   "cell_type": "code",
   "execution_count": 66,
   "outputs": [
    {
     "name": "stdout",
     "output_type": "stream",
     "text": [
      "    ID   name  gender  age  height\n",
      "0  001    Bob    True   16    1.88\n",
      "1  002    Tom   False   20    1.78\n",
      "2  003  Jerry    True   18    1.81\n",
      "3  004   Nick   False   18    1.86\n"
     ]
    }
   ],
   "source": [
    "print(frame.loc[0:3])"
   ],
   "metadata": {
    "collapsed": false,
    "pycharm": {
     "name": "#%%\n"
    }
   }
  },
  {
   "cell_type": "code",
   "execution_count": 67,
   "outputs": [
    {
     "name": "stdout",
     "output_type": "stream",
     "text": [
      "20\n"
     ]
    }
   ],
   "source": [
    "print(frame.iloc[1,3])#第二列第四行"
   ],
   "metadata": {
    "collapsed": false,
    "pycharm": {
     "name": "#%%\n"
    }
   }
  },
  {
   "cell_type": "code",
   "execution_count": 68,
   "outputs": [
    {
     "name": "stdout",
     "output_type": "stream",
     "text": [
      "    ID   name  gender  age  height\n",
      "1  002    Tom   False   20    1.78\n",
      "2  003  Jerry    True   18    1.81\n",
      "3  004   Nick   False   18    1.86\n",
      "5  006    Amy   False   18    1.75\n",
      "    ID   name  gender  age  height\n",
      "1  002    Tom   False   20    1.78\n",
      "2  003  Jerry    True   18    1.81\n",
      "3  004   Nick   False   18    1.86\n",
      "5  006    Amy   False   18    1.75\n"
     ]
    }
   ],
   "source": [
    "print(frame[frame['age']>17])\n",
    "print(frame[frame['age'].isin([18,20])])"
   ],
   "metadata": {
    "collapsed": false,
    "pycharm": {
     "name": "#%%\n"
    }
   }
  },
  {
   "cell_type": "code",
   "execution_count": 69,
   "outputs": [
    {
     "name": "stdout",
     "output_type": "stream",
     "text": [
      "    学号     姓名     性别  年龄    身高\n",
      "0  001    Bob   True  16  1.88\n",
      "1  002    Tom  False  20  1.78\n",
      "2  003  Jerry   True  18  1.81\n",
      "3  004   Nick  False  18  1.86\n",
      "4  005   Jack   True  17  1.74\n",
      "5  006    Amy  False  18  1.75\n",
      "6  007    Joe   True  16  1.76\n"
     ]
    }
   ],
   "source": [
    "frame.columns = [\"学号\",\"姓名\",\"性别\",\"年龄\",\"身高\"]\n",
    "print(frame)"
   ],
   "metadata": {
    "collapsed": false,
    "pycharm": {
     "name": "#%%\n"
    }
   }
  },
  {
   "cell_type": "code",
   "execution_count": 70,
   "outputs": [
    {
     "name": "stdout",
     "output_type": "stream",
     "text": [
      "0      Male\n",
      "1    Female\n",
      "2      Male\n",
      "3    Female\n",
      "4      Male\n",
      "5    Female\n",
      "6      Male\n",
      "Name: gender, dtype: object\n"
     ]
    }
   ],
   "source": [
    "import pandas as pd\n",
    "from pandas import DataFrame\n",
    "def gender(val):\n",
    "    if val is True:\n",
    "        return 'Male'\n",
    "    else:\n",
    "        return 'Female'\n",
    "data = {'ID':['001','002','003','004','005','006','007'],\n",
    "        'name':['Bob','Tom','Jerry','Nick','Jack','Amy','Joe'],\n",
    "        'gender':[True,False,True,False,True,False,True],\n",
    "        'age':[16,20,18,18,17,18,16],\n",
    "        'height':[1.88,1.78,1.81,1.86,1.74,1.75,1.76]}\n",
    "frame = pd.DataFrame(data)\n",
    "print(frame['gender'].apply(gender))"
   ],
   "metadata": {
    "collapsed": false,
    "pycharm": {
     "name": "#%%\n"
    }
   }
  },
  {
   "cell_type": "code",
   "execution_count": 71,
   "outputs": [
    {
     "name": "stdout",
     "output_type": "stream",
     "text": [
      "    ID   name  gender  age  height\n",
      "0  001    Bob    True   16    1.88\n",
      "3  004   Nick   False   18    1.86\n",
      "2  003  Jerry    True   18    1.81\n",
      "1  002    Tom   False   20    1.78\n",
      "6  007    Joe    True   16    1.76\n",
      "5  006    Amy   False   18    1.75\n",
      "4  005   Jack    True   17    1.74\n",
      "    ID   name  gender  age  height\n",
      "0  001    Bob    True   16    1.88\n",
      "6  007    Joe    True   16    1.76\n",
      "4  005   Jack    True   17    1.74\n",
      "3  004   Nick   False   18    1.86\n",
      "2  003  Jerry    True   18    1.81\n",
      "5  006    Amy   False   18    1.75\n",
      "1  002    Tom   False   20    1.78\n"
     ]
    }
   ],
   "source": [
    "print(frame.sort_values(by=['height'],ascending=False))\n",
    "# 先按第一个排，后按第二个排\n",
    "print(frame.sort_values(by=['age','height'],ascending=[True,False]))"
   ],
   "metadata": {
    "collapsed": false,
    "pycharm": {
     "name": "#%%\n"
    }
   }
  },
  {
   "cell_type": "code",
   "execution_count": 72,
   "outputs": [
    {
     "name": "stdout",
     "output_type": "stream",
     "text": [
      "    ID   name  gender  age  height\n",
      "0  001    Bob    True   16    1.88\n",
      "1  004   Nick   False   18    1.86\n",
      "2  003  Jerry    True   18    1.81\n",
      "3  002    Tom   False   20    1.78\n",
      "4  007    Joe    True   16    1.76\n",
      "5  006    Amy   False   18    1.75\n",
      "6  005   Jack    True   17    1.74\n"
     ]
    }
   ],
   "source": [
    "frame = frame.sort_values(by=['height'],ascending=[False])\n",
    "frame = frame.reset_index(drop=True)\n",
    "print(frame)"
   ],
   "metadata": {
    "collapsed": false,
    "pycharm": {
     "name": "#%%\n"
    }
   }
  },
  {
   "cell_type": "code",
   "execution_count": 73,
   "outputs": [
    {
     "name": "stdout",
     "output_type": "stream",
     "text": [
      "        ID  name  age  height\n",
      "gender                       \n",
      "False    3     3    3       3\n",
      "True     4     4    4       4\n"
     ]
    }
   ],
   "source": [
    "groups = frame.groupby(frame['gender'])\n",
    "print(groups.count())"
   ],
   "metadata": {
    "collapsed": false,
    "pycharm": {
     "name": "#%%\n"
    }
   }
  },
  {
   "cell_type": "code",
   "execution_count": 74,
   "outputs": [
    {
     "name": "stdout",
     "output_type": "stream",
     "text": [
      "gender\n",
      "False    3\n",
      "True     4\n",
      "Name: gender, dtype: int64\n"
     ]
    }
   ],
   "source": [
    "print(groups['gender'].count())"
   ],
   "metadata": {
    "collapsed": false,
    "pycharm": {
     "name": "#%%\n"
    }
   }
  },
  {
   "cell_type": "code",
   "source": [
    "import pandas as pd\n",
    "data = {'ID':['001','002','003','004','005','006','007'],\n",
    "        'name':['Bob','Tom','Jerry','Nick','Jack','Amy','Joe'],\n",
    "        'gender':[True,False,True,False,True,False,True],\n",
    "        'age':[16,20,18,18,17,18,16],\n",
    "        'height':[1.88,1.78,1.81,1.86,1.74,1.75,1.76]}\n",
    "frame = pd.DataFrame(data)\n",
    "\n",
    "data2 = {'SID':['001','001','002','003','003','003','004','004','005','006','006'],\n",
    "         'CID':['A1','A2','A1','A1','A2','B1','A1','A3','B1','A2','B1'],\n",
    "         'Score':[56,78,90,74,86,89,67,80,77,76,90]}\n",
    "score = pd.DataFrame(data2)\n",
    "print(pd.merge(frame,score,left_on='ID',right_on='SID'))"
   ],
   "metadata": {
    "collapsed": false,
    "pycharm": {
     "name": "#%%\n"
    }
   },
   "execution_count": 75,
   "outputs": [
    {
     "name": "stdout",
     "output_type": "stream",
     "text": [
      "     ID   name  gender  age  height  SID CID  Score\n",
      "0   001    Bob    True   16    1.88  001  A1     56\n",
      "1   001    Bob    True   16    1.88  001  A2     78\n",
      "2   002    Tom   False   20    1.78  002  A1     90\n",
      "3   003  Jerry    True   18    1.81  003  A1     74\n",
      "4   003  Jerry    True   18    1.81  003  A2     86\n",
      "5   003  Jerry    True   18    1.81  003  B1     89\n",
      "6   004   Nick   False   18    1.86  004  A1     67\n",
      "7   004   Nick   False   18    1.86  004  A3     80\n",
      "8   005   Jack    True   17    1.74  005  B1     77\n",
      "9   006    Amy   False   18    1.75  006  A2     76\n",
      "10  006    Amy   False   18    1.75  006  B1     90\n"
     ]
    }
   ]
  },
  {
   "cell_type": "code",
   "execution_count": 75,
   "outputs": [],
   "source": [],
   "metadata": {
    "collapsed": false,
    "pycharm": {
     "name": "#%%\n"
    }
   }
  },
  {
   "cell_type": "code",
   "execution_count": 75,
   "outputs": [],
   "source": [],
   "metadata": {
    "collapsed": false,
    "pycharm": {
     "name": "#%%\n"
    }
   }
  },
  {
   "cell_type": "code",
   "execution_count": 75,
   "outputs": [],
   "source": [],
   "metadata": {
    "collapsed": false,
    "pycharm": {
     "name": "#%%\n"
    }
   }
  },
  {
   "cell_type": "code",
   "execution_count": 75,
   "outputs": [],
   "source": [],
   "metadata": {
    "collapsed": false,
    "pycharm": {
     "name": "#%%\n"
    }
   }
  },
  {
   "cell_type": "code",
   "execution_count": 75,
   "outputs": [],
   "source": [],
   "metadata": {
    "collapsed": false,
    "pycharm": {
     "name": "#%%\n"
    }
   }
  },
  {
   "cell_type": "code",
   "execution_count": 75,
   "outputs": [],
   "source": [],
   "metadata": {
    "collapsed": false,
    "pycharm": {
     "name": "#%%\n"
    }
   }
  },
  {
   "cell_type": "code",
   "execution_count": 75,
   "outputs": [],
   "source": [],
   "metadata": {
    "collapsed": false,
    "pycharm": {
     "name": "#%%\n"
    }
   }
  }
 ],
 "metadata": {
  "kernelspec": {
   "display_name": "Python 3",
   "language": "python",
   "name": "python3"
  },
  "language_info": {
   "codemirror_mode": {
    "name": "ipython",
    "version": 2
   },
   "file_extension": ".py",
   "mimetype": "text/x-python",
   "name": "python",
   "nbconvert_exporter": "python",
   "pygments_lexer": "ipython2",
   "version": "2.7.6"
  }
 },
 "nbformat": 4,
 "nbformat_minor": 0
}
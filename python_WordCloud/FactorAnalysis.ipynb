{
 "cells": [
  {
   "cell_type": "code",
   "execution_count": 40,
   "metadata": {
    "collapsed": true
   },
   "outputs": [],
   "source": [
    "import pandas as pd\n",
    "from sklearn.datasets import load_iris\n",
    "from factor_analyzer import FactorAnalyzer\n",
    "import matplotlib.pyplot as plt\n",
    "import numpy as np"
   ]
  },
  {
   "cell_type": "code",
   "execution_count": 41,
   "outputs": [
    {
     "data": {
      "text/plain": "Index(['A1', 'A2', 'A3', 'A4', 'A5', 'C1', 'C2', 'C3', 'C4', 'C5', 'E1', 'E2',\n       'E3', 'E4', 'E5', 'N1', 'N2', 'N3', 'N4', 'N5', 'O1', 'O2', 'O3', 'O4',\n       'O5', 'gender', 'education', 'age'],\n      dtype='object')"
     },
     "execution_count": 41,
     "metadata": {},
     "output_type": "execute_result"
    }
   ],
   "source": [
    "df= pd.read_csv(\"bfi.csv\")\n",
    "df.columns"
   ],
   "metadata": {
    "collapsed": false,
    "pycharm": {
     "name": "#%%\n"
    }
   }
  },
  {
   "cell_type": "code",
   "execution_count": 42,
   "outputs": [
    {
     "name": "stdout",
     "output_type": "stream",
     "text": [
      "<class 'pandas.core.frame.DataFrame'>\n",
      "Int64Index: 2436 entries, 0 to 2799\n",
      "Data columns (total 25 columns):\n",
      " #   Column  Non-Null Count  Dtype  \n",
      "---  ------  --------------  -----  \n",
      " 0   A1      2436 non-null   float64\n",
      " 1   A2      2436 non-null   float64\n",
      " 2   A3      2436 non-null   float64\n",
      " 3   A4      2436 non-null   float64\n",
      " 4   A5      2436 non-null   float64\n",
      " 5   C1      2436 non-null   float64\n",
      " 6   C2      2436 non-null   float64\n",
      " 7   C3      2436 non-null   float64\n",
      " 8   C4      2436 non-null   float64\n",
      " 9   C5      2436 non-null   float64\n",
      " 10  E1      2436 non-null   float64\n",
      " 11  E2      2436 non-null   float64\n",
      " 12  E3      2436 non-null   float64\n",
      " 13  E4      2436 non-null   float64\n",
      " 14  E5      2436 non-null   float64\n",
      " 15  N1      2436 non-null   float64\n",
      " 16  N2      2436 non-null   float64\n",
      " 17  N3      2436 non-null   float64\n",
      " 18  N4      2436 non-null   float64\n",
      " 19  N5      2436 non-null   float64\n",
      " 20  O1      2436 non-null   float64\n",
      " 21  O2      2436 non-null   int64  \n",
      " 22  O3      2436 non-null   float64\n",
      " 23  O4      2436 non-null   float64\n",
      " 24  O5      2436 non-null   float64\n",
      "dtypes: float64(24), int64(1)\n",
      "memory usage: 494.8 KB\n"
     ]
    }
   ],
   "source": [
    "df.drop(['gender', 'education', 'age'],axis=1,inplace=True)\n",
    "df.dropna(inplace=True)\n",
    "df.info()"
   ],
   "metadata": {
    "collapsed": false,
    "pycharm": {
     "name": "#%%\n"
    }
   }
  },
  {
   "cell_type": "code",
   "execution_count": 43,
   "outputs": [
    {
     "data": {
      "text/plain": "    A1   A2   A3   A4   A5   C1   C2   C3   C4   C5  ...   N1   N2   N3   N4  \\\n0  2.0  4.0  3.0  4.0  4.0  2.0  3.0  3.0  4.0  4.0  ...  3.0  4.0  2.0  2.0   \n1  2.0  4.0  5.0  2.0  5.0  5.0  4.0  4.0  3.0  4.0  ...  3.0  3.0  3.0  5.0   \n2  5.0  4.0  5.0  4.0  4.0  4.0  5.0  4.0  2.0  5.0  ...  4.0  5.0  4.0  2.0   \n3  4.0  4.0  6.0  5.0  5.0  4.0  4.0  3.0  5.0  5.0  ...  2.0  5.0  2.0  4.0   \n4  2.0  3.0  3.0  4.0  5.0  4.0  4.0  5.0  3.0  2.0  ...  2.0  3.0  4.0  4.0   \n\n    N5   O1  O2   O3   O4   O5  \n0  3.0  3.0   6  3.0  4.0  3.0  \n1  5.0  4.0   2  4.0  3.0  3.0  \n2  3.0  4.0   2  5.0  5.0  2.0  \n3  1.0  3.0   3  4.0  3.0  5.0  \n4  3.0  3.0   3  4.0  3.0  3.0  \n\n[5 rows x 25 columns]",
      "text/html": "<div>\n<style scoped>\n    .dataframe tbody tr th:only-of-type {\n        vertical-align: middle;\n    }\n\n    .dataframe tbody tr th {\n        vertical-align: top;\n    }\n\n    .dataframe thead th {\n        text-align: right;\n    }\n</style>\n<table border=\"1\" class=\"dataframe\">\n  <thead>\n    <tr style=\"text-align: right;\">\n      <th></th>\n      <th>A1</th>\n      <th>A2</th>\n      <th>A3</th>\n      <th>A4</th>\n      <th>A5</th>\n      <th>C1</th>\n      <th>C2</th>\n      <th>C3</th>\n      <th>C4</th>\n      <th>C5</th>\n      <th>...</th>\n      <th>N1</th>\n      <th>N2</th>\n      <th>N3</th>\n      <th>N4</th>\n      <th>N5</th>\n      <th>O1</th>\n      <th>O2</th>\n      <th>O3</th>\n      <th>O4</th>\n      <th>O5</th>\n    </tr>\n  </thead>\n  <tbody>\n    <tr>\n      <th>0</th>\n      <td>2.0</td>\n      <td>4.0</td>\n      <td>3.0</td>\n      <td>4.0</td>\n      <td>4.0</td>\n      <td>2.0</td>\n      <td>3.0</td>\n      <td>3.0</td>\n      <td>4.0</td>\n      <td>4.0</td>\n      <td>...</td>\n      <td>3.0</td>\n      <td>4.0</td>\n      <td>2.0</td>\n      <td>2.0</td>\n      <td>3.0</td>\n      <td>3.0</td>\n      <td>6</td>\n      <td>3.0</td>\n      <td>4.0</td>\n      <td>3.0</td>\n    </tr>\n    <tr>\n      <th>1</th>\n      <td>2.0</td>\n      <td>4.0</td>\n      <td>5.0</td>\n      <td>2.0</td>\n      <td>5.0</td>\n      <td>5.0</td>\n      <td>4.0</td>\n      <td>4.0</td>\n      <td>3.0</td>\n      <td>4.0</td>\n      <td>...</td>\n      <td>3.0</td>\n      <td>3.0</td>\n      <td>3.0</td>\n      <td>5.0</td>\n      <td>5.0</td>\n      <td>4.0</td>\n      <td>2</td>\n      <td>4.0</td>\n      <td>3.0</td>\n      <td>3.0</td>\n    </tr>\n    <tr>\n      <th>2</th>\n      <td>5.0</td>\n      <td>4.0</td>\n      <td>5.0</td>\n      <td>4.0</td>\n      <td>4.0</td>\n      <td>4.0</td>\n      <td>5.0</td>\n      <td>4.0</td>\n      <td>2.0</td>\n      <td>5.0</td>\n      <td>...</td>\n      <td>4.0</td>\n      <td>5.0</td>\n      <td>4.0</td>\n      <td>2.0</td>\n      <td>3.0</td>\n      <td>4.0</td>\n      <td>2</td>\n      <td>5.0</td>\n      <td>5.0</td>\n      <td>2.0</td>\n    </tr>\n    <tr>\n      <th>3</th>\n      <td>4.0</td>\n      <td>4.0</td>\n      <td>6.0</td>\n      <td>5.0</td>\n      <td>5.0</td>\n      <td>4.0</td>\n      <td>4.0</td>\n      <td>3.0</td>\n      <td>5.0</td>\n      <td>5.0</td>\n      <td>...</td>\n      <td>2.0</td>\n      <td>5.0</td>\n      <td>2.0</td>\n      <td>4.0</td>\n      <td>1.0</td>\n      <td>3.0</td>\n      <td>3</td>\n      <td>4.0</td>\n      <td>3.0</td>\n      <td>5.0</td>\n    </tr>\n    <tr>\n      <th>4</th>\n      <td>2.0</td>\n      <td>3.0</td>\n      <td>3.0</td>\n      <td>4.0</td>\n      <td>5.0</td>\n      <td>4.0</td>\n      <td>4.0</td>\n      <td>5.0</td>\n      <td>3.0</td>\n      <td>2.0</td>\n      <td>...</td>\n      <td>2.0</td>\n      <td>3.0</td>\n      <td>4.0</td>\n      <td>4.0</td>\n      <td>3.0</td>\n      <td>3.0</td>\n      <td>3</td>\n      <td>4.0</td>\n      <td>3.0</td>\n      <td>3.0</td>\n    </tr>\n  </tbody>\n</table>\n<p>5 rows × 25 columns</p>\n</div>"
     },
     "execution_count": 43,
     "metadata": {},
     "output_type": "execute_result"
    }
   ],
   "source": [
    "df.head()"
   ],
   "metadata": {
    "collapsed": false,
    "pycharm": {
     "name": "#%%\n"
    }
   }
  },
  {
   "cell_type": "code",
   "execution_count": 44,
   "outputs": [
    {
     "data": {
      "text/plain": "(18170.96635086889, 0.0)"
     },
     "execution_count": 44,
     "metadata": {},
     "output_type": "execute_result"
    }
   ],
   "source": [
    "from factor_analyzer.factor_analyzer import calculate_bartlett_sphericity\n",
    "\n",
    "chi_square_value,p_value=calculate_bartlett_sphericity(df)\n",
    "chi_square_value, p_value"
   ],
   "metadata": {
    "collapsed": false,
    "pycharm": {
     "name": "#%%\n"
    }
   }
  },
  {
   "cell_type": "code",
   "execution_count": 45,
   "outputs": [
    {
     "data": {
      "text/plain": "0.8485397221949231"
     },
     "execution_count": 45,
     "metadata": {},
     "output_type": "execute_result"
    }
   ],
   "source": [
    "from factor_analyzer.factor_analyzer import calculate_kmo\n",
    "\n",
    "kmo_all,kmo_model=calculate_kmo(df)\n",
    "\n",
    "kmo_model"
   ],
   "metadata": {
    "collapsed": false,
    "pycharm": {
     "name": "#%%\n"
    }
   }
  },
  {
   "cell_type": "code",
   "execution_count": 46,
   "outputs": [
    {
     "data": {
      "text/plain": "array([5.13431118, 2.75188667, 2.14270195, 1.85232761, 1.54816285,\n       1.07358247, 0.83953893, 0.79920618, 0.71898919, 0.68808879,\n       0.67637336, 0.65179984, 0.62325295, 0.59656284, 0.56309083,\n       0.54330533, 0.51451752, 0.49450315, 0.48263952, 0.448921  ,\n       0.42336611, 0.40067145, 0.38780448, 0.38185679, 0.26253902])"
     },
     "execution_count": 46,
     "metadata": {},
     "output_type": "execute_result"
    }
   ],
   "source": [
    "# Create factor analysis object and perform factor analysis\n",
    "fa = FactorAnalyzer()\n",
    "fa.fit(df)\n",
    "# Check Eigenvalues\n",
    "ev, v = fa.get_eigenvalues()\n",
    "ev"
   ],
   "metadata": {
    "collapsed": false,
    "pycharm": {
     "name": "#%%\n"
    }
   }
  },
  {
   "cell_type": "code",
   "execution_count": 47,
   "outputs": [
    {
     "data": {
      "text/plain": "<Figure size 432x288 with 1 Axes>",
      "image/png": "[encoded data removed]"
     },
     "metadata": {
      "needs_background": "light"
     },
     "output_type": "display_data"
    }
   ],
   "source": [
    "# Create scree plot using matplotlib\n",
    "plt.scatter(range(1,df.shape[1]+1),ev)\n",
    "plt.plot(range(1,df.shape[1]+1),ev)\n",
    "plt.title('Scree Plot')\n",
    "plt.xlabel('Factors')\n",
    "plt.ylabel('Eigenvalue')\n",
    "plt.grid()\n",
    "plt.show()"
   ],
   "metadata": {
    "collapsed": false,
    "pycharm": {
     "name": "#%%\n"
    }
   }
  },
  {
   "cell_type": "code",
   "execution_count": 63,
   "outputs": [
    {
     "data": {
      "text/plain": "array([[ 0.10820908,  0.03450424,  0.05998223, -0.53815203, -0.00109809,\n         0.17202918],\n       [ 0.01870004,  0.20032582,  0.1144668 ,  0.67006474,  0.09285737,\n         0.03405657],\n       [-0.02543102,  0.28362229,  0.09858305,  0.61030259,  0.16280421,\n         0.19276484],\n       [-0.07915476,  0.19066758,  0.21869309,  0.40890588, -0.03339059,\n         0.19619149],\n       [-0.16450712,  0.34944396,  0.08854052,  0.46718779,  0.19843636,\n         0.26397343],\n       [-0.01871858,  0.03709083,  0.55550628,  0.02404107,  0.22355759,\n         0.01223263],\n       [ 0.05796093, -0.01134986,  0.66890233,  0.07455181,  0.16508082,\n         0.11477495],\n       [-0.03772943,  0.01676874,  0.54810731,  0.11757151, -0.0021191 ,\n         0.04482805],\n       [ 0.20889017, -0.10317696, -0.64715597, -0.14088094,  0.04693938,\n         0.29973376],\n       [ 0.26872013, -0.1987149 , -0.54993671, -0.08829281,  0.08872822,\n         0.05841816],\n       [ 0.01283913, -0.59875075,  0.04326259, -0.15582261, -0.06165161,\n         0.08853059],\n       [ 0.22050521, -0.68977156, -0.10026259, -0.14152415, -0.05692187,\n         0.02342214],\n       [-0.02400631,  0.47937316,  0.09851797,  0.18777876,  0.41950199,\n         0.17243422],\n       [-0.1282422 ,  0.61757872,  0.10774072,  0.24850546,  0.07511646,\n         0.28822864],\n       [ 0.02852319,  0.47684859,  0.31520914,  0.10895215,  0.24890733,\n        -0.02369542],\n       [ 0.81860022,  0.07099192, -0.04866889, -0.15152181, -0.03823133,\n        -0.05105171],\n       [ 0.79475644,  0.02731991, -0.03289619, -0.11791944,  0.00241485,\n        -0.125466  ],\n       [ 0.71889482, -0.0954955 , -0.06672659, -0.01187693,  0.0746062 ,\n         0.04466658],\n       [ 0.55638181, -0.3823176 , -0.17468272, -0.01321915,  0.12937803,\n         0.04442764],\n       [ 0.52227152, -0.18972795, -0.04103723,  0.08384723, -0.05183913,\n         0.17080101],\n       [-0.06042333,  0.15599356,  0.13567587,  0.01403761,  0.54486124,\n        -0.04417089],\n       [ 0.18429227, -0.00374988, -0.10069105,  0.02383035, -0.33453322,\n         0.38007217],\n       [-0.03478762,  0.24813222,  0.09746214,  0.08884991,  0.63104558,\n        -0.07951571],\n       [ 0.16606657, -0.23677858, -0.0152541 ,  0.12940857,  0.38177152,\n        -0.05315852],\n       [ 0.10001835, -0.00519199, -0.060675  , -0.0764639 , -0.41062412,\n         0.40967133],\n       [ 0.00490384,  0.01505358,  0.01777639,  0.03473054, -0.00513942,\n        -0.00379827],\n       [ 0.00088006,  0.00855142, -0.01270213, -0.06074545, -0.00191773,\n         0.04536009],\n       [-0.0078018 ,  0.04188863, -0.0228104 ,  0.02332024,  0.04680666,\n        -0.04141012],\n       [ 0.01200327, -0.01864034, -0.00402574, -0.03974193,  0.03509626,\n         0.03369151],\n       [ 0.01080303,  0.00455781,  0.00111633, -0.0078883 ,  0.04153296,\n        -0.00399162],\n       [-0.0099178 ,  0.00883225,  0.00578081,  0.00323085, -0.01256585,\n         0.07947613]])"
     },
     "execution_count": 63,
     "metadata": {},
     "output_type": "execute_result"
    }
   ],
   "source": [
    "# Create factor analysis object and perform factor analysis\n",
    "fa = FactorAnalyzer(n_factors=6, rotation=\"varimax\")\n",
    "fa.fit(df)\n",
    "fa.loadings_"
   ],
   "metadata": {
    "collapsed": false,
    "pycharm": {
     "name": "#%%\n"
    }
   }
  },
  {
   "cell_type": "code",
   "execution_count": 61,
   "outputs": [
    {
     "data": {
      "text/plain": "array([[ 1.13279565e-01,  1.66115774e-02,  3.88431318e-02,\n        -4.34111840e-01, -5.53170823e-02],\n       [ 2.69940447e-02,  2.47674339e-01,  1.19369009e-01,\n         6.21029368e-01,  3.12964383e-02],\n       [ 6.79340718e-03,  3.54479678e-01,  8.99257309e-02,\n         6.36913488e-01,  2.47535526e-02],\n       [-6.40931892e-02,  2.27365908e-01,  2.12868433e-01,\n         4.25615532e-01, -1.40712958e-01],\n       [-1.24728375e-01,  4.22972356e-01,  7.45750642e-02,\n         5.18305677e-01,  3.65292580e-02],\n       [ 2.36386082e-03,  6.43039889e-02,  5.51074571e-01,\n         6.49697746e-02,  1.91564267e-01],\n       [ 8.40133307e-02,  3.04843508e-02,  6.49323443e-01,\n         1.30889127e-01,  9.12605171e-02],\n       [-3.25276728e-02,  2.29140363e-02,  5.53091195e-01,\n         1.30050246e-01, -2.93989799e-02],\n       [ 2.46115102e-01, -5.77783306e-02, -6.33026507e-01,\n        -6.32765294e-02, -8.16108427e-02],\n       [ 2.91684665e-01, -1.70261027e-01, -5.59471201e-01,\n        -5.79658933e-02,  6.14626291e-02],\n       [ 4.57597962e-02, -5.79407443e-01,  2.65294775e-02,\n        -7.33433497e-02, -5.80979133e-02],\n       [ 2.47919708e-01, -6.81522292e-01, -1.08941443e-01,\n        -7.86007601e-02, -3.06066435e-02],\n       [ 1.43029990e-02,  5.49333316e-01,  8.94415158e-02,\n         2.41055588e-01,  2.69677581e-01],\n       [-1.14910801e-01,  6.62695527e-01,  9.80002690e-02,\n         2.66559789e-01, -8.99570133e-02],\n       [ 2.72230177e-02,  5.03857602e-01,  3.22340731e-01,\n         8.38511864e-02,  2.04771045e-01],\n       [ 7.87831311e-01,  6.75550194e-02, -3.59398696e-02,\n        -2.23984368e-01, -4.65305441e-02],\n       [ 7.53823972e-01,  1.74285660e-02, -1.96783173e-02,\n        -1.95281564e-01,  2.31515479e-02],\n       [ 7.32128886e-01, -6.06132418e-02, -6.35681685e-02,\n        -2.58740550e-02,  2.08018600e-02],\n       [ 5.89320916e-01, -3.39843660e-01, -1.79539583e-01,\n         2.18339581e-02,  9.38052180e-02],\n       [ 5.43056337e-01, -1.52000577e-01, -4.53310283e-02,\n         1.01109053e-01, -1.38532581e-01],\n       [-1.83529114e-02,  2.12558966e-01,  1.30048797e-01,\n         7.79288688e-02,  4.98245958e-01],\n       [ 1.90596843e-01,  1.39637756e-02, -1.14423401e-01,\n         5.30012758e-02, -4.65300383e-01],\n       [ 7.99394696e-03,  3.14064608e-01,  9.42530198e-02,\n         1.40289885e-01,  5.87299280e-01],\n       [ 2.10366834e-01, -1.83412017e-01, -2.00486969e-02,\n         1.84525504e-01,  3.69033200e-01],\n       [ 1.01714120e-01, -1.66729435e-03, -7.72258557e-02,\n        -3.89290063e-02, -5.27863188e-01],\n       [ 3.66886296e-03,  1.54522785e-02,  1.89723927e-02,\n         2.92283827e-02, -5.87495326e-03],\n       [ 4.77739568e-03,  1.22114516e-02, -1.60574398e-02,\n        -4.74514152e-02, -1.92257197e-02],\n       [-9.57193344e-03,  4.23606391e-02, -2.14153547e-02,\n         1.47007016e-02,  5.82044944e-02],\n       [ 1.96580022e-02, -1.02407572e-02, -7.34979278e-03,\n        -2.29797736e-02,  1.96937626e-02],\n       [ 1.41305305e-02,  8.54164001e-03,  4.41065755e-04,\n        -2.26951576e-03,  3.91137349e-02],\n       [-2.35676667e-03,  1.85834317e-02,  1.05420304e-03,\n         2.16547882e-02, -4.55311545e-02]])"
     },
     "execution_count": 61,
     "metadata": {},
     "output_type": "execute_result"
    }
   ],
   "source": [
    "# Create factor analysis object and perform factor analysis using 5 factors\n",
    "fa = FactorAnalyzer(n_factors=5, rotation=\"varimax\")\n",
    "fa.fit(df)\n",
    "fa.loadings_"
   ],
   "metadata": {
    "collapsed": false,
    "pycharm": {
     "name": "#%%\n"
    }
   }
  },
  {
   "cell_type": "code",
   "execution_count": 62,
   "outputs": [
    {
     "data": {
      "text/plain": "(array([2.72395317, 2.5782827 , 2.04013854, 1.79108478, 1.47258211]),\n array([0.08786946, 0.08317041, 0.06581092, 0.05777693, 0.04750265]),\n array([0.08786946, 0.17103987, 0.23685079, 0.29462772, 0.34213036]))"
     },
     "execution_count": 62,
     "metadata": {},
     "output_type": "execute_result"
    }
   ],
   "source": [
    "var = fa.get_factor_variance()\n",
    "# 特征值\n",
    "# 方差贡献率\n",
    "# 累计方差贡献率\n",
    "var"
   ],
   "metadata": {
    "collapsed": false,
    "pycharm": {
     "name": "#%%\n"
    }
   }
  },
  {
   "cell_type": "code",
   "execution_count": 57,
   "outputs": [],
   "source": [],
   "metadata": {
    "collapsed": false,
    "pycharm": {
     "name": "#%%\n"
    }
   }
  },
  {
   "cell_type": "code",
   "execution_count": 51,
   "outputs": [],
   "source": [],
   "metadata": {
    "collapsed": false,
    "pycharm": {
     "name": "#%%\n"
    }
   }
  },
  {
   "cell_type": "code",
   "execution_count": 51,
   "outputs": [],
   "source": [],
   "metadata": {
    "collapsed": false,
    "pycharm": {
     "name": "#%%\n"
    }
   }
  },
  {
   "cell_type": "code",
   "execution_count": 51,
   "outputs": [],
   "source": [],
   "metadata": {
    "collapsed": false,
    "pycharm": {
     "name": "#%%\n"
    }
   }
  },
  {
   "cell_type": "code",
   "execution_count": 51,
   "outputs": [],
   "source": [],
   "metadata": {
    "collapsed": false,
    "pycharm": {
     "name": "#%%\n"
    }
   }
  },
  {
   "cell_type": "code",
   "execution_count": 51,
   "outputs": [],
   "source": [],
   "metadata": {
    "collapsed": false,
    "pycharm": {
     "name": "#%%\n"
    }
   }
  }
 ],
 "metadata": {
  "kernelspec": {
   "display_name": "Python 3",
   "language": "python",
   "name": "python3"
  },
  "language_info": {
   "codemirror_mode": {
    "name": "ipython",
    "version": 2
   },
   "file_extension": ".py",
   "mimetype": "text/x-python",
   "name": "python",
   "nbconvert_exporter": "python",
   "pygments_lexer": "ipython2",
   "version": "2.7.6"
  }
 },
 "nbformat": 4,
 "nbformat_minor": 0
}
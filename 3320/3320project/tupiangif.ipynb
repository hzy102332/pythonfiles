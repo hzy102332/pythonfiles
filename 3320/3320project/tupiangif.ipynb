{
 "cells": [
  {
   "cell_type": "code",
   "execution_count": null,
   "id": "fb0b5281",
   "metadata": {},
   "outputs": [],
   "source": [
    "from PIL import Image\n",
    "import os\n",
    "gifFileName = '123.gif'\n",
    "#使用Image模块的open()方法打开gif动态图像时，默认是第一帧\n",
    "im = Image.open(gifFileName)\n",
    "pngDir = gifFileName[:-4]\n",
    "#创建存放每帧图片的文件夹(文件夹名与图片名称相同)\n",
    "os.mkdir(pngDir)\n",
    "try:\n",
    "    while True:\n",
    "        #保存当前帧图片\n",
    "        current = im.tell()\n",
    "        im.save(pngDir+'/'+str(current)+'.png')\n",
    "        #获取下一帧图片\n",
    "        im.seek(current+1)\n",
    "except EOFError:\n",
    "        pass"
   ]
  },
  {
   "cell_type": "code",
   "execution_count": null,
   "id": "e7f5d37e",
   "metadata": {},
   "outputs": [],
   "source": [
    "from PIL import Image\n",
    "import os\n",
    "import os.path\n",
    "\n",
    "rootdir = r'G:\\jianfeng\\project\\rubblish_det\\faster_rcnn\\rubbish_voc_xml\\rubbish_pic_forTest\\4396'  # 指明被遍历的文件夹\n",
    "for parent, dirnames, filenames in os.walk(rootdir):\n",
    "    for filename in filenames:\n",
    "        print('parent is :' + parent)\n",
    "        print('filename is :' + filename)\n",
    "        currentPath = os.path.join(parent, filename)\n",
    "        print('the fulll name of the file is :' + currentPath)\n",
    "\n",
    "        im = Image.open(currentPath)\n",
    "        #进行上下颠倒\n",
    "#         out = im.transpose(Image.FLIP_TOP_BOTTOM)\n",
    "        #进行左右颠倒\n",
    "        out =im.transpose(Image.FLIP_LEFT_RIGHT)\n",
    "#         进行旋转90\n",
    "#         out = im.transpose(Image.ROTATE_90)\n",
    "        # 进行旋转180\n",
    "#         out = im.transpose(Image.ROTATE_180)\n",
    "        # 进行旋转270\n",
    "#         out = im.transpose(Image.ROTATE_270)\n",
    "        #将图片重新设置尺寸\n",
    "        out= out.resize((1280,720))\n",
    "        newname = r\"G:\\jianfeng\\project\\rubblish_det\\faster_rcnn\\rubbish_voc_xml\\rubbish_pic_forTest\\4396_720\" + '\\\\' +\"10t\"+ filename\n",
    "        out.save(newname)"
   ]
  },
  {
   "cell_type": "code",
   "execution_count": null,
   "id": "7e0ddba6",
   "metadata": {},
   "outputs": [],
   "source": [
    "import imageio\n",
    "def create_gif(image_list, gif_name):\n",
    "    frames = []\n",
    "    for image_name in image_list:\n",
    "        frames.append(imageio.imread(image_name))\n",
    "    imageio.mimsave(gif_name, frames, 'GIF', duration=0.2)#duration间隔(改这里)\n",
    "    return\n",
    "\n",
    "def main():\n",
    "    image_list = [\"0\"+str(x)+\".png\" for x in range(0,10) ]#图片名称列表(改这里)\n",
    "    gif_name = 'created_gif.gif'#输出gif名称(改这里)\n",
    "    create_gif(image_list, gif_name)\n",
    "if __name__ == \"__main__\":\n",
    "    main()"
   ]
  },
  {
   "cell_type": "code",
   "execution_count": null,
   "id": "57e53c9a",
   "metadata": {},
   "outputs": [],
   "source": []
  }
 ],
 "metadata": {
  "kernelspec": {
   "display_name": "Python 3",
   "language": "python",
   "name": "python3"
  },
  "language_info": {
   "codemirror_mode": {
    "name": "ipython",
    "version": 3
   },
   "file_extension": ".py",
   "mimetype": "text/x-python",
   "name": "python",
   "nbconvert_exporter": "python",
   "pygments_lexer": "ipython3",
   "version": "3.9.2"
  }
 },
 "nbformat": 4,
 "nbformat_minor": 5
}

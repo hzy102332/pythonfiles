{
 "cells": [
  {
   "cell_type": "code",
   "execution_count": 2,
   "id": "9a438919",
   "metadata": {},
   "outputs": [],
   "source": [
    "import turtle as t\n",
    "\n",
    "t.setup(width=800,height=800)\n",
    "def square(x,y,width,color):\n",
    "    t.penup()\n",
    "    t.goto(x,y)\n",
    "    t.fillcolor()\n",
    "    t.pendown()\n",
    "    t.begin_fill()\n",
    "    for count in range(4):\n",
    "        t.forward(width)\n",
    "        t.left(90)\n",
    "    t.end_fill()\n",
    "for i in range(0,5):\n",
    "    for j in range(0,5):\n",
    "        square(-400+2*j*80,320-2*i*80,80,'black')\n",
    "for i in range(0,5):\n",
    "    for j in range(0,5):\n",
    "        square(-320+2*j*80,240-2*i*80,80,'black')"
   ]
  }
 ],
 "metadata": {
  "kernelspec": {
   "display_name": "Python 3",
   "language": "python",
   "name": "python3"
  },
  "language_info": {
   "codemirror_mode": {
    "name": "ipython",
    "version": 3
   },
   "file_extension": ".py",
   "mimetype": "text/x-python",
   "name": "python",
   "nbconvert_exporter": "python",
   "pygments_lexer": "ipython3",
   "version": "3.9.2"
  }
 },
 "nbformat": 4,
 "nbformat_minor": 5
}

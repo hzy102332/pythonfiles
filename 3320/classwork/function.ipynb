{
 "cells": [
  {
   "cell_type": "code",
   "execution_count": 4,
   "metadata": {},
   "outputs": [],
   "source": [
    "def max(num1,num2, num3):\n",
    "    if num1 >= num2:\n",
    "        if num1>=num3:\n",
    "            return num1\n",
    "        elif num1<=num3:\n",
    "            return num3\n",
    "    elif num1<=num2:\n",
    "        if num2>=num3:\n",
    "            return num2\n",
    "        elif num2<=num3:\n",
    "            return num3\n",
    "    elif num1>=num3:\n",
    "        if num1>=num2:\n",
    "            return num1\n",
    "        elif num1<=num2:\n",
    "            return num2\n",
    "    elif num1<=num3:\n",
    "        if num1>=num2:\n",
    "            return num1\n",
    "        elif num1<=num2:\n",
    "            return num2\n",
    "    elif num2>=num3:\n",
    "        if num1>=num2:\n",
    "            return num1\n",
    "        elif num1<=num2:\n",
    "            return num2\n",
    "    elif num2<=num3:\n",
    "        if num1>=num3:\n",
    "            return num1\n",
    "        elif num1<=num3:\n",
    "            return num3"
   ]
  },
  {
   "cell_type": "code",
   "execution_count": 5,
   "metadata": {
    "pycharm": {
     "name": "#%%\n"
    }
   },
   "outputs": [],
   "source": [
    "## Goal: implement min method with two numberic \n",
    "## return the one is smaller\n",
    "\n",
    "#Signature: min: float float --> float\n",
    "#Purpose: compare two given float value, and return the smaller one\n",
    "\n",
    "#Example:\n",
    "#         min(1,-1) -> -1\n",
    "#         min(2.4,1) -> 1\n",
    "#         min(-1,-3) -> -3\n",
    "        \n",
    "def min(a,b):\n",
    "    if a>=b :\n",
    "        return b\n",
    "    else: \n",
    "        return a\n",
    "\n",
    "#Test case: "
   ]
  },
  {
   "cell_type": "code",
   "execution_count": 10,
   "metadata": {},
   "outputs": [],
   "source": [
    "# a>b\n",
    "# + -\n",
    "assert min(5,-2) == -2\n",
    "assert min(2,-6) == -6\n",
    "# + +\n",
    "assert min(6,5) == 5\n",
    "assert min(8,3) == 3 \n",
    "# - -\n",
    "assert min(-7,-34) == -34\n",
    "assert min(-67,-56) == -67\n",
    "\n",
    "# a<b\n",
    "# - +\n",
    "assert min(-4,4) == -4\n",
    "assert min(-7,7) == -7\n",
    "# + +\n",
    "assert min(89,875) == 89\n",
    "assert min(23,67) == 23\n",
    "# - -\n",
    "assert min(-56,-45) == -56\n",
    "assert min(-65,-3) == -65\n",
    "\n"
   ]
  },
  {
   "cell_type": "code",
   "execution_count": 15,
   "metadata": {},
   "outputs": [],
   "source": [
    "# Signature Income_ticket: int int int -> int \n",
    "    \n",
    "# Purpose: compute the amount of income generate from ticket sales\n",
    "\n",
    "# Example: \n",
    "#     Income_ticket(10,20,5) -> 350\n",
    "#     Income_ticket(1,2,1) -> 60\n",
    "    \n",
    "def Income_ticket(a,b,c):\n",
    "    if a>=0 and b>= 0 and c>=0:\n",
    "        return a*20+b*15+c*10\n",
    "    else:\n",
    "        return -1\n",
    "    \n",
    "    \n",
    "#Test Cases:\n",
    "\n",
    "assert Income_ticket(1,1,1)==45\n",
    "assert Income_ticket(1,0,1)==30\n",
    "assert Income_ticket(-1,5,3)==-1\n",
    "assert Income_ticket(-3,5,8)==-1\n"
   ]
  },
  {
   "cell_type": "code",
   "execution_count": 18,
   "metadata": {},
   "outputs": [
    {
     "name": "stdout",
     "output_type": "stream",
     "text": [
      "Looking in indexes: http://mirrors.aliyun.com/pypi/simple/\n",
      "Collecting matplotlib\n",
      "  Downloading http://mirrors.aliyun.com/pypi/packages/85/17/5ccc9b36564d6d510c052f858929079a4aabc0eca6b793b263d4bc53e17e/matplotlib-3.4.2-cp39-cp39-win_amd64.whl (7.1 MB)\n",
      "Requirement already satisfied: numpy>=1.16 in f:\\python3220\\venv\\lib\\site-packages (from matplotlib) (1.21.0)\n",
      "Note: you may need to restart the kernel to use updated packages.Collecting kiwisolver>=1.0.1\n",
      "  Downloading http://mirrors.aliyun.com/pypi/packages/f0/36/c73afc541a7b88e7f91b1c409fba64b244b4b42f0fd9cdb80e8cdf88664f/kiwisolver-1.3.1-cp39-cp39-win_amd64.whl (51 kB)\n",
      "Collecting cycler>=0.10\n",
      "  Downloading http://mirrors.aliyun.com/pypi/packages/f7/d2/e07d3ebb2bd7af696440ce7e754c59dd546ffe1bbe732c8ab68b9c834e61/cycler-0.10.0-py2.py3-none-any.whl (6.5 kB)\n",
      "Requirement already satisfied: python-dateutil>=2.7 in f:\\python3220\\venv\\lib\\site-packages (from matplotlib) (2.8.1)\n",
      "\n",
      "Requirement already satisfied: pyparsing>=2.2.1 in f:\\python3220\\venv\\lib\\site-packages (from matplotlib) (2.4.7)\n",
      "Collecting pillow>=6.2.0\n",
      "  Downloading http://mirrors.aliyun.com/pypi/packages/3b/75/0db54567bb2b75765ed435c58cae972efafed85d92eeb9389c912e115b5d/Pillow-8.2.0-cp39-cp39-win_amd64.whl (2.2 MB)\n",
      "Requirement already satisfied: six in f:\\python3220\\venv\\lib\\site-packages (from cycler>=0.10->matplotlib) (1.16.0)\n",
      "Installing collected packages: pillow, kiwisolver, cycler, matplotlib\n",
      "Successfully installed cycler-0.10.0 kiwisolver-1.3.1 matplotlib-3.4.2 pillow-8.2.0\n"
     ]
    }
   ],
   "source": [
    "pip install matplotlib"
   ]
  },
  {
   "cell_type": "code",
   "execution_count": null,
   "metadata": {
    "pycharm": {
     "name": "#%%\n"
    }
   },
   "outputs": [],
   "source": []
  },
  {
   "cell_type": "code",
   "execution_count": null,
   "metadata": {
    "pycharm": {
     "name": "#%%\n"
    }
   },
   "outputs": [],
   "source": []
  },
  {
   "cell_type": "code",
   "execution_count": null,
   "metadata": {
    "pycharm": {
     "name": "#%%\n"
    }
   },
   "outputs": [],
   "source": []
  },
  {
   "cell_type": "code",
   "execution_count": null,
   "metadata": {
    "pycharm": {
     "name": "#%%\n"
    }
   },
   "outputs": [],
   "source": []
  },
  {
   "cell_type": "code",
   "execution_count": null,
   "metadata": {
    "pycharm": {
     "name": "#%%\n"
    }
   },
   "outputs": [],
   "source": []
  },
  {
   "cell_type": "code",
   "execution_count": null,
   "metadata": {
    "pycharm": {
     "name": "#%%\n"
    }
   },
   "outputs": [],
   "source": []
  },
  {
   "cell_type": "code",
   "execution_count": null,
   "metadata": {
    "pycharm": {
     "name": "#%%\n"
    }
   },
   "outputs": [],
   "source": []
  },
  {
   "cell_type": "code",
   "execution_count": null,
   "metadata": {
    "pycharm": {
     "name": "#%%\n"
    }
   },
   "outputs": [],
   "source": []
  },
  {
   "cell_type": "code",
   "execution_count": null,
   "metadata": {
    "pycharm": {
     "name": "#%%\n"
    }
   },
   "outputs": [],
   "source": []
  },
  {
   "cell_type": "code",
   "execution_count": null,
   "metadata": {
    "pycharm": {
     "name": "#%%\n"
    }
   },
   "outputs": [],
   "source": []
  },
  {
   "cell_type": "code",
   "execution_count": null,
   "metadata": {
    "pycharm": {
     "name": "#%%\n"
    }
   },
   "outputs": [],
   "source": []
  },
  {
   "cell_type": "code",
   "execution_count": null,
   "metadata": {
    "pycharm": {
     "name": "#%%\n"
    }
   },
   "outputs": [],
   "source": []
  },
  {
   "cell_type": "code",
   "execution_count": null,
   "metadata": {
    "pycharm": {
     "name": "#%%\n"
    }
   },
   "outputs": [],
   "source": []
  },
  {
   "cell_type": "code",
   "execution_count": null,
   "metadata": {
    "pycharm": {
     "name": "#%%\n"
    }
   },
   "outputs": [],
   "source": []
  },
  {
   "cell_type": "code",
   "execution_count": null,
   "metadata": {
    "pycharm": {
     "name": "#%%\n"
    }
   },
   "outputs": [],
   "source": []
  },
  {
   "cell_type": "code",
   "execution_count": null,
   "metadata": {},
   "outputs": [],
   "source": []
  },
  {
   "cell_type": "code",
   "execution_count": null,
   "metadata": {},
   "outputs": [],
   "source": []
  },
  {
   "cell_type": "code",
   "execution_count": null,
   "metadata": {},
   "outputs": [],
   "source": []
  },
  {
   "cell_type": "code",
   "execution_count": null,
   "metadata": {},
   "outputs": [],
   "source": []
  },
  {
   "cell_type": "code",
   "execution_count": null,
   "metadata": {},
   "outputs": [],
   "source": []
  },
  {
   "cell_type": "code",
   "execution_count": null,
   "metadata": {},
   "outputs": [],
   "source": []
  },
  {
   "cell_type": "code",
   "execution_count": null,
   "metadata": {},
   "outputs": [],
   "source": []
  },
  {
   "cell_type": "code",
   "execution_count": null,
   "metadata": {},
   "outputs": [],
   "source": []
  },
  {
   "cell_type": "code",
   "execution_count": null,
   "metadata": {},
   "outputs": [],
   "source": []
  }
 ],
 "metadata": {
  "celltoolbar": "原始单元格格式",
  "kernelspec": {
   "display_name": "Python 3",
   "language": "python",
   "name": "python3"
  },
  "language_info": {
   "codemirror_mode": {
    "name": "ipython",
    "version": 3
   },
   "file_extension": ".py",
   "mimetype": "text/x-python",
   "name": "python",
   "nbconvert_exporter": "python",
   "pygments_lexer": "ipython3",
   "version": "3.9.2"
  }
 },
 "nbformat": 4,
 "nbformat_minor": 1
}
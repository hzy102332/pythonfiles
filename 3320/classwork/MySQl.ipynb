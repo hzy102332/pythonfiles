{
 "cells": [
  {
   "cell_type": "code",
   "execution_count": 2,
   "id": "1d330170",
   "metadata": {},
   "outputs": [
    {
     "name": "stdout",
     "output_type": "stream",
     "text": [
      "successfully connect\n"
     ]
    }
   ],
   "source": [
    "#Save to SQL\n",
    "import MySQLdb\n",
    "import os\n",
    "conn=MySQLdb.connect(host='localhost',port=3306,user='root',passwd='1528962578',db='picture',charset='utf8')\n",
    "print('successfully connect')\n",
    "cursor=conn.cursor()\n",
    "path = r'C:\\Users\\Administrator\\Desktop\\picture\\Basic'\n",
    "dirs = os.listdir(path)\n",
    "i = 741\n",
    "for file in dirs:\n",
    "    fin=open(path+\"/\"+file,'rb')\n",
    "    img=fin.read()\n",
    "    fin.close()\n",
    "    name = file\n",
    "    theme = \"Basic\"\n",
    "    sql=\"INSERT INTO pictures VALUES  (%s,%s,%s,%s);\"\n",
    "    args=(i,name,theme,img)\n",
    "    cursor.execute(sql,args)\n",
    "    conn.commit()\n",
    "    i = i+1\n",
    "cursor.close()\n",
    "conn.close()"
   ]
  },
  {
   "cell_type": "code",
   "execution_count": 4,
   "id": "07b0d602",
   "metadata": {},
   "outputs": [
    {
     "name": "stdout",
     "output_type": "stream",
     "text": [
      "successfully connect\n"
     ]
    }
   ],
   "source": [
    "#Download Picture from MySQL\n",
    "import MySQLdb\n",
    "import sys\n",
    "\n",
    "conn=MySQLdb.connect('localhost','root','1528962578','picture')\n",
    "print('successfully connect')\n",
    "\n",
    "cursor = conn.cursor()\n",
    "\n",
    "# cursor.execute(\"SELECT Source FROM picture.pictures LIMIT 1\")\n",
    "cursor.execute(\"SELECT Source FROM picture.pictures where ID = 1000\")\n",
    "fout = open('Download_from_SQL.png', 'wb')\n",
    "fout.write(cursor.fetchone()[0])\n",
    "fout.close()\n",
    "cursor.close()\n",
    "conn.close()\n"
   ]
  },
  {
   "cell_type": "code",
   "execution_count": null,
   "id": "45582b1a",
   "metadata": {},
   "outputs": [],
   "source": []
  }
 ],
 "metadata": {
  "kernelspec": {
   "display_name": "Python 3",
   "language": "python",
   "name": "python3"
  },
  "language_info": {
   "codemirror_mode": {
    "name": "ipython",
    "version": 3
   },
   "file_extension": ".py",
   "mimetype": "text/x-python",
   "name": "python",
   "nbconvert_exporter": "python",
   "pygments_lexer": "ipython3",
   "version": "3.9.2"
  }
 },
 "nbformat": 4,
 "nbformat_minor": 5
}

{
 "cells": [
  {
   "cell_type": "markdown",
   "metadata": {
    "collapsed": true
   },
   "source": [
    "## CPS3320 Homework 3: Method&String"
   ]
  },
  {
   "cell_type": "markdown",
   "metadata": {},
   "source": [
    "### <span style=\"color:#a50e30;\">Practice 1: </span> "
   ]
  },
  {
   "cell_type": "markdown",
   "metadata": {},
   "source": [
    "Python allows you to repeat a string by multiplying it by an integer, e.g. 'Hi' * 3 will give 'HiHiHi'. Pretend that this feature does not exist, and instead write a function named repeat that accepts a string and an integer as arguments. The function should return a string of the original string repeated the specified number of times, e.g. repeat('Hi', 3) should return 'HiHiHi'."
   ]
  },
  {
   "cell_type": "markdown",
   "metadata": {},
   "source": [
    "***Sample Run:***"
   ]
  },
  {
   "cell_type": "code",
   "execution_count": 4,
   "metadata": {},
   "outputs": [
    {
     "name": "stdout",
     "output_type": "stream",
     "text": [
      "HiHiHi\n"
     ]
    }
   ],
   "source": []
  },
  {
   "cell_type": "code",
   "execution_count": 5,
   "metadata": {},
   "outputs": [
    {
     "name": "stdout",
     "output_type": "stream",
     "text": [
      "HiHiHi\n"
     ]
    }
   ],
   "source": [
    "# main function\n",
    "def main():\n",
    "    # Call the function and print the result for testing.\n",
    "    print(repeat('Hi', 3))\n",
    "    \n",
    "main()"
   ]
  },
  {
   "cell_type": "markdown",
   "metadata": {},
   "source": [
    "***Write Your Code in Cell Below:***"
   ]
  },
  {
   "cell_type": "code",
   "execution_count": 4,
   "metadata": {},
   "outputs": [],
   "source": [
    "# Signature: repeat: str int-> str\n",
    "# Purpose: repeat the original string the specified number of times\n",
    "# Example: \n",
    "#             repeat('abc',3) -> abcabc\n",
    "#             repeat('hi',4) -> hihihihi\n",
    "\n",
    "def repeat(str,num):\n",
    "    return str*num\n",
    "\n",
    "# Test case\n",
    "assert repeat('Hi',3)\n",
    "assert repeat('Hi',5)\n",
    "assert repeat('123',4)"
   ]
  },
  {
   "cell_type": "markdown",
   "metadata": {},
   "source": [
    " "
   ]
  },
  {
   "cell_type": "markdown",
   "metadata": {},
   "source": [
    "### <span style=\"color:#a50e30;\">Practice 2: </span> "
   ]
  },
  {
   "cell_type": "markdown",
   "metadata": {},
   "source": [
    "Write a program that asks the user to enter the monthly costs for the following expenses incurred from operating his or her automobile: loan payment, insurance, gas, oil, tires, and maintenance. The program should then display the total monthly cost of these expenses, and the total annual cost of these expenses."
   ]
  },
  {
   "cell_type": "markdown",
   "metadata": {},
   "source": [
    "***Sample Run:***"
   ]
  },
  {
   "cell_type": "code",
   "execution_count": 1,
   "metadata": {
    "scrolled": true
   },
   "outputs": [
    {
     "name": "stdout",
     "output_type": "stream",
     "text": [
      "Enter the monthly loan amount: 1016\n",
      "Enter the monthly insurance amount: 25\n",
      "Enter the monthly gas amount: 300\n",
      "Enter the monthly oil amount: 125\n",
      "Enter the monthly tires amount: 65\n",
      "Enter the monthly maintenance amount: 47\n",
      "Total monthly expense: $1,578.00\n",
      "Total annual expense: $18,936.00\n"
     ]
    }
   ],
   "source": []
  },
  {
   "cell_type": "markdown",
   "metadata": {},
   "source": [
    "***Write Your Code in Cell Below:***"
   ]
  },
  {
   "cell_type": "code",
   "execution_count": 7,
   "metadata": {},
   "outputs": [
    {
     "name": "stdout",
     "output_type": "stream",
     "text": [
      "Enter the monthly loan amount:1016\n",
      "Enter the monthly insurance amount:25\n",
      "Enter the monthly gas amount:300\n",
      "Enter the monthly oil amount:125\n",
      "Enter the monthly tires amount:65\n",
      "Enter the monthly maintenance amount:47\n",
      "Total monthly expense: $1,578.00\n",
      "Total annual expense: $18,936.00\n"
     ]
    }
   ],
   "source": [
    "#get input\n",
    "loan_payment = float(input('Enter the monthly loan amount:'))\n",
    "insurance = float(input('Enter the monthly insurance amount:'))\n",
    "gas = float(input('Enter the monthly gas amount:'))\n",
    "oil = float(input('Enter the monthly oil amount:'))\n",
    "tires = float(input('Enter the monthly tires amount:'))\n",
    "maintenance = float(input('Enter the monthly maintenance amount:'))\n",
    "\n",
    "#compute total monthly cost\n",
    "total_month = loan_payment+insurance+gas+oil+tires+maintenance\n",
    "\n",
    "# output\n",
    "print(f'Total monthly expense: ${total_month:,.2f}')\n",
    "print(f'Total annual expense: ${total_month*12:,.2f}')"
   ]
  },
  {
   "cell_type": "markdown",
   "metadata": {},
   "source": [
    " "
   ]
  },
  {
   "cell_type": "markdown",
   "metadata": {},
   "source": [
    "### <span style=\"color:#a50e30;\">Practice 3: </span> "
   ]
  },
  {
   "cell_type": "markdown",
   "metadata": {},
   "source": [
    "A painting company has determined that for every 112 square feet of wall space, one gallon\n",
    "of paint and eight hours of labor will be required. The company charges $35.00 per hour\n",
    "for labor. Write a program that asks the user to enter the square feet of wall space to be\n",
    "painted and the price of the paint per gallon. The program should display the following data:"
   ]
  },
  {
   "cell_type": "markdown",
   "metadata": {},
   "source": [
    "* The number of gallons of paint required\n",
    "* The hours of labor required\n",
    "* The cost of the paint\n",
    "* The labor charges\n",
    "* The total cost of the paint job"
   ]
  },
  {
   "cell_type": "markdown",
   "metadata": {},
   "source": [
    "***Sample Run:***"
   ]
  },
  {
   "cell_type": "code",
   "execution_count": 2,
   "metadata": {
    "scrolled": true
   },
   "outputs": [
    {
     "name": "stdout",
     "output_type": "stream",
     "text": [
      "Enter wall space in square feet: 56\n",
      "Enter paint price per gallon: 35\n",
      "Gallons of paint: 1\n",
      "Hours of labor: 8\n",
      "Paint charges: $35.00\n",
      "Labor charges: $280.00\n",
      "Total cost: $315.00\n"
     ]
    }
   ],
   "source": []
  },
  {
   "cell_type": "markdown",
   "metadata": {},
   "source": [
    "***Write Your Code in Cell Below:***"
   ]
  },
  {
   "cell_type": "code",
   "execution_count": 13,
   "metadata": {},
   "outputs": [
    {
     "name": "stdout",
     "output_type": "stream",
     "text": [
      "Enter wall space in square feet: 56\n",
      "Enter paint price per gallen:35\n",
      "Gallons of paint: 1\n",
      "Hours of labor: 8\n",
      "Paint charges: $35.00\n",
      "Labor charges: $280.00\n",
      "Total cost: $315.00\n"
     ]
    }
   ],
   "source": [
    "GALLON_PER112 = 1\n",
    "LABOR_HOUR = 8\n",
    "SALARY_PERHOUR = 35.00\n",
    "#user input\n",
    "square_feet = float(input('Enter wall space in square feet: '))\n",
    "price_gallon = float(input('Enter paint price per gallen:'))\n",
    "#calculate \n",
    "num_gallons = (square_feet - 1)//112+1\n",
    "labor_hours = LABOR_HOUR * num_gallons\n",
    "paint_charge = price_gallon * num_gallons\n",
    "labor_charge = SALARY_PERHOUR * labor_hours\n",
    "total_cost = paint_charge + labor_charge\n",
    "#output\n",
    "print(f'Gallons of paint: {num_gallons:.0f}')\n",
    "print(f'Hours of labor: {labor_hours:.0f}')\n",
    "print(f'Paint charges: ${paint_charge:.2f}')\n",
    "print(f'Labor charges: ${labor_charge:.2f}')\n",
    "print(f'Total cost: ${total_cost:.2f}')\n",
    "\n"
   ]
  },
  {
   "cell_type": "markdown",
   "metadata": {},
   "source": [
    "### <span style=\"color:#a50e30;\">Practice 4: </span> "
   ]
  },
  {
   "cell_type": "markdown",
   "metadata": {},
   "source": [
    "Write a program that generates printable addition tests. The tests should consist of 5 questions\n",
    "which present a simple addition question in the following format, where the question\n",
    "number goes from 1 to 5, and num1 and num2 are randomly generated numbers between\n",
    "1 and 10:\n",
    "\n",
    "    Question 1\n",
    "    num1 + num2 = _____\n",
    "    \n",
    "The program should simply display the 5 questions – it should not prompt the user for any\n",
    "input."
   ]
  },
  {
   "cell_type": "markdown",
   "metadata": {},
   "source": [
    "***Sample Run:***"
   ]
  },
  {
   "cell_type": "code",
   "execution_count": 3,
   "metadata": {},
   "outputs": [
    {
     "name": "stdout",
     "output_type": "stream",
     "text": [
      "Question 1\n",
      "4 + 6 = _____\n",
      "\n",
      "Question 2\n",
      "7 + 9 = _____\n",
      "\n",
      "Question 3\n",
      "10 + 4 = _____\n",
      "\n",
      "Question 4\n",
      "9 + 7 = _____\n",
      "\n",
      "Question 5\n",
      "5 + 10 = _____\n",
      "\n"
     ]
    }
   ],
   "source": []
  },
  {
   "cell_type": "code",
   "execution_count": 4,
   "metadata": {},
   "outputs": [
    {
     "name": "stdout",
     "output_type": "stream",
     "text": [
      "Question 1\n",
      "4 + 3 = _____\n",
      "\n",
      "Question 2\n",
      "7 + 4 = _____\n",
      "\n",
      "Question 3\n",
      "8 + 9 = _____\n",
      "\n",
      "Question 4\n",
      "2 + 8 = _____\n",
      "\n",
      "Question 5\n",
      "10 + 10 = _____\n",
      "\n"
     ]
    }
   ],
   "source": []
  },
  {
   "cell_type": "markdown",
   "metadata": {},
   "source": [
    "***Write Your Code in Cell Below:***"
   ]
  },
  {
   "cell_type": "code",
   "execution_count": 18,
   "metadata": {},
   "outputs": [
    {
     "name": "stdout",
     "output_type": "stream",
     "text": [
      "Qestion 1\n",
      "2 + 5 = _____\n",
      "\n",
      "Qestion 2\n",
      "10 + 6 = _____\n",
      "\n",
      "Qestion 3\n",
      "5 + 7 = _____\n",
      "\n",
      "Qestion 4\n",
      "9 + 1 = _____\n",
      "\n",
      "Qestion 5\n",
      "7 + 10 = _____\n",
      "\n"
     ]
    }
   ],
   "source": [
    "import random\n",
    "QUESTION_NUM = 5\n",
    "\n",
    "for i in range(1,QUESTION_NUM+1):\n",
    "    print('Qestion',i)\n",
    "    #generate numbers\n",
    "    num1 = random.randint(1,10)\n",
    "    num2 = random.randint(1,10)\n",
    "    print(f'{num1} + {num2} = _____\\n')"
   ]
  },
  {
   "cell_type": "markdown",
   "metadata": {},
   "source": [
    " "
   ]
  },
  {
   "cell_type": "markdown",
   "metadata": {},
   "source": [
    "##### <span style=\"color:#a50e30;\">Practice 5: </span> "
   ]
  },
  {
   "cell_type": "markdown",
   "metadata": {},
   "source": [
    "A prime number is a number that is only evenly divisible by itself and 1. For example, the number 5 is prime because it can only be evenly divided by 1 and 5. The number 6, however, is not prime because it can be divided evenly by 1, 2, 3, and 6.\n",
    "\n",
    "Write a Boolean function named is_prime which takes an integer as an argument and returns true if the argument is a prime number, or false otherwise. Use the function in a program that prompts the user to enter a number then displays a message indicating whether the number is prime."
   ]
  },
  {
   "cell_type": "markdown",
   "metadata": {},
   "source": [
    "***Sample Run:***"
   ]
  },
  {
   "cell_type": "code",
   "execution_count": 5,
   "metadata": {},
   "outputs": [
    {
     "name": "stdout",
     "output_type": "stream",
     "text": [
      "Enter an integer: 6\n",
      "The number you entered is not a prime number.\n"
     ]
    }
   ],
   "source": []
  },
  {
   "cell_type": "code",
   "execution_count": 6,
   "metadata": {},
   "outputs": [
    {
     "name": "stdout",
     "output_type": "stream",
     "text": [
      "Enter an integer: 5\n",
      "The number you entered is a prime number.\n"
     ]
    }
   ],
   "source": []
  },
  {
   "cell_type": "markdown",
   "metadata": {},
   "source": [
    "***Write Your Code in Cell Below:***"
   ]
  },
  {
   "cell_type": "code",
   "execution_count": 7,
   "metadata": {},
   "outputs": [
    {
     "name": "stdout",
     "output_type": "stream",
     "text": [
      "Enter an integer:61\n",
      "True\n"
     ]
    }
   ],
   "source": [
    "# Signature: is_prime: int -> boolean\n",
    "# Purpose: determine if the  number is a prime number\n",
    "# Example:\n",
    "#          is_prime(5) -> True\n",
    "#          is_prime(52) -> False\n",
    "#          is_prime(51) -> False\n",
    "import math\n",
    "def is_prime(num):\n",
    "#   if number is smaller or equal than 1, is not a prime number\n",
    "    if num <= 1: \n",
    "          return False\n",
    "#  number is great than 1\n",
    "    for i in range(2, int(math.sqrt(num)) + 1): \n",
    "#        check factor\n",
    "        if num % i == 0: \n",
    "            return False\n",
    "    return True\n",
    "    \n",
    "    \n",
    "# Test case\n",
    "assert is_prime(5)\n",
    "# assert is_prime(4)\n",
    "# assert is_prime(1)\n",
    "\n",
    "number = int(input('Enter an integer:'))\n",
    "print(is_prime(number))"
   ]
  },
  {
   "cell_type": "markdown",
   "metadata": {},
   "source": [
    " "
   ]
  },
  {
   "cell_type": "markdown",
   "metadata": {},
   "source": [
    "##### <span style=\"color:#a50e30;\">Practice 6: </span> "
   ]
  },
  {
   "cell_type": "markdown",
   "metadata": {},
   "source": [
    "This exercise assumes that you have already written the is_prime function in Practice 5. Write another program that displays all of the prime numbers from 1 to 100. The program should have a loop that calls the is_prime function."
   ]
  },
  {
   "cell_type": "markdown",
   "metadata": {},
   "source": [
    "***Sample Run:***"
   ]
  },
  {
   "cell_type": "code",
   "execution_count": 7,
   "metadata": {},
   "outputs": [
    {
     "name": "stdout",
     "output_type": "stream",
     "text": [
      "number \t is prime\n",
      "------------------------\n",
      "1 \t prime\n",
      "2 \t prime\n",
      "3 \t prime\n",
      "4 \t not prime\n",
      "5 \t prime\n",
      "6 \t not prime\n",
      "7 \t prime\n",
      "8 \t not prime\n",
      "9 \t not prime\n",
      "10 \t not prime\n",
      "11 \t prime\n",
      "12 \t not prime\n",
      "13 \t prime\n",
      "14 \t not prime\n",
      "15 \t not prime\n",
      "16 \t not prime\n",
      "17 \t prime\n",
      "18 \t not prime\n",
      "19 \t prime\n",
      "20 \t not prime\n",
      "21 \t not prime\n",
      "22 \t not prime\n",
      "23 \t prime\n",
      "24 \t not prime\n",
      "25 \t not prime\n",
      "26 \t not prime\n",
      "27 \t not prime\n",
      "28 \t not prime\n",
      "29 \t prime\n",
      "30 \t not prime\n",
      "31 \t prime\n",
      "32 \t not prime\n",
      "33 \t not prime\n",
      "34 \t not prime\n",
      "35 \t not prime\n",
      "36 \t not prime\n",
      "37 \t prime\n",
      "38 \t not prime\n",
      "39 \t not prime\n",
      "40 \t not prime\n",
      "41 \t prime\n",
      "42 \t not prime\n",
      "43 \t prime\n",
      "44 \t not prime\n",
      "45 \t not prime\n",
      "46 \t not prime\n",
      "47 \t prime\n",
      "48 \t not prime\n",
      "49 \t not prime\n",
      "50 \t not prime\n",
      "51 \t not prime\n",
      "52 \t not prime\n",
      "53 \t prime\n",
      "54 \t not prime\n",
      "55 \t not prime\n",
      "56 \t not prime\n",
      "57 \t not prime\n",
      "58 \t not prime\n",
      "59 \t prime\n",
      "60 \t not prime\n",
      "61 \t prime\n",
      "62 \t not prime\n",
      "63 \t not prime\n",
      "64 \t not prime\n",
      "65 \t not prime\n",
      "66 \t not prime\n",
      "67 \t prime\n",
      "68 \t not prime\n",
      "69 \t not prime\n",
      "70 \t not prime\n",
      "71 \t prime\n",
      "72 \t not prime\n",
      "73 \t prime\n",
      "74 \t not prime\n",
      "75 \t not prime\n",
      "76 \t not prime\n",
      "77 \t not prime\n",
      "78 \t not prime\n",
      "79 \t prime\n",
      "80 \t not prime\n",
      "81 \t not prime\n",
      "82 \t not prime\n",
      "83 \t prime\n",
      "84 \t not prime\n",
      "85 \t not prime\n",
      "86 \t not prime\n",
      "87 \t not prime\n",
      "88 \t not prime\n",
      "89 \t prime\n",
      "90 \t not prime\n",
      "91 \t not prime\n",
      "92 \t not prime\n",
      "93 \t not prime\n",
      "94 \t not prime\n",
      "95 \t not prime\n",
      "96 \t not prime\n",
      "97 \t prime\n",
      "98 \t not prime\n",
      "99 \t not prime\n",
      "100 \t not prime\n"
     ]
    }
   ],
   "source": []
  },
  {
   "cell_type": "markdown",
   "metadata": {},
   "source": [
    "***Write Your Code in Cell Below:***"
   ]
  },
  {
   "cell_type": "code",
   "execution_count": 11,
   "metadata": {},
   "outputs": [
    {
     "name": "stdout",
     "output_type": "stream",
     "text": [
      "number     is prime\n",
      "-------------------------\n",
      "1          not prime\n",
      "2          prime\n",
      "3          prime\n",
      "4          not prime\n",
      "5          prime\n",
      "6          not prime\n",
      "7          prime\n",
      "8          not prime\n",
      "9          not prime\n",
      "10         not prime\n",
      "11         prime\n",
      "12         not prime\n",
      "13         prime\n",
      "14         not prime\n",
      "15         not prime\n",
      "16         not prime\n",
      "17         prime\n",
      "18         not prime\n",
      "19         prime\n",
      "20         not prime\n",
      "21         not prime\n",
      "22         not prime\n",
      "23         prime\n",
      "24         not prime\n",
      "25         not prime\n",
      "26         not prime\n",
      "27         not prime\n",
      "28         not prime\n",
      "29         prime\n",
      "30         not prime\n",
      "31         prime\n",
      "32         not prime\n",
      "33         not prime\n",
      "34         not prime\n",
      "35         not prime\n",
      "36         not prime\n",
      "37         prime\n",
      "38         not prime\n",
      "39         not prime\n",
      "40         not prime\n",
      "41         prime\n",
      "42         not prime\n",
      "43         prime\n",
      "44         not prime\n",
      "45         not prime\n",
      "46         not prime\n",
      "47         prime\n",
      "48         not prime\n",
      "49         not prime\n",
      "50         not prime\n",
      "51         not prime\n",
      "52         not prime\n",
      "53         prime\n",
      "54         not prime\n",
      "55         not prime\n",
      "56         not prime\n",
      "57         not prime\n",
      "58         not prime\n",
      "59         prime\n",
      "60         not prime\n",
      "61         prime\n",
      "62         not prime\n",
      "63         not prime\n",
      "64         not prime\n",
      "65         not prime\n",
      "66         not prime\n",
      "67         prime\n",
      "68         not prime\n",
      "69         not prime\n",
      "70         not prime\n",
      "71         prime\n",
      "72         not prime\n",
      "73         prime\n",
      "74         not prime\n",
      "75         not prime\n",
      "76         not prime\n",
      "77         not prime\n",
      "78         not prime\n",
      "79         prime\n",
      "80         not prime\n",
      "81         not prime\n",
      "82         not prime\n",
      "83         prime\n",
      "84         not prime\n",
      "85         not prime\n",
      "86         not prime\n",
      "87         not prime\n",
      "88         not prime\n",
      "89         prime\n",
      "90         not prime\n",
      "91         not prime\n",
      "92         not prime\n",
      "93         not prime\n",
      "94         not prime\n",
      "95         not prime\n",
      "96         not prime\n",
      "97         prime\n",
      "98         not prime\n",
      "99         not prime\n",
      "100        not prime\n"
     ]
    }
   ],
   "source": [
    "print('number     is prime')\n",
    "print('-------------------------')\n",
    "for i in range(1,101):\n",
    "    if is_prime(i):\n",
    "        check = 'prime'#store the infomation is the number is prime\n",
    "    else:\n",
    "        check = 'not prime'\n",
    "    print(f'{i:<10} {check}')"
   ]
  },
  {
   "cell_type": "markdown",
   "metadata": {},
   "source": [
    "##### <span style=\"color:#a50e30;\">Practice 7: </span> "
   ]
  },
  {
   "cell_type": "markdown",
   "metadata": {},
   "source": [
    "Write a program that generates a random number in the range of 1 through 100, and asks the user to guess what the number is. If the user’s guess is higher than the random number, the program should display “Too high, try again.” If the user’s guess is lower than the random number, the program should display “Too low, try again.” If the user guesses the number, the application should congratulate the user and generate a new random number so the game can start over.\n",
    "\n",
    "Optional Enhancement: Enhance the game so it keeps count of the number of guesses that the user makes. When the user correctly guesses the random number, the program should display the number of guesses."
   ]
  },
  {
   "cell_type": "markdown",
   "metadata": {},
   "source": [
    "***Sample Run:***"
   ]
  },
  {
   "cell_type": "code",
   "execution_count": null,
   "metadata": {
    "scrolled": true
   },
   "outputs": [
    {
     "name": "stdout",
     "output_type": "stream",
     "text": [
      "Enter a number between 1 and 100, or 0 to quit: 50\n",
      "Too low, try again\n",
      "Enter a number between 1 and 100, or 0 to quit: 100\n",
      "Too high, try again\n",
      "Enter a number between 1 and 100, or 0 to quit: 75\n",
      "Too high, try again\n",
      "Enter a number between 1 and 100, or 0 to quit: 60\n",
      "Too low, try again\n",
      "Enter a number between 1 and 100, or 0 to quit: 70\n",
      "Too high, try again\n",
      "Enter a number between 1 and 100, or 0 to quit: 65\n",
      "Too high, try again\n",
      "Enter a number between 1 and 100, or 0 to quit: 62\n",
      "Too high, try again\n",
      "Enter a number between 1 and 100, or 0 to quit: 61\n",
      "Congratulations! You guessed the right number!\n"
     ]
    }
   ],
   "source": []
  },
  {
   "cell_type": "markdown",
   "metadata": {},
   "source": [
    "***Write Your Code in Cell Below:***"
   ]
  },
  {
   "cell_type": "code",
   "execution_count": 29,
   "metadata": {},
   "outputs": [
    {
     "name": "stdout",
     "output_type": "stream",
     "text": [
      "Enter a number between 1 and 100, or 0 to qiut:56\n",
      "Too high, try again\n",
      "Enter a number between 1 and 100, or 0 to qiut:52\n",
      "Too high, try again\n",
      "Enter a number between 1 and 100, or 0 to qiut:32\n",
      "Too high, try again\n",
      "Enter a number between 1 and 100, or 0 to qiut:2\n",
      "Too low, try again\n",
      "Enter a number between 1 and 100, or 0 to qiut:12\n",
      "Too low, try again\n",
      "Enter a number between 1 and 100, or 0 to qiut:23\n",
      "Congratulations! You guessed the right number! \n",
      " You have guessed 5 time(s)\n"
     ]
    }
   ],
   "source": [
    "import random\n",
    "#generate a random number\n",
    "random_num = random.randint(1,100)\n",
    "number_guessed = 0\n",
    "\n",
    "while True:\n",
    "    #get input\n",
    "    num = int(input('Enter a number between 1 and 100, or 0 to qiut:'))\n",
    "    #check numebr \n",
    "    if num == random_num:\n",
    "        print(f'Congratulations! You guessed the right number! \\n You have guessed {number_guessed} time(s)')\n",
    "        break\n",
    "    elif num == 0:\n",
    "        break\n",
    "    elif num > random_num:\n",
    "        number_guessed += 1\n",
    "        print('Too high, try again')\n",
    "    else:\n",
    "        number_guessed += 1\n",
    "        print('Too low, try again')\n",
    "\n",
    "\n"
   ]
  },
  {
   "cell_type": "markdown",
   "metadata": {},
   "source": [
    "##### <span style=\"color:#a50e30;\">Practice 8: </span> "
   ]
  },
  {
   "cell_type": "markdown",
   "metadata": {},
   "source": [
    "Write a program that lets the user play the game of Rock, Paper, Scissors against the computer.\n",
    "\n",
    "The program should work as follows:\n",
    "1. When the program begins, a random number in the range of 1 through 3 is generated. If the number is 1, then the computer has chosen rock. If the number is 2, then the computer has chosen paper. If the number is 3, then the computer has chosen scissors. (Don’t display the computer’s choice yet.)\n",
    "2. The user enters his or her choice of “rock,” “paper,” or “scissors” at the keyboard.\n",
    "3. The computer’s choice is displayed.\n",
    "4. A winner is selected according to the following rules:\n",
    "    * If one player chooses rock and the other player chooses scissors, then rock wins. (Rock smashes scissors.)\n",
    "    * If one player chooses scissors and the other player chooses paper, then scissors wins. (Scissors cuts paper.)\n",
    "    * If one player chooses paper and the other player chooses rock, then paper wins. (Paper wraps rock.)\n",
    "    * If both players make the same choice, the game must be played again to determine the winner."
   ]
  },
  {
   "cell_type": "markdown",
   "metadata": {},
   "source": [
    "***Sample Run:***"
   ]
  },
  {
   "cell_type": "code",
   "execution_count": 1,
   "metadata": {},
   "outputs": [
    {
     "name": "stdout",
     "output_type": "stream",
     "text": [
      "Enter 1 for rock, 2 for paper, 3 for scissors: 1\n",
      "Computer chose rock\n",
      "You chose rock\n",
      "You made the same choice as the computer. Starting over\n",
      "Enter 1 for rock, 2 for paper, 3 for scissors: 2\n",
      "Computer chose scissors\n",
      "You chose paper\n",
      "The computer wins the game\n"
     ]
    }
   ],
   "source": []
  },
  {
   "cell_type": "markdown",
   "metadata": {},
   "source": [
    "***Write Your Code in Cell Below:***"
   ]
  },
  {
   "cell_type": "code",
   "execution_count": 23,
   "metadata": {},
   "outputs": [
    {
     "name": "stdout",
     "output_type": "stream",
     "text": [
      "Enter  1 for rock, 2 for paper, 3 for scissors:2\n",
      "Computer chose paper\n",
      "You chose paper\n",
      "You made the same choice as the computer. Starting over\n",
      "Enter  1 for rock, 2 for paper, 3 for scissors:3\n",
      "Computer chose paper\n",
      "You chose scissors\n",
      "You win the game\n"
     ]
    }
   ],
   "source": [
    "import random as rd\n",
    "while True:\n",
    "    dic = {1 : 'rock', 2 : 'paper', 3 : 'scissors'}#store the three elements\n",
    "    computer_choice = rd.randint(1,3)\n",
    "    user_choice = int(input('Enter  1 for rock, 2 for paper, 3 for scissors:'))\n",
    "    \n",
    "    print('Computer chose',dic[computer_choice])\n",
    "    print('You chose',dic[user_choice])\n",
    "#check which is the winner\n",
    "    #computer and user chose the same number\n",
    "    if computer_choice == user_choice:\n",
    "        print('You made the same choice as the computer. Starting over')\n",
    "    #the number that computer and user chose are adjacent\n",
    "    elif abs(computer_choice - user_choice) == 1:\n",
    "        if computer_choice > user_choice:\n",
    "            print('The computer wins the game')\n",
    "        else:\n",
    "             print('You win the game')\n",
    "        break\n",
    "    else:#the number is not adjacent\n",
    "        if computer_choice < user_choice:\n",
    "            print('The computer wins the game')\n",
    "        else:\n",
    "             print('You win the game')\n",
    "        break\n",
    "    "
   ]
  },
  {
   "cell_type": "markdown",
   "metadata": {},
   "source": [
    " "
   ]
  },
  {
   "cell_type": "markdown",
   "metadata": {},
   "source": [
    "##### <span style=\"color:#a50e30;\">Practice 9: </span> "
   ]
  },
  {
   "cell_type": "markdown",
   "metadata": {},
   "source": [
    "Write a program that gets strings containing a person’s first and last name as separate values, and then displays their “initials”, “name in address book”, and “username”. For example, if the user enters a first name of “John” and a last name of “Smith”, the program should display “J.S.”, “John SMITH”, and “jsmith”."
   ]
  },
  {
   "cell_type": "markdown",
   "metadata": {},
   "source": [
    "***Sample Run:***"
   ]
  },
  {
   "cell_type": "code",
   "execution_count": 4,
   "metadata": {},
   "outputs": [
    {
     "name": "stdout",
     "output_type": "stream",
     "text": [
      "Enter your first name: Jack\n",
      "Enter your last name: Xu\n",
      "\n",
      "Initials: J.X.\n",
      "Name in Address Book: Jack XU\n",
      "Username: jxu\n"
     ]
    }
   ],
   "source": []
  },
  {
   "cell_type": "markdown",
   "metadata": {},
   "source": [
    "***Write Your Code in Cell Below:***"
   ]
  },
  {
   "cell_type": "code",
   "execution_count": 31,
   "metadata": {},
   "outputs": [
    {
     "name": "stdout",
     "output_type": "stream",
     "text": [
      "Enter your first name:jack\n",
      "Enter your last name:xu\n",
      "\n",
      "Initials: J.X.\n",
      "Name in Address Book: Jack XU\n",
      "Username: jxu\n"
     ]
    }
   ],
   "source": [
    "#user input\n",
    "first_name = input('Enter your first name:')\n",
    "last_name = input('Enter your last name:')\n",
    "\n",
    "first_ini = first_name.upper()[0]\n",
    "last_ini = last_name.upper()[0]\n",
    "first_addressbook = first_ini + first_name.lower()[1:]\n",
    "\n",
    "#output\n",
    "print(f'\\nInitials: {first_ini}.{last_ini}.')\n",
    "print(f'Name in Address Book: {first_addressbook} {last_name.upper()}')\n",
    "print(f'Username: {first_ini.lower()}{last_name.lower()}')"
   ]
  },
  {
   "cell_type": "markdown",
   "metadata": {},
   "source": [
    "##### <span style=\"color:#a50e30;\">Practice 10: </span> "
   ]
  },
  {
   "cell_type": "markdown",
   "metadata": {},
   "source": [
    "Morse code is a code where each letter of the English alphabet, each digit, and various punctuation characters are represented by a series of dots and dashes. Table 8-4 shows partof the code.\n",
    "Write a program that asks the user to enter a string, then converts that string to Morse code."
   ]
  },
  {
   "attachments": {
    "image.png": {
     "image/png": "[encoded data removed]"
    }
   },
   "cell_type": "markdown",
   "metadata": {},
   "source": [
    "![image.png](attachment:image.png)"
   ]
  },
  {
   "cell_type": "markdown",
   "metadata": {},
   "source": [
    "***Sample Run:***"
   ]
  },
  {
   "cell_type": "code",
   "execution_count": 5,
   "metadata": {},
   "outputs": [
    {
     "name": "stdout",
     "output_type": "stream",
     "text": [
      "Enter the string to be converted to Morse code: CPS3320 Python Programmming\n",
      "-..,--.-,-,....-,....-,...--,.----, ,--.-,--..,..-,..,.--.,---, ,--.-,...,.--.,....,...,-...,-.,-.,-.,.---,---,....,"
     ]
    }
   ],
   "source": []
  },
  {
   "cell_type": "markdown",
   "metadata": {},
   "source": [
    "***Write Your Code in Cell Below:***"
   ]
  },
  {
   "cell_type": "code",
   "execution_count": 38,
   "metadata": {},
   "outputs": [
    {
     "name": "stdout",
     "output_type": "stream",
     "text": [
      "Enter the string to be converted to Morse code: CPS3320 Python Programmming\n",
      "-.-.,.--.,...,...--,...--,..---,-----, ,.--.,-.--,-,....,---,-., ,.--.,.-.,---,--.,.-.,.-,--,--,--,..,-.,--.,"
     ]
    }
   ],
   "source": [
    "#the morse code table\n",
    "MorseList = {\n",
    "    'A': '.-', 'B': '-...', 'C': '-.-.', 'D': '-..', 'E': '.', 'F': '..-.', 'G': '--.', 'H': '....', 'I': '..',\n",
    "    'J': '.---', 'K': '-.-', 'L': '.-..', 'M': '--', 'N': '-.', 'O': '---', 'P': '.--.', 'Q': '--.-', 'R': '.-.',\n",
    "    'S': '...', 'T': '-', 'U': '..-', 'V': '...-', 'W': '.--', 'X': '-..-', 'Y': '-.--', 'Z': '--..',\n",
    "    \n",
    "    '0': '-----', '1': '.----', '2': '..---', '3': '...--', '4': '....-', \n",
    "    '5': '.....', '6': '-....', '7': '--...', '8': '---..', '9': '----.',\n",
    "    \n",
    "    ' ':' ', ',': '--..--', '.': '.-.-.-', '?': '..--..'\n",
    "}\n",
    "#user input \n",
    "string = input('Enter the string to be converted to Morse code: ')\n",
    "string = string.upper()\n",
    "#check Morse code table and print corresponding string\n",
    "for code in string:\n",
    "    print(MorseList.get(code), end=\",\")\n",
    "\n",
    "\n"
   ]
  },
  {
   "cell_type": "markdown",
   "metadata": {},
   "source": [
    "##### <span style=\"color:#a50e30;\">Practice 11: </span> "
   ]
  },
  {
   "cell_type": "markdown",
   "metadata": {},
   "source": [
    "Many companies use telephone numbers like 555-GET-FOOD so the number is easier for their customers to remember. On a standard telephone, the alphabetic letters are mapped to numbers in the following fashion:\n",
    "* A, B, and C = 2\n",
    "* D, E, and F = 3\n",
    "* G, H, and I = 4\n",
    "* J, K, and L = 5\n",
    "* M, N, and O = 6\n",
    "* P, Q, R, and S = 7\n",
    "* T, U, and V = 8\n",
    "* W, X, Y, and Z = 9\n",
    "\n",
    "Write a program that asks the user to enter a 10-character telephone number in the format XXX-XXX-XXXX. The application should display the telephone number with any alphabetic characters that appeared in the original translated to their numeric equivalent.\n",
    "\n",
    "For example, if the user enters 555-GET-FOOD, the application should display\n",
    "555-438-3663."
   ]
  },
  {
   "cell_type": "markdown",
   "metadata": {},
   "source": [
    "***Sample Run:***"
   ]
  },
  {
   "cell_type": "code",
   "execution_count": 6,
   "metadata": {},
   "outputs": [
    {
     "name": "stdout",
     "output_type": "stream",
     "text": [
      "Enter the telephone number in the format XXX-XXX-XXXX: 555-GET-WKU\n",
      "The phone number is 555-438-958\n"
     ]
    }
   ],
   "source": []
  },
  {
   "cell_type": "markdown",
   "metadata": {},
   "source": [
    "***Write Your Code in Cell Below:***"
   ]
  },
  {
   "cell_type": "code",
   "execution_count": 43,
   "metadata": {},
   "outputs": [
    {
     "name": "stdout",
     "output_type": "stream",
     "text": [
      "Enter the telephone number in the format XXX-XXX-XXXX: 555-GET-WKU\n",
      "555-438-958\n"
     ]
    }
   ],
   "source": [
    "#user input\n",
    "tele_number = input('Enter the telephone number in the format XXX-XXX-XXXX: ')\n",
    "\n",
    "#number-alphabetic table\n",
    "table = {\n",
    "    'A': '2', 'B': '2', 'C': '2', \n",
    "    'D': '3', 'E': '3', 'F': '3', \n",
    "    'G': '4', 'H': '4', 'I': '4', \n",
    "    'J': '5', 'K': '5', 'L': '5', \n",
    "    'M': '6', 'N': '6', 'O': '6', \n",
    "    'P': '7', 'Q': '7', 'R': '7', 'S': '7', \n",
    "    'T': '8', 'U': '8', 'V': '8', \n",
    "    'W': '9', 'X': '9', 'Y': '9', 'Z': '9', \n",
    "    \n",
    "}\n",
    "\n",
    "trans_tele = \"\"#output string\n",
    "\n",
    "for i in tele_number:\n",
    "    if i.isdigit() or i == '-':\n",
    "        trans_tele += i\n",
    "    else :\n",
    "        #when i is a letter\n",
    "        trans_tele += table.get(i)\n",
    "\n",
    "print(trans_tele)"
   ]
  },
  {
   "cell_type": "markdown",
   "metadata": {},
   "source": [
    "##### <span style=\"color:#a50e30;\">Practice 12: </span> "
   ]
  },
  {
   "cell_type": "markdown",
   "metadata": {},
   "source": [
    "Write a program with a function that accepts a string as an argument and returns a copy of the string with the first character of each sentence capitalized. For instance, if the argument is “hello. my name is Joe. what is your name?” the function should return the string “Hello. My name is Joe. What is your name?” The program should let the user enter a string and then pass it to the function. The modified string should be displayed."
   ]
  },
  {
   "cell_type": "markdown",
   "metadata": {},
   "source": [
    "***Write Your Code in Cell Below:***"
   ]
  },
  {
   "cell_type": "code",
   "execution_count": 103,
   "metadata": {},
   "outputs": [
    {
     "name": "stdout",
     "output_type": "stream",
     "text": [
      "Enter a string: hello. my name is Joe. what is your name?\n",
      "Hello. My name is Joe. What is your name?\n"
     ]
    }
   ],
   "source": [
    "# Signature: sentance_capitalize: string -> string\n",
    "# Purpose: Change the sentence into the correct form\n",
    "# Example:\n",
    "#        sentance_capitalize('hi, I am a student') -> 'Hi, I am a student'\n",
    "#        sentance_capitalize('hello. my name is Joe. what is your name?') -> 'Hello. My name is Joe. What is your name?'\n",
    "\n",
    "def sentance_capitalize(s):\n",
    "    \n",
    "    string = ''\n",
    "    capital = True\n",
    "    \n",
    "    for char in s:\n",
    "        \n",
    "        if char.isalpha() and capital:\n",
    "            string += char.upper()\n",
    "            capital = False\n",
    "        else:\n",
    "            #check if there is a sentance mark \n",
    "            if char=='?' or char=='!' or char=='.':\n",
    "                capital = True\n",
    "            string += char\n",
    "    return string\n",
    "\n",
    "# Test case\n",
    "assert sentance_capitalize('hello. my name is Joe. what is your name?') == 'Hello. My name is Joe. What is your name?'\n",
    "\n",
    "\n",
    "#user input \n",
    "sentance = input('Enter a string: ')\n",
    "print(sentance_capitalize(sentance))"
   ]
  },
  {
   "cell_type": "markdown",
   "metadata": {},
   "source": [
    "##### <span style=\"color:#a50e30;\">Practice 13: </span> "
   ]
  },
  {
   "cell_type": "markdown",
   "metadata": {},
   "source": [
    "A “Caesar Cipher” is a simple way of encrypting a message by replacing each letter with a letter a certain number of spaces up the alphabet. For example, if shifting the message by 13 an A would become an N, while an S would wrap around to the start of the alphabet to become an F.\n",
    "\n",
    "Write a program that asks the user for a message (a string) and a shift amount (an integer).\n",
    "The values should be passed to a function that accepts a string and an integer as arguments, and returns a string representing the original string encrypted by shifting the letters by the integer. For example, a string of “BEWARE THE IDES OF MARCH” and an integer of 13 should result in a string of “ORJNER GUR VQRF BS ZNEPU”."
   ]
  },
  {
   "cell_type": "markdown",
   "metadata": {},
   "source": [
    "***Sample Run:***"
   ]
  },
  {
   "cell_type": "code",
   "execution_count": 8,
   "metadata": {},
   "outputs": [
    {
     "name": "stdout",
     "output_type": "stream",
     "text": [
      "Enter message to encrypt: BEWARE THE IDES OF MARCH\n",
      "Enter amount to shift by: 13\n",
      "ORJNER GUR VQRF BS ZNEPU\n"
     ]
    }
   ],
   "source": []
  },
  {
   "cell_type": "code",
   "execution_count": 9,
   "metadata": {},
   "outputs": [
    {
     "name": "stdout",
     "output_type": "stream",
     "text": [
      "Enter message to encrypt: Wenzhou-Kean University\n",
      "Enter amount to shift by: 5\n",
      "BJSEMTZ-PJFS ZSNAJWXNYD\n"
     ]
    }
   ],
   "source": []
  },
  {
   "cell_type": "markdown",
   "metadata": {},
   "source": [
    "***Write Your Code in Cell Below:***"
   ]
  },
  {
   "cell_type": "code",
   "execution_count": 76,
   "metadata": {},
   "outputs": [
    {
     "name": "stdout",
     "output_type": "stream",
     "text": [
      "Enter message to encrypt: BJSEMTZ-PJFS ZSNAJWXNYD\n",
      "Enter amount to shift by: -5\n",
      "WENZHOU-KEAN UNIVERSITY\n"
     ]
    }
   ],
   "source": [
    "# Signature:  cipher: string int -> string\n",
    "# Purpose: encrypting a message by replacing each letter with a letter a certain number of spaces up the alphabet\n",
    "# Example:\n",
    "#       cipher('abcd',3) -> DEFG\n",
    "\n",
    "def cipher(message, amount):\n",
    "    INTERVAL = 26# interval between A and Z\n",
    "    UPPER_INI = 65# ascll of upper case letter A\n",
    "    message = message.upper()\n",
    "    replaced_sentance = ''\n",
    "    \n",
    "    for i in message:\n",
    "        if i.isalpha():\n",
    "            #the ascll of character after plus number\n",
    "            number = UPPER_INI + (ord(i) + amount - UPPER_INI)% INTERVAL\n",
    "            replaced_sentance += chr(number)\n",
    "        else:\n",
    "            replaced_sentance += i\n",
    "            \n",
    "    return replaced_sentance\n",
    "\n",
    "# Test case\n",
    "assert cipher('abcd',3) == 'DEFG'\n",
    "assert cipher('BEWARE THE IDES OF MARCH',13) == 'ORJNER GUR VQRF BS ZNEPU'\n",
    "assert cipher('Wenzhou-Kean University',5) == 'BJSEMTZ-PJFS ZSNAJWXNYD'\n",
    " \n",
    "\n",
    "#user input\n",
    "message = input('Enter message to encrypt: ')\n",
    "amount = int(input('Enter amount to shift by: '))\n",
    "\n",
    "print(cipher(message, amount))"
   ]
  },
  {
   "cell_type": "markdown",
   "metadata": {},
   "source": [
    "##### <span style=\"color:#a50e30;\">Practice 14: </span> "
   ]
  },
  {
   "cell_type": "markdown",
   "metadata": {},
   "source": [
    "Write a program that accepts as input a sentence in which all of the words are run together,\n",
    "but the first character of each word is uppercase. Convert the sentence to a string in which\n",
    "the words are separated by spaces, and only the first word starts with an uppercase letter. For\n",
    "example the string “StopAndSmellTheRoses.” would be converted to “Stop and smell\n",
    "the roses.”"
   ]
  },
  {
   "cell_type": "markdown",
   "metadata": {},
   "source": [
    "***Sample Run:***"
   ]
  },
  {
   "cell_type": "code",
   "execution_count": 10,
   "metadata": {},
   "outputs": [
    {
     "name": "stdout",
     "output_type": "stream",
     "text": [
      "Enter a string: StopAndSmellTheRoses\n",
      "Stop and smell the roses\n"
     ]
    }
   ],
   "source": []
  },
  {
   "cell_type": "markdown",
   "metadata": {},
   "source": [
    "***Write Your Code in Cell Below:***"
   ]
  },
  {
   "cell_type": "code",
   "execution_count": 46,
   "metadata": {},
   "outputs": [
    {
     "name": "stdout",
     "output_type": "stream",
     "text": [
      "Enter a string: StopAndSmellTheRoses\n",
      "Stop and smell the roses\n"
     ]
    }
   ],
   "source": [
    "#user input \n",
    "sentance = input('Enter a string: ')\n",
    "\n",
    "converted = ''#store the converted sentance\n",
    "first = True\n",
    "for i in sentance:\n",
    "    if i == i.upper():\n",
    "        if first:#if the first word\n",
    "            converted += i\n",
    "            first = False\n",
    "        else:#if not the first word\n",
    "            converted = converted + ' ' + i.lower()\n",
    "    else:\n",
    "        converted += i\n",
    "        \n",
    "print(converted)\n",
    "            \n",
    "\n",
    "\n",
    "\n"
   ]
  },
  {
   "cell_type": "markdown",
   "metadata": {},
   "source": [
    " "
   ]
  },
  {
   "cell_type": "markdown",
   "metadata": {},
   "source": [
    "For submission, you will need to upload the <em> Jupyter Notebook</em> file to Blackboard for grading. Make sure rename the file using your ***Team Number***， *** Team members' Chinese Name in Pinyin*** and ***Student ID***."
   ]
  },
  {
   "cell_type": "markdown",
   "metadata": {},
   "source": [
    "------------------------------------***End of Homework 3***---------------------------------------------------------------------------"
   ]
  },
  {
   "cell_type": "code",
   "execution_count": null,
   "metadata": {},
   "outputs": [],
   "source": []
  }
 ],
 "metadata": {
  "kernelspec": {
   "display_name": "Python 3",
   "language": "python",
   "name": "python3"
  },
  "language_info": {
   "codemirror_mode": {
    "name": "ipython",
    "version": 3
   },
   "file_extension": ".py",
   "mimetype": "text/x-python",
   "name": "python",
   "nbconvert_exporter": "python",
   "pygments_lexer": "ipython3",
   "version": "3.9.2"
  }
 },
 "nbformat": 4,
 "nbformat_minor": 2
}

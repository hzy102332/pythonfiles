{
 "cells": [
  {
   "cell_type": "markdown",
   "metadata": {
    "collapsed": true
   },
   "source": [
    "## CPS3320 Homework 2: Seleciton&Loop"
   ]
  },
  {
   "cell_type": "markdown",
   "metadata": {},
   "source": [
    "### <span style=\"color:#a50e30;\">Practice 1: </span> "
   ]
  },
  {
   "cell_type": "markdown",
   "metadata": {},
   "source": [
    "Write a program that asks the user to enter an integer. The program should display “Positive” if the number is greater than 0, “Negative” if the number is less than 0, and “Zero” if the number is equal to 0. The program should then display “Even” if the number is even, and “Odd” if the number is odd."
   ]
  },
  {
   "cell_type": "markdown",
   "metadata": {},
   "source": [
    "***Sample Run:***"
   ]
  },
  {
   "cell_type": "code",
   "execution_count": 1,
   "metadata": {},
   "outputs": [
    {
     "name": "stdout",
     "output_type": "stream",
     "text": [
      "Enter an integer: 5\n",
      "Positive\n",
      "Odd\n"
     ]
    }
   ],
   "source": []
  },
  {
   "cell_type": "markdown",
   "metadata": {},
   "source": [
    "***Write Your Code in Cell Below:***"
   ]
  },
  {
   "cell_type": "code",
   "execution_count": 1,
   "metadata": {
    "collapsed": true
   },
   "outputs": [
    {
     "name": "stdout",
     "output_type": "stream",
     "text": [
      "Negative\n",
      "Odd\n"
     ]
    }
   ],
   "source": [
    "try:\n",
    "    number = float(input(\"Enter an integer: \"))\n",
    "    #check positive and negative\n",
    "    if number > 0:\n",
    "        print('Positive')\n",
    "    elif number == 0:\n",
    "        print('Zero')\n",
    "    else :\n",
    "        print('Negative')\n",
    "    #check even or odd\n",
    "    if number%2 == 0:\n",
    "        print('Even')\n",
    "    else:\n",
    "        print('Odd')\n",
    "except:\n",
    "    print('Please enter right value !')\n"
   ]
  },
  {
   "cell_type": "code",
   "execution_count": 3,
   "metadata": {
    "pycharm": {
     "name": "#%%\n"
    }
   },
   "outputs": [
    {
     "data": {
      "text/plain": [
       "3"
      ]
     },
     "execution_count": 3,
     "metadata": {},
     "output_type": "execute_result"
    }
   ],
   "source": [
    "af = 6//2\n",
    "af"
   ]
  },
  {
   "cell_type": "markdown",
   "metadata": {},
   "source": [
    "### <span style=\"color:#a50e30;\">Practice 2: </span> "
   ]
  },
  {
   "cell_type": "markdown",
   "metadata": {},
   "source": [
    "The area of a rectangle is the rectangle’s length times its width. Write a program that asks for the length and width of two rectangles. The program should tell the user which rectangle has the greater area, or if the areas are the same."
   ]
  },
  {
   "cell_type": "markdown",
   "metadata": {},
   "source": [
    "***Sample Run:***"
   ]
  },
  {
   "cell_type": "code",
   "execution_count": 2,
   "metadata": {},
   "outputs": [
    {
     "name": "stdout",
     "output_type": "stream",
     "text": [
      "Enter length A: 5\n",
      "Enter width A: 3\n",
      "Enter length B: 9\n",
      "Enter width B: 2\n",
      "Area A: 15.00\n",
      "Area B: 18.00\n",
      "Area B is greater than Area A.\n"
     ]
    }
   ],
   "source": []
  },
  {
   "cell_type": "markdown",
   "metadata": {},
   "source": [
    "***Write Your Code in Cell Below:***"
   ]
  },
  {
   "cell_type": "code",
   "execution_count": 17,
   "metadata": {
    "collapsed": true
   },
   "outputs": [
    {
     "name": "stdout",
     "output_type": "stream",
     "text": [
      "Area A: 15.00\n",
      "Area B: 18.00\n",
      "Area B is greater than Area A.\n"
     ]
    }
   ],
   "source": [
    "#get input\n",
    "len_a = float(input('Enter length A:'))\n",
    "width_a = float(input('Enter width A:'))\n",
    "len_b = float(input('Enter length B:'))\n",
    "width_b = float(input('Enter width B:'))\n",
    "#compute area\n",
    "area_a = len_a * width_a\n",
    "area_b = len_b * width_b\n",
    "print(f'Area A: {area_a:,.2f}')\n",
    "print(f'Area B: {area_b:,.2f}')\n",
    "#compare two areas\n",
    "if area_b > area_a:\n",
    "    print('Area B is greater than Area A.')\n",
    "elif area_b < area_a:\n",
    "    print('Area A is greater than Area B.')\n",
    "else:\n",
    "    print('Area A is same as Area B.')"
   ]
  },
  {
   "cell_type": "markdown",
   "metadata": {},
   "source": [
    " "
   ]
  },
  {
   "cell_type": "markdown",
   "metadata": {},
   "source": [
    "### <span style=\"color:#a50e30;\">Practice 3: </span> "
   ]
  },
  {
   "cell_type": "markdown",
   "metadata": {},
   "source": [
    "Scientists measure an object’s mass in kilograms and its weight in newtons. If you know the amount of mass of an object in kilograms, you can calculate its weight in newtons with the following formula:\n",
    "\n",
    "    weight = mass * 9.8\n",
    "\n",
    "Write a program that asks the user to enter an object’s mass, then calculates its weight. If the object weighs more than 500 newtons, display a message indicating that it is too heavy. If the object weighs less than 100 newtons, display a message indicating that it is too light."
   ]
  },
  {
   "cell_type": "markdown",
   "metadata": {},
   "source": [
    "***Sample Run:***"
   ]
  },
  {
   "cell_type": "code",
   "execution_count": 3,
   "metadata": {
    "scrolled": true
   },
   "outputs": [
    {
     "name": "stdout",
     "output_type": "stream",
     "text": [
      "Enter the object's mass in kilograms: 15\n",
      "Object Weight: 147.00\n"
     ]
    }
   ],
   "source": []
  },
  {
   "cell_type": "code",
   "execution_count": 4,
   "metadata": {},
   "outputs": [
    {
     "name": "stdout",
     "output_type": "stream",
     "text": [
      "Enter the object's mass in kilograms: 500\n",
      "Object Weight: 4900.00\n",
      "The object is too heavy. It weighs more than 500.0 Newtons.\n"
     ]
    }
   ],
   "source": []
  },
  {
   "cell_type": "markdown",
   "metadata": {},
   "source": [
    "***Write Your Code in Cell Below:***"
   ]
  },
  {
   "cell_type": "code",
   "execution_count": 20,
   "metadata": {
    "collapsed": true
   },
   "outputs": [
    {
     "name": "stdout",
     "output_type": "stream",
     "text": [
      "Object Weight: 548.80\n",
      "The object is too heavy. It weighs more than 548.8 Newtons.\n"
     ]
    }
   ],
   "source": [
    "#get input\n",
    "mass = float(input('Enter the object\\'s mass in kilograms: '))\n",
    "weight = mass * 9.8\n",
    "print(f'Object Weight: {weight:,.2f}')\n",
    "#check object weights\n",
    "if weight >= 500:\n",
    "    print(f'The object is too heavy. It weighs more than 500.0 Newtons.')\n",
    "elif weight <= 100:\n",
    "    print(f'The object is too light. It weighs less than 100.0 Newtons.')"
   ]
  },
  {
   "cell_type": "markdown",
   "metadata": {},
   "source": [
    "### <span style=\"color:#a50e30;\">Practice 4: </span> "
   ]
  },
  {
   "cell_type": "markdown",
   "metadata": {},
   "source": [
    "The date June 10, 1960, is special because when it is written in the following format, the month times the day equals the year:\n",
    "\n",
    "        6/10/60\n",
    "        \n",
    "Design a program that asks the user to enter a month (in numeric form), a day, and a two-digit year. The program should then determine whether the month times the day equals the year. If so, it should display a message saying the date is magic. Otherwise, it should display a message saying the date is not magic."
   ]
  },
  {
   "cell_type": "markdown",
   "metadata": {},
   "source": [
    "***Sample Run:***"
   ]
  },
  {
   "cell_type": "code",
   "execution_count": 5,
   "metadata": {},
   "outputs": [
    {
     "name": "stdout",
     "output_type": "stream",
     "text": [
      "Enter the month in numeric form: 6\n",
      "Enter the day of the month: 10\n",
      "Enter the year in two digit format: 60\n",
      "The date is 6/10/60\n",
      "This is a magic date.\n"
     ]
    }
   ],
   "source": []
  },
  {
   "cell_type": "code",
   "execution_count": 6,
   "metadata": {},
   "outputs": [
    {
     "name": "stdout",
     "output_type": "stream",
     "text": [
      "Enter the month in numeric form: 6\n",
      "Enter the day of the month: 23\n",
      "Enter the year in two digit format: 21\n",
      "The date is 6/23/21\n",
      "This is not a magic date.\n"
     ]
    }
   ],
   "source": []
  },
  {
   "cell_type": "markdown",
   "metadata": {},
   "source": [
    "***Write Your Code in Cell Below:***"
   ]
  },
  {
   "cell_type": "code",
   "execution_count": 23,
   "metadata": {
    "collapsed": true
   },
   "outputs": [
    {
     "name": "stdout",
     "output_type": "stream",
     "text": [
      "The date is 6/23/21\n",
      "This is not a magic date.\n"
     ]
    }
   ],
   "source": [
    "#get input\n",
    "month = int(input('Enter the month in numeric form: '))\n",
    "day = int(input('Enter the day of the month: '))\n",
    "year = int(input('Enter the year in two digit format: '))\n",
    "\n",
    "print(f'The date is {month}/{day}/{year}')\n",
    "#check magic date\n",
    "if month * day == year:\n",
    "    print('This is a magic date.')\n",
    "else:\n",
    "    print('This is not a magic date.')"
   ]
  },
  {
   "cell_type": "markdown",
   "metadata": {},
   "source": [
    " "
   ]
  },
  {
   "cell_type": "markdown",
   "metadata": {},
   "source": [
    "##### <span style=\"color:#a50e30;\">Practice 5: </span> "
   ]
  },
  {
   "cell_type": "markdown",
   "metadata": {},
   "source": [
    "A class has two tests worth 25 points each along with a main exam worth 50 points. For a student to pass the class, they must obtain an overall score of at least 50 points, and must obtain at least 25 points in the main exam. If a student’s total score is less than 50 or they obtain less than 25 points in the main exam, they receive a grade of “Fail”. Otherwise, their grade is as follows:\n",
    "\n",
    "* If they get more than 80, they get a grade of “Distinction”. \n",
    "* If they get less than 80 but more than 60, they get a “Credit” grade.\n",
    "* If they get less than 60, they get a ”Pass” grade. 50–59 = “Pass”.\n",
    "\n",
    "Write a program that prompts the user to enter their points for both tests and the exam and converts the values to integers. The program should first check if the points entered for the tests and exam are valid. If any of the test scores are not between 0 and 25, or the exam score is not between 0 and 50, the program should display an error message. Otherwise, the program should display the total points and the grade.\n"
   ]
  },
  {
   "cell_type": "markdown",
   "metadata": {},
   "source": [
    "***Sample Run:***"
   ]
  },
  {
   "cell_type": "code",
   "execution_count": 7,
   "metadata": {},
   "outputs": [
    {
     "name": "stdout",
     "output_type": "stream",
     "text": [
      "Enter points out of 25 for Test 1: 25\n",
      "Enter points out of 25 for Test 2: 25\n",
      "Enter points out of 50 for the Exam: 50\n",
      "Total points: 100\n",
      "Distinction\n"
     ]
    }
   ],
   "source": []
  },
  {
   "cell_type": "code",
   "execution_count": 8,
   "metadata": {},
   "outputs": [
    {
     "name": "stdout",
     "output_type": "stream",
     "text": [
      "Enter points out of 25 for Test 1: -25\n",
      "Enter points out of 25 for Test 2: 25\n",
      "Enter points out of 50 for the Exam: 50\n",
      "Error: Invalid points entered.\n"
     ]
    }
   ],
   "source": []
  },
  {
   "cell_type": "code",
   "execution_count": 9,
   "metadata": {},
   "outputs": [
    {
     "name": "stdout",
     "output_type": "stream",
     "text": [
      "Enter points out of 25 for Test 1: 5\n",
      "Enter points out of 25 for Test 2: 5\n",
      "Enter points out of 50 for the Exam: 20\n",
      "Total points: 30\n",
      "Fail\n"
     ]
    }
   ],
   "source": []
  },
  {
   "cell_type": "markdown",
   "metadata": {},
   "source": [
    "***Write Your Code in Cell Below:***"
   ]
  },
  {
   "cell_type": "code",
   "execution_count": 30,
   "metadata": {
    "collapsed": true
   },
   "outputs": [
    {
     "name": "stdout",
     "output_type": "stream",
     "text": [
      "Error: Invalid points entered.\n"
     ]
    }
   ],
   "source": [
    "#get input\n",
    "test1 = int(input('Enter points out of 25 for Test 1: '))\n",
    "test2 = int(input('Enter points out of 25 for Test 2: '))\n",
    "exam  = int(input('Enter points out of 50 for the Exam: '))\n",
    "#check if the input is valid\n",
    "if test1 > 25 or test1 < 0 or test2 > 25 or test2 < 0 or exam > 50 or exam < 0:\n",
    "    print('Error: Invalid points entered.')\n",
    "else:\n",
    "    total_point = test1+test2+exam\n",
    "    print('Total points:',total_point)\n",
    "#show the grade\n",
    "    if total_point < 50 or exam < 25:\n",
    "        print('Fail')\n",
    "    elif total_point >= 80:\n",
    "        print('Distinction')\n",
    "    elif total_point >= 60:\n",
    "        print('Credit')\n",
    "    else:\n",
    "        print('Pass')"
   ]
  },
  {
   "cell_type": "markdown",
   "metadata": {},
   "source": [
    " "
   ]
  },
  {
   "cell_type": "markdown",
   "metadata": {},
   "source": [
    "##### <span style=\"color:#a50e30;\">Practice 6: </span> "
   ]
  },
  {
   "cell_type": "markdown",
   "metadata": {},
   "source": [
    "Write a program that asks the user to enter a number of seconds and works as follows:\n",
    "\n",
    "* There are 60 seconds in a minute. If the number of seconds entered by the user is greater than or equal to 60, the program should convert the number of seconds to minutes and seconds.\n",
    "* There are 3,600 seconds in an hour. If the number of seconds entered by the user is greater than or equal to 3,600, the program should convert the number of seconds to hours, minutes, and seconds.\n",
    "* There are 86,400 seconds in a day. If the number of seconds entered by the user is greater than or equal to 86,400, the program should convert the number of seconds to days, hours, minutes, and seconds."
   ]
  },
  {
   "cell_type": "markdown",
   "metadata": {},
   "source": [
    "***Sample Run:***"
   ]
  },
  {
   "cell_type": "code",
   "execution_count": 10,
   "metadata": {},
   "outputs": [
    {
     "name": "stdout",
     "output_type": "stream",
     "text": [
      "Enter the number of seconds: 601\n",
      "601 seconds are equal to:\n",
      "10 full minute(s) and 1 seconds.\n"
     ]
    }
   ],
   "source": [
    "\n"
   ]
  },
  {
   "cell_type": "code",
   "execution_count": 11,
   "metadata": {},
   "outputs": [
    {
     "name": "stdout",
     "output_type": "stream",
     "text": [
      "Enter the number of seconds: 1000000\n",
      "1000000 seconds are equal to:\n",
      "16666 full minute(s) and 40 seconds.\n",
      "277 full hour(s) and 2800 seconds.\n",
      "11 full day(s) and 49600 seconds.\n"
     ]
    }
   ],
   "source": []
  },
  {
   "cell_type": "markdown",
   "metadata": {},
   "source": [
    "***Write Your Code in Cell Below:***"
   ]
  },
  {
   "cell_type": "code",
   "execution_count": 33,
   "metadata": {
    "collapsed": true
   },
   "outputs": [
    {
     "name": "stdout",
     "output_type": "stream",
     "text": [
      "1000000 seconds are equal to:\n",
      "16666 full minute(s) and 40 seconds.\n",
      "277 full hour(s) and 2800 seconds.\n",
      "11 full day(s) and 49600 seconds.\n"
     ]
    }
   ],
   "source": [
    "#get input\n",
    "second_number = int(input('Enter the number of seconds: '))\n",
    "if second_number >= 60 :\n",
    "    print(f'{second_number} seconds are equal to:')\n",
    "    if second_number >= 60:\n",
    "        minute = second_number // 60\n",
    "        remain = second_number % 60\n",
    "        print(f'{minute} full minute(s) and {remain} seconds.')\n",
    "    if second_number >= 3600:\n",
    "        hours = second_number // 3600\n",
    "        remain = second_number % 3600\n",
    "        print(f'{hours} full hour(s) and {remain} seconds.')\n",
    "    if second_number >= 86400:\n",
    "        day = second_number // 86400\n",
    "        remain = second_number % 86400\n",
    "        print(f'{day} full day(s) and {remain} seconds.')"
   ]
  },
  {
   "cell_type": "markdown",
   "metadata": {},
   "source": [
    "##### <span style=\"color:#a50e30;\">Practice 7: </span> "
   ]
  },
  {
   "attachments": {
    "image.png": {
     "image/png": "[encoded data removed]"
    }
   },
   "cell_type": "markdown",
   "metadata": {},
   "source": [
    "![image.png](attachment:image.png)"
   ]
  },
  {
   "cell_type": "markdown",
   "metadata": {},
   "source": [
    "Above Figure shows a simplified flowchart for troubleshooting a bad Wi-Fi connection. Use\n",
    "the flowchart to create a program that leads a person through the steps of fixing a bad Wi-Fi connection. Here is an example of the program’s output:\n",
    "\n",
    "Reboot the computer and try to connect.\n",
    "Did that fix the problem? no Enter\n",
    "Reboot the router and try to connect.\n",
    "Did that fix the problem? yes Enter\n",
    "\n",
    "\n",
    "Reboot the computer and try to connect.\n",
    "Did that fix the problem? no Enter\n",
    "Reboot the router and try to connect.\n",
    "Did that fix the problem? no Enter\n",
    "Make sure the cables between the router and modem are plugged in firmly.\n",
    "Did that fix the problem? no Enter\n",
    "Move the router to a new location.\n",
    "Did that fix the problem? no Enter\n",
    "Get a new router."
   ]
  },
  {
   "cell_type": "markdown",
   "metadata": {},
   "source": [
    "***Sample Run:***"
   ]
  },
  {
   "cell_type": "code",
   "execution_count": 12,
   "metadata": {
    "scrolled": true
   },
   "outputs": [
    {
     "name": "stdout",
     "output_type": "stream",
     "text": [
      "Reboot the computer and try to connect.\n",
      "Did that fix the problem?\n",
      "no\n",
      "Reboot the router and try to connect.\n",
      "Did that fix the problem?\n",
      "yes\n",
      "Glad to be of help.\n"
     ]
    }
   ],
   "source": []
  },
  {
   "cell_type": "markdown",
   "metadata": {},
   "source": [
    "Notice the program ends as soon as a solution is found to the problem. Here is another example of the program’s output:"
   ]
  },
  {
   "cell_type": "code",
   "execution_count": 13,
   "metadata": {},
   "outputs": [
    {
     "name": "stdout",
     "output_type": "stream",
     "text": [
      "Reboot the computer and try to connect.\n",
      "Did that fix the problem?\n",
      "no\n",
      "Reboot the router and try to connect.\n",
      "Did that fix the problem?\n",
      "no\n",
      "Make sure the cables between the router and modem are plugged in firmly.\n",
      "Did that fix the problem?\n",
      "no\n",
      "Move the router to a new location and try to connect.\n",
      "Did that fix the problem?\n",
      "no\n",
      "Get a new router.\n"
     ]
    }
   ],
   "source": []
  },
  {
   "cell_type": "markdown",
   "metadata": {},
   "source": [
    "***Write Your Code in Cell Below:***"
   ]
  },
  {
   "cell_type": "code",
   "execution_count": 42,
   "metadata": {
    "collapsed": true
   },
   "outputs": [
    {
     "name": "stdout",
     "output_type": "stream",
     "text": [
      "Reboot the computer and try to connect.\n",
      "Reboot the router and try to connect.\n",
      "Glad to be of help.\n"
     ]
    }
   ],
   "source": [
    "fixed = True #check if the user have fixed the problem\n",
    "print('Reboot the computer and try to connect.')\n",
    "reboot_computer = input('Did that fix the problem?')\n",
    "\n",
    "if reboot_computer.lower() == 'no':\n",
    "    print('Reboot the router and try to connect.')\n",
    "    reboot_router = input('Did that fix the problem?')\n",
    "\n",
    "    if reboot_router.lower() == 'no':\n",
    "        print('Make sure the cables between the router and modem are plugged in firmly.')\n",
    "        cables_makesure = input('Did that fix the problem?')\n",
    "\n",
    "        if cables_makesure.lower() == 'no':\n",
    "            print('Move the router to a new location and try to connect.')\n",
    "            move_router = input('Did that fix the problem?')\n",
    "\n",
    "            if move_router.lower() == 'no':\n",
    "                fixed = False\n",
    "if fixed:\n",
    "    print('Glad to be of help.')\n",
    "else:\n",
    "    print('Get a new router.')\n",
    "\n"
   ]
  },
  {
   "cell_type": "markdown",
   "metadata": {},
   "source": [
    "##### <span style=\"color:#a50e30;\">Practice 8: </span> "
   ]
  },
  {
   "cell_type": "markdown",
   "metadata": {},
   "source": [
    "A bug collector collects bugs every day for five days. Write a program that keeps a running total of the number of bugs collected during the five days. The loop should ask for the number of bugs collected for each day, and when the loop is finished, the program should display the total number of bugs collected."
   ]
  },
  {
   "cell_type": "markdown",
   "metadata": {},
   "source": [
    "***Sample Run:***"
   ]
  },
  {
   "cell_type": "code",
   "execution_count": 14,
   "metadata": {},
   "outputs": [
    {
     "name": "stdout",
     "output_type": "stream",
     "text": [
      "Enter the number of bugs collected today: 5\n",
      "Enter the number of bugs collected today: 13\n",
      "Enter the number of bugs collected today: 1\n",
      "Enter the number of bugs collected today: 65\n",
      "Enter the number of bugs collected today: 4\n",
      "Total bugs collected: 88\n"
     ]
    }
   ],
   "source": [
    "\n"
   ]
  },
  {
   "cell_type": "markdown",
   "metadata": {},
   "source": [
    "***Write Your Code in Cell Below:***"
   ]
  },
  {
   "cell_type": "code",
   "execution_count": 2,
   "metadata": {
    "collapsed": true
   },
   "outputs": [
    {
     "name": "stdout",
     "output_type": "stream",
     "text": [
      "Total bugs collected:  88\n"
     ]
    }
   ],
   "source": [
    "# variable field\n",
    "Total=0\n",
    "\n",
    "#userinput\n",
    "for index in range(0,5):\n",
    "    Total+=int(input(\"Enter the number of bugs collected today: \"))\n",
    "#output\n",
    "print(\"Total bugs collected:\",Total)"
   ]
  },
  {
   "cell_type": "markdown",
   "metadata": {},
   "source": [
    " "
   ]
  },
  {
   "cell_type": "markdown",
   "metadata": {},
   "source": [
    "##### <span style=\"color:#a50e30;\">Practice 9: </span> "
   ]
  },
  {
   "cell_type": "markdown",
   "metadata": {},
   "source": [
    "At one college, the tuition for a full-time student is $8,000 per semester. It has been announced\n",
    "that the tuition will increase by 3 percent each year for the next 5 years. Write a program with a loop that displays the projected semester tuition amount for the next 5 years."
   ]
  },
  {
   "cell_type": "markdown",
   "metadata": {},
   "source": [
    "***Sample Run:***"
   ]
  },
  {
   "cell_type": "code",
   "execution_count": 15,
   "metadata": {},
   "outputs": [
    {
     "name": "stdout",
     "output_type": "stream",
     "text": [
      "Year\t Projected Tuition (per Semester)\n",
      "------------------------------------------\n",
      "1\t$8,240.00\n",
      "2\t$8,487.20\n",
      "3\t$8,741.82\n",
      "4\t$9,004.07\n",
      "5\t$9,274.19\n"
     ]
    }
   ],
   "source": []
  },
  {
   "cell_type": "markdown",
   "metadata": {},
   "source": [
    "***Write Your Code in Cell Below:***"
   ]
  },
  {
   "cell_type": "code",
   "execution_count": 48,
   "metadata": {
    "collapsed": true
   },
   "outputs": [
    {
     "name": "stdout",
     "output_type": "stream",
     "text": [
      "Year\t Projected Tuition (per Semester)\n",
      "------------------------------------------\n",
      "1       $8,240.00\n",
      "2       $8,487.20\n",
      "3       $8,741.82\n",
      "4       $9,004.07\n",
      "5       $9,274.19\n"
     ]
    }
   ],
   "source": [
    "tuition = 8000\n",
    "print('Year\t Projected Tuition (per Semester)')\n",
    "print('------------------------------------------')\n",
    "for i in range (1,6):\n",
    "    #calculate each year tuition\n",
    "    tuition = tuition * 1.03\n",
    "    print(f'{i}       ${tuition:,.2f}')\n"
   ]
  },
  {
   "cell_type": "markdown",
   "metadata": {},
   "source": [
    "##### <span style=\"color:#a50e30;\">Practice 10: </span> "
   ]
  },
  {
   "cell_type": "markdown",
   "metadata": {},
   "source": [
    "In mathematics, the notation n! represents the factorial of the nonnegative integer n. The factorial of n is the product of all the nonnegative integers from 1 to n. For example,\n",
    "\n",
    "    7!=1*2*3*4*5*6*7=5040\n",
    "    \n",
    "and\n",
    "\n",
    "    4!=1*2*3*4=24\n",
    "\n",
    "Write a program that lets the user enter a nonnegative integer then uses a loop to calculate the factorial of that number. Display the factorial."
   ]
  },
  {
   "cell_type": "markdown",
   "metadata": {},
   "source": [
    "***Sample Run:***"
   ]
  },
  {
   "cell_type": "code",
   "execution_count": 16,
   "metadata": {},
   "outputs": [
    {
     "name": "stdout",
     "output_type": "stream",
     "text": [
      "Enter a nonnegative integer: 6\n",
      "The factoral of 6 is 720\n"
     ]
    }
   ],
   "source": []
  },
  {
   "cell_type": "markdown",
   "metadata": {},
   "source": [
    "***Write Your Code in Cell Below:***"
   ]
  },
  {
   "cell_type": "code",
   "execution_count": 49,
   "metadata": {
    "collapsed": true
   },
   "outputs": [
    {
     "name": "stdout",
     "output_type": "stream",
     "text": [
      "The factorial of 6 is 720\n"
     ]
    }
   ],
   "source": [
    "#get number\n",
    "number = int(input('Enter a nonnegative integer: '))\n",
    "factorial = 1 #store the product\n",
    "for i in range(1,number+1):\n",
    "    factorial = factorial * i\n",
    "\n",
    "print(f'The factorial of {number} is {factorial}')"
   ]
  },
  {
   "cell_type": "markdown",
   "metadata": {},
   "source": [
    "##### <span style=\"color:#a50e30;\">Practice 11: </span> "
   ]
  },
  {
   "cell_type": "markdown",
   "metadata": {},
   "source": [
    "Write a program that uses nested loops to collect data and calculate the average rainfall over a period of years. The program should first ask for the number of years. The outer loop will iterate once for each year. The inner loop will iterate twelve times, once for each month.\n",
    "\n",
    "Each iteration of the inner loop will ask the user for the inches of rainfall for that month. After all iterations, the program should display the number of months, the total inches of rainfall, and the average rainfall per month for the entire period."
   ]
  },
  {
   "cell_type": "markdown",
   "metadata": {},
   "source": [
    "***Sample Run:***"
   ]
  },
  {
   "cell_type": "code",
   "execution_count": 18,
   "metadata": {},
   "outputs": [
    {
     "name": "stdout",
     "output_type": "stream",
     "text": [
      "Enter the number of years: 2\n",
      "For year 1:\n",
      "Enter the rainfall amount for the month: 1\n",
      "Enter the rainfall amount for the month: 2\n",
      "Enter the rainfall amount for the month: 3\n",
      "Enter the rainfall amount for the month: 6\n",
      "Enter the rainfall amount for the month: 8\n",
      "Enter the rainfall amount for the month: 6\n",
      "Enter the rainfall amount for the month: 8\n",
      "Enter the rainfall amount for the month: 5\n",
      "Enter the rainfall amount for the month: 6\n",
      "Enter the rainfall amount for the month: 9\n",
      "Enter the rainfall amount for the month: 6\n",
      "Enter the rainfall amount for the month: 6\n",
      "For year 2:\n",
      "Enter the rainfall amount for the month: 1\n",
      "Enter the rainfall amount for the month: 5\n",
      "Enter the rainfall amount for the month: 9\n",
      "Enter the rainfall amount for the month: 8\n",
      "Enter the rainfall amount for the month: 6\n",
      "Enter the rainfall amount for the month: 5\n",
      "Enter the rainfall amount for the month: 7\n",
      "Enter the rainfall amount for the month: 5\n",
      "Enter the rainfall amount for the month: 5\n",
      "Enter the rainfall amount for the month: 7\n",
      "Enter the rainfall amount for the month: 5\n",
      "Enter the rainfall amount for the month: 2\n",
      "For 24 months\n",
      "Total rainfall: 131.00 inches\n",
      "Average monthly rainfall: 5.46 inches\n"
     ]
    }
   ],
   "source": [
    "\n"
   ]
  },
  {
   "cell_type": "markdown",
   "metadata": {},
   "source": [
    "***Write Your Code in Cell Below:***"
   ]
  },
  {
   "cell_type": "code",
   "execution_count": 16,
   "metadata": {
    "collapsed": true
   },
   "outputs": [
    {
     "name": "stdout",
     "output_type": "stream",
     "text": [
      "For year 1:\n",
      "Enter the rainfall amount for the month: 1\n",
      "Enter the rainfall amount for the month: 2\n",
      "Enter the rainfall amount for the month: 3\n",
      "Enter the rainfall amount for the month: 4\n",
      "Enter the rainfall amount for the month: 5\n",
      "Enter the rainfall amount for the month: 6\n",
      "Enter the rainfall amount for the month: 7\n",
      "Enter the rainfall amount for the month: 8\n",
      "Enter the rainfall amount for the month: 9\n",
      "Enter the rainfall amount for the month: 5\n",
      "Enter the rainfall amount for the month: 6\n",
      "Enter the rainfall amount for the month: 6\n",
      "For year 2:\n",
      "Enter the rainfall amount for the month: 6\n",
      "Enter the rainfall amount for the month: 3\n",
      "Enter the rainfall amount for the month: 2\n",
      "Enter the rainfall amount for the month: 2\n",
      "Enter the rainfall amount for the month: 3\n",
      "Enter the rainfall amount for the month: 3\n",
      "Enter the rainfall amount for the month: 3\n",
      "Enter the rainfall amount for the month: 5\n",
      "Enter the rainfall amount for the month: 6\n",
      "Enter the rainfall amount for the month: 6\n",
      "Enter the rainfall amount for the month: 8\n",
      "Enter the rainfall amount for the month: 2\n",
      "For 24 months\n",
      "Total rainfall: 111.00 inches\n",
      "Average monthly rainfall: 4.62 inches\n"
     ]
    }
   ],
   "source": [
    "#get year number\n",
    "year = int(input('Enter the number of years:'))\n",
    "rainfall = []\n",
    "#get rainfall amount of each year\n",
    "for y in range(1,year+1):\n",
    "    print(f'For year {y}:')\n",
    "\n",
    "    for i in range(12):\n",
    "        temp = float(input('Enter the rainfall amount for the month:'))\n",
    "        rainfall.append(temp)\n",
    "\n",
    "month_num = year * 12\n",
    "total_rainfall = sum(rainfall)\n",
    "average = total_rainfall/month_num\n",
    "#output\n",
    "print(f'For {month_num} months')\n",
    "print(f'Total rainfall: {total_rainfall:,.2f} inches')\n",
    "print(f'Average monthly rainfall: {average:,.2f} inches')\n",
    "\n"
   ]
  },
  {
   "cell_type": "markdown",
   "metadata": {},
   "source": [
    "##### <span style=\"color:#a50e30;\">Practice 12: </span> "
   ]
  },
  {
   "cell_type": "markdown",
   "metadata": {},
   "source": [
    "Write a program that calculates the amount of money a person would earn over a period of time if his or her salary is one penny the first day, two pennies the second day, and continues to double each day. The program should ask the user for the number of days. Display a table showing what the salary was for each day, then show the total pay at the end of the period. The output should be displayed in a dollar amount, not the number of pennies."
   ]
  },
  {
   "cell_type": "markdown",
   "metadata": {},
   "source": [
    "***Sample Run:***"
   ]
  },
  {
   "cell_type": "code",
   "execution_count": null,
   "metadata": {
    "collapsed": true
   },
   "outputs": [],
   "source": []
  },
  {
   "cell_type": "markdown",
   "metadata": {},
   "source": [
    "***Write Your Code in Cell Below:***"
   ]
  },
  {
   "cell_type": "code",
   "execution_count": 31,
   "metadata": {
    "collapsed": true
   },
   "outputs": [
    {
     "name": "stdout",
     "output_type": "stream",
     "text": [
      "Day        Pennies\n",
      "---------------------------\n",
      "1          $0.01\n",
      "2          $0.02\n",
      "3          $0.04\n",
      "4          $0.08\n",
      "5          $0.16\n",
      "6          $0.32\n",
      "7          $0.64\n",
      "8          $1.28\n",
      "9          $2.56\n",
      "10         $5.12\n",
      "11         $10.24\n",
      "12         $20.48\n",
      "13         $40.96\n",
      "14         $81.92\n",
      "15         $163.84\n",
      "16         $327.68\n",
      "17         $655.36\n",
      "18         $1310.72\n",
      "19         $2621.44\n",
      "20         $5242.88\n",
      "21         $10485.76\n",
      "22         $20971.52\n",
      "23         $41943.04\n",
      "24         $83886.08\n",
      "25         $167772.16\n",
      "The total salary for 25 days is: $335,544.31\n"
     ]
    }
   ],
   "source": [
    "#get day number\n",
    "day_num = int(input('Emter the number of days: '))\n",
    "total_salary = 0\n",
    "salary = 0.01\n",
    "\n",
    "#print table\n",
    "print('Day        Pennies')\n",
    "print('---------------------------')\n",
    "for i in range(1,day_num+1):\n",
    "    print(f'{i:<10d} ${salary}')\n",
    "    total_salary += salary\n",
    "    salary *= 2\n",
    "\n",
    "print(f'The total salary for {day_num} days is: ${total_salary:,.2f}')"
   ]
  },
  {
   "cell_type": "markdown",
   "metadata": {},
   "source": []
  },
  {
   "cell_type": "markdown",
   "metadata": {},
   "source": [
    "##### <span style=\"color:#a50e30;\">Practice 13: </span>"
   ]
  },
  {
   "cell_type": "markdown",
   "metadata": {},
   "source": [
    "A “sleep debt” represents the difference between a person’s desirable and actual amount of sleep. Write a program that prompts the user to enter how many hours they slept eachday over a period of seven days. Using 8 hours per day as the desirable amount of sleep, determine their sleep debt by calculating the total hours of sleep they got over the seven-day  period and subtracting that from the total hours of sleep they should have got. If the user does not have a sleep debt, display a message expressing your jealousy."
   ]
  },
  {
   "cell_type": "markdown",
   "metadata": {},
   "source": [
    "***Sample Run:***"
   ]
  },
  {
   "cell_type": "code",
   "execution_count": null,
   "metadata": {
    "pycharm": {
     "name": "#%%\n"
    }
   },
   "outputs": [],
   "source": []
  },
  {
   "cell_type": "markdown",
   "metadata": {},
   "source": [
    "***Write Your Code in Cell Below:***"
   ]
  },
  {
   "cell_type": "code",
   "execution_count": 3,
   "metadata": {
    "pycharm": {
     "name": "#%%\n"
    }
   },
   "outputs": [
    {
     "name": "stdout",
     "output_type": "stream",
     "text": [
      "Day 1 of 7\n",
      "Day 2 of 7\n",
      "Day 3 of 7\n",
      "Day 4 of 7\n",
      "Day 5 of 7\n",
      "Day 6 of 7\n",
      "Day 7 of 7\n",
      "Total Sleep Debt: 8 hour(s).\n"
     ]
    }
   ],
   "source": [
    "desirable = 7* 8\n",
    "acutal_amount = 0\n",
    "for i in range(1,8):\n",
    "    print(f'Day {i} of 7')\n",
    "    acutal_amount += int(input('Enter hours of sleep obtained:'))\n",
    "\n",
    "if acutal_amount >= desirable:\n",
    "    print(\"Congratulations you have no sleep debt, I'm very jealou\")\n",
    "else:\n",
    "    print(f'Total Sleep Debt: {desirable-acutal_amount} hour(s).')"
   ]
  },
  {
   "cell_type": "markdown",
   "metadata": {},
   "source": [
    "For submission, you will need to upload the <em> Jupyter Notebook</em> file to Blackboard for grading. Make sure rename the file using your ***Team Number***， *** Team members' Chinese Name in Pinyin*** and ***Student ID***."
   ]
  },
  {
   "cell_type": "markdown",
   "metadata": {},
   "source": [
    "------------------------------------***End of Homework 2***---------------------------------------------------------------------------"
   ]
  },
  {
   "cell_type": "code",
   "execution_count": null,
   "metadata": {
    "collapsed": true
   },
   "outputs": [],
   "source": []
  }
 ],
 "metadata": {
  "kernelspec": {
   "display_name": "Python 3",
   "language": "python",
   "name": "python3"
  },
  "language_info": {
   "codemirror_mode": {
    "name": "ipython",
    "version": 3
   },
   "file_extension": ".py",
   "mimetype": "text/x-python",
   "name": "python",
   "nbconvert_exporter": "python",
   "pygments_lexer": "ipython3",
   "version": "3.9.2"
  }
 },
 "nbformat": 4,
 "nbformat_minor": 2
}

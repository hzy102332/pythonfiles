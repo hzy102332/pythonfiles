{
 "cells": [
  {
   "cell_type": "markdown",
   "metadata": {
    "collapsed": true
   },
   "source": [
    "## CPS3320 Homework 5： Dictionary"
   ]
  },
  {
   "cell_type": "markdown",
   "metadata": {},
   "source": [
    "### <span style=\"color:#a50e30;\">Practice 1: </span> "
   ]
  },
  {
   "cell_type": "markdown",
   "metadata": {},
   "source": [
    "Write a program that uses a dictionary to assign “codes” to each letter of the alphabet. For\n",
    "example:\n",
    "\n",
    "    codes = { ‘A’ : ‘%’, ‘a’ : ‘9’, ‘B’ : ‘@’, ‘b’ : ‘#’, etc . . .}\n",
    "\n",
    "Using this example, the letter A would be assigned the symbol %, the letter a would be\n",
    "assigned the number 9, the letter B would be assigned the symbol @, and so forth.\n",
    "\n",
    "The program should open a specified text file, read its contents, then use the dictionary\n",
    "to write an encrypted version of the file’s contents to a second file. Each character in the\n",
    "second file should contain the code for the corresponding character in the first file.\n",
    "\n",
    "Write a second program that opens an encrypted file and displays its decrypted contents\n",
    "on the screen."
   ]
  },
  {
   "cell_type": "markdown",
   "metadata": {},
   "source": [
    "***Write Your Code in Cell Below:***"
   ]
  },
  {
   "cell_type": "code",
   "execution_count": 14,
   "metadata": {},
   "outputs": [
    {
     "name": "stdout",
     "output_type": "stream",
     "text": [
      "encrypted:  n G{ G HBR R6&JPF6, GFJ n )Q!P [(&\n",
      "decrypted:  I am a cps student, and I love wku\n"
     ]
    }
   ],
   "source": [
    "#open file\n",
    "name = \"specific.txt\"\n",
    "file = open(name).read()\n",
    "\n",
    "#dictionary\n",
    "codes = {'a':'G','b':'E','c':'H','d':'J','e':'P','f':'T','g':'5','h':'7','i':';','j':'/','k':'(','l':')','m':'{',\n",
    "         'n':'F','o':'Q','p':'B','q':'L','r':'K','s':'R','t':'6','u':'&','v':'!','w':'[','x':']','y':'2','z':'}',\n",
    "         'A':'a','B':'v','C':'h','D':'j','E':'8','F':'4','G':'d','H':'b','I':'n','J':'1','K':'9','L':'*','M':'|',\n",
    "         'N':'f','O':'r','P':'t','Q':'h','R':'l','S':'c','T':'z','U':'o','V':'e','W':'0','X':'3','Y':'+','Z':'-'}\n",
    "#coding\n",
    "encrypted = ''\n",
    "\n",
    "for letter in file:\n",
    "    if letter in codes:\n",
    "        encrypted += codes.get(letter)\n",
    "    else:\n",
    "        encrypted += letter\n",
    "#write encrypted version to file   \n",
    "filename = 'encrypted.txt'\n",
    "with open(filename, 'w') as file_object:\n",
    "    file_object.write(encrypted)\n",
    "print('encrypted: ',encrypted)\n",
    "    \n",
    "#open file\n",
    "name = \"encrypted.txt\"\n",
    "file = open(name).read()\n",
    "#new dictionary\n",
    "new_codes = {v:k for k,v in codes.items()} \n",
    "#decoding\n",
    "decrypted = ''\n",
    "for letter in file:\n",
    "    if letter in new_codes:\n",
    "        decrypted += new_codes.get(letter)\n",
    "    else:\n",
    "        decrypted += letter\n",
    "\n",
    "#display decrypted \n",
    "print('decrypted: ',decrypted)\n"
   ]
  },
  {
   "cell_type": "markdown",
   "metadata": {},
   "source": [
    " "
   ]
  },
  {
   "cell_type": "markdown",
   "metadata": {},
   "source": [
    "### <span style=\"color:#a50e30;\">Practice 2: </span> "
   ]
  },
  {
   "cell_type": "markdown",
   "metadata": {},
   "source": [
    "Write a program that keeps vegetable names and prices in a dictionary as key-value pairs.\n",
    "The program should display a menu that lets the user see a list of all vegetables and their\n",
    "prices, add a new vegetable and price, change the price of an existing vegetable, and delete\n",
    "an existing vegetable and price. The program should pickle the dictionary and save it to a\n",
    "file when the user exits the program. Each time the program starts, it should retrieve the\n",
    "dictionary from the file and unpickle it."
   ]
  },
  {
   "cell_type": "markdown",
   "metadata": {},
   "source": [
    "***Write Your Code in Cell Below:***"
   ]
  },
  {
   "cell_type": "code",
   "execution_count": 2,
   "metadata": {},
   "outputs": [
    {
     "name": "stdout",
     "output_type": "stream",
     "text": [
      "Vegetable  Price\n",
      "Loofah     4.5\n",
      "Carrot     3.4\n",
      "Spinach    2.4\n",
      "Pumpkin    6.4\n",
      "Tomatoes   3.2\n",
      "Do you want to edit the menu? (yes to edit/no to exit): yes\n",
      "Enter a for adding new item, c for changing price, d for deleting a items: a\n",
      "Enter the name of vegetable: Beet\n",
      "Enter the price of vegetable: 4.3\n",
      "Vegetable  Price\n",
      "Loofah     4.5\n",
      "Carrot     3.4\n",
      "Spinach    2.4\n",
      "Pumpkin    6.4\n",
      "Tomatoes   3.2\n",
      "Beet       4.3\n",
      "Continue to edit the menu ? (yes to edit/no to exit): no\n"
     ]
    }
   ],
   "source": [
    "#read file\n",
    "file = open('vegetable.txt')\n",
    "\n",
    "#convert to dictionary\n",
    "vege = {}\n",
    "for line in file:\n",
    "    pairs = line.split(\" \")\n",
    "    vege[pairs[0]]=pairs[1].replace('\\n','')\n",
    "    \n",
    "#display the menu\n",
    "print(f'Vegetable  Price')\n",
    "for item in vege.keys():\n",
    "    print(f'{item:<11}{vege.get(item)}')\n",
    "    \n",
    "#user input\n",
    "while True:\n",
    "    operation = input(\"Do you want to edit the menu? (yes to edit/no to exit): \")\n",
    "    if operation == 'yes':\n",
    "        todo = input('Enter a for adding new item, c for changing price, d for deleting a items: ')\n",
    "        name = input('Enter the name of vegetable: ')\n",
    "        if todo == 'a' or todo == 'c':\n",
    "            price = input('Enter the price of vegetable: ')\n",
    "            vege[name] = price\n",
    "        elif todo == 'd':\n",
    "            del vege[name]\n",
    "    else: \n",
    "        break\n",
    "    print(f'Vegetable  Price')\n",
    "    for item in vege.keys():\n",
    "        print(f'{item:<11}{vege.get(item)}')\n",
    "    do_next = input('Continue to edit the menu ? (yes to edit/no to exit): ')\n",
    "    if do_next == 'no':\n",
    "        break\n",
    " \n",
    "\n",
    "\n",
    "filename = 'vegetable.txt'\n",
    "with open(filename, 'w') as file_object:\n",
    "    for item in vege.keys():\n",
    "        temp = item+\" \"+vege[item]+\"\\n\"\n",
    "        file_object.write(temp)\n"
   ]
  },
  {
   "cell_type": "markdown",
   "metadata": {},
   "source": [
    " "
   ]
  },
  {
   "cell_type": "markdown",
   "metadata": {},
   "source": [
    "### <span style=\"color:#a50e30;\">Practice 3: </span> "
   ]
  },
  {
   "cell_type": "markdown",
   "metadata": {},
   "source": [
    "Write a program that generates 100 random numbers between 1 and 10. The program\n",
    "should store the frequency of each number generated in a dictionary with the number as\n",
    "the key and the amount of times it has occurred as the value. For example, if the program\n",
    "generates the number 6 a total of 11 times, the dictionary will contain a key of 6 with an\n",
    "associated value of 11. Once all of the numbers have been generated, display information\n",
    "about the frequency of each number."
   ]
  },
  {
   "cell_type": "markdown",
   "metadata": {},
   "source": [
    "***Write Your Code in Cell Below:***"
   ]
  },
  {
   "cell_type": "code",
   "execution_count": 4,
   "metadata": {},
   "outputs": [
    {
     "name": "stdout",
     "output_type": "stream",
     "text": [
      "Number  Frequency\n",
      "8       9\n",
      "6       11\n",
      "10      15\n",
      "3       11\n",
      "2       17\n",
      "7       7\n",
      "9       6\n",
      "5       10\n",
      "1       8\n",
      "4       6\n"
     ]
    }
   ],
   "source": [
    "#generate number and store\n",
    "import random\n",
    "dic = {}\n",
    "for index in range(100):\n",
    "    number = random.randint(1,10)\n",
    "    dic[number] = dic.get(number,0)+1\n",
    "print(f'Number  Frequency')\n",
    "for item in dic.keys():\n",
    "    print(f'{item:<8}{dic.get(item)}')"
   ]
  },
  {
   "cell_type": "markdown",
   "metadata": {},
   "source": [
    "### <span style=\"color:#a50e30;\">Practice 4: </span> "
   ]
  },
  {
   "cell_type": "markdown",
   "metadata": {},
   "source": [
    "Write a program that creates a dictionary containing the country as keys, and their capitals\n",
    "as values. (Select any 10 from here: https://www.careerpower.in/countries-and-capitals.html) \n",
    "\n",
    "The program should then randomly quiz the user by displaying the name of a country and asking the user\n",
    "to enter that country’s capital(all 10 countries need to be asked). The program should keep a count of the number of correct and\n",
    "incorrect responses."
   ]
  },
  {
   "cell_type": "markdown",
   "metadata": {},
   "source": [
    "***Write Your Code in Cell Below:***"
   ]
  },
  {
   "cell_type": "code",
   "execution_count": 10,
   "metadata": {},
   "outputs": [
    {
     "name": "stdout",
     "output_type": "stream",
     "text": [
      "Enter the capital of Egypt: Cairo\n",
      "Enter the capital of Liberia: monrovia\n",
      "Enter the capital of Burundi: gitega\n",
      "Enter the capital of Guinea: Conakry\n",
      "Enter the capital of Tanzania: tunszdf\n",
      "Enter the capital of Jordan: Amman\n",
      "Enter the capital of China: beijing\n",
      "Enter the capital of Israel: jerusalem\n",
      "Enter the capital of Somalia: mogadishu\n",
      "Enter the capital of Algeria: \n",
      "The number you have correctly answered: 8 \n",
      "The number you have answered incorrectly: 2 \n"
     ]
    }
   ],
   "source": [
    "import random\n",
    "#country and capitals\n",
    "dic={'Algeria':'Algiers','Burundi':'Gitega',\n",
    "     'Egypt':'Cairo','Guinea':'Conakry',\n",
    "     'Liberia':'Monrovia','Somalia':'Mogadishu',\n",
    "     'Tanzania':'Tunisia','China':'Beijing',\n",
    "     'Israel':'Jerusalem','Jordan':'Amman'}\n",
    "correct_count = 0\n",
    "unanswered = 0\n",
    "total = 10\n",
    "while dic:\n",
    "    country,capital = random.choice(list(dic.items()))\n",
    "    del dic[country]\n",
    "    capital_in = input(f'Enter the capital of {country}: ')\n",
    "    if capital == ' ':\n",
    "        unanswered += 1\n",
    "    elif capital_in.lower() == capital.lower():\n",
    "        correct_count+=1\n",
    "#output\n",
    "print(f'The number you have correctly answered: {correct_count} ')\n",
    "print(f'The number you have answered incorrectly: {total-unanswered-correct_count} ')"
   ]
  },
  {
   "cell_type": "markdown",
   "metadata": {},
   "source": [
    " "
   ]
  },
  {
   "cell_type": "markdown",
   "metadata": {},
   "source": [
    "For submission, you will need to upload the <em> Jupyter Notebook</em> file to Blackboard for grading. Make sure rename the file using your ***Team Number***， *** Team members' Chinese Name in Pinyin*** and ***Student ID***."
   ]
  },
  {
   "cell_type": "markdown",
   "metadata": {},
   "source": [
    "------------------------------------***End of Homework 4***---------------------------------------------------------------------------"
   ]
  },
  {
   "cell_type": "code",
   "execution_count": null,
   "metadata": {
    "collapsed": true
   },
   "outputs": [],
   "source": []
  }
 ],
 "metadata": {
  "kernelspec": {
   "display_name": "Python 3",
   "language": "python",
   "name": "python3"
  },
  "language_info": {
   "codemirror_mode": {
    "name": "ipython",
    "version": 3
   },
   "file_extension": ".py",
   "mimetype": "text/x-python",
   "name": "python",
   "nbconvert_exporter": "python",
   "pygments_lexer": "ipython3",
   "version": "3.9.2"
  }
 },
 "nbformat": 4,
 "nbformat_minor": 2
}

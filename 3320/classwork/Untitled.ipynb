{
 "cells": [
  {
   "cell_type": "code",
   "execution_count": 34,
   "id": "5d7564cc",
   "metadata": {},
   "outputs": [
    {
     "name": "stdout",
     "output_type": "stream",
     "text": [
      "(2, 2)\n",
      "[[[1 2]\n",
      "  [3 4]]]\n",
      "(2, 1, 2)\n",
      "[[[[1]\n",
      "   [2]]]\n",
      "\n",
      "\n",
      " [[[3]\n",
      "   [4]]]]\n",
      "[[[[1 2]]]\n",
      "\n",
      "\n",
      " [[[3 4]]]]\n"
     ]
    }
   ],
   "source": [
    "import numpy as np\n",
    "\n",
    "a = np.array([[1,2],[3,4]])\n",
    "# b = np.array([a,[1]])\n",
    "print(a.shape)\n",
    "print(a[None,:]) # output: (1, 3, 2)\n",
    "# print(b)\n",
    "print(a[:,None].shape) # output: (3, 1, 2)\n",
    "print(a[:,None,:,None]) # output: (3, 1, 2, 1)\n",
    "print(a[:,None,None, :]) # output: (3, 1, 1, 2)\n",
    "\n",
    "# print(a[:,None,:,:])"
   ]
  },
  {
   "cell_type": "code",
   "execution_count": 15,
   "id": "b69a11ca",
   "metadata": {},
   "outputs": [
    {
     "name": "stdout",
     "output_type": "stream",
     "text": [
      "[[0.47045784 0.819213  ]]\n"
     ]
    }
   ],
   "source": [
    "print(a)"
   ]
  }
 ],
 "metadata": {
  "kernelspec": {
   "display_name": "Python 3",
   "language": "python",
   "name": "python3"
  },
  "language_info": {
   "codemirror_mode": {
    "name": "ipython",
    "version": 3
   },
   "file_extension": ".py",
   "mimetype": "text/x-python",
   "name": "python",
   "nbconvert_exporter": "python",
   "pygments_lexer": "ipython3",
   "version": "3.9.2"
  }
 },
 "nbformat": 4,
 "nbformat_minor": 5
}

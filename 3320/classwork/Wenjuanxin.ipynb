{
 "cells": [
  {
   "cell_type": "code",
   "execution_count": 2,
   "id": "8366c7e8",
   "metadata": {},
   "outputs": [
    {
     "ename": "ModuleNotFoundError",
     "evalue": "No module named 'requests'",
     "output_type": "error",
     "traceback": [
      "\u001b[1;31m---------------------------------------------------------------------------\u001b[0m",
      "\u001b[1;31mModuleNotFoundError\u001b[0m                       Traceback (most recent call last)",
      "\u001b[1;32m<ipython-input-2-92e8c6d7c892>\u001b[0m in \u001b[0;36m<module>\u001b[1;34m\u001b[0m\n\u001b[1;32m----> 1\u001b[1;33m \u001b[1;32mimport\u001b[0m \u001b[0mrequests\u001b[0m\u001b[1;33m\u001b[0m\u001b[1;33m\u001b[0m\u001b[0m\n\u001b[0m\u001b[0;32m      2\u001b[0m \u001b[0mrequests\u001b[0m\u001b[1;33m.\u001b[0m\u001b[0mpackages\u001b[0m\u001b[1;33m.\u001b[0m\u001b[0murllib3\u001b[0m\u001b[1;33m.\u001b[0m\u001b[0mdisable_warnings\u001b[0m\u001b[1;33m(\u001b[0m\u001b[1;33m)\u001b[0m\u001b[1;31m#缺少将会报错警告，但好像不影响脚本运行\u001b[0m\u001b[1;33m\u001b[0m\u001b[1;33m\u001b[0m\u001b[0m\n\u001b[0;32m      3\u001b[0m \u001b[0mr\u001b[0m \u001b[1;33m=\u001b[0m \u001b[0mrequests\u001b[0m\u001b[1;33m.\u001b[0m\u001b[0mpost\u001b[0m\u001b[1;33m(\u001b[0m\u001b[0murl\u001b[0m\u001b[1;33m,\u001b[0m \u001b[0mheaders\u001b[0m\u001b[1;33m=\u001b[0m\u001b[0mheaders\u001b[0m\u001b[1;33m,\u001b[0m \u001b[0mdata\u001b[0m\u001b[1;33m=\u001b[0m\u001b[0mdata\u001b[0m\u001b[1;33m,\u001b[0m \u001b[0mverify\u001b[0m\u001b[1;33m=\u001b[0m\u001b[1;32mFalse\u001b[0m\u001b[1;33m)\u001b[0m\u001b[1;31m# verify默认是True的，所以手工设置为False，\u001b[0m\u001b[1;33m\u001b[0m\u001b[1;33m\u001b[0m\u001b[0m\n\u001b[0;32m      4\u001b[0m \u001b[1;32mimport\u001b[0m \u001b[0murllib\u001b[0m\u001b[1;33m.\u001b[0m\u001b[0mrequest\u001b[0m\u001b[1;33m\u001b[0m\u001b[1;33m\u001b[0m\u001b[0m\n\u001b[0;32m      5\u001b[0m \u001b[1;32mfrom\u001b[0m \u001b[0mfake_useragent\u001b[0m \u001b[1;32mimport\u001b[0m \u001b[0mUserAgent\u001b[0m\u001b[1;33m\u001b[0m\u001b[1;33m\u001b[0m\u001b[0m\n",
      "\u001b[1;31mModuleNotFoundError\u001b[0m: No module named 'requests'"
     ]
    }
   ],
   "source": [
    "import requests\n",
    "requests.packages.urllib3.disable_warnings()#缺少将会报错警告，但好像不影响脚本运行\n",
    "r = requests.post(url, headers=headers, data=data, verify=False)# verify默认是True的，所以手工设置为False，\n",
    "import urllib.request\n",
    "from fake_useragent import UserAgent\n",
    "import re\n",
    "import random\n",
    "import time\n",
    "from multiprocessing import Process\n",
    "\n",
    "requests.packages.urllib3.disable_warnings()\n",
    "PostNum = 0\n",
    "\n",
    "def Get_Headers():\n",
    "    headers = {\n",
    "        'Host':'www.wjx.cn',\n",
    "        'User-Agent': UserAgent().random,\n",
    "        'Content-Type':'application/x-www-form-urlencoded; charset=UTF-8',\n",
    "        'Referer':'https://www.wjx.cn/m/xxxxxxx.aspx',\n",
    "        'Cookie': \"acw_tc=2f624a2715707742490114846e11af314ae7a232ed18707c9ed7d7796002c8; .ASPXANONYMOUS=aD0md4y21QEkAAAANmIzNGIzNDEtNDk4OS00MjNjLTg5YTItMjU2YWIwMTdkZGM4_qytsxBWi11-sOz1HwVnB_Y516Q1; jac47027148=19962282; %26ntime%3D1570771906; Hm_lvt_21be24c80829bd7a683b2c536fcf520b=1570774251; Hm_lpvt_21be24c80829bd7a683b2c536fcf520b=1570774251; jpckey=%u5927%u5B66%u751F\",\n",
    "        'X-Forwarded-For':Get_IP(),\n",
    "    }\n",
    "    return headers\n",
    "\n",
    "def Get_IP():\n",
    "    headers = {\n",
    "        'User-Agent': UserAgent().random\n",
    "    }\n",
    "    html = urllib.request.Request(url='https://www.xicidaili.com/nn/', headers=headers)\n",
    "    html = urllib.request.urlopen(html).read().decode('utf-8')\n",
    "    reg = r'<td>(.+?)</td>'\n",
    "    reg = re.compile(reg)\n",
    "    pools = re.findall(reg, html)[0:499:5]\n",
    "    Random_IP = random.choice(pools)\n",
    "    return Random_IP\n",
    "\n",
    "def Auto_WjX():\n",
    "    url = 'https://www.wjx.cn/vj/w0QQaCK.aspx'\n",
    "\n",
    "\n",
    "    # 标准答案\n",
    "    # data = \"submitdata=1$2}2$1}3$2}4$2}5$1|3|4}6$3}7$1}8$2}9$2}10$2}11$1}12$2}13$1|2|4|5}14$2}15$3}16$1|3}17$2}18$5}19$2}20$1|2|3}21$1!1;6,2!1;5;6,3!1;3;4}22$1}23$1|2|3}24$1|2|4}25$1|2|4}26$\"\n",
    "\n",
    "    #随机答案\n",
    "    one = \"submitdata=1$%s}2$%s}3$%s}4$2}5$%s|%s|%s}6$%s}\" % (random.randint(1, 2), random.randint(1, 2), random.randint(1, 2), random.randint(1, 2),random.randint(1, 2), random.randint(1, 2))\n",
    "    two = '7$%s}8$%s}9$%s}10$%s}11$1}12$%s}13$%s|%s}14$%s}15$%s}16$%s|%s}17$%s}18$%s}19$%s}20$%s|%s}21$%s}' % (random.randint(1, 2), random.randint(1, 2), random.randint(1, 2), random.randint(1, 2),random.randint(1, 2),random.randint(1, 2), random.randint(1, 2), random.randint(1, 2), random.randint(1, 2),random.randint(1, 2),random.randint(1, 2), random.randint(1, 2), random.randint(1, 2), random.randint(1, 2),random.randint(1, 2))\n",
    "    three = \"22$%s}23$%s}24$%s}25$%s}26$1}27$%s}28$%s}29$%s}30$%s}31$1}32$%s}33$%s}34$%s}35$%s}36$1}\" % (random.randint(1, 2), random.randint(1, 2), random.randint(1, 2), random.randint(1, 2),random.randint(1, 2),random.randint(1, 2), random.randint(1, 2), random.randint(1, 2), random.randint(1, 2),random.randint(1, 2),random.randint(1, 2), random.randint(1, 2), random.randint(1, 2), random.randint(1, 2),random.randint(1, 2))\n",
    "    four = \"37$%s}38$%s}39$%s}40$%s}41$1}42$%s}43$%s}44$%s}45$%s}46$1}47$%s}48$%s}49$%s}50$%s}51$1}\"%(random.randint(1, 2), random.randint(1, 2), random.randint(1, 2), random.randint(1, 2),random.randint(1, 2),random.randint(1, 2), random.randint(1, 2), random.randint(1, 2), random.randint(1, 2),random.randint(1, 2),random.randint(1, 2), random.randint(1, 2), random.randint(1, 2), random.randint(1, 2),random.randint(1, 2))\n",
    "    data = one + two + three\n",
    "\n",
    "    r = requests.post(url, headers=Get_Headers(), data=data, verify=False)\n",
    "    result = r.text[0:2]\n",
    "    resultt = r.text[-3:]\n",
    "    return result,resultt\n",
    "\n",
    "def main():\n",
    "    global PostNum\n",
    "    for i in range(500):\n",
    "        num = Auto_WjX()\n",
    "        if int(num[0]) in [10]:\n",
    "            print(\"\\033[1;32;47m第%s份问卷  ===> 提交成功\\033[0m\" % num[1])\n",
    "            PostNum += 1\n",
    "        else:\n",
    "            print('\\033[5;31;47m第%s份问卷  ===> 提交失033[0m' % num[1])\n",
    "\n",
    "        print(\"30秒后再次提交，请等待\")\n",
    "        time.sleep(30)  # 设置休眠时间，这里要设置足够长的休眠时间\n",
    "\n",
    "    print('脚本运行结束，成功提交%s份调查报告' % PostNum)  # 总结提交成功的数量，并打印\n",
    "\n",
    "if __name__ == '__main__':\n",
    "    main()"
   ]
  },
  {
   "cell_type": "code",
   "execution_count": 6,
   "id": "5b7d21fe",
   "metadata": {},
   "outputs": [
    {
     "name": "stdout",
     "output_type": "stream",
     "text": [
      "Looking in indexes: http://mirrors.aliyun.com/pypi/simple/\n",
      "Requirement already satisfied: requests in f:\\python3220\\venv\\lib\\site-packages (2.26.0)\n",
      "Requirement already satisfied: idna<4,>=2.5 in f:\\python3220\\venv\\lib\\site-packages (from requests) (3.3)\n",
      "Requirement already satisfied: urllib3<1.27,>=1.21.1 in f:\\python3220\\venv\\lib\\site-packages (from requests) (1.26.7)\n",
      "Requirement already satisfied: charset-normalizer~=2.0.0 in f:\\python3220\\venv\\lib\\site-packages (from requests) (2.0.7)\n",
      "Requirement already satisfied: certifi>=2017.4.17 in f:\\python3220\\venv\\lib\\site-packages (from requests) (2021.10.8)\n",
      "Note: you may need to restart the kernel to use updated packages.\n"
     ]
    }
   ],
   "source": [
    "pip install requests"
   ]
  },
  {
   "cell_type": "code",
   "execution_count": 5,
   "id": "4ca31818",
   "metadata": {},
   "outputs": [
    {
     "name": "stdout",
     "output_type": "stream",
     "text": [
      "Looking in indexes: http://mirrors.aliyun.com/pypi/simple/\n",
      "Requirement already satisfied: pip in f:\\python3220\\venv\\lib\\site-packages (21.1.3)\n",
      "Collecting pip\n",
      "  Downloading http://mirrors.aliyun.com/pypi/packages/90/a9/1ea3a69a51dcc679724e3512fc2aa1668999eed59976f749134eb02229c8/pip-21.3-py3-none-any.whl (1.7 MB)\n",
      "Installing collected packages: pip\n",
      "  Attempting uninstall: pip\n",
      "    Found existing installation: pip 21.1.3\n",
      "    Uninstalling pip-21.1.3:\n",
      "      Successfully uninstalled pip-21.1.3\n",
      "Successfully installed pip-21.3\n",
      "Note: you may need to restart the kernel to use updated packages.\n"
     ]
    }
   ],
   "source": [
    "pip install --upgrade pip"
   ]
  }
 ],
 "metadata": {
  "kernelspec": {
   "display_name": "Python 3",
   "language": "python",
   "name": "python3"
  },
  "language_info": {
   "codemirror_mode": {
    "name": "ipython",
    "version": 3
   },
   "file_extension": ".py",
   "mimetype": "text/x-python",
   "name": "python",
   "nbconvert_exporter": "python",
   "pygments_lexer": "ipython3",
   "version": "3.9.2"
  }
 },
 "nbformat": 4,
 "nbformat_minor": 5
}

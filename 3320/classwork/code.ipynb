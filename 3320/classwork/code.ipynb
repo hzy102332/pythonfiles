{
 "cells": [
  {
   "cell_type": "code",
   "execution_count": 12,
   "metadata": {
    "pycharm": {
     "name": "#%%\n"
    }
   },
   "outputs": [
    {
     "name": "stdout",
     "output_type": "stream",
     "text": [
      "1\n"
     ]
    }
   ],
   "source": []
  },
  {
   "cell_type": "code",
   "execution_count": 1,
   "metadata": {
    "pycharm": {
     "name": "#%%\n"
    }
   },
   "outputs": [
    {
     "name": "stdout",
     "output_type": "stream",
     "text": [
      "the 7\n"
     ]
    }
   ],
   "source": [
    "name = 'clown_car.txt'\n",
    "handle = open(name)\n",
    "\n",
    "counts = dict()\n",
    "for line in handle:\n",
    "    words = line.split()\n",
    "    for word in words:\n",
    "        counts[word] = counts.get(word,0) + 1\n",
    "\n",
    "bigcount = None\n",
    "bigword = None\n",
    "for word,count in counts.items():\n",
    "    if bigcount is None or count > bigcount:\n",
    "        bigword = word\n",
    "        bigcount = count\n",
    "\n",
    "print(bigword, bigcount)\n",
    "\n"
   ]
  },
  {
   "cell_type": "code",
   "execution_count": 1,
   "metadata": {
    "pycharm": {
     "name": "#%%\n"
    }
   },
   "outputs": [
    {
     "name": "stdout",
     "output_type": "stream",
     "text": [
      "Populating the interactive namespace from numpy and matplotlib\n"
     ]
    },
    {
     "ename": "NameError",
     "evalue": "name 'name' is not defined",
     "output_type": "error",
     "traceback": [
      "\u001b[1;31m---------------------------------------------------------------------------\u001b[0m",
      "\u001b[1;31mNameError\u001b[0m                                 Traceback (most recent call last)",
      "\u001b[1;32m<ipython-input-1-7cc5b241b3d0>\u001b[0m in \u001b[0;36m<module>\u001b[1;34m\u001b[0m\n\u001b[0;32m      3\u001b[0m \u001b[0mget_ipython\u001b[0m\u001b[1;33m(\u001b[0m\u001b[1;33m)\u001b[0m\u001b[1;33m.\u001b[0m\u001b[0mrun_line_magic\u001b[0m\u001b[1;33m(\u001b[0m\u001b[1;34m'pylab'\u001b[0m\u001b[1;33m,\u001b[0m \u001b[1;34m'inline'\u001b[0m\u001b[1;33m)\u001b[0m\u001b[1;33m\u001b[0m\u001b[1;33m\u001b[0m\u001b[0m\n\u001b[0;32m      4\u001b[0m \u001b[1;33m\u001b[0m\u001b[0m\n\u001b[1;32m----> 5\u001b[1;33m \u001b[1;32mwith\u001b[0m \u001b[0mopen\u001b[0m\u001b[1;33m(\u001b[0m\u001b[0mname\u001b[0m\u001b[1;33m)\u001b[0m \u001b[1;32mas\u001b[0m \u001b[0mf\u001b[0m\u001b[1;33m:\u001b[0m\u001b[1;33m\u001b[0m\u001b[1;33m\u001b[0m\u001b[0m\n\u001b[0m\u001b[0;32m      6\u001b[0m     \u001b[0mmytext\u001b[0m \u001b[1;33m=\u001b[0m \u001b[0mf\u001b[0m\u001b[1;33m.\u001b[0m\u001b[0mread\u001b[0m\u001b[1;33m(\u001b[0m\u001b[1;33m)\u001b[0m\u001b[1;33m\u001b[0m\u001b[1;33m\u001b[0m\u001b[0m\n\u001b[0;32m      7\u001b[0m \u001b[1;33m\u001b[0m\u001b[0m\n",
      "\u001b[1;31mNameError\u001b[0m: name 'name' is not defined"
     ]
    }
   ],
   "source": [
    "from wordcloud import WordCloud\n",
    "import matplotlib.pyplot as plt\n",
    "%pylab inline\n",
    "\n",
    "with open(name) as f:\n",
    "    mytext = f.read()"
   ]
  },
  {
   "cell_type": "code",
   "execution_count": 32,
   "metadata": {
    "pycharm": {
     "name": "#%%\n"
    }
   },
   "outputs": [
    {
     "data": {
      "text/plain": [
       "'the clown ran after the car and the car ran into the tent and the tent fell down on the clown and the car\\n'"
      ]
     },
     "execution_count": 32,
     "metadata": {},
     "output_type": "execute_result"
    }
   ],
   "source": [
    "mytext"
   ]
  },
  {
   "cell_type": "code",
   "execution_count": 28,
   "metadata": {
    "pycharm": {
     "name": "#%%\n"
    }
   },
   "outputs": [
    {
     "ename": "TypeError",
     "evalue": "generate() missing 1 required positional argument: 'text'",
     "output_type": "error",
     "traceback": [
      "\u001b[1;31m---------------------------------------------------------------------------\u001b[0m",
      "\u001b[1;31mTypeError\u001b[0m                                 Traceback (most recent call last)",
      "\u001b[1;32m<ipython-input-28-b6db9a6dc750>\u001b[0m in \u001b[0;36m<module>\u001b[1;34m\u001b[0m\n\u001b[1;32m----> 1\u001b[1;33m \u001b[0mwordclod\u001b[0m \u001b[1;33m=\u001b[0m \u001b[0mWordCloud\u001b[0m\u001b[1;33m.\u001b[0m\u001b[0mgenerate\u001b[0m\u001b[1;33m(\u001b[0m\u001b[0mmytext\u001b[0m\u001b[1;33m)\u001b[0m\u001b[1;33m\u001b[0m\u001b[1;33m\u001b[0m\u001b[0m\n\u001b[0m\u001b[0;32m      2\u001b[0m \u001b[0mplt\u001b[0m\u001b[1;33m.\u001b[0m\u001b[0mimshow\u001b[0m\u001b[1;33m(\u001b[0m\u001b[0mwordclod\u001b[0m\u001b[1;33m,\u001b[0m\u001b[0minterpolation\u001b[0m\u001b[1;33m=\u001b[0m\u001b[1;34m'bilinear'\u001b[0m\u001b[1;33m)\u001b[0m\u001b[1;33m\u001b[0m\u001b[1;33m\u001b[0m\u001b[0m\n\u001b[0;32m      3\u001b[0m \u001b[0mplt\u001b[0m\u001b[1;33m.\u001b[0m\u001b[0maxis\u001b[0m\u001b[1;33m(\u001b[0m\u001b[1;34m'off'\u001b[0m\u001b[1;33m)\u001b[0m\u001b[1;33m\u001b[0m\u001b[1;33m\u001b[0m\u001b[0m\n\u001b[0;32m      4\u001b[0m \u001b[1;33m\u001b[0m\u001b[0m\n\u001b[0;32m      5\u001b[0m \u001b[1;33m\u001b[0m\u001b[0m\n",
      "\u001b[1;31mTypeError\u001b[0m: generate() missing 1 required positional argument: 'text'"
     ]
    }
   ],
   "source": [
    "wordclod = WordCloud.generate(mytext)\n",
    "plt.imshow(wordclod,interpolation='bilinear')\n",
    "plt.axis('off')\n",
    "\n"
   ]
  },
  {
   "cell_type": "code",
   "execution_count": 2,
   "metadata": {
    "pycharm": {
     "name": "#%%\n"
    }
   },
   "outputs": [
    {
     "data": {
      "text/plain": [
       "int"
      ]
     },
     "execution_count": 2,
     "metadata": {},
     "output_type": "execute_result"
    }
   ],
   "source": []
  },
  {
   "cell_type": "code",
   "execution_count": 4,
   "metadata": {
    "pycharm": {
     "name": "#%%\n"
    }
   },
   "outputs": [
    {
     "data": {
      "text/plain": [
       "2"
      ]
     },
     "execution_count": 4,
     "metadata": {},
     "output_type": "execute_result"
    }
   ],
   "source": [
    "a = 9//4\n",
    "a"
   ]
  },
  {
   "cell_type": "code",
   "execution_count": 6,
   "metadata": {
    "pycharm": {
     "name": "#%%\n"
    }
   },
   "outputs": [
    {
     "name": "stdout",
     "output_type": "stream",
     "text": [
      "Pay: 96.25\n"
     ]
    }
   ],
   "source": [
    "hour = float(input(\"Enter hours:\"))\n",
    "rate = float(input(\"Enter Rate:\"))\n",
    "print(\"Pay:\", hour*rate)"
   ]
  },
  {
   "cell_type": "code",
   "execution_count": 3,
   "metadata": {
    "pycharm": {
     "name": "#%%\n"
    }
   },
   "outputs": [
    {
     "name": "stdout",
     "output_type": "stream",
     "text": [
      "9\n"
     ]
    }
   ],
   "source": [
    "x = 2\n",
    "y = 3\n",
    "z = 4\n",
    "result = x + y + \\\n",
    "    z\n",
    "print(result)"
   ]
  },
  {
   "cell_type": "code",
   "execution_count": 14,
   "metadata": {
    "pycharm": {
     "name": "#%%\n"
    }
   },
   "outputs": [
    {
     "name": "stdout",
     "output_type": "stream",
     "text": [
      "the value is 5,643.15\n"
     ]
    }
   ],
   "source": [
    "num = 5643.1542454\n",
    "print(f'the value is {num:1,.2f}')\n"
   ]
  },
  {
   "cell_type": "code",
   "execution_count": 15,
   "metadata": {
    "pycharm": {
     "name": "#%%\n"
    }
   },
   "outputs": [
    {
     "name": "stdout",
     "output_type": "stream",
     "text": [
      "The Area is:  3.14159 \n",
      "The circumference is:  6.28318\n"
     ]
    }
   ],
   "source": [
    "pi = 3.14159\n",
    "radius = float(input(\"Enter the Radius\"))\n",
    "area = pi * radius * radius\n",
    "cir = 2 * pi * radius\n",
    "print(\"The Area is: \",area,\"\\nThe circumference is: \", cir)"
   ]
  },
  {
   "cell_type": "code",
   "execution_count": 20,
   "metadata": {
    "pycharm": {
     "name": "#%%\n"
    }
   },
   "outputs": [
    {
     "name": "stdout",
     "output_type": "stream",
     "text": [
      "The number of cups of sugar is:0.09\n",
      "The number of cups of butter is:0.06\n",
      "The number of cups of flour is:0.17\n"
     ]
    }
   ],
   "source": [
    "sugar = 1.5\n",
    "butter = 1\n",
    "flour = 2.75\n",
    "num = float(input(\"How many cookies do you want to make: \"))\n",
    "num = num /48\n",
    "print(f'The number of cups of sugar is:{num*sugar:.2f}')\n",
    "print(f'The number of cups of butter is:{num*butter:.2f}')\n",
    "print(f'The number of cups of flour is:{num*flour:.2f2}')"
   ]
  },
  {
   "cell_type": "code",
   "execution_count": 9,
   "metadata": {
    "pycharm": {
     "name": "#%%\n"
    }
   },
   "outputs": [
    {
     "name": "stdout",
     "output_type": "stream",
     "text": [
      "Bad score\n"
     ]
    }
   ],
   "source": [
    "# condition\n",
    "try :\n",
    "    score = float(input(\"Enter score: \"))\n",
    "\n",
    "    if score <= 0:\n",
    "        print(\"Bad score\")\n",
    "    elif score < 0.6:\n",
    "        print(\"F\")\n",
    "    elif score < 0.7:\n",
    "        print(\"D\")\n",
    "    elif score < 0.8:\n",
    "        print(\"C\")\n",
    "    elif score < 0.9:\n",
    "        print(\"B\")\n",
    "    elif score < 1:\n",
    "        print(\"A\")\n",
    "    else:\n",
    "        print(\"Bad score\")\n",
    "except:\n",
    "    print(\"Bad score\")\n"
   ]
  },
  {
   "cell_type": "code",
   "execution_count": 12,
   "metadata": {
    "pycharm": {
     "name": "#%%\n"
    }
   },
   "outputs": [
    {
     "name": "stdout",
     "output_type": "stream",
     "text": [
      "1\n",
      "3\n",
      "5\n",
      "7\n"
     ]
    }
   ],
   "source": [
    "for i in range(1,9,2):\n",
    "    print(i)\n",
    "    "
   ]
  },
  {
   "cell_type": "code",
   "execution_count": null,
   "metadata": {
    "pycharm": {
     "name": "#%%\n"
    }
   },
   "outputs": [],
   "source": []
  },
  {
   "cell_type": "code",
   "execution_count": 60,
   "metadata": {
    "pycharm": {
     "name": "#%%\n"
    }
   },
   "outputs": [
    {
     "name": "stdout",
     "output_type": "stream",
     "text": [
      "      1     2     3     4     5     6     7     8     9\n",
      "1     1     2     3     4     5     6     7     8     9\n",
      "2     2     4     6     8    10    12    14    16    18\n",
      "3     3     6     9    12    15    18    21    24    27\n",
      "4     4     8    12    16    20    24    28    32    36\n",
      "5     5    10    15    20    25    30    35    40    45\n",
      "6     6    12    18    24    30    36    42    48    54\n",
      "7     7    14    21    28    35    42    49    56    63\n",
      "8     8    16    24    32    40    48    56    64    72\n",
      "9     9    18    27    36    45    54    63    72    81\n"
     ]
    }
   ],
   "source": [
    "list =[]\n",
    "out = ''\n",
    "print('      1     2     3     4     5     6     7     8     9')\n",
    "\n",
    "for i in range(1,10):\n",
    "    # if i == 5:\n",
    "    #     continue\n",
    "    print(i,end='')\n",
    "    for j in range(1,10):\n",
    "        # if j == 5:\n",
    "        #     continue\n",
    "        # list.append(j*i)\n",
    "        # out = out + str(j*i) + (6-len(list))*' '\n",
    "\n",
    "        print(f'{i*j:6d}',end= '')\n",
    "    print()\n",
    "    # print(i,'  ',out)\n",
    "    # list.clear()\n",
    "    # out = ''"
   ]
  },
  {
   "cell_type": "code",
   "execution_count": 62,
   "metadata": {
    "pycharm": {
     "name": "#%%\n"
    }
   },
   "outputs": [
    {
     "name": "stdout",
     "output_type": "stream",
     "text": [
      "adfads adfads adfads adfads 1\n",
      "adfads adfads adfads adfads 2\n",
      "adfads adfads adfads adfads 3\n",
      "adfads adfads adfads adfads 4\n",
      "adfads adfads adfads adfads 5\n",
      "adfads adfads adfads adfads 6\n",
      "adfads adfads adfads adfads 7\n"
     ]
    }
   ],
   "source": [
    "for i in range(1,8):\n",
    "\n",
    "    for j in range(1,8):\n",
    "        if j == 5:\n",
    "            break\n",
    "        print(\"adfads\",end=' ')\n",
    "\n",
    "    print(i)\n"
   ]
  },
  {
   "cell_type": "code",
   "execution_count": 71,
   "metadata": {
    "pycharm": {
     "name": "#%%\n"
    }
   },
   "outputs": [
    {
     "name": "stdout",
     "output_type": "stream",
     "text": [
      "Invalid input\n",
      "15 3 5.0\n"
     ]
    }
   ],
   "source": [
    "total = 0\n",
    "count = 0\n",
    "average = 0\n",
    "check = True\n",
    "while check:\n",
    "    temp = input('Enter a number: ')\n",
    "    if temp == 'done':\n",
    "        break\n",
    "    elif temp.isdigit():\n",
    "        count += 1\n",
    "        total += int(temp)\n",
    "\n",
    "    else:\n",
    "        print('Invalid input')\n",
    "if count != 0:\n",
    "    print(total,count,total/count)\n",
    "else:\n",
    "    print(\"none number\")"
   ]
  },
  {
   "cell_type": "code",
   "execution_count": 10,
   "metadata": {
    "pycharm": {
     "name": "#%%\n"
    }
   },
   "outputs": [
    {
     "name": "stdout",
     "output_type": "stream",
     "text": [
      "{'Sat': 1, 'Fri': 20, 'Thu': 6}\n"
     ]
    }
   ],
   "source": [
    "file = open('mbox-short.txt')\n",
    "dic = {}\n",
    "for line in file:\n",
    "    if line.startswith('From'):\n",
    "        index = line.find('@')\n",
    "        l = line.split(' ')\n",
    "        if len(l) > 2:\n",
    "            day = l[2]\n",
    "            dic[day] = dic.get(day,0)+1\n",
    "    else:\n",
    "        continue\n",
    "print(dic)"
   ]
  },
  {
   "cell_type": "code",
   "execution_count": null,
   "metadata": {
    "pycharm": {
     "name": "#%%\n"
    }
   },
   "outputs": [],
   "source": []
  },
  {
   "cell_type": "code",
   "execution_count": 3,
   "metadata": {
    "pycharm": {
     "name": "#%%\n"
    }
   },
   "outputs": [
    {
     "ename": "SystemExit",
     "evalue": "0",
     "output_type": "error",
     "traceback": [
      "An exception has occurred, use %tb to see the full traceback.\n",
      "\u001b[1;31mSystemExit\u001b[0m\u001b[1;31m:\u001b[0m 0\n"
     ]
    },
    {
     "name": "stderr",
     "output_type": "stream",
     "text": [
      "f:\\python3220\\venv\\lib\\site-packages\\IPython\\core\\interactiveshell.py:3449: UserWarning: To exit: use 'exit', 'quit', or Ctrl-D.\n",
      "  warn(\"To exit: use 'exit', 'quit', or Ctrl-D.\", stacklevel=1)\n"
     ]
    }
   ],
   "source": [
    "import sys\n",
    "import random\n",
    "import pygame\n",
    "from pygame.locals import *\n",
    " \n",
    " \n",
    "# 屏幕大小\n",
    "WIDTH = 800\n",
    "HEIGHT = 600\n",
    "# 下落速度范围\n",
    "SPEED = [20, 40]\n",
    "# CODE列表\n",
    "LEN = ['PHP','Python','C++','Java','C#','javascript','GoLang','Ruby','Android','Vue','swift','basic','.net']\n",
    " \n",
    " \n",
    "# 随机生成一个颜色\n",
    "def randomColor():\n",
    "\treturn (0,238,0)\n",
    "\treturn (random.randint(0, 255), random.randint(0, 255), random.randint(0, 255))\n",
    " \n",
    " \n",
    "# 随机生成一个速度\n",
    "def randomSpeed():\n",
    "\treturn random.randint(SPEED[0], SPEED[1])\n",
    " \n",
    " \n",
    "# 随机生成一个位置\n",
    "def randomPos():\n",
    "\treturn (random.randint(0, WIDTH), -20)\n",
    " \n",
    " \n",
    "# 随机生成一个字符串\n",
    "def randomCode():\n",
    "\treturn LEN[random.randint(1,len(LEN))-1]\n",
    " \n",
    "# 随机生成字体大小\n",
    "def randomSize():\n",
    "\treturn random.randint(12,36)\n",
    " \n",
    "# 定义代码精灵类\n",
    "class Code(pygame.sprite.Sprite):\n",
    "\tdef __init__(self):\n",
    "\t\tpygame.sprite.Sprite.__init__(self)\n",
    "\t\tself.code= randomCode()\n",
    "\t\tself.font = pygame.font.Font(\"C:\\Windows\\Fonts\\Arial.ttf\", randomSize())\n",
    "\t\tself.speed = randomSpeed()\n",
    "\t\tself.image = self.font.render(self.code, True, randomColor())\n",
    "\t\tself.image = pygame.transform.rotate(self.image, random.randint(90, 90))#以垂直方式下落\n",
    "\t\tself.rect = self.image.get_rect()\n",
    "\t\tself.rect.topleft = randomPos()\n",
    "\tdef update(self):\n",
    "\t\tself.rect = self.rect.move(0, self.speed)\n",
    "\t\tif self.rect.top > HEIGHT:\n",
    "\t\t\t#当精灵位置超出屏幕，销毁\n",
    "\t\t\tself.kill()\n",
    "pygame.init()\n",
    "screen = pygame.display.set_mode((WIDTH, HEIGHT))\n",
    "pygame.display.set_caption('code_rain - 明哥读世界')\n",
    "clock = pygame.time.Clock()\n",
    "codesGroup = pygame.sprite.Group()\n",
    "while True:\n",
    "\tclock.tick(24) #帧数\n",
    "\tfor event in pygame.event.get():\n",
    "\t\t#监听关闭事件\n",
    "\t\tif event.type == QUIT:\n",
    "\t\t\tpygame.quit()\n",
    "\t\t\tsys.exit(0)\n",
    "\tscreen.fill((1, 1, 1)) #填充背景色，相当于clear\n",
    "\t#新建一个精灵\n",
    "\tcodeobject = Code()\n",
    "\tcodesGroup.add(codeobject)\n",
    "\t# 监控并销毁\n",
    "\tcodesGroup.update()\n",
    "\tcodesGroup.draw(screen)\n",
    "\tpygame.display.update()"
   ]
  },
  {
   "cell_type": "code",
   "execution_count": null,
   "metadata": {
    "pycharm": {
     "name": "#%%\n"
    }
   },
   "outputs": [
    {
     "name": "stdout",
     "output_type": "stream",
     "text": [
      "pygame 2.0.1 (SDL 2.0.14, Python 3.9.2)\n",
      "Hello from the pygame community. https://www.pygame.org/contribute.html\n"
     ]
    }
   ],
   "source": [
    "import pygame\n",
    "import random\n",
    " \n",
    "def main():\n",
    "    # 初始化pygame\n",
    "    pygame.init()\n",
    " \n",
    "    # 默认不全屏\n",
    "    fullscreen = False\n",
    "    # 窗口未全屏宽和高\n",
    "    WIDTH, HEIGHT = 1100, 600\n",
    " \n",
    "    init_width, init_height = WIDTH, HEIGHT\n",
    " \n",
    "    # 字块大小，宽，高\n",
    "    suface_height = 18\n",
    "    # 字体大小\n",
    "    font_size = 20\n",
    " \n",
    "    # 创建一个窗口\n",
    "    screen = pygame.display.set_mode((init_width, init_height))\n",
    " \n",
    "    # 字体\n",
    "    font = pygame.font.Font('C:\\Windows\\Fonts\\BAUHS93.TTF', font_size)\n",
    " \n",
    "    # 创建一个图像对象\n",
    "    bg_suface = pygame.Surface((init_width, init_height), flags=pygame.SRCALPHA)\n",
    "    pygame.Surface.convert(bg_suface)\n",
    "    bg_suface.fill(pygame.Color(0, 0, 0, 28))\n",
    " \n",
    "    # 用纯色填充背景\n",
    "    screen.fill((0, 0, 0))\n",
    " \n",
    "    # 显示的字符\n",
    "#     letter = ['q', 'w', 'e', 'r', 't', 'y', 'u', 'i', 'o', 'p', 'a', 's', 'd', 'f', 'g', 'h', 'j', 'k', 'l', 'z', 'x', 'c',\n",
    "#               'v', 'b', 'n', 'm']\n",
    "#     texts = [\n",
    "#         font.render(str(letter[i]), True, (0, 255, 0)) for i in range(26)\n",
    "#     ]\n",
    " \n",
    "    # 也可以替换成0 1 显示\n",
    "    texts = [\n",
    "        font.render('0',True,(0,255,0)),font.render('1',True,(0,255,0))\n",
    "    ]\n",
    " \n",
    "    # 生成的列数\n",
    "    column = int(init_width / suface_height)\n",
    "    drops = [0 for i in range(column)]\n",
    " \n",
    "    while True:\n",
    "        # 按键检测\n",
    "        for event in pygame.event.get():\n",
    "            if event.type == pygame.QUIT:\n",
    "                # 接受到退出事件后退出\n",
    "                exit()\n",
    "            elif event.type == pygame.KEYDOWN:\n",
    "                # 按F11切换全屏，或窗口\n",
    "                if event.key == pygame.K_F11:\n",
    "                    print(\"检测到按键F11\")\n",
    "                    fullscreen = not fullscreen\n",
    "                    if fullscreen:\n",
    "                        # 全屏效果，参数重设\n",
    "                        size = init_width, init_height = pygame.display.list_modes()[0]\n",
    "                        screen = pygame.display.set_mode(size, pygame.FULLSCREEN | pygame.HWSURFACE)\n",
    " \n",
    "                    else:\n",
    "                        init_width, init_height = WIDTH, HEIGHT\n",
    "                        screen = pygame.display.set_mode((WIDTH, HEIGHT))\n",
    " \n",
    "                    # 图像对象重新创建\n",
    "                    bg_suface = pygame.Surface((init_width, init_height), flags=pygame.SRCALPHA)\n",
    "                    pygame.Surface.convert(bg_suface)\n",
    "                    bg_suface.fill(pygame.Color(0, 0, 0, 28))\n",
    "                    column = int(init_width / suface_height)\n",
    "                    drops = [0 for i in range(column)]\n",
    "                elif event.key == pygame.K_ESCAPE:\n",
    "                    # 按ESC退出\n",
    "                    exit()\n",
    "        # 延时\n",
    "        pygame.time.delay(50)\n",
    " \n",
    "        # 图像对象放到窗口的原点坐标上\n",
    "        screen.blit(bg_suface, (0, 0))\n",
    " \n",
    "        for i in range(len(drops)):\n",
    "            # 随机字符\n",
    "            text = random.choice(texts)\n",
    " \n",
    "            # 把字符画到该列的下雨的位置\n",
    "            screen.blit(text, (i * suface_height, drops[i]*suface_height))\n",
    " \n",
    "            # 更新下雨的坐标\n",
    "            drops[i] += 1\n",
    " \n",
    "            # 超过界面高度或随机数，下雨位置置0\n",
    "            if drops[i] * suface_height > init_height or random.random() > 0.95:\n",
    "                drops[i] = 0\n",
    " \n",
    "        # 更新画面\n",
    "        pygame.display.flip()\n",
    " \n",
    " \n",
    "if __name__ =='__main__':\n",
    "    main()"
   ]
  },
  {
   "cell_type": "code",
   "execution_count": null,
   "metadata": {
    "pycharm": {
     "name": "#%%\n"
    }
   },
   "outputs": [],
   "source": []
  },
  {
   "cell_type": "code",
   "execution_count": null,
   "metadata": {
    "pycharm": {
     "name": "#%%\n"
    }
   },
   "outputs": [],
   "source": []
  },
  {
   "cell_type": "code",
   "execution_count": null,
   "metadata": {
    "pycharm": {
     "name": "#%%\n"
    }
   },
   "outputs": [],
   "source": []
  },
  {
   "cell_type": "code",
   "execution_count": null,
   "metadata": {
    "pycharm": {
     "name": "#%%\n"
    }
   },
   "outputs": [],
   "source": []
  },
  {
   "cell_type": "code",
   "execution_count": null,
   "metadata": {
    "pycharm": {
     "name": "#%%\n"
    }
   },
   "outputs": [],
   "source": []
  },
  {
   "cell_type": "code",
   "execution_count": null,
   "metadata": {
    "pycharm": {
     "name": "#%%\n"
    }
   },
   "outputs": [],
   "source": []
  },
  {
   "cell_type": "code",
   "execution_count": null,
   "metadata": {
    "pycharm": {
     "name": "#%%\n"
    }
   },
   "outputs": [],
   "source": []
  },
  {
   "cell_type": "code",
   "execution_count": null,
   "metadata": {
    "pycharm": {
     "name": "#%%\n"
    }
   },
   "outputs": [],
   "source": []
  },
  {
   "cell_type": "code",
   "execution_count": null,
   "metadata": {
    "pycharm": {
     "name": "#%%\n"
    }
   },
   "outputs": [],
   "source": []
  }
 ],
 "metadata": {
  "kernelspec": {
   "display_name": "Python 3",
   "language": "python",
   "name": "python3"
  },
  "language_info": {
   "codemirror_mode": {
    "name": "ipython",
    "version": 3
   },
   "file_extension": ".py",
   "mimetype": "text/x-python",
   "name": "python",
   "nbconvert_exporter": "python",
   "pygments_lexer": "ipython3",
   "version": "3.9.2"
  }
 },
 "nbformat": 4,
 "nbformat_minor": 1
}

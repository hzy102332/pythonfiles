{
 "cells": [
  {
   "cell_type": "markdown",
   "metadata": {
    "collapsed": true
   },
   "source": [
    "## CPS3320 Homework 3: File&List"
   ]
  },
  {
   "cell_type": "markdown",
   "metadata": {},
   "source": [
    "### <span style=\"color:#a50e30;\">Practice 1: </span> "
   ]
  },
  {
   "cell_type": "markdown",
   "metadata": {},
   "source": [
    "Write a program that asks the user for the name of a file. The program should display only the first five lines of the file’s contents. If the file contains less than five lines, it should display the file’s entire contents."
   ]
  },
  {
   "cell_type": "markdown",
   "metadata": {},
   "source": [
    "***Sample Run:***"
   ]
  },
  {
   "cell_type": "code",
   "execution_count": 2,
   "metadata": {},
   "outputs": [
    {
     "name": "stdout",
     "output_type": "stream",
     "text": [
      "Enter the name of the file: info.txt\n",
      "CPS 3320\n",
      "WKU \n",
      "Python Programming\n"
     ]
    }
   ],
   "source": [
    "\n"
   ]
  },
  {
   "cell_type": "markdown",
   "metadata": {},
   "source": [
    "***Write Your Code in Cell Below:***"
   ]
  },
  {
   "cell_type": "code",
   "execution_count": 6,
   "metadata": {},
   "outputs": [
    {
     "name": "stdout",
     "output_type": "stream",
     "text": [
      "Enter the name of the file: clown_car.txt\n",
      " the clown\n",
      " ran after\n",
      " the car and\n",
      " the car \n",
      "ran into the\n"
     ]
    }
   ],
   "source": [
    "#user input \n",
    "name = input('Enter the name of the file: ')\n",
    "file = open(name)\n",
    "try:\n",
    "    for line in range(1,6):\n",
    "        print(file.readline(),end = '')\n",
    "    file.close()\n",
    "#if the file contain less than five lines, print all line\n",
    "except:\n",
    "    file.close()\n",
    "\n",
    "\n",
    "\n",
    "\n",
    "\n"
   ]
  },
  {
   "cell_type": "markdown",
   "metadata": {},
   "source": [
    " "
   ]
  },
  {
   "cell_type": "markdown",
   "metadata": {},
   "source": [
    "### <span style=\"color:#a50e30;\">Practice 2: </span> "
   ]
  },
  {
   "cell_type": "markdown",
   "metadata": {},
   "source": [
    "Write a program that asks the user for the name of a file. The program should display thecontents of the file with each line preceded with a line number followed by a colon. The line numbering should start at 1."
   ]
  },
  {
   "cell_type": "markdown",
   "metadata": {},
   "source": [
    "***Sample Run:***"
   ]
  },
  {
   "cell_type": "code",
   "execution_count": 3,
   "metadata": {},
   "outputs": [
    {
     "name": "stdout",
     "output_type": "stream",
     "text": [
      "Enter the name of the file: test.txt\n",
      "1: one\n",
      "2: two\n",
      "3: three\n",
      "4: four\n",
      "5: five\n",
      "6: six\n",
      "7: seven\n",
      "8: eight\n",
      "9: nine\n",
      "10: ten\n"
     ]
    }
   ],
   "source": []
  },
  {
   "cell_type": "markdown",
   "metadata": {},
   "source": [
    "***Write Your Code in Cell Below:***"
   ]
  },
  {
   "cell_type": "code",
   "execution_count": 11,
   "metadata": {},
   "outputs": [
    {
     "name": "stdout",
     "output_type": "stream",
     "text": [
      "Enter the name of the file: clown_car.txt\n",
      "1:  the clown\n",
      "2:  ran after\n",
      "3:  the car and\n",
      "4:  the car \n",
      "5: ran into the\n",
      "6:  tent and\n",
      "7:  the tent fell down\n",
      "8:  on the clown and the car\n"
     ]
    }
   ],
   "source": [
    "#user input \n",
    "name = input('Enter the name of the file: ')\n",
    "file = open(name)\n",
    "#output\n",
    "line_num = 1\n",
    "for line in file:\n",
    "    print(f'{line_num}: {line}',end ='')\n",
    "    line_num += 1\n",
    "file.close()"
   ]
  },
  {
   "cell_type": "markdown",
   "metadata": {},
   "source": [
    " "
   ]
  },
  {
   "cell_type": "markdown",
   "metadata": {},
   "source": [
    "### <span style=\"color:#a50e30;\">Practice 3: </span> "
   ]
  },
  {
   "cell_type": "markdown",
   "metadata": {},
   "source": [
    "Assume that a file named scores.txt exists on the computer’s disk. It contains a series of\n",
    "records, each with two fields – a name, followed by a score (an integer between 1 and 100).\n",
    "Write a program that displays the name and score of the record with the highest score, as\n",
    "well as the number of records in the file. (Hint: Use a variable and an “if” statement to\n",
    "keep track of the highest score found as you read through the records, and a variable to\n",
    "keep count of the number of records.)"
   ]
  },
  {
   "cell_type": "markdown",
   "metadata": {},
   "source": [
    "***Sample Run:***"
   ]
  },
  {
   "cell_type": "code",
   "execution_count": 5,
   "metadata": {
    "scrolled": true
   },
   "outputs": [
    {
     "name": "stdout",
     "output_type": "stream",
     "text": [
      "High Score: 100\n",
      "Held By: John\n",
      "\n",
      "Number of Scores: 4\n"
     ]
    }
   ],
   "source": [
    "\n",
    "\n"
   ]
  },
  {
   "cell_type": "markdown",
   "metadata": {},
   "source": [
    "***Write Your Code in Cell Below:***"
   ]
  },
  {
   "cell_type": "code",
   "execution_count": 18,
   "metadata": {},
   "outputs": [
    {
     "name": "stdout",
     "output_type": "stream",
     "text": [
      "High Score: 100\n",
      "Held By: Jack and John\n",
      "\n",
      "Number of Scores: 5\n"
     ]
    }
   ],
   "source": [
    "#read file\n",
    "file = open('scores.txt')\n",
    "#find the highest score\n",
    "high_score = 0\n",
    "held_by = ''\n",
    "num = 0\n",
    "for line in file:\n",
    "    index = line.find(' ')\n",
    "    name = line[:index] \n",
    "    score = int(line[index+1:len(line)])\n",
    "    if high_score < score :\n",
    "        high_score = score\n",
    "        held_by = name\n",
    "    #if they have same score\n",
    "    elif high_score == score:\n",
    "        held_by = held_by + \" and \" + name\n",
    "    num += 1 \n",
    "#output\n",
    "print(f'High Score: {high_score}')\n",
    "print(f'Held By: {held_by}')\n",
    "print(f'\\nNumber of Scores: {num}')"
   ]
  },
  {
   "cell_type": "markdown",
   "metadata": {},
   "source": [
    "### <span style=\"color:#a50e30;\">Practice 4: </span> "
   ]
  },
  {
   "cell_type": "markdown",
   "metadata": {},
   "source": [
    "Write a program that asks the user how many words they would like to write to a file, and\n",
    "then asks the user to enter that many words, one at a time. The words should be written\n",
    "to a file."
   ]
  },
  {
   "cell_type": "markdown",
   "metadata": {},
   "source": [
    "***Sample Run:***"
   ]
  },
  {
   "cell_type": "code",
   "execution_count": 7,
   "metadata": {},
   "outputs": [
    {
     "name": "stdout",
     "output_type": "stream",
     "text": [
      "Enter number of words to write: 6\n",
      "Word 1 of 6 - Enter a word: a\n",
      "Word 2 of 6 - Enter a word: abc\n",
      "Word 3 of 6 - Enter a word: wku\n",
      "Word 4 of 6 - Enter a word: cps3320\n",
      "Word 5 of 6 - Enter a word: C421\n",
      "Word 6 of 6 - Enter a word: 1\n"
     ]
    }
   ],
   "source": [
    "\n"
   ]
  },
  {
   "cell_type": "markdown",
   "metadata": {},
   "source": [
    "***Write Your Code in Cell Below:***"
   ]
  },
  {
   "cell_type": "code",
   "execution_count": 20,
   "metadata": {},
   "outputs": [
    {
     "name": "stdout",
     "output_type": "stream",
     "text": [
      "Enter number of words to write: 6\n",
      "Word 1 of 6 - Enter a word: a\n",
      "Word 2 of 6 - Enter a word: abc\n",
      "Word 3 of 6 - Enter a word: wku\n",
      "Word 4 of 6 - Enter a word: cps3320\n",
      "Word 5 of 6 - Enter a word: C421\n",
      "Word 6 of 6 - Enter a word: 1\n"
     ]
    }
   ],
   "source": [
    "#user input\n",
    "number = int(input('Enter number of words to write: '))\n",
    "\n",
    "#collecting words\n",
    "line = ''\n",
    "for index in range(1,number+1):\n",
    "    word = input(f'Word {index} of {number} - Enter a word: ')\n",
    "    line = line +\" \"+ word\n",
    "    \n",
    "#writteb to a file \n",
    "filename = 'Homework4_practice4.txt'\n",
    "with open(filename, 'w') as file_object:\n",
    "    file_object.write(line)\n",
    "    "
   ]
  },
  {
   "cell_type": "markdown",
   "metadata": {},
   "source": [
    " "
   ]
  },
  {
   "cell_type": "markdown",
   "metadata": {},
   "source": [
    "##### <span style=\"color:#a50e30;\">Practice 5: </span> "
   ]
  },
  {
   "cell_type": "markdown",
   "metadata": {},
   "source": [
    " Write another program that reads the words from the file generated in Practice 4 and displays the following\n",
    "data:\n",
    "* The number of words in the file.\n",
    "* The longest word in the file.\n",
    "* The average length of all of the words in the file."
   ]
  },
  {
   "cell_type": "markdown",
   "metadata": {},
   "source": [
    "***Sample Run:***"
   ]
  },
  {
   "cell_type": "code",
   "execution_count": 5,
   "metadata": {},
   "outputs": [
    {
     "name": "stdout",
     "output_type": "stream",
     "text": [
      "Enter an integer: 6\n",
      "The number you entered is not a prime number.\n"
     ]
    }
   ],
   "source": []
  },
  {
   "cell_type": "markdown",
   "metadata": {},
   "source": [
    "***Write Your Code in Cell Below:***"
   ]
  },
  {
   "cell_type": "code",
   "execution_count": 24,
   "metadata": {},
   "outputs": [
    {
     "name": "stdout",
     "output_type": "stream",
     "text": [
      "The number of words in the file: 7\n",
      "The longest word in the file: 7\n",
      "The average length of all of the words in the file 2.7\n"
     ]
    }
   ],
   "source": [
    "#open file\n",
    "file = open('Homework4_practice4.txt').read()\n",
    "\n",
    "words = file.split(' ')\n",
    "longest = 0\n",
    "total_length = 0\n",
    "for word in words:\n",
    "    length= len(word)\n",
    "    total_length += length\n",
    "    if longest < length:\n",
    "        longest = length\n",
    "print(f'The number of words in the file: {len(words)}')\n",
    "print(f'The longest word in the file: {longest}')\n",
    "print(f'The average length of all of the words in the file {total_length/len(words):.1f}')"
   ]
  },
  {
   "cell_type": "markdown",
   "metadata": {},
   "source": [
    " "
   ]
  },
  {
   "cell_type": "markdown",
   "metadata": {},
   "source": [
    "##### <span style=\"color:#a50e30;\">Practice 6: </span> "
   ]
  },
  {
   "cell_type": "markdown",
   "metadata": {},
   "source": [
    "Write a program that asks the user for his or her name, then asks the user to enter a sentence\n",
    "that describes himself or herself. Here is an example of the program’s screen:\n",
    "```\n",
    "                Enter your name: Julie Taylor  <--Enter\n",
    "                Describe yourself: I am a computer science major, a member of the\n",
    "                Jazz club, and I hope to work as a mobile app developer after I\n",
    "                graduate.  <--Enter\n",
    "```\n",
    "Once the user has entered the requested input, the program should create an HTML file,\n",
    "containing the input, for a simple Web page. Here is an example of the HTML content,\n",
    "using the sample input previously shown:\n",
    "```\n",
    "    <html>\n",
    "    <head>\n",
    "    </head>\n",
    "    <body>\n",
    "        <center>\n",
    "        <h1>Julie Taylor</h1>\n",
    "        </center>\n",
    "        <hr />\n",
    "        I am a computer science major, a member of the Jazz club,\n",
    "        and I hope to work as a mobile app developer after I graduate.\n",
    "        <hr />\n",
    "    </body>\n",
    "    </html>\n",
    "```"
   ]
  },
  {
   "cell_type": "markdown",
   "metadata": {},
   "source": [
    "***Sample Run:***"
   ]
  },
  {
   "cell_type": "code",
   "execution_count": 8,
   "metadata": {},
   "outputs": [
    {
     "name": "stdout",
     "output_type": "stream",
     "text": [
      "Enter your name: Jack Xu\n",
      "Describe yourself: I am a computer science major, a member of the                 Jazz club, and I hope to work as a mobile app developer after I                 graduate.\n"
     ]
    }
   ],
   "source": []
  },
  {
   "cell_type": "markdown",
   "metadata": {},
   "source": [
    "***Write Your Code in Cell Below:***"
   ]
  },
  {
   "cell_type": "code",
   "execution_count": 30,
   "metadata": {},
   "outputs": [
    {
     "name": "stdout",
     "output_type": "stream",
     "text": [
      "Enter your name: Jack Xu\n",
      "Describe yourself: I am a computer science major, a member of the Jazz club, and I hope to work as a mobile app developer after I graduate.\n"
     ]
    }
   ],
   "source": [
    "#user input \n",
    "name = input('Enter your name: ')\n",
    "describe = input('Describe yourself: ')\n",
    "\n",
    "#writteb to a file \n",
    "file = \"<html>\\n<head>\\n</head>\\n<body>\\n\\t<center>\\n\\t<h1>\"+name+\"</h1>\\n\\t</center>\\n\\t<hr />\\n\\t\"+describe+\"\\n\\t<hr />\\n</body>\\n</html>\"\n",
    "filename = 'HTML.txt'\n",
    "with open(filename, 'w') as file_object:\n",
    "    file_object.write(file)\n",
    "    \n",
    "\n",
    "\n",
    "\n"
   ]
  },
  {
   "cell_type": "markdown",
   "metadata": {},
   "source": [
    "##### <span style=\"color:#a50e30;\">Practice 7: </span> "
   ]
  },
  {
   "cell_type": "markdown",
   "metadata": {},
   "source": [
    "Design a program that generates a seven-digit lottery number. The program should generate\n",
    "seven random numbers, each in the range of 0 through 9, and assign each number to a\n",
    "list element. Then write another loop that\n",
    "displays the contents of the list."
   ]
  },
  {
   "cell_type": "markdown",
   "metadata": {},
   "source": [
    "***Sample Run:***"
   ]
  },
  {
   "cell_type": "code",
   "execution_count": 9,
   "metadata": {
    "scrolled": true
   },
   "outputs": [
    {
     "name": "stdout",
     "output_type": "stream",
     "text": [
      "8, 3, 2, 6, 4, 1, 6"
     ]
    }
   ],
   "source": []
  },
  {
   "cell_type": "markdown",
   "metadata": {},
   "source": [
    "***Write Your Code in Cell Below:***"
   ]
  },
  {
   "cell_type": "code",
   "execution_count": 68,
   "metadata": {},
   "outputs": [
    {
     "name": "stdout",
     "output_type": "stream",
     "text": [
      "9, 8, 7, 5, 8, 2, 8, "
     ]
    }
   ],
   "source": [
    "import random\n",
    "#generate 7 number\n",
    "NUM = 7 \n",
    "\n",
    "num_list = []\n",
    "for index in range(0,NUM):\n",
    "    temp = random.randint(0,9)\n",
    "    num_list.append(temp)\n",
    "\n",
    "#display the list\n",
    "for element in num_list:\n",
    "    print(element,end= ', ')\n",
    "\n"
   ]
  },
  {
   "cell_type": "markdown",
   "metadata": {},
   "source": [
    "##### <span style=\"color:#a50e30;\">Practice 8: </span> "
   ]
  },
  {
   "cell_type": "markdown",
   "metadata": {},
   "source": [
    "Design a program that asks the user to enter a series of 20 numbers. The program should\n",
    "store the numbers in a list then display the following data:\n",
    "* The lowest number in the list\n",
    "* The highest number in the list\n",
    "* The total of the numbers in the list\n",
    "* The average of the numbers in the list"
   ]
  },
  {
   "cell_type": "markdown",
   "metadata": {},
   "source": [
    "***Sample Run:***"
   ]
  },
  {
   "cell_type": "code",
   "execution_count": 10,
   "metadata": {},
   "outputs": [
    {
     "name": "stdout",
     "output_type": "stream",
     "text": [
      "Enter number 1 of 20: 3\n",
      "Enter number 2 of 20: 4\n",
      "Enter number 3 of 20: 6\n",
      "Enter number 4 of 20: 1\n",
      "Enter number 5 of 20: 7\n",
      "Enter number 6 of 20: 56\n",
      "Enter number 7 of 20: 123\n",
      "Enter number 8 of 20: 5\n",
      "Enter number 9 of 20: 4\n",
      "Enter number 10 of 20: 663\n",
      "Enter number 11 of 20: 23\n",
      "Enter number 12 of 20: 57\n",
      "Enter number 13 of 20: 41\n",
      "Enter number 14 of 20: 78\n",
      "Enter number 15 of 20: 9\n",
      "Enter number 16 of 20: -7\n",
      "Enter number 17 of 20: 123\n",
      "Enter number 18 of 20: 44\n",
      "Enter number 19 of 20: 5\n",
      "Enter number 20 of 20: 1\n",
      "Low: -7.0\n",
      "High: 663.0\n",
      "Total: 1,246.00\n",
      "Average: 62.30\n"
     ]
    }
   ],
   "source": []
  },
  {
   "cell_type": "markdown",
   "metadata": {},
   "source": [
    "***Write Your Code in Cell Below:***"
   ]
  },
  {
   "cell_type": "code",
   "execution_count": 49,
   "metadata": {},
   "outputs": [
    {
     "name": "stdout",
     "output_type": "stream",
     "text": [
      "Enter number 0 of 20: 3\n",
      "Enter number 1 of 20: 4\n",
      "Enter number 2 of 20: 6\n",
      "Enter number 3 of 20: 1\n",
      "Enter number 4 of 20: 7\n",
      "Enter number 5 of 20: 56\n",
      "Enter number 6 of 20: 123\n",
      "Enter number 7 of 20: 5\n",
      "Enter number 8 of 20: 4\n",
      "Enter number 9 of 20: 663\n",
      "Enter number 10 of 20: 23\n",
      "Enter number 11 of 20: 57\n",
      "Enter number 12 of 20: 41\n",
      "Enter number 13 of 20: 78\n",
      "Enter number 14 of 20: 9\n",
      "Enter number 15 of 20: -7\n",
      "Enter number 16 of 20: 123\n",
      "Enter number 17 of 20: 44\n",
      "Enter number 18 of 20: 5\n",
      "Enter number 19 of 20: 1\n",
      "Low: -7.0\n",
      "High: 663.0 \n",
      "Total: 1,246.00\n",
      "Average: 62.30\n"
     ]
    }
   ],
   "source": [
    "#user input \n",
    "NUM = 20\n",
    "List = []\n",
    "for index in range(0,NUM):\n",
    "    number = int(input(f'Enter number {index} of {NUM}: '))\n",
    "    List.append(number)\n",
    "\n",
    "#print\n",
    "print(f'Low: {min(List):,.1f}')\n",
    "print(f'High: {max(List):,.1f} ')\n",
    "print(f'Total: {sum(List):,.2f}')\n",
    "print(f'Average: {sum(List)/len(List):.2f}')\n",
    "\n",
    "\n"
   ]
  },
  {
   "cell_type": "markdown",
   "metadata": {},
   "source": [
    " "
   ]
  },
  {
   "cell_type": "markdown",
   "metadata": {},
   "source": [
    "##### <span style=\"color:#a50e30;\">Practice 9: </span> "
   ]
  },
  {
   "cell_type": "markdown",
   "metadata": {},
   "source": [
    "The local driver’s license office has asked you to create an application that grades the written\n",
    "portion of the driver’s license exam. The exam has 20 multiple-choice questions. Here\n",
    "are the correct answers:\n",
    "\n",
    "1. A\n",
    "2. C\n",
    "3. A\n",
    "4. A\n",
    "5. D\n",
    "6. B\n",
    "7. C\n",
    "8. A\n",
    "9. C\n",
    "10. B\n",
    "11. A\n",
    "12. D\n",
    "13. C\n",
    "14. A\n",
    "15. D\n",
    "16. C\n",
    "17. B\n",
    "18. B\n",
    "19. D\n",
    "20. A\n",
    "\n",
    "\n",
    "Your program should store these correct answers in a list. The program should read the\n",
    "student’s answers for each of the 20 questions from a text file and store the answers in\n",
    "another list. (Create your own text file to test the application.) After the student’s answers\n",
    "have been read from the file, the program should display a message indicating whether the\n",
    "student passed or failed the exam. (A student must correctly answer 15 of the 20 questions\n",
    "to pass the exam.) \n",
    "\n",
    "It should then display the total number of correctly answered questions,\n",
    "the total number of incorrectly answered questions, and a list showing the question numbers\n",
    "of the incorrectly answered questions.\n"
   ]
  },
  {
   "cell_type": "markdown",
   "metadata": {},
   "source": [
    "***Sample Run:***"
   ]
  },
  {
   "cell_type": "code",
   "execution_count": 4,
   "metadata": {},
   "outputs": [
    {
     "name": "stdout",
     "output_type": "stream",
     "text": [
      "Enter your first name: Jack\n",
      "Enter your last name: Xu\n",
      "\n",
      "Initials: J.X.\n",
      "Name in Address Book: Jack XU\n",
      "Username: jxu\n"
     ]
    }
   ],
   "source": []
  },
  {
   "cell_type": "markdown",
   "metadata": {},
   "source": [
    "***Write Your Code in Cell Below:***"
   ]
  },
  {
   "cell_type": "code",
   "execution_count": 61,
   "metadata": {},
   "outputs": [
    {
     "name": "stdout",
     "output_type": "stream",
     "text": [
      "Total number of correctly answered questions: 5\n",
      "Total number of incorrectly answered questions: 12\n",
      "The question numbers of the incorrectly answered questions: [2, 3, 4, 6, 7, 8, 9, 10, 11, 12, 13, 14, 16, 17, 20]\n"
     ]
    }
   ],
   "source": [
    "#correct answer\n",
    "CORRECT = ['A','C','A','A','D','B','C','A','C','B','A','D','C','A','D','C','B','B','D','A']\n",
    "PASS_NUM = 15\n",
    "\n",
    "#read student's answer\n",
    "incorrect_numlist = []\n",
    "correct_num = 0\n",
    "incorrect_num = 0\n",
    "unanswered = 0\n",
    "index = 0\n",
    "file = open('test.txt')\n",
    "for answer in file:\n",
    "    if answer[:1] == '\\n':#unansered question\n",
    "        unanswered += 1\n",
    "        incorrect_numlist.append(index+1)\n",
    "    elif answer[:1] == CORRECT[index]:#correctly answered\n",
    "        correct_num += 1\n",
    "    else:#incorrectly answered\n",
    "        incorrect_num += 1\n",
    "        incorrect_numlist.append(index+1)\n",
    "    \n",
    "    index += 1\n",
    "\n",
    "print(f'Total number of correctly answered questions: {correct_num}')\n",
    "print(f'Total number of incorrectly answered questions: {incorrect_num}')\n",
    "print(f'The question numbers of the incorrectly answered questions: {str(incorrect_numlist)}')\n",
    "\n"
   ]
  },
  {
   "cell_type": "markdown",
   "metadata": {},
   "source": [
    "##### <span style=\"color:#a50e30;\">Practice 10: </span> "
   ]
  },
  {
   "cell_type": "markdown",
   "metadata": {},
   "source": [
    "The Lo Shu Magic Square is a grid with 3 rows and 3 columns, shown in Figure 1 below. The\n",
    "Lo Shu Magic Square has the following properties:\n",
    "\n",
    "* The grid contains the numbers 1 through 9 exactly.\n",
    "* The sum of each row, each column, and each diagonal all add up to the same number. This is shown in Figure 2.\n",
    "\n",
    "In a program you can simulate a magic square using a two-dimensional list. Write a function\n",
    "that accepts a two-dimensional list as an argument and determines whether the list is\n",
    "a Lo Shu Magic Square. Test the function in a program."
   ]
  },
  {
   "cell_type": "markdown",
   "metadata": {},
   "source": [
    "Figure 1"
   ]
  },
  {
   "attachments": {
    "image-2.png": {
     "image/png": "[encoded data removed]"
    }
   },
   "cell_type": "markdown",
   "metadata": {},
   "source": [
    "![image-2.png](attachment:image-2.png)"
   ]
  },
  {
   "cell_type": "markdown",
   "metadata": {},
   "source": [
    "Figure 2:"
   ]
  },
  {
   "attachments": {
    "image-2.png": {
     "image/png": "[encoded data removed]"
    }
   },
   "cell_type": "markdown",
   "metadata": {},
   "source": [
    "![image-2.png](attachment:image-2.png)"
   ]
  },
  {
   "cell_type": "markdown",
   "metadata": {},
   "source": [
    "***Sample Run:***"
   ]
  },
  {
   "cell_type": "code",
   "execution_count": 1,
   "metadata": {},
   "outputs": [
    {
     "name": "stdout",
     "output_type": "stream",
     "text": [
      "4 9 2 \n",
      "3 5 7 \n",
      "8 1 6 \n",
      "This is a Lo Shu magic square.\n"
     ]
    }
   ],
   "source": []
  },
  {
   "cell_type": "markdown",
   "metadata": {},
   "source": [
    "***Write Your Code in Cell Below:***"
   ]
  },
  {
   "cell_type": "code",
   "execution_count": 82,
   "metadata": {},
   "outputs": [
    {
     "name": "stdout",
     "output_type": "stream",
     "text": [
      "This is a Lo Shu magic square\n"
     ]
    }
   ],
   "source": [
    "# Signature: IsLo_Shu_magic_square: list[][]-> boolean\n",
    "# Purpose: determines whether the list is a Lo Shu Magic Square\n",
    "# Example: \n",
    "#             IsLo_Shu_magic_square([[4,9,2],[3,5,7],[8,1,6]]) -> True\n",
    "\n",
    "def IsLo_Shu_magic_square(matrix):\n",
    "    ylen  = len(matrix)\n",
    "    xlen = len(matrix[0])\n",
    "    # each line\n",
    "    for line in matrix:\n",
    "        if sum(line) != 15:\n",
    "            return False\n",
    "    #each column\n",
    "    for index in range(xlen):\n",
    "        Sum = 0\n",
    "        for i in range(ylen):\n",
    "            Sum += matrix[i][index]\n",
    "        if Sum != 15:\n",
    "            return False\n",
    "    #diagonal line\n",
    "    Sum = 0\n",
    "    Sum2 = 0\n",
    "    for index in range(ylen):\n",
    "        Sum += matrix[index][xlen-index-1]\n",
    "        Sum2 += matrix[xlen-index-1][index]\n",
    "    if Sum != 15 or Sum2 != 15:    \n",
    "            return False\n",
    "    return True\n",
    "\n",
    "# Test case\n",
    "assert IsLo_Shu_magic_square([[4,9,2],[3,5,7],[8,1,6]]) == True\n",
    "assert IsLo_Shu_magic_square([[4,5,2],[3,8,7],[5,1,6]]) == False\n",
    "\n",
    "\n",
    "matrix = [[3,5,1],[5,2,6],[7,3,5]]\n",
    "print(ma)\n",
    "if IsShu_magic_square:\n",
    "    print('This is a Lo Shu magic square')\n",
    "else:\n",
    "    print('This not a Lo Shu magic square')\n"
   ]
  },
  {
   "cell_type": "markdown",
   "metadata": {},
   "source": [
    "For submission, you will need to upload the <em> Jupyter Notebook</em> file to Blackboard for grading. Make sure rename the file using your ***Team Number***， *** Team members' Chinese Name in Pinyin*** and ***Student ID***."
   ]
  },
  {
   "cell_type": "markdown",
   "metadata": {},
   "source": [
    "------------------------------------***End of Homework 4***---------------------------------------------------------------------------"
   ]
  },
  {
   "cell_type": "code",
   "execution_count": 74,
   "metadata": {},
   "outputs": [
    {
     "name": "stdout",
     "output_type": "stream",
     "text": [
      "[4, 9, 2]\n",
      "[3, 5, 7]\n",
      "[8, 1, 6]\n"
     ]
    }
   ],
   "source": [
    "a =[[4,9,2],[3,5,7],[8,1,6]] \n",
    "for i in range(len(a)):\n",
    "    print(a[i])"
   ]
  }
 ],
 "metadata": {
  "kernelspec": {
   "display_name": "Python 3",
   "language": "python",
   "name": "python3"
  },
  "language_info": {
   "codemirror_mode": {
    "name": "ipython",
    "version": 3
   },
   "file_extension": ".py",
   "mimetype": "text/x-python",
   "name": "python",
   "nbconvert_exporter": "python",
   "pygments_lexer": "ipython3",
   "version": "3.9.2"
  }
 },
 "nbformat": 4,
 "nbformat_minor": 2
}

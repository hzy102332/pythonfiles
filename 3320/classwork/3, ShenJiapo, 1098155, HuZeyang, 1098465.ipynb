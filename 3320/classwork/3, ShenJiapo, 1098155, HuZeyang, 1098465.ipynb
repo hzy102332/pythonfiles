{
 "cells": [
  {
   "cell_type": "markdown",
   "metadata": {
    "collapsed": true
   },
   "source": [
    "## CPS3320 Homework 1: I/O "
   ]
  },
  {
   "cell_type": "markdown",
   "metadata": {},
   "source": [
    "### <span style=\"color:#a50e30;\">Practice 1: </span> "
   ]
  },
  {
   "cell_type": "markdown",
   "metadata": {},
   "source": [
    "A company has determined that its annual profit is typically 23 percent of total sales. Write a program that asks the user to enter the projected amount of total sales, then displays the profit that will be made from that amount.\n",
    "Hint: Use the value 0.23 to represent 23 percent."
   ]
  },
  {
   "cell_type": "markdown",
   "metadata": {},
   "source": [
    "***Sample Run:***"
   ]
  },
  {
   "cell_type": "code",
   "execution_count": 2,
   "metadata": {},
   "outputs": [
    {
     "name": "stdout",
     "output_type": "stream",
     "text": [
      "Enter the projected sales: 100\n",
      "The projected profit is 23.00\n"
     ]
    }
   ],
   "source": [
    "\n"
   ]
  },
  {
   "cell_type": "markdown",
   "metadata": {},
   "source": [
    "***Write Your Code in Cell Below:***"
   ]
  },
  {
   "cell_type": "code",
   "execution_count": 3,
   "metadata": {
    "collapsed": true
   },
   "outputs": [
    {
     "name": "stdout",
     "output_type": "stream",
     "text": [
      "The projected profit is 23.00\n"
     ]
    }
   ],
   "source": [
    "PROFIT = 0.23\n",
    "amount = float(input(\"Enter the projected sales: \"))\n",
    "profits = amount * PROFIT\n",
    "print(\"The projected profit is\",\"{:.2f}\".format(profits))"
   ]
  },
  {
   "cell_type": "markdown",
   "metadata": {},
   "source": [
    " "
   ]
  },
  {
   "cell_type": "markdown",
   "metadata": {},
   "source": [
    "### <span style=\"color:#a50e30;\">Practice 2: </span> "
   ]
  },
  {
   "cell_type": "markdown",
   "metadata": {},
   "source": [
    "A customer in a store is purchasing five items. Write a program that asks for the price of each item, then displays the subtotal of the sale, the amount of sales tax, and the total. Assume the sales tax is 7 percent."
   ]
  },
  {
   "cell_type": "markdown",
   "metadata": {},
   "source": [
    "***Sample Run:***"
   ]
  },
  {
   "cell_type": "code",
   "execution_count": 3,
   "metadata": {},
   "outputs": [
    {
     "name": "stdout",
     "output_type": "stream",
     "text": [
      "Enter the price of item #1: 5\n",
      "Enter the price of item #2: 1\n",
      "Enter the price of item #3: 8\n",
      "Enter the price of item #4: 6\n",
      "Enter the price of item #5: 12\n",
      "Subtotal: 32.00\n",
      "Sales Tax: 2.24\n",
      "Total: 34.24\n"
     ]
    }
   ],
   "source": [
    "\n"
   ]
  },
  {
   "cell_type": "markdown",
   "metadata": {},
   "source": [
    "***Write Your Code in Cell Below:***"
   ]
  },
  {
   "cell_type": "code",
   "execution_count": 4,
   "metadata": {
    "collapsed": true
   },
   "outputs": [
    {
     "name": "stdout",
     "output_type": "stream",
     "text": [
      "Subtotal: 32.00 \n",
      "Sales Tax: 2.24 \n",
      "Total: 34.24\n"
     ]
    }
   ],
   "source": [
    "items = []\n",
    "for i in range (1,6):\n",
    "    sentance = 'Enter the price of the item #'+ str(i) +':'\n",
    "    items.append(float(input(sentance)))\n",
    "subtotal = sum(items)\n",
    "sales_tax = 0.07 * subtotal\n",
    "total = subtotal + sales_tax\n",
    "print(f'Subtotal: {subtotal:.2f}',\n",
    "      f'\\nSales Tax: {sales_tax:.2f}',f'\\nTotal: {total:.2f}')"
   ]
  },
  {
   "cell_type": "markdown",
   "metadata": {},
   "source": [
    " "
   ]
  },
  {
   "cell_type": "markdown",
   "metadata": {},
   "source": [
    "### <span style=\"color:#a50e30;\">Practice 3: </span> "
   ]
  },
  {
   "cell_type": "markdown",
   "metadata": {},
   "source": [
    "A vineyard owner is planting several new rows of grapevines, and needs to know how many grapevines to plant in each row. She has determined that after measuring the length of a future row, she can use the following formula to calculate the number of vines that will fit in the row, along with the trellis end-post assemblies that will need to be constructed at each end of the row:\n",
    "\n",
    "\n",
    "$$V = {R - 2E \\over S}.$$\n",
    "\n",
    "\n",
    "The terms in the formula are:\n",
    "V is the number of grapevines that will fit in the row.\n",
    "R is the length of the row, in feet.\n",
    "E is the amount of space, in feet, used by an end-post assembly.\n",
    "S is the space between vines, in feet.\n",
    "Write a program that makes the calculation for the vineyard owner. The program should ask the user to input the following:\n",
    "\n",
    "* The length of the row, in feet\n",
    "* The amount of space used by an end-post assembly, in feet\n",
    "* The amount of space between the vines, in feet\n",
    "\n",
    "Once the input data has been entered, the program should calculate and display the number of grapevines that will fit in the row.\n"
   ]
  },
  {
   "cell_type": "markdown",
   "metadata": {},
   "source": [
    "***Sample Run:***"
   ]
  },
  {
   "cell_type": "code",
   "execution_count": 2,
   "metadata": {},
   "outputs": [
    {
     "name": "stdout",
     "output_type": "stream",
     "text": [
      "Enter the length of the row, in feet: 1000\n",
      "Enter the aount of space, in feet, used by an end-post assembly: 50\n",
      "Enter the distance, in feet, between each vine: 2\n",
      "You have enough space for 450.0 vines.\n"
     ]
    }
   ],
   "source": []
  },
  {
   "cell_type": "markdown",
   "metadata": {},
   "source": [
    "***Write Your Code in Cell Below:***"
   ]
  },
  {
   "cell_type": "code",
   "execution_count": 9,
   "metadata": {
    "collapsed": true
   },
   "outputs": [
    {
     "name": "stdout",
     "output_type": "stream",
     "text": [
      "You have enough space for 450.0 vines.\n"
     ]
    }
   ],
   "source": [
    "length = float(input('Enter the length of the row, in feet:'))\n",
    "space = float(input('Enter the aount of space, in feet, used by an end-post assembly:'))\n",
    "distance = float(input('Enter the distance, in feet, between each vine:'))\n",
    "while(distance==0):\n",
    "    print ('wrong input ,please input again')\n",
    "    distance = float(input('Enter the distance, in feet, between each vine:'))\n",
    "v= int((length-2*space)/distance)\n",
    "print(f'You have enough space for {v:.1f} vines.')\n"
   ]
  },
  {
   "cell_type": "markdown",
   "metadata": {},
   "source": [
    "### <span style=\"color:#a50e30;\">Practice 4: </span> "
   ]
  },
  {
   "cell_type": "markdown",
   "metadata": {},
   "source": [
    "When a bank account pays compound interest, it pays interest not only on the principal amount that was deposited into the account, but also on the interest that has accumulated over time. Suppose you want to deposit some money into a savings account, and let the account earn compound interest for a certain number of years. The formula for calculating the balance of the account after a specified number of years is:\n",
    "\n",
    "$$A = P({1 + {r \\over n}})^{nt}$$\n",
    "\n",
    "\n",
    "The terms in the formula are:\n",
    "A is the amount of money in the account after the specified number of years.\n",
    "P is the principal amount that was originally deposited into the account.\n",
    "r is the annual interest rate.\n",
    "n is the number of times per year that the interest is compounded.\n",
    "t is the specified number of years.\n",
    "\n",
    "Write a program that makes the calculation for you. The program should ask the user to\n",
    "input the following:\n",
    "\n",
    "* The amount of principal originally deposited into the account\n",
    "* The annual interest rate paid by the account\n",
    "* The number of times per year that the interest is compounded (For example, if interest is compounded monthly, enter 12. If interest is compounded quarterly, enter 4.)\n",
    "* The number of years the account will be left to earn interest\n",
    "\n",
    "Once the input data has been entered, the program should calculate and display the amount of money that will be in the account after the specified number of years.\n",
    "\n",
    "**NOTE: The user should enter the interest rate as a percentage. For example, 2 percent would be entered as 2, not as .02. The program will then have to divide the input by 100 to move the decimal point to the correct position. **"
   ]
  },
  {
   "cell_type": "markdown",
   "metadata": {},
   "source": [
    "***Sample Run:***"
   ]
  },
  {
   "cell_type": "code",
   "execution_count": 3,
   "metadata": {},
   "outputs": [
    {
     "name": "stdout",
     "output_type": "stream",
     "text": [
      "Enter the starting principal: 100\n",
      "Enter the annual interest rate: 5\n",
      "How many times per year is the interest compounded? 15\n",
      "For how many years will the account earn interest? 13\n",
      "At the end of 13 years you will have $191.35\n"
     ]
    }
   ],
   "source": [
    "\n"
   ]
  },
  {
   "cell_type": "markdown",
   "metadata": {},
   "source": [
    "***Write Your Code in Cell Below:***"
   ]
  },
  {
   "cell_type": "code",
   "execution_count": 13,
   "metadata": {
    "collapsed": true
   },
   "outputs": [
    {
     "name": "stdout",
     "output_type": "stream",
     "text": [
      "At the end of 13 years you will have $191.35\n"
     ]
    }
   ],
   "source": [
    "principal = float(input('Enter the starting principal:'))\n",
    "while(principal<=0):\n",
    "    print ('wrong input ,please input again')\n",
    "    start_principal = float(input('How many times per year is the interest compounded?'))\n",
    "\n",
    "rate = float(input('Enter the annual interest rate:'))\n",
    "\n",
    "times = float(input('How many times per year is the interest compounded?'))\n",
    "while(times<0):\n",
    "    print ('wrong input ,please input again')\n",
    "    times = float(input('How many times per year is the interest compounded?'))\n",
    "\n",
    "year = float(input('For how many years will the account earn interest?'))\n",
    "while(year<0):\n",
    "    print ('wrong input ,please input again')\n",
    "    year = float(input('For how many years will the account earn interest?'))\n",
    "\n",
    "A= principal*(1+0.01*rate/times)**(times*year)\n",
    "print('At the end of',int(year),'years you will have',\"${:0.2f}\".format(A))"
   ]
  },
  {
   "cell_type": "markdown",
   "metadata": {},
   "source": [
    " "
   ]
  },
  {
   "cell_type": "markdown",
   "metadata": {},
   "source": [
    "##### <span style=\"color:#a50e30;\">Practice 5: </span> "
   ]
  },
  {
   "cell_type": "markdown",
   "metadata": {},
   "source": [
    "Last month, Joe purchased some stock in Acme Software, Inc. Here are the details of the\n",
    "purchase:\n",
    "* The number of shares that Joe purchased was 2,000.\n",
    "* When Joe purchased the stock, he paid $40.00 per share.\n",
    "* Joe paid his stockbroker a commission that amounted to 3 percent of the amount he paid for the stock.\n",
    "\n",
    "Two weeks later, Joe sold the stock. Here are the details of the sale:\n",
    "* The number of shares that Joe sold was 2,000.\n",
    "* He sold the stock for $42.75 per share.\n",
    "* He paid his stockbroker another commission that amounted to 3 percent of the amount he received for the stock\n",
    "\n",
    "Write a program that displays the following information:\n",
    "* The amount of money Joe paid for the stock.\n",
    "* The amount of commission Joe paid his broker when he bought the stock.\n",
    "* The amount for which Joe sold the stock.\n",
    "* The amount of commission Joe paid his broker when he sold the stock.\n",
    "* Display the amount of money that Joe had left when he sold the stock and paid his broker (both times). If this amount is positive, then Joe made a profit. If the amount is negative, then Joe lost money.\n",
    "\n",
    "\n"
   ]
  },
  {
   "cell_type": "markdown",
   "metadata": {},
   "source": [
    "***Sample Run:***"
   ]
  },
  {
   "cell_type": "code",
   "execution_count": 1,
   "metadata": {},
   "outputs": [
    {
     "name": "stdout",
     "output_type": "stream",
     "text": [
      "Amount paid for the stock: $80,000.00\n",
      "Commission paid on the purchase: $2,400.00\n",
      "Amount the stock sold for: $85,500.00\n",
      "Commission paid on the sale: $2,565.00\n",
      "Profit (or loss if negative): $535.00\n"
     ]
    }
   ],
   "source": [
    "\n"
   ]
  },
  {
   "cell_type": "markdown",
   "metadata": {},
   "source": [
    "***Write Your Code in Cell Below:***"
   ]
  },
  {
   "cell_type": "code",
   "execution_count": 16,
   "metadata": {
    "collapsed": true
   },
   "outputs": [
    {
     "name": "stdout",
     "output_type": "stream",
     "text": [
      "Amount paid for the stock: $80,000.0\n",
      "Commission paid on the purchase: $2,400.00\n",
      "Amount the stock sold for: $85,500.00\n",
      "Commission paid on the sale: $2,565.00\n",
      "Profit (or loss if negative): $535.00\n"
     ]
    }
   ],
   "source": [
    "Amount_paid = 40.0*2000\n",
    "Commission_purchase = Amount_paid*0.03\n",
    "Amount_sold = 42.75*2000\n",
    "Commission_sale = Amount_sold*0.03\n",
    "Profit = Amount_sold-Commission_sale-Commission_purchase-Amount_paid\n",
    "print('Amount paid for the stock: $', \"{:,}\".format(Amount_paid),sep='')\n",
    "print('Commission paid on the purchase: $', \"{:0,.2f}\".format(Commission_purchase),sep='')\n",
    "print('Amount the stock sold for: $', \"{:0,.2f}\".format(Amount_sold),sep='')\n",
    "print('Commission paid on the sale: $', \"{:0,.2f}\".format(Commission_sale),sep='')\n",
    "print('Profit (or loss if negative): $', \"{:0,.2f}\".format(Profit),sep='')\n"
   ]
  },
  {
   "cell_type": "markdown",
   "metadata": {},
   "source": [
    " "
   ]
  },
  {
   "cell_type": "markdown",
   "metadata": {},
   "source": [
    "For submission, you will need to upload the <em> Jupyter Notebook</em> file to Blackboard\n",
    "for grading. Make sure rename the file using\n",
    "your ***Team Number***， *** Team members' Chinese Name in Pinyin*** and ***Student ID***."
   ]
  },
  {
   "cell_type": "markdown",
   "metadata": {},
   "source": [
    "------------------------------------***End of Homework 1***---------------------------------------------------------------------------"
   ]
  }
 ],
 "metadata": {
  "kernelspec": {
   "display_name": "Python 3",
   "language": "python",
   "name": "python3"
  },
  "language_info": {
   "codemirror_mode": {
    "name": "ipython",
    "version": 3
   },
   "file_extension": ".py",
   "mimetype": "text/x-python",
   "name": "python",
   "nbconvert_exporter": "python",
   "pygments_lexer": "ipython3",
   "version": "3.6.3"
  }
 },
 "nbformat": 4,
 "nbformat_minor": 2
}
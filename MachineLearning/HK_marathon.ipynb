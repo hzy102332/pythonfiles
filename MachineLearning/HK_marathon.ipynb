{
 "cells": [
  {
   "cell_type": "code",
   "execution_count": 79,
   "metadata": {
    "collapsed": true
   },
   "outputs": [],
   "source": [
    "import pandas as pd\n",
    "import numpy as np\n",
    "import datetime as dt\n",
    "import matplotlib.pyplot as plt\n",
    "import seaborn as sns"
   ]
  },
  {
   "cell_type": "code",
   "execution_count": 80,
   "outputs": [
    {
     "data": {
      "text/plain": "   Overall Position  Gender Position  Category Position Category  Race No  \\\n0                 1                1                  1      MMS    21080   \n1                 2                2                  1      MMI       14   \n2                 3                3                  2      MMI        2   \n3                 4                4                  2      MMS    21077   \n4                 5                5                  3      MMI       18   \n\n   Country  Official Time Net Time 10km Time Half Way Time 30km Time  \n0     Kenya       2:12:12  2:12:11   0:30:35       1:04:48   1:33:36  \n1     Kenya       2:12:14  2:12:13   0:30:34       1:04:48   1:33:36  \n2  Ethiopia       2:12:20  2:12:18   0:30:35       1:04:49   1:33:36  \n3     Kenya       2:12:29  2:12:27   0:30:35       1:04:48   1:33:36  \n4  Ethiopia       2:12:47  2:12:46   0:30:34       1:04:48   1:33:36  ",
      "text/html": "<div>\n<style scoped>\n    .dataframe tbody tr th:only-of-type {\n        vertical-align: middle;\n    }\n\n    .dataframe tbody tr th {\n        vertical-align: top;\n    }\n\n    .dataframe thead th {\n        text-align: right;\n    }\n</style>\n<table border=\"1\" class=\"dataframe\">\n  <thead>\n    <tr style=\"text-align: right;\">\n      <th></th>\n      <th>Overall Position</th>\n      <th>Gender Position</th>\n      <th>Category Position</th>\n      <th>Category</th>\n      <th>Race No</th>\n      <th>Country</th>\n      <th>Official Time</th>\n      <th>Net Time</th>\n      <th>10km Time</th>\n      <th>Half Way Time</th>\n      <th>30km Time</th>\n    </tr>\n  </thead>\n  <tbody>\n    <tr>\n      <th>0</th>\n      <td>1</td>\n      <td>1</td>\n      <td>1</td>\n      <td>MMS</td>\n      <td>21080</td>\n      <td>Kenya</td>\n      <td>2:12:12</td>\n      <td>2:12:11</td>\n      <td>0:30:35</td>\n      <td>1:04:48</td>\n      <td>1:33:36</td>\n    </tr>\n    <tr>\n      <th>1</th>\n      <td>2</td>\n      <td>2</td>\n      <td>1</td>\n      <td>MMI</td>\n      <td>14</td>\n      <td>Kenya</td>\n      <td>2:12:14</td>\n      <td>2:12:13</td>\n      <td>0:30:34</td>\n      <td>1:04:48</td>\n      <td>1:33:36</td>\n    </tr>\n    <tr>\n      <th>2</th>\n      <td>3</td>\n      <td>3</td>\n      <td>2</td>\n      <td>MMI</td>\n      <td>2</td>\n      <td>Ethiopia</td>\n      <td>2:12:20</td>\n      <td>2:12:18</td>\n      <td>0:30:35</td>\n      <td>1:04:49</td>\n      <td>1:33:36</td>\n    </tr>\n    <tr>\n      <th>3</th>\n      <td>4</td>\n      <td>4</td>\n      <td>2</td>\n      <td>MMS</td>\n      <td>21077</td>\n      <td>Kenya</td>\n      <td>2:12:29</td>\n      <td>2:12:27</td>\n      <td>0:30:35</td>\n      <td>1:04:48</td>\n      <td>1:33:36</td>\n    </tr>\n    <tr>\n      <th>4</th>\n      <td>5</td>\n      <td>5</td>\n      <td>3</td>\n      <td>MMI</td>\n      <td>18</td>\n      <td>Ethiopia</td>\n      <td>2:12:47</td>\n      <td>2:12:46</td>\n      <td>0:30:34</td>\n      <td>1:04:48</td>\n      <td>1:33:36</td>\n    </tr>\n  </tbody>\n</table>\n</div>"
     },
     "execution_count": 80,
     "metadata": {},
     "output_type": "execute_result"
    }
   ],
   "source": [
    "challenge_HK = pd.read_csv('challenge.csv')\n",
    "run_HK = pd.read_csv('run.csv')\n",
    "challenge_HK.head()"
   ],
   "metadata": {
    "collapsed": false,
    "pycharm": {
     "name": "#%%\n"
    }
   }
  },
  {
   "cell_type": "code",
   "execution_count": 81,
   "outputs": [
    {
     "data": {
      "text/plain": "   Overall Position  Gender Position  Category Position Category Race No  \\\n0                 1                1                  1      MR1   A0066   \n1                 2                2                  2      MR1   A6190   \n2                 3                3                  3      MR1   A4491   \n3                 4                4                  4      MR1   A8955   \n4                 5                5                  5      MR1   A5879   \n\n        Country  Official Time Net Time 10km Time Half Way Time 30km Time  \n0        Ireland       2:51:05  2:51:02   0:38:50       1:23:15   1:59:44  \n1  Hong Kong SAR       2:54:04  2:53:57   0:39:35       1:24:09   2:00:24  \n2          China       2:58:34  2:57:28   0:40:53       1:27:03   2:04:02  \n3          China       3:03:34  3:03:28   0:42:52       1:30:34   2:08:36  \n4          China       3:04:50  3:04:49   0:40:42       1:27:31   2:06:08  ",
      "text/html": "<div>\n<style scoped>\n    .dataframe tbody tr th:only-of-type {\n        vertical-align: middle;\n    }\n\n    .dataframe tbody tr th {\n        vertical-align: top;\n    }\n\n    .dataframe thead th {\n        text-align: right;\n    }\n</style>\n<table border=\"1\" class=\"dataframe\">\n  <thead>\n    <tr style=\"text-align: right;\">\n      <th></th>\n      <th>Overall Position</th>\n      <th>Gender Position</th>\n      <th>Category Position</th>\n      <th>Category</th>\n      <th>Race No</th>\n      <th>Country</th>\n      <th>Official Time</th>\n      <th>Net Time</th>\n      <th>10km Time</th>\n      <th>Half Way Time</th>\n      <th>30km Time</th>\n    </tr>\n  </thead>\n  <tbody>\n    <tr>\n      <th>0</th>\n      <td>1</td>\n      <td>1</td>\n      <td>1</td>\n      <td>MR1</td>\n      <td>A0066</td>\n      <td>Ireland</td>\n      <td>2:51:05</td>\n      <td>2:51:02</td>\n      <td>0:38:50</td>\n      <td>1:23:15</td>\n      <td>1:59:44</td>\n    </tr>\n    <tr>\n      <th>1</th>\n      <td>2</td>\n      <td>2</td>\n      <td>2</td>\n      <td>MR1</td>\n      <td>A6190</td>\n      <td>Hong Kong SAR</td>\n      <td>2:54:04</td>\n      <td>2:53:57</td>\n      <td>0:39:35</td>\n      <td>1:24:09</td>\n      <td>2:00:24</td>\n    </tr>\n    <tr>\n      <th>2</th>\n      <td>3</td>\n      <td>3</td>\n      <td>3</td>\n      <td>MR1</td>\n      <td>A4491</td>\n      <td>China</td>\n      <td>2:58:34</td>\n      <td>2:57:28</td>\n      <td>0:40:53</td>\n      <td>1:27:03</td>\n      <td>2:04:02</td>\n    </tr>\n    <tr>\n      <th>3</th>\n      <td>4</td>\n      <td>4</td>\n      <td>4</td>\n      <td>MR1</td>\n      <td>A8955</td>\n      <td>China</td>\n      <td>3:03:34</td>\n      <td>3:03:28</td>\n      <td>0:42:52</td>\n      <td>1:30:34</td>\n      <td>2:08:36</td>\n    </tr>\n    <tr>\n      <th>4</th>\n      <td>5</td>\n      <td>5</td>\n      <td>5</td>\n      <td>MR1</td>\n      <td>A5879</td>\n      <td>China</td>\n      <td>3:04:50</td>\n      <td>3:04:49</td>\n      <td>0:40:42</td>\n      <td>1:27:31</td>\n      <td>2:06:08</td>\n    </tr>\n  </tbody>\n</table>\n</div>"
     },
     "execution_count": 81,
     "metadata": {},
     "output_type": "execute_result"
    }
   ],
   "source": [
    "run_HK.head()"
   ],
   "metadata": {
    "collapsed": false,
    "pycharm": {
     "name": "#%%\n"
    }
   }
  },
  {
   "cell_type": "code",
   "execution_count": 82,
   "outputs": [
    {
     "name": "stdout",
     "output_type": "stream",
     "text": [
      "0       0:30:35\n",
      "1       0:30:34\n",
      "2       0:30:35\n",
      "3       0:30:35\n",
      "4       0:30:34\n",
      "         ...   \n",
      "5611    1:14:27\n",
      "5612    1:18:44\n",
      "5613    1:24:31\n",
      "5614    1:26:10\n",
      "5615    1:24:25\n",
      "Name: 10km Time, Length: 5616, dtype: object\n"
     ]
    }
   ],
   "source": [
    "print(challenge_HK['10km Time'])"
   ],
   "metadata": {
    "collapsed": false,
    "pycharm": {
     "name": "#%%\n"
    }
   }
  },
  {
   "cell_type": "code",
   "execution_count": 83,
   "outputs": [],
   "source": [
    "def get_gender(a):\n",
    "    return a[1]\n",
    "def get_class(a):\n",
    "    return a[2:]\n",
    "def get_time(x):\n",
    "    if x=='':\n",
    "        return None\n",
    "    elif x=='nan':\n",
    "        return None\n",
    "    else:\n",
    "        return (dt.datetime.strptime(str(x),\"%H:%M:%S\")-dt.datetime.strptime('00:00:00',\"%H:%M:%S\")).total_seconds()/60"
   ],
   "metadata": {
    "collapsed": false,
    "pycharm": {
     "name": "#%%\n"
    }
   }
  },
  {
   "cell_type": "code",
   "execution_count": 84,
   "outputs": [],
   "source": [
    "challenge_HK['gender'] = challenge_HK['Category'].apply(get_gender)"
   ],
   "metadata": {
    "collapsed": false,
    "pycharm": {
     "name": "#%%\n"
    }
   }
  },
  {
   "cell_type": "code",
   "execution_count": 85,
   "outputs": [
    {
     "data": {
      "text/plain": "0       M\n1       M\n2       M\n3       M\n4       M\n       ..\n5611    M\n5612    M\n5613    F\n5614    F\n5615    F\nName: gender, Length: 5616, dtype: object"
     },
     "execution_count": 85,
     "metadata": {},
     "output_type": "execute_result"
    }
   ],
   "source": [
    "challenge_HK['gender']"
   ],
   "metadata": {
    "collapsed": false,
    "pycharm": {
     "name": "#%%\n"
    }
   }
  },
  {
   "cell_type": "code",
   "execution_count": 86,
   "outputs": [],
   "source": [
    "run_HK['gender'] = run_HK['Category'].apply(get_gender)"
   ],
   "metadata": {
    "collapsed": false,
    "pycharm": {
     "name": "#%%\n"
    }
   }
  },
  {
   "cell_type": "code",
   "execution_count": 87,
   "outputs": [
    {
     "data": {
      "text/plain": "0       R\n1       R\n2       R\n3       R\n4       R\n       ..\n7228    R\n7229    R\n7230    R\n7231    R\n7232    R\nName: gender, Length: 7233, dtype: object"
     },
     "execution_count": 87,
     "metadata": {},
     "output_type": "execute_result"
    }
   ],
   "source": [
    "run_HK['gender']"
   ],
   "metadata": {
    "collapsed": false,
    "pycharm": {
     "name": "#%%\n"
    }
   }
  },
  {
   "cell_type": "code",
   "execution_count": 88,
   "outputs": [],
   "source": [
    "challenge_HK['gender']=challenge_HK['Category'].apply(get_gender)\n",
    "challenge_HK['class']=challenge_HK['Category'].apply(get_class)\n",
    "run_HK['class']=run_HK['Category'].apply(get_class)\n",
    "challenge_HK['Official Time']=challenge_HK['Official Time'].apply(get_time)\n",
    "run_HK['Official Time']=run_HK['Official Time'].apply(get_time)\n",
    "challenge_HK['Net Time']=challenge_HK['Net Time'].apply(get_time)\n",
    "run_HK['Net Time']=run_HK['Net Time'].apply(get_time)"
   ],
   "metadata": {
    "collapsed": false,
    "pycharm": {
     "name": "#%%\n"
    }
   }
  },
  {
   "cell_type": "code",
   "execution_count": 89,
   "outputs": [
    {
     "data": {
      "text/plain": "<Figure size 432x288 with 1 Axes>",
      "image/png": "[encoded data removed]"
     },
     "metadata": {},
     "output_type": "display_data"
    }
   ],
   "source": [
    "with sns.axes_style('darkgrid'):\n",
    "    plt.boxplot([challenge_HK[challenge_HK['gender']=='M']['Official Time'],\n",
    "                 challenge_HK[challenge_HK['gender']=='M']['Official Time']])"
   ],
   "metadata": {
    "collapsed": false,
    "pycharm": {
     "name": "#%%\n"
    }
   }
  },
  {
   "cell_type": "code",
   "execution_count": 90,
   "outputs": [],
   "source": [
    "grouped=challenge_HK[['gender','Official Time']].groupby('gender',group_keys=True).apply(lambda x: x)"
   ],
   "metadata": {
    "collapsed": false,
    "pycharm": {
     "name": "#%%\n"
    }
   }
  },
  {
   "cell_type": "code",
   "execution_count": 91,
   "outputs": [
    {
     "data": {
      "text/plain": "     gender  Official Time\n0         M     132.200000\n1         M     132.233333\n2         M     132.333333\n3         M     132.483333\n4         M     132.783333\n...     ...            ...\n5611      M     362.883333\n5612      M     362.966667\n5613      F     363.833333\n5614      F     364.933333\n5615      F     367.066667\n\n[5616 rows x 2 columns]",
      "text/html": "<div>\n<style scoped>\n    .dataframe tbody tr th:only-of-type {\n        vertical-align: middle;\n    }\n\n    .dataframe tbody tr th {\n        vertical-align: top;\n    }\n\n    .dataframe thead th {\n        text-align: right;\n    }\n</style>\n<table border=\"1\" class=\"dataframe\">\n  <thead>\n    <tr style=\"text-align: right;\">\n      <th></th>\n      <th>gender</th>\n      <th>Official Time</th>\n    </tr>\n  </thead>\n  <tbody>\n    <tr>\n      <th>0</th>\n      <td>M</td>\n      <td>132.200000</td>\n    </tr>\n    <tr>\n      <th>1</th>\n      <td>M</td>\n      <td>132.233333</td>\n    </tr>\n    <tr>\n      <th>2</th>\n      <td>M</td>\n      <td>132.333333</td>\n    </tr>\n    <tr>\n      <th>3</th>\n      <td>M</td>\n      <td>132.483333</td>\n    </tr>\n    <tr>\n      <th>4</th>\n      <td>M</td>\n      <td>132.783333</td>\n    </tr>\n    <tr>\n      <th>...</th>\n      <td>...</td>\n      <td>...</td>\n    </tr>\n    <tr>\n      <th>5611</th>\n      <td>M</td>\n      <td>362.883333</td>\n    </tr>\n    <tr>\n      <th>5612</th>\n      <td>M</td>\n      <td>362.966667</td>\n    </tr>\n    <tr>\n      <th>5613</th>\n      <td>F</td>\n      <td>363.833333</td>\n    </tr>\n    <tr>\n      <th>5614</th>\n      <td>F</td>\n      <td>364.933333</td>\n    </tr>\n    <tr>\n      <th>5615</th>\n      <td>F</td>\n      <td>367.066667</td>\n    </tr>\n  </tbody>\n</table>\n<p>5616 rows × 2 columns</p>\n</div>"
     },
     "execution_count": 91,
     "metadata": {},
     "output_type": "execute_result"
    }
   ],
   "source": [
    "grouped"
   ],
   "metadata": {
    "collapsed": false,
    "pycharm": {
     "name": "#%%\n"
    }
   }
  },
  {
   "cell_type": "code",
   "execution_count": 91,
   "outputs": [],
   "source": [],
   "metadata": {
    "collapsed": false,
    "pycharm": {
     "name": "#%%\n"
    }
   }
  },
  {
   "cell_type": "code",
   "execution_count": 91,
   "outputs": [],
   "source": [],
   "metadata": {
    "collapsed": false,
    "pycharm": {
     "name": "#%%\n"
    }
   }
  },
  {
   "cell_type": "code",
   "execution_count": 91,
   "outputs": [],
   "source": [],
   "metadata": {
    "collapsed": false,
    "pycharm": {
     "name": "#%%\n"
    }
   }
  },
  {
   "cell_type": "code",
   "execution_count": 91,
   "outputs": [],
   "source": [],
   "metadata": {
    "collapsed": false,
    "pycharm": {
     "name": "#%%\n"
    }
   }
  }
 ],
 "metadata": {
  "kernelspec": {
   "display_name": "Python 3",
   "language": "python",
   "name": "python3"
  },
  "language_info": {
   "codemirror_mode": {
    "name": "ipython",
    "version": 2
   },
   "file_extension": ".py",
   "mimetype": "text/x-python",
   "name": "python",
   "nbconvert_exporter": "python",
   "pygments_lexer": "ipython2",
   "version": "2.7.6"
  }
 },
 "nbformat": 4,
 "nbformat_minor": 0
}
{
 "cells": [
  {
   "cell_type": "code",
   "execution_count": 19,
   "metadata": {
    "collapsed": true
   },
   "outputs": [
    {
     "name": "stdout",
     "output_type": "stream",
     "text": [
      "[[1. 2.]\n",
      " [2. 3.]\n",
      " [3. 4.]\n",
      " [2. 1.]\n",
      " [3. 2.]\n",
      " [4. 3.]] \n",
      "------------------------\n",
      " [[3. 4.]\n",
      " [4. 3.]] \n",
      "------------------------\n",
      " [[1. 2.]\n",
      " [2. 1.]]\n"
     ]
    }
   ],
   "source": [
    "from sklearn import svm\n",
    "x = [[1,2],[2,3],[3,4],[2,1],[3,2],[4,3]]\n",
    "y = [-1,-1,-1,1,1,1]\n",
    "clf = svm.SVC(kernel='rbf')\n",
    "clf1 = svm.SVC(kernel='linear')\n",
    "clf2 = svm.SVC(kernel='poly')\n",
    "clf.fit(x,y)\n",
    "clf1.fit(x,y)\n",
    "clf2.fit(x,y)\n",
    "print(clf.support_vectors_,\"\\n------------------------\\n\",\n",
    "      clf1.support_vectors_,\"\\n------------------------\\n\",\n",
    "      clf2.support_vectors_)"
   ]
  },
  {
   "cell_type": "code",
   "execution_count": 53,
   "outputs": [
    {
     "name": "stdout",
     "output_type": "stream",
     "text": [
      "[4. 3.]\n",
      "w:  [ 1. -1.]\n",
      "a:  1.0\n",
      "b:  -0.0\n"
     ]
    },
    {
     "data": {
      "text/plain": "<Figure size 432x288 with 1 Axes>",
      "image/png": "[encoded data removed]"
     },
     "metadata": {
      "needs_background": "light"
     },
     "output_type": "display_data"
    }
   ],
   "source": [
    "import matplotlib.pyplot as plt\n",
    "import numpy as np\n",
    "x = np.array(x)\n",
    "sv = clf1.support_vectors_\n",
    "print(sv[1])\n",
    "w = clf1.coef_[0]\n",
    "print(\"w: \",w)\n",
    "a = -w[0] / w[1]\n",
    "print(\"a: \",a)\n",
    "b = clf1.intercept_[0]\n",
    "print(\"b: \",b)\n",
    "\n",
    "xx = np.linspace(0,5)\n",
    "yy = a * xx - b/w[1]\n",
    "plt.plot(xx,yy,color = 'grey')\n",
    "\n",
    "high = a *sv[1,0] - b/w[1] - sv[1,1]\n",
    "y2 = yy - high\n",
    "y3 = yy + high\n",
    "\n",
    "plt.plot(xx,y2,color='grey',linestyle ='--')\n",
    "plt.plot(xx,y3,color='grey',linestyle ='--')\n",
    "\n",
    "plt.scatter(x[:3,0],x[:3,1],alpha=1,s=30)\n",
    "plt.scatter(x[3:,0],x[3:,1],alpha=1,s=30)\n",
    "plt.scatter(sv[:,0],sv[:,1],c='r',marker='x')\n",
    "plt.show()"
   ],
   "metadata": {
    "collapsed": false,
    "pycharm": {
     "name": "#%%\n"
    }
   }
  }
 ],
 "metadata": {
  "kernelspec": {
   "display_name": "Python 3",
   "language": "python",
   "name": "python3"
  },
  "language_info": {
   "codemirror_mode": {
    "name": "ipython",
    "version": 2
   },
   "file_extension": ".py",
   "mimetype": "text/x-python",
   "name": "python",
   "nbconvert_exporter": "python",
   "pygments_lexer": "ipython2",
   "version": "2.7.6"
  }
 },
 "nbformat": 4,
 "nbformat_minor": 0
}
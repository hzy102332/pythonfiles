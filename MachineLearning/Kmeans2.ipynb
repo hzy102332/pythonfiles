{
 "cells": [
  {
   "cell_type": "code",
   "execution_count": 1,
   "metadata": {
    "collapsed": true
   },
   "outputs": [],
   "source": [
    "import  pandas as pd\n",
    "import  numpy as np\n",
    "import matplotlib.pyplot as plt\n",
    "from sklearn.cluster import KMeans"
   ]
  },
  {
   "cell_type": "code",
   "execution_count": 2,
   "outputs": [
    {
     "data": {
      "text/plain": "array([[0.79591239, 4.7594636 ],\n       [3.3371668 , 1.18665447],\n       [6.38016786, 5.1294114 ],\n       [3.23481565, 8.74495065],\n       [7.63970598, 7.65112585],\n       [5.39198217, 5.06401275],\n       [5.37686487, 5.38304874],\n       [4.31684847, 2.53892974],\n       [7.72196524, 6.0448706 ],\n       [3.98357624, 0.30364709],\n       [4.98913943, 9.8462487 ],\n       [6.768462  , 9.97993674],\n       [1.99984723, 4.97574756],\n       [3.34531999, 7.7485743 ],\n       [6.03051994, 2.29365063],\n       [9.76921738, 5.56574657],\n       [6.50529781, 9.99854306],\n       [9.85949552, 0.5641655 ],\n       [8.42225834, 7.08712051],\n       [7.12555293, 3.52001714],\n       [1.01984911, 3.94601618],\n       [8.88412438, 0.36921793],\n       [4.50057504, 0.29426861],\n       [3.27465609, 0.55405085],\n       [8.92813698, 8.40692718],\n       [8.6082139 , 5.92753273],\n       [6.68439989, 5.68805728],\n       [9.41443045, 7.50106421],\n       [2.52270299, 4.49363128],\n       [6.85446947, 3.19939213],\n       [0.02644247, 5.20938538],\n       [4.49949205, 9.64165877],\n       [9.51683293, 5.57118295],\n       [0.07027854, 6.98434184],\n       [3.05500913, 1.93379951],\n       [2.64506696, 2.89246107],\n       [5.41651818, 3.49212045],\n       [9.11745303, 7.55259857],\n       [1.10722134, 6.67082307],\n       [2.38156349, 7.66167805],\n       [6.8022312 , 3.26480209],\n       [5.84998354, 5.76205456],\n       [9.74899545, 5.93120539],\n       [5.94683347, 0.46627961],\n       [5.42368236, 0.47876946],\n       [2.77504162, 8.5025514 ],\n       [6.46885921, 8.1081061 ],\n       [3.60790514, 9.81342967],\n       [6.07526423, 1.19023505],\n       [1.94125072, 5.65344148],\n       [0.44998136, 6.75800631],\n       [2.33645592, 3.77363275],\n       [7.36794721, 8.43450811],\n       [7.81467484, 9.1238002 ],\n       [4.81077773, 1.44070405],\n       [2.48660724, 4.62535057],\n       [3.30597501, 6.67351493],\n       [0.34189243, 9.85591284],\n       [3.83288328, 5.48822776],\n       [9.14276352, 8.60086766],\n       [2.60433373, 4.50209197],\n       [3.37133796, 6.75730934],\n       [6.61180774, 7.15475523],\n       [4.24685572, 7.91989706],\n       [8.33553523, 7.6489757 ],\n       [5.51908482, 0.71604798],\n       [4.47302702, 6.47590351],\n       [0.37684256, 6.9062587 ],\n       [5.43138721, 6.27188416],\n       [1.36106987, 5.58198489],\n       [6.42494728, 9.02642394],\n       [7.37131507, 9.84325279],\n       [4.72753851, 1.25872646],\n       [4.48687611, 9.66017371],\n       [9.86852895, 1.54728676],\n       [5.68669185, 5.29240114],\n       [3.83259634, 8.68114059],\n       [4.12329755, 9.95162445],\n       [4.44843146, 7.33999187],\n       [0.81896985, 0.62405416],\n       [8.1855446 , 7.80202949],\n       [0.64274361, 9.10054959],\n       [3.71472887, 1.4266048 ],\n       [0.34592069, 8.93492669],\n       [3.70069738, 3.41856411],\n       [9.95885618, 0.46017883],\n       [9.65178365, 3.48193921],\n       [7.62852573, 4.79511934],\n       [0.38104566, 5.67362311],\n       [7.10171168, 5.60179154],\n       [7.62570109, 3.76106208],\n       [9.59362826, 5.31030079],\n       [6.34188297, 3.48090408],\n       [7.81516978, 1.12674881],\n       [7.4345413 , 2.06813609],\n       [4.02745811, 0.7621231 ],\n       [0.93139003, 6.21894546],\n       [3.89087006, 9.75697306],\n       [7.26002229, 2.92065722],\n       [7.69182692, 1.93442248]])"
     },
     "execution_count": 2,
     "metadata": {},
     "output_type": "execute_result"
    }
   ],
   "source": [
    "x1 = 10*np.random.rand(100,2)\n",
    "x1"
   ],
   "metadata": {
    "collapsed": false,
    "pycharm": {
     "name": "#%%\n"
    }
   }
  },
  {
   "cell_type": "code",
   "execution_count": 3,
   "outputs": [
    {
     "data": {
      "text/plain": "(100, 2)"
     },
     "execution_count": 3,
     "metadata": {},
     "output_type": "execute_result"
    }
   ],
   "source": [
    "x1.shape"
   ],
   "metadata": {
    "collapsed": false,
    "pycharm": {
     "name": "#%%\n"
    }
   }
  },
  {
   "cell_type": "code",
   "execution_count": 4,
   "outputs": [
    {
     "data": {
      "text/plain": "<matplotlib.collections.PathCollection at 0x1ca63da6e80>"
     },
     "execution_count": 4,
     "metadata": {},
     "output_type": "execute_result"
    },
    {
     "data": {
      "text/plain": "<Figure size 432x288 with 1 Axes>",
      "image/png": "[encoded data removed]"
     },
     "metadata": {
      "needs_background": "light"
     },
     "output_type": "display_data"
    }
   ],
   "source": [
    "plt.scatter(x1[:,0],x1[:,1],edgecolors = \"w\")"
   ],
   "metadata": {
    "collapsed": false,
    "pycharm": {
     "name": "#%%\n"
    }
   }
  },
  {
   "cell_type": "code",
   "execution_count": 6,
   "outputs": [
    {
     "data": {
      "text/plain": "KMeans(n_clusters=3)"
     },
     "execution_count": 6,
     "metadata": {},
     "output_type": "execute_result"
    }
   ],
   "source": [
    "n_cluster = 3\n",
    "kmean = KMeans(n_clusters = 3)\n",
    "kmean.fit(x1)"
   ],
   "metadata": {
    "collapsed": false,
    "pycharm": {
     "name": "#%%\n"
    }
   }
  },
  {
   "cell_type": "code",
   "execution_count": 8,
   "outputs": [
    {
     "data": {
      "text/plain": "array([1, 2, 0, 1, 0, 0, 0, 2, 0, 2, 1, 0, 1, 1, 2, 0, 0, 2, 0, 2, 1, 2,\n       2, 2, 0, 0, 0, 0, 1, 2, 1, 1, 0, 1, 2, 2, 2, 0, 1, 1, 2, 0, 0, 2,\n       2, 1, 0, 1, 2, 1, 1, 1, 0, 0, 2, 1, 1, 1, 1, 0, 1, 1, 0, 1, 0, 2,\n       1, 1, 0, 1, 0, 0, 2, 1, 2, 0, 1, 1, 1, 2, 0, 1, 2, 1, 2, 2, 0, 0,\n       1, 0, 2, 0, 2, 2, 2, 2, 1, 1, 2, 2])"
     },
     "execution_count": 8,
     "metadata": {},
     "output_type": "execute_result"
    }
   ],
   "source": [
    "y_predit = kmean.labels_\n",
    "y_predit"
   ],
   "metadata": {
    "collapsed": false,
    "pycharm": {
     "name": "#%%\n"
    }
   }
  },
  {
   "cell_type": "code",
   "execution_count": 9,
   "outputs": [
    {
     "data": {
      "text/plain": "array([[7.64567159, 6.89814358],\n       [2.40520044, 7.09133281],\n       [5.77648047, 1.73402132]])"
     },
     "execution_count": 9,
     "metadata": {},
     "output_type": "execute_result"
    }
   ],
   "source": [
    "centroid = kmean.cluster_centers_\n",
    "centroid"
   ],
   "metadata": {
    "collapsed": false,
    "pycharm": {
     "name": "#%%\n"
    }
   }
  },
  {
   "cell_type": "code",
   "execution_count": 10,
   "outputs": [
    {
     "data": {
      "text/plain": "569.906005094884"
     },
     "execution_count": 10,
     "metadata": {},
     "output_type": "execute_result"
    }
   ],
   "source": [
    "inertia = kmean.inertia_\n",
    "inertia"
   ],
   "metadata": {
    "collapsed": false,
    "pycharm": {
     "name": "#%%\n"
    }
   }
  },
  {
   "cell_type": "code",
   "execution_count": 23,
   "outputs": [
    {
     "data": {
      "text/plain": "<matplotlib.collections.PathCollection at 0x1ca6815d250>"
     },
     "execution_count": 23,
     "metadata": {},
     "output_type": "execute_result"
    },
    {
     "data": {
      "text/plain": "<Figure size 432x288 with 1 Axes>",
      "image/png": "[encoded data removed]"
     },
     "metadata": {
      "needs_background": "light"
     },
     "output_type": "display_data"
    }
   ],
   "source": [
    "kmean.labels_\n",
    "color = ['red','pink','orange']\n",
    "fig,axi1 = plt.subplots(1)\n",
    "for i in range(n_cluster):\n",
    "    axi1.scatter(x1[y_predit == i,0],x1[y_predit == i,1],marker = 'x',s = 9,c = color[i])\n",
    "axi1.scatter(centroid[:,0],centroid[:,1],s = 100, c = \"black\")"
   ],
   "metadata": {
    "collapsed": false,
    "pycharm": {
     "name": "#%%\n"
    }
   }
  },
  {
   "cell_type": "code",
   "execution_count": 17,
   "outputs": [
    {
     "data": {
      "text/plain": "array([1, 2, 0, 1, 0, 0, 0, 2, 0, 2, 1, 0, 1, 1, 2, 0, 0, 2, 0, 2, 1, 2,\n       2, 2, 0, 0, 0, 0, 1, 2, 1, 1, 0, 1, 2, 2, 2, 0, 1, 1, 2, 0, 0, 2,\n       2, 1, 0, 1, 2, 1, 1, 1, 0, 0, 2, 1, 1, 1, 1, 0, 1, 1, 0, 1, 0, 2,\n       1, 1, 0, 1, 0, 0, 2, 1, 2, 0, 1, 1, 1, 2, 0, 1, 2, 1, 2, 2, 0, 0,\n       1, 0, 2, 0, 2, 2, 2, 2, 1, 1, 2, 2])"
     },
     "execution_count": 17,
     "metadata": {},
     "output_type": "execute_result"
    }
   ],
   "source": [
    "kmean.cluster_centers_"
   ],
   "metadata": {
    "collapsed": false,
    "pycharm": {
     "name": "#%%\n"
    }
   }
  },
  {
   "cell_type": "code",
   "execution_count": 0,
   "outputs": [],
   "source": [
    "kmean.labels_"
   ],
   "metadata": {
    "collapsed": false,
    "pycharm": {
     "name": "#%%\n"
    }
   }
  },
  {
   "cell_type": "code",
   "execution_count": 19,
   "outputs": [
    {
     "data": {
      "text/plain": "569.906005094884"
     },
     "execution_count": 19,
     "metadata": {},
     "output_type": "execute_result"
    }
   ],
   "source": [
    "inertia = kmean.inertia_\n",
    "inertia"
   ],
   "metadata": {
    "collapsed": false,
    "pycharm": {
     "name": "#%%\n"
    }
   }
  },
  {
   "cell_type": "code",
   "execution_count": 18,
   "outputs": [
    {
     "data": {
      "text/plain": "(100,)"
     },
     "execution_count": 18,
     "metadata": {},
     "output_type": "execute_result"
    }
   ],
   "source": [
    "kmean.labels_.shape"
   ],
   "metadata": {
    "collapsed": false,
    "pycharm": {
     "name": "#%%\n"
    }
   }
  },
  {
   "cell_type": "code",
   "execution_count": null,
   "outputs": [],
   "source": [
    "############### Elbow curve"
   ],
   "metadata": {
    "collapsed": false,
    "pycharm": {
     "name": "#%%\n"
    }
   }
  },
  {
   "cell_type": "code",
   "execution_count": 22,
   "outputs": [
    {
     "name": "stdout",
     "output_type": "stream",
     "text": [
      "Cluster: 1   Inertia: 1657.1275748224764\n",
      "Cluster: 2   Inertia: 1000.8939669239118\n",
      "Cluster: 3   Inertia: 569.906005094884\n",
      "Cluster: 4   Inertia: 436.4987734333887\n",
      "Cluster: 5   Inertia: 328.7363301091355\n",
      "Cluster: 6   Inertia: 261.8957446283117\n",
      "Cluster: 7   Inertia: 222.8940103037114\n",
      "Cluster: 8   Inertia: 183.59092199051645\n",
      "Cluster: 9   Inertia: 164.8072569015666\n",
      "Cluster: 10   Inertia: 139.83879481994003\n",
      "Cluster: 11   Inertia: 122.08052630733076\n",
      "Cluster: 12   Inertia: 107.40684571727614\n",
      "Cluster: 13   Inertia: 93.26252051952748\n",
      "Cluster: 14   Inertia: 80.43469685982895\n",
      "Cluster: 15   Inertia: 75.39176684893425\n",
      "Cluster: 16   Inertia: 68.58252721646022\n",
      "Cluster: 17   Inertia: 63.04213507285707\n",
      "Cluster: 18   Inertia: 58.133086913084604\n",
      "Cluster: 19   Inertia: 51.86186195633487\n"
     ]
    },
    {
     "data": {
      "text/plain": "<Figure size 432x288 with 1 Axes>",
      "image/png": "[encoded data removed]"
     },
     "metadata": {
      "needs_background": "light"
     },
     "output_type": "display_data"
    }
   ],
   "source": [
    "wcss = []\n",
    "for i in range (1,20):\n",
    "    kmean1 = KMeans(n_clusters=i, init='k-means++',max_iter=300,n_init=10,random_state=0)\n",
    "    kmean1.fit(x1)\n",
    "    wcss.append(kmean1.inertia_)\n",
    "    print(\"Cluster:\",i,\"  Inertia:\",kmean1.inertia_)\n",
    "plt.plot(range(1,20),wcss)\n",
    "plt.title(\"The Elbow Curve\")\n",
    "plt.xlabel(\"Number of cluster\")\n",
    "plt.ylabel(\"WCSS\")\n",
    "plt.show()"
   ],
   "metadata": {
    "collapsed": false,
    "pycharm": {
     "name": "#%%\n"
    }
   }
  },
  {
   "cell_type": "code",
   "execution_count": null,
   "outputs": [],
   "source": [],
   "metadata": {
    "collapsed": false,
    "pycharm": {
     "name": "#%%\n"
    }
   }
  },
  {
   "cell_type": "code",
   "execution_count": null,
   "outputs": [],
   "source": [],
   "metadata": {
    "collapsed": false,
    "pycharm": {
     "name": "#%%\n"
    }
   }
  },
  {
   "cell_type": "code",
   "execution_count": null,
   "outputs": [],
   "source": [],
   "metadata": {
    "collapsed": false,
    "pycharm": {
     "name": "#%%\n"
    }
   }
  },
  {
   "cell_type": "code",
   "execution_count": null,
   "outputs": [],
   "source": [],
   "metadata": {
    "collapsed": false,
    "pycharm": {
     "name": "#%%\n"
    }
   }
  },
  {
   "cell_type": "code",
   "execution_count": null,
   "outputs": [],
   "source": [],
   "metadata": {
    "collapsed": false,
    "pycharm": {
     "name": "#%%\n"
    }
   }
  },
  {
   "cell_type": "code",
   "execution_count": null,
   "outputs": [],
   "source": [],
   "metadata": {
    "collapsed": false,
    "pycharm": {
     "name": "#%%\n"
    }
   }
  },
  {
   "cell_type": "code",
   "execution_count": null,
   "outputs": [],
   "source": [],
   "metadata": {
    "collapsed": false,
    "pycharm": {
     "name": "#%%\n"
    }
   }
  },
  {
   "cell_type": "code",
   "execution_count": null,
   "outputs": [],
   "source": [],
   "metadata": {
    "collapsed": false,
    "pycharm": {
     "name": "#%%\n"
    }
   }
  },
  {
   "cell_type": "code",
   "execution_count": null,
   "outputs": [],
   "source": [],
   "metadata": {
    "collapsed": false,
    "pycharm": {
     "name": "#%%\n"
    }
   }
  },
  {
   "cell_type": "code",
   "execution_count": null,
   "outputs": [],
   "source": [],
   "metadata": {
    "collapsed": false,
    "pycharm": {
     "name": "#%%\n"
    }
   }
  },
  {
   "cell_type": "code",
   "execution_count": null,
   "outputs": [],
   "source": [],
   "metadata": {
    "collapsed": false,
    "pycharm": {
     "name": "#%%\n"
    }
   }
  },
  {
   "cell_type": "code",
   "execution_count": null,
   "outputs": [],
   "source": [],
   "metadata": {
    "collapsed": false,
    "pycharm": {
     "name": "#%%\n"
    }
   }
  },
  {
   "cell_type": "code",
   "execution_count": null,
   "outputs": [],
   "source": [],
   "metadata": {
    "collapsed": false,
    "pycharm": {
     "name": "#%%\n"
    }
   }
  },
  {
   "cell_type": "code",
   "execution_count": null,
   "outputs": [],
   "source": [],
   "metadata": {
    "collapsed": false,
    "pycharm": {
     "name": "#%%\n"
    }
   }
  },
  {
   "cell_type": "code",
   "execution_count": null,
   "outputs": [],
   "source": [],
   "metadata": {
    "collapsed": false,
    "pycharm": {
     "name": "#%%\n"
    }
   }
  },
  {
   "cell_type": "code",
   "execution_count": null,
   "outputs": [],
   "source": [],
   "metadata": {
    "collapsed": false,
    "pycharm": {
     "name": "#%%\n"
    }
   }
  },
  {
   "cell_type": "code",
   "execution_count": null,
   "outputs": [],
   "source": [],
   "metadata": {
    "collapsed": false,
    "pycharm": {
     "name": "#%%\n"
    }
   }
  },
  {
   "cell_type": "code",
   "execution_count": null,
   "outputs": [],
   "source": [],
   "metadata": {
    "collapsed": false,
    "pycharm": {
     "name": "#%%\n"
    }
   }
  },
  {
   "cell_type": "code",
   "execution_count": null,
   "outputs": [],
   "source": [],
   "metadata": {
    "collapsed": false,
    "pycharm": {
     "name": "#%%\n"
    }
   }
  },
  {
   "cell_type": "code",
   "execution_count": null,
   "outputs": [],
   "source": [],
   "metadata": {
    "collapsed": false,
    "pycharm": {
     "name": "#%%\n"
    }
   }
  },
  {
   "cell_type": "code",
   "execution_count": null,
   "outputs": [],
   "source": [],
   "metadata": {
    "collapsed": false,
    "pycharm": {
     "name": "#%%\n"
    }
   }
  },
  {
   "cell_type": "code",
   "execution_count": null,
   "outputs": [],
   "source": [],
   "metadata": {
    "collapsed": false,
    "pycharm": {
     "name": "#%%\n"
    }
   }
  },
  {
   "cell_type": "code",
   "execution_count": null,
   "outputs": [],
   "source": [],
   "metadata": {
    "collapsed": false,
    "pycharm": {
     "name": "#%%\n"
    }
   }
  },
  {
   "cell_type": "code",
   "execution_count": null,
   "outputs": [],
   "source": [],
   "metadata": {
    "collapsed": false,
    "pycharm": {
     "name": "#%%\n"
    }
   }
  },
  {
   "cell_type": "code",
   "execution_count": null,
   "outputs": [],
   "source": [],
   "metadata": {
    "collapsed": false,
    "pycharm": {
     "name": "#%%\n"
    }
   }
  },
  {
   "cell_type": "code",
   "execution_count": null,
   "outputs": [],
   "source": [],
   "metadata": {
    "collapsed": false,
    "pycharm": {
     "name": "#%%\n"
    }
   }
  },
  {
   "cell_type": "code",
   "execution_count": null,
   "outputs": [],
   "source": [],
   "metadata": {
    "collapsed": false,
    "pycharm": {
     "name": "#%%\n"
    }
   }
  },
  {
   "cell_type": "code",
   "execution_count": null,
   "outputs": [],
   "source": [],
   "metadata": {
    "collapsed": false,
    "pycharm": {
     "name": "#%%"
    }
   }
  }
 ],
 "metadata": {
  "kernelspec": {
   "display_name": "Python 3",
   "language": "python",
   "name": "python3"
  },
  "language_info": {
   "codemirror_mode": {
    "name": "ipython",
    "version": 2
   },
   "file_extension": ".py",
   "mimetype": "text/x-python",
   "name": "python",
   "nbconvert_exporter": "python",
   "pygments_lexer": "ipython2",
   "version": "2.7.6"
  }
 },
 "nbformat": 4,
 "nbformat_minor": 0
}
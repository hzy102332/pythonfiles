{
 "cells": [
  {
   "cell_type": "code",
   "execution_count": 57,
   "metadata": {
    "collapsed": true
   },
   "outputs": [
    {
     "data": {
      "text/plain": "     num price year month date\n0    0 123 159 2016 1 2016/6/1\n1    1 124 753 2016 2 2016/6/2\n2    2 125 456 2016 3 2016/6/3\n3    3 126 852 2016 4 2016/6/4\n4    4 127 210 2016 5 2016/6/5\n5    5 115 299 2016 6 2016/6/6\n6    6 102 699 2016 7 2016/6/7\n7    7 201 599 2016 8 2016/6/8\n8    8 154 199 2016 9 2016/6/9\n9  9 142 899 2016 10 2016/6/10",
      "text/html": "<div>\n<style scoped>\n    .dataframe tbody tr th:only-of-type {\n        vertical-align: middle;\n    }\n\n    .dataframe tbody tr th {\n        vertical-align: top;\n    }\n\n    .dataframe thead th {\n        text-align: right;\n    }\n</style>\n<table border=\"1\" class=\"dataframe\">\n  <thead>\n    <tr style=\"text-align: right;\">\n      <th></th>\n      <th>num price year month date</th>\n    </tr>\n  </thead>\n  <tbody>\n    <tr>\n      <th>0</th>\n      <td>0 123 159 2016 1 2016/6/1</td>\n    </tr>\n    <tr>\n      <th>1</th>\n      <td>1 124 753 2016 2 2016/6/2</td>\n    </tr>\n    <tr>\n      <th>2</th>\n      <td>2 125 456 2016 3 2016/6/3</td>\n    </tr>\n    <tr>\n      <th>3</th>\n      <td>3 126 852 2016 4 2016/6/4</td>\n    </tr>\n    <tr>\n      <th>4</th>\n      <td>4 127 210 2016 5 2016/6/5</td>\n    </tr>\n    <tr>\n      <th>5</th>\n      <td>5 115 299 2016 6 2016/6/6</td>\n    </tr>\n    <tr>\n      <th>6</th>\n      <td>6 102 699 2016 7 2016/6/7</td>\n    </tr>\n    <tr>\n      <th>7</th>\n      <td>7 201 599 2016 8 2016/6/8</td>\n    </tr>\n    <tr>\n      <th>8</th>\n      <td>8 154 199 2016 9 2016/6/9</td>\n    </tr>\n    <tr>\n      <th>9</th>\n      <td>9 142 899 2016 10 2016/6/10</td>\n    </tr>\n  </tbody>\n</table>\n</div>"
     },
     "execution_count": 57,
     "metadata": {},
     "output_type": "execute_result"
    }
   ],
   "source": [
    "import pandas as pd\n",
    "df = pd.read_csv('rz3.csv',sep=',',encoding='utf8')\n",
    "df"
   ]
  },
  {
   "cell_type": "code",
   "execution_count": 58,
   "outputs": [
    {
     "data": {
      "text/plain": "   num  price  year  month       date\n0  123    159  2016      1   2016/6/1\n1  124    753  2016      2   2016/6/2\n2  125    456  2016      3   2016/6/3\n3  126    852  2016      4   2016/6/4\n4  127    210  2016      5   2016/6/5\n5  115    299  2016      6   2016/6/6\n6  102    699  2016      7   2016/6/7\n7  201    599  2016      8   2016/6/8\n8  154    199  2016      9   2016/6/9\n9  142    899  2016     10  2016/6/10",
      "text/html": "<div>\n<style scoped>\n    .dataframe tbody tr th:only-of-type {\n        vertical-align: middle;\n    }\n\n    .dataframe tbody tr th {\n        vertical-align: top;\n    }\n\n    .dataframe thead th {\n        text-align: right;\n    }\n</style>\n<table border=\"1\" class=\"dataframe\">\n  <thead>\n    <tr style=\"text-align: right;\">\n      <th></th>\n      <th>num</th>\n      <th>price</th>\n      <th>year</th>\n      <th>month</th>\n      <th>date</th>\n    </tr>\n  </thead>\n  <tbody>\n    <tr>\n      <th>0</th>\n      <td>123</td>\n      <td>159</td>\n      <td>2016</td>\n      <td>1</td>\n      <td>2016/6/1</td>\n    </tr>\n    <tr>\n      <th>1</th>\n      <td>124</td>\n      <td>753</td>\n      <td>2016</td>\n      <td>2</td>\n      <td>2016/6/2</td>\n    </tr>\n    <tr>\n      <th>2</th>\n      <td>125</td>\n      <td>456</td>\n      <td>2016</td>\n      <td>3</td>\n      <td>2016/6/3</td>\n    </tr>\n    <tr>\n      <th>3</th>\n      <td>126</td>\n      <td>852</td>\n      <td>2016</td>\n      <td>4</td>\n      <td>2016/6/4</td>\n    </tr>\n    <tr>\n      <th>4</th>\n      <td>127</td>\n      <td>210</td>\n      <td>2016</td>\n      <td>5</td>\n      <td>2016/6/5</td>\n    </tr>\n    <tr>\n      <th>5</th>\n      <td>115</td>\n      <td>299</td>\n      <td>2016</td>\n      <td>6</td>\n      <td>2016/6/6</td>\n    </tr>\n    <tr>\n      <th>6</th>\n      <td>102</td>\n      <td>699</td>\n      <td>2016</td>\n      <td>7</td>\n      <td>2016/6/7</td>\n    </tr>\n    <tr>\n      <th>7</th>\n      <td>201</td>\n      <td>599</td>\n      <td>2016</td>\n      <td>8</td>\n      <td>2016/6/8</td>\n    </tr>\n    <tr>\n      <th>8</th>\n      <td>154</td>\n      <td>199</td>\n      <td>2016</td>\n      <td>9</td>\n      <td>2016/6/9</td>\n    </tr>\n    <tr>\n      <th>9</th>\n      <td>142</td>\n      <td>899</td>\n      <td>2016</td>\n      <td>10</td>\n      <td>2016/6/10</td>\n    </tr>\n  </tbody>\n</table>\n</div>"
     },
     "execution_count": 58,
     "metadata": {},
     "output_type": "execute_result"
    }
   ],
   "source": [
    "df = pd.read_csv('rz3.csv',delim_whitespace=True,encoding='utf8')\n",
    "df"
   ],
   "metadata": {
    "collapsed": false,
    "pycharm": {
     "name": "#%%\n"
    }
   }
  },
  {
   "cell_type": "code",
   "execution_count": 59,
   "outputs": [
    {
     "data": {
      "text/plain": "count     10.000000\nmean     512.500000\nstd      284.462944\nmin      159.000000\n25%      232.250000\n50%      527.500000\n75%      739.500000\nmax      899.000000\nName: price, dtype: float64"
     },
     "execution_count": 59,
     "metadata": {},
     "output_type": "execute_result"
    }
   ],
   "source": [
    "df.price.describe()"
   ],
   "metadata": {
    "collapsed": false,
    "pycharm": {
     "name": "#%%\n"
    }
   }
  },
  {
   "cell_type": "code",
   "execution_count": 60,
   "outputs": [
    {
     "data": {
      "text/plain": "201"
     },
     "execution_count": 60,
     "metadata": {},
     "output_type": "execute_result"
    }
   ],
   "source": [
    "df.num.max()"
   ],
   "metadata": {
    "collapsed": false,
    "pycharm": {
     "name": "#%%\n"
    }
   }
  },
  {
   "cell_type": "code",
   "execution_count": 61,
   "outputs": [
    {
     "data": {
      "text/plain": "512.5"
     },
     "execution_count": 61,
     "metadata": {},
     "output_type": "execute_result"
    }
   ],
   "source": [
    "df.price.mean()"
   ],
   "metadata": {
    "collapsed": false,
    "pycharm": {
     "name": "#%%\n"
    }
   }
  },
  {
   "cell_type": "code",
   "execution_count": 62,
   "outputs": [
    {
     "data": {
      "text/plain": "27.39201018951005"
     },
     "execution_count": 62,
     "metadata": {},
     "output_type": "execute_result"
    }
   ],
   "source": [
    "df.num.std()"
   ],
   "metadata": {
    "collapsed": false,
    "pycharm": {
     "name": "#%%\n"
    }
   }
  },
  {
   "cell_type": "code",
   "execution_count": 63,
   "outputs": [
    {
     "data": {
      "text/plain": "    Unnamed: 0  School Num     Class Sex            Name  English  Physics  \\\n0            0  2308024241  23080242   M      Chen, Long       76       78   \n1            1  2308024244  23080242   F        Zhou, Yi       66       91   \n2            2  2308024251  23080242   M       Zhang， Bo       85       81   \n3            3  2308024249  23080242   M        Zhu, Hao       65       50   \n4            4  2308024219  23080242   F       Feng, Yin       73       88   \n5            5  2308024201  23080242   M        Chi, Pei       60       50   \n6            6  2308024347  23080243   F         Li, Hua       67       61   \n7            7  2308024307  23080243   M       Chen, Ten       76       79   \n8            8  2308024226  23080243   M         Yu, Hao       66       67   \n9            9  2308024220  23080243   F         Li, Jia       62       60   \n10          10  2308024242  23080243   M   Li, Shang Chu       76       90   \n11          11  2308024210  23080243   F         Guo, Yi       79       67   \n12          12  2308024435  23080244   M   Jiang, Yi Tao       77       71   \n13          13  2308024432  23080244   M        Zhao, Yu       74       74   \n14          14  2308024446  23080244   F        Zhou, Lu       76       80   \n15          15  2308024421  23080244   M  Lin, Jian Xian       73       72   \n16          16  2308024433  23080244   M    Li, Da Qiang       79       76   \n17          17  2308024428  23080244   M    Li, Che Tong       64       96   \n18          18  2308024402  23080244   F       Wang, hui       73       74   \n19          19  2308024422  23080244   M  Li, Xiao Liang       85       60   \n\n    Military  Maths  Algebra  Geometry  Computer  \n0         77     40       23        60        89  \n1         75     47       47        44        82  \n2         75     45       45        60        80  \n3         80     72       62        71        82  \n4         92     61       47        46        83  \n5         89     71       76        71        82  \n6         84     61       65        78        83  \n7         86     69       40        69        82  \n8         85     65       61        71        95  \n9         90     60       67         7        95  \n10        84     60       66        60        82  \n11        84     64       64        79        85  \n12        71     87       61        73        76  \n13        74     88       68        70        71  \n14        77     61       74        80        85  \n15        81     63       90        75        85  \n16        77     78       70        70        89  \n17        91     69       60        77        83  \n18        93     70       71        75        88  \n19        85     72       72        83        89  ",
      "text/html": "<div>\n<style scoped>\n    .dataframe tbody tr th:only-of-type {\n        vertical-align: middle;\n    }\n\n    .dataframe tbody tr th {\n        vertical-align: top;\n    }\n\n    .dataframe thead th {\n        text-align: right;\n    }\n</style>\n<table border=\"1\" class=\"dataframe\">\n  <thead>\n    <tr style=\"text-align: right;\">\n      <th></th>\n      <th>Unnamed: 0</th>\n      <th>School Num</th>\n      <th>Class</th>\n      <th>Sex</th>\n      <th>Name</th>\n      <th>English</th>\n      <th>Physics</th>\n      <th>Military</th>\n      <th>Maths</th>\n      <th>Algebra</th>\n      <th>Geometry</th>\n      <th>Computer</th>\n    </tr>\n  </thead>\n  <tbody>\n    <tr>\n      <th>0</th>\n      <td>0</td>\n      <td>2308024241</td>\n      <td>23080242</td>\n      <td>M</td>\n      <td>Chen, Long</td>\n      <td>76</td>\n      <td>78</td>\n      <td>77</td>\n      <td>40</td>\n      <td>23</td>\n      <td>60</td>\n      <td>89</td>\n    </tr>\n    <tr>\n      <th>1</th>\n      <td>1</td>\n      <td>2308024244</td>\n      <td>23080242</td>\n      <td>F</td>\n      <td>Zhou, Yi</td>\n      <td>66</td>\n      <td>91</td>\n      <td>75</td>\n      <td>47</td>\n      <td>47</td>\n      <td>44</td>\n      <td>82</td>\n    </tr>\n    <tr>\n      <th>2</th>\n      <td>2</td>\n      <td>2308024251</td>\n      <td>23080242</td>\n      <td>M</td>\n      <td>Zhang， Bo</td>\n      <td>85</td>\n      <td>81</td>\n      <td>75</td>\n      <td>45</td>\n      <td>45</td>\n      <td>60</td>\n      <td>80</td>\n    </tr>\n    <tr>\n      <th>3</th>\n      <td>3</td>\n      <td>2308024249</td>\n      <td>23080242</td>\n      <td>M</td>\n      <td>Zhu, Hao</td>\n      <td>65</td>\n      <td>50</td>\n      <td>80</td>\n      <td>72</td>\n      <td>62</td>\n      <td>71</td>\n      <td>82</td>\n    </tr>\n    <tr>\n      <th>4</th>\n      <td>4</td>\n      <td>2308024219</td>\n      <td>23080242</td>\n      <td>F</td>\n      <td>Feng, Yin</td>\n      <td>73</td>\n      <td>88</td>\n      <td>92</td>\n      <td>61</td>\n      <td>47</td>\n      <td>46</td>\n      <td>83</td>\n    </tr>\n    <tr>\n      <th>5</th>\n      <td>5</td>\n      <td>2308024201</td>\n      <td>23080242</td>\n      <td>M</td>\n      <td>Chi, Pei</td>\n      <td>60</td>\n      <td>50</td>\n      <td>89</td>\n      <td>71</td>\n      <td>76</td>\n      <td>71</td>\n      <td>82</td>\n    </tr>\n    <tr>\n      <th>6</th>\n      <td>6</td>\n      <td>2308024347</td>\n      <td>23080243</td>\n      <td>F</td>\n      <td>Li, Hua</td>\n      <td>67</td>\n      <td>61</td>\n      <td>84</td>\n      <td>61</td>\n      <td>65</td>\n      <td>78</td>\n      <td>83</td>\n    </tr>\n    <tr>\n      <th>7</th>\n      <td>7</td>\n      <td>2308024307</td>\n      <td>23080243</td>\n      <td>M</td>\n      <td>Chen, Ten</td>\n      <td>76</td>\n      <td>79</td>\n      <td>86</td>\n      <td>69</td>\n      <td>40</td>\n      <td>69</td>\n      <td>82</td>\n    </tr>\n    <tr>\n      <th>8</th>\n      <td>8</td>\n      <td>2308024226</td>\n      <td>23080243</td>\n      <td>M</td>\n      <td>Yu, Hao</td>\n      <td>66</td>\n      <td>67</td>\n      <td>85</td>\n      <td>65</td>\n      <td>61</td>\n      <td>71</td>\n      <td>95</td>\n    </tr>\n    <tr>\n      <th>9</th>\n      <td>9</td>\n      <td>2308024220</td>\n      <td>23080243</td>\n      <td>F</td>\n      <td>Li, Jia</td>\n      <td>62</td>\n      <td>60</td>\n      <td>90</td>\n      <td>60</td>\n      <td>67</td>\n      <td>7</td>\n      <td>95</td>\n    </tr>\n    <tr>\n      <th>10</th>\n      <td>10</td>\n      <td>2308024242</td>\n      <td>23080243</td>\n      <td>M</td>\n      <td>Li, Shang Chu</td>\n      <td>76</td>\n      <td>90</td>\n      <td>84</td>\n      <td>60</td>\n      <td>66</td>\n      <td>60</td>\n      <td>82</td>\n    </tr>\n    <tr>\n      <th>11</th>\n      <td>11</td>\n      <td>2308024210</td>\n      <td>23080243</td>\n      <td>F</td>\n      <td>Guo, Yi</td>\n      <td>79</td>\n      <td>67</td>\n      <td>84</td>\n      <td>64</td>\n      <td>64</td>\n      <td>79</td>\n      <td>85</td>\n    </tr>\n    <tr>\n      <th>12</th>\n      <td>12</td>\n      <td>2308024435</td>\n      <td>23080244</td>\n      <td>M</td>\n      <td>Jiang, Yi Tao</td>\n      <td>77</td>\n      <td>71</td>\n      <td>71</td>\n      <td>87</td>\n      <td>61</td>\n      <td>73</td>\n      <td>76</td>\n    </tr>\n    <tr>\n      <th>13</th>\n      <td>13</td>\n      <td>2308024432</td>\n      <td>23080244</td>\n      <td>M</td>\n      <td>Zhao, Yu</td>\n      <td>74</td>\n      <td>74</td>\n      <td>74</td>\n      <td>88</td>\n      <td>68</td>\n      <td>70</td>\n      <td>71</td>\n    </tr>\n    <tr>\n      <th>14</th>\n      <td>14</td>\n      <td>2308024446</td>\n      <td>23080244</td>\n      <td>F</td>\n      <td>Zhou, Lu</td>\n      <td>76</td>\n      <td>80</td>\n      <td>77</td>\n      <td>61</td>\n      <td>74</td>\n      <td>80</td>\n      <td>85</td>\n    </tr>\n    <tr>\n      <th>15</th>\n      <td>15</td>\n      <td>2308024421</td>\n      <td>23080244</td>\n      <td>M</td>\n      <td>Lin, Jian Xian</td>\n      <td>73</td>\n      <td>72</td>\n      <td>81</td>\n      <td>63</td>\n      <td>90</td>\n      <td>75</td>\n      <td>85</td>\n    </tr>\n    <tr>\n      <th>16</th>\n      <td>16</td>\n      <td>2308024433</td>\n      <td>23080244</td>\n      <td>M</td>\n      <td>Li, Da Qiang</td>\n      <td>79</td>\n      <td>76</td>\n      <td>77</td>\n      <td>78</td>\n      <td>70</td>\n      <td>70</td>\n      <td>89</td>\n    </tr>\n    <tr>\n      <th>17</th>\n      <td>17</td>\n      <td>2308024428</td>\n      <td>23080244</td>\n      <td>M</td>\n      <td>Li, Che Tong</td>\n      <td>64</td>\n      <td>96</td>\n      <td>91</td>\n      <td>69</td>\n      <td>60</td>\n      <td>77</td>\n      <td>83</td>\n    </tr>\n    <tr>\n      <th>18</th>\n      <td>18</td>\n      <td>2308024402</td>\n      <td>23080244</td>\n      <td>F</td>\n      <td>Wang, hui</td>\n      <td>73</td>\n      <td>74</td>\n      <td>93</td>\n      <td>70</td>\n      <td>71</td>\n      <td>75</td>\n      <td>88</td>\n    </tr>\n    <tr>\n      <th>19</th>\n      <td>19</td>\n      <td>2308024422</td>\n      <td>23080244</td>\n      <td>M</td>\n      <td>Li, Xiao Liang</td>\n      <td>85</td>\n      <td>60</td>\n      <td>85</td>\n      <td>72</td>\n      <td>72</td>\n      <td>83</td>\n      <td>89</td>\n    </tr>\n  </tbody>\n</table>\n</div>"
     },
     "execution_count": 63,
     "metadata": {},
     "output_type": "execute_result"
    }
   ],
   "source": [
    "import numpy as np\n",
    "from pandas import read_excel\n",
    "df = read_excel('rz4.xls')\n",
    "df"
   ],
   "metadata": {
    "collapsed": false,
    "pycharm": {
     "name": "#%%#######################################################\n"
    }
   }
  },
  {
   "cell_type": "code",
   "execution_count": 64,
   "outputs": [
    {
     "data": {
      "text/plain": "    School Num     Class Sex            Name  English  Physics  Military  \\\n0   2308024241  23080242   M      Chen, Long       76       78        77   \n1   2308024244  23080242   F        Zhou, Yi       66       91        75   \n2   2308024251  23080242   M       Zhang， Bo       85       81        75   \n3   2308024249  23080242   M        Zhu, Hao       65       50        80   \n4   2308024219  23080242   F       Feng, Yin       73       88        92   \n5   2308024201  23080242   M        Chi, Pei       60       50        89   \n6   2308024347  23080243   F         Li, Hua       67       61        84   \n7   2308024307  23080243   M       Chen, Ten       76       79        86   \n8   2308024226  23080243   M         Yu, Hao       66       67        85   \n9   2308024220  23080243   F         Li, Jia       62       60        90   \n10  2308024242  23080243   M   Li, Shang Chu       76       90        84   \n11  2308024210  23080243   F         Guo, Yi       79       67        84   \n12  2308024435  23080244   M   Jiang, Yi Tao       77       71        71   \n13  2308024432  23080244   M        Zhao, Yu       74       74        74   \n14  2308024446  23080244   F        Zhou, Lu       76       80        77   \n15  2308024421  23080244   M  Lin, Jian Xian       73       72        81   \n16  2308024433  23080244   M    Li, Da Qiang       79       76        77   \n17  2308024428  23080244   M    Li, Che Tong       64       96        91   \n18  2308024402  23080244   F       Wang, hui       73       74        93   \n19  2308024422  23080244   M  Li, Xiao Liang       85       60        85   \n\n    Maths  Algebra  Geometry  Computer  \n0      40       23        60        89  \n1      47       47        44        82  \n2      45       45        60        80  \n3      72       62        71        82  \n4      61       47        46        83  \n5      71       76        71        82  \n6      61       65        78        83  \n7      69       40        69        82  \n8      65       61        71        95  \n9      60       67         7        95  \n10     60       66        60        82  \n11     64       64        79        85  \n12     87       61        73        76  \n13     88       68        70        71  \n14     61       74        80        85  \n15     63       90        75        85  \n16     78       70        70        89  \n17     69       60        77        83  \n18     70       71        75        88  \n19     72       72        83        89  ",
      "text/html": "<div>\n<style scoped>\n    .dataframe tbody tr th:only-of-type {\n        vertical-align: middle;\n    }\n\n    .dataframe tbody tr th {\n        vertical-align: top;\n    }\n\n    .dataframe thead th {\n        text-align: right;\n    }\n</style>\n<table border=\"1\" class=\"dataframe\">\n  <thead>\n    <tr style=\"text-align: right;\">\n      <th></th>\n      <th>School Num</th>\n      <th>Class</th>\n      <th>Sex</th>\n      <th>Name</th>\n      <th>English</th>\n      <th>Physics</th>\n      <th>Military</th>\n      <th>Maths</th>\n      <th>Algebra</th>\n      <th>Geometry</th>\n      <th>Computer</th>\n    </tr>\n  </thead>\n  <tbody>\n    <tr>\n      <th>0</th>\n      <td>2308024241</td>\n      <td>23080242</td>\n      <td>M</td>\n      <td>Chen, Long</td>\n      <td>76</td>\n      <td>78</td>\n      <td>77</td>\n      <td>40</td>\n      <td>23</td>\n      <td>60</td>\n      <td>89</td>\n    </tr>\n    <tr>\n      <th>1</th>\n      <td>2308024244</td>\n      <td>23080242</td>\n      <td>F</td>\n      <td>Zhou, Yi</td>\n      <td>66</td>\n      <td>91</td>\n      <td>75</td>\n      <td>47</td>\n      <td>47</td>\n      <td>44</td>\n      <td>82</td>\n    </tr>\n    <tr>\n      <th>2</th>\n      <td>2308024251</td>\n      <td>23080242</td>\n      <td>M</td>\n      <td>Zhang， Bo</td>\n      <td>85</td>\n      <td>81</td>\n      <td>75</td>\n      <td>45</td>\n      <td>45</td>\n      <td>60</td>\n      <td>80</td>\n    </tr>\n    <tr>\n      <th>3</th>\n      <td>2308024249</td>\n      <td>23080242</td>\n      <td>M</td>\n      <td>Zhu, Hao</td>\n      <td>65</td>\n      <td>50</td>\n      <td>80</td>\n      <td>72</td>\n      <td>62</td>\n      <td>71</td>\n      <td>82</td>\n    </tr>\n    <tr>\n      <th>4</th>\n      <td>2308024219</td>\n      <td>23080242</td>\n      <td>F</td>\n      <td>Feng, Yin</td>\n      <td>73</td>\n      <td>88</td>\n      <td>92</td>\n      <td>61</td>\n      <td>47</td>\n      <td>46</td>\n      <td>83</td>\n    </tr>\n    <tr>\n      <th>5</th>\n      <td>2308024201</td>\n      <td>23080242</td>\n      <td>M</td>\n      <td>Chi, Pei</td>\n      <td>60</td>\n      <td>50</td>\n      <td>89</td>\n      <td>71</td>\n      <td>76</td>\n      <td>71</td>\n      <td>82</td>\n    </tr>\n    <tr>\n      <th>6</th>\n      <td>2308024347</td>\n      <td>23080243</td>\n      <td>F</td>\n      <td>Li, Hua</td>\n      <td>67</td>\n      <td>61</td>\n      <td>84</td>\n      <td>61</td>\n      <td>65</td>\n      <td>78</td>\n      <td>83</td>\n    </tr>\n    <tr>\n      <th>7</th>\n      <td>2308024307</td>\n      <td>23080243</td>\n      <td>M</td>\n      <td>Chen, Ten</td>\n      <td>76</td>\n      <td>79</td>\n      <td>86</td>\n      <td>69</td>\n      <td>40</td>\n      <td>69</td>\n      <td>82</td>\n    </tr>\n    <tr>\n      <th>8</th>\n      <td>2308024226</td>\n      <td>23080243</td>\n      <td>M</td>\n      <td>Yu, Hao</td>\n      <td>66</td>\n      <td>67</td>\n      <td>85</td>\n      <td>65</td>\n      <td>61</td>\n      <td>71</td>\n      <td>95</td>\n    </tr>\n    <tr>\n      <th>9</th>\n      <td>2308024220</td>\n      <td>23080243</td>\n      <td>F</td>\n      <td>Li, Jia</td>\n      <td>62</td>\n      <td>60</td>\n      <td>90</td>\n      <td>60</td>\n      <td>67</td>\n      <td>7</td>\n      <td>95</td>\n    </tr>\n    <tr>\n      <th>10</th>\n      <td>2308024242</td>\n      <td>23080243</td>\n      <td>M</td>\n      <td>Li, Shang Chu</td>\n      <td>76</td>\n      <td>90</td>\n      <td>84</td>\n      <td>60</td>\n      <td>66</td>\n      <td>60</td>\n      <td>82</td>\n    </tr>\n    <tr>\n      <th>11</th>\n      <td>2308024210</td>\n      <td>23080243</td>\n      <td>F</td>\n      <td>Guo, Yi</td>\n      <td>79</td>\n      <td>67</td>\n      <td>84</td>\n      <td>64</td>\n      <td>64</td>\n      <td>79</td>\n      <td>85</td>\n    </tr>\n    <tr>\n      <th>12</th>\n      <td>2308024435</td>\n      <td>23080244</td>\n      <td>M</td>\n      <td>Jiang, Yi Tao</td>\n      <td>77</td>\n      <td>71</td>\n      <td>71</td>\n      <td>87</td>\n      <td>61</td>\n      <td>73</td>\n      <td>76</td>\n    </tr>\n    <tr>\n      <th>13</th>\n      <td>2308024432</td>\n      <td>23080244</td>\n      <td>M</td>\n      <td>Zhao, Yu</td>\n      <td>74</td>\n      <td>74</td>\n      <td>74</td>\n      <td>88</td>\n      <td>68</td>\n      <td>70</td>\n      <td>71</td>\n    </tr>\n    <tr>\n      <th>14</th>\n      <td>2308024446</td>\n      <td>23080244</td>\n      <td>F</td>\n      <td>Zhou, Lu</td>\n      <td>76</td>\n      <td>80</td>\n      <td>77</td>\n      <td>61</td>\n      <td>74</td>\n      <td>80</td>\n      <td>85</td>\n    </tr>\n    <tr>\n      <th>15</th>\n      <td>2308024421</td>\n      <td>23080244</td>\n      <td>M</td>\n      <td>Lin, Jian Xian</td>\n      <td>73</td>\n      <td>72</td>\n      <td>81</td>\n      <td>63</td>\n      <td>90</td>\n      <td>75</td>\n      <td>85</td>\n    </tr>\n    <tr>\n      <th>16</th>\n      <td>2308024433</td>\n      <td>23080244</td>\n      <td>M</td>\n      <td>Li, Da Qiang</td>\n      <td>79</td>\n      <td>76</td>\n      <td>77</td>\n      <td>78</td>\n      <td>70</td>\n      <td>70</td>\n      <td>89</td>\n    </tr>\n    <tr>\n      <th>17</th>\n      <td>2308024428</td>\n      <td>23080244</td>\n      <td>M</td>\n      <td>Li, Che Tong</td>\n      <td>64</td>\n      <td>96</td>\n      <td>91</td>\n      <td>69</td>\n      <td>60</td>\n      <td>77</td>\n      <td>83</td>\n    </tr>\n    <tr>\n      <th>18</th>\n      <td>2308024402</td>\n      <td>23080244</td>\n      <td>F</td>\n      <td>Wang, hui</td>\n      <td>73</td>\n      <td>74</td>\n      <td>93</td>\n      <td>70</td>\n      <td>71</td>\n      <td>75</td>\n      <td>88</td>\n    </tr>\n    <tr>\n      <th>19</th>\n      <td>2308024422</td>\n      <td>23080244</td>\n      <td>M</td>\n      <td>Li, Xiao Liang</td>\n      <td>85</td>\n      <td>60</td>\n      <td>85</td>\n      <td>72</td>\n      <td>72</td>\n      <td>83</td>\n      <td>89</td>\n    </tr>\n  </tbody>\n</table>\n</div>"
     },
     "execution_count": 64,
     "metadata": {},
     "output_type": "execute_result"
    }
   ],
   "source": [
    "del df[\"Unnamed: 0\"]\n",
    "df"
   ],
   "metadata": {
    "collapsed": false,
    "pycharm": {
     "name": "#%%\n"
    }
   }
  },
  {
   "cell_type": "code",
   "execution_count": 65,
   "outputs": [
    {
     "data": {
      "text/plain": "    School Num     Class Sex            Name  English  Physics  Military  \\\n0   2308024241  23080242   M      Chen, Long       76       78        77   \n1   2308024244  23080242   F        Zhou, Yi       66       91        75   \n2   2308024251  23080242   M       Zhang， Bo       85       81        75   \n3   2308024249  23080242   M        Zhu, Hao       65       50        80   \n4   2308024219  23080242   F       Feng, Yin       73       88        92   \n5   2308024201  23080242   M        Chi, Pei       60       50        89   \n6   2308024347  23080243   F         Li, Hua       67       61        84   \n7   2308024307  23080243   M       Chen, Ten       76       79        86   \n8   2308024226  23080243   M         Yu, Hao       66       67        85   \n9   2308024220  23080243   F         Li, Jia       62       60        90   \n10  2308024242  23080243   M   Li, Shang Chu       76       90        84   \n11  2308024210  23080243   F         Guo, Yi       79       67        84   \n12  2308024435  23080244   M   Jiang, Yi Tao       77       71        71   \n13  2308024432  23080244   M        Zhao, Yu       74       74        74   \n14  2308024446  23080244   F        Zhou, Lu       76       80        77   \n15  2308024421  23080244   M  Lin, Jian Xian       73       72        81   \n16  2308024433  23080244   M    Li, Da Qiang       79       76        77   \n17  2308024428  23080244   M    Li, Che Tong       64       96        91   \n18  2308024402  23080244   F       Wang, hui       73       74        93   \n19  2308024422  23080244   M  Li, Xiao Liang       85       60        85   \n\n    Maths  Algebra  Geometry  Computer  \n0      40       23        60        89  \n1      47       47        44        82  \n2      45       45        60        80  \n3      72       62        71        82  \n4      61       47        46        83  \n5      71       76        71        82  \n6      61       65        78        83  \n7      69       40        69        82  \n8      65       61        71        95  \n9      60       67         7        95  \n10     60       66        60        82  \n11     64       64        79        85  \n12     87       61        73        76  \n13     88       68        70        71  \n14     61       74        80        85  \n15     63       90        75        85  \n16     78       70        70        89  \n17     69       60        77        83  \n18     70       71        75        88  \n19     72       72        83        89  ",
      "text/html": "<div>\n<style scoped>\n    .dataframe tbody tr th:only-of-type {\n        vertical-align: middle;\n    }\n\n    .dataframe tbody tr th {\n        vertical-align: top;\n    }\n\n    .dataframe thead th {\n        text-align: right;\n    }\n</style>\n<table border=\"1\" class=\"dataframe\">\n  <thead>\n    <tr style=\"text-align: right;\">\n      <th></th>\n      <th>School Num</th>\n      <th>Class</th>\n      <th>Sex</th>\n      <th>Name</th>\n      <th>English</th>\n      <th>Physics</th>\n      <th>Military</th>\n      <th>Maths</th>\n      <th>Algebra</th>\n      <th>Geometry</th>\n      <th>Computer</th>\n    </tr>\n  </thead>\n  <tbody>\n    <tr>\n      <th>0</th>\n      <td>2308024241</td>\n      <td>23080242</td>\n      <td>M</td>\n      <td>Chen, Long</td>\n      <td>76</td>\n      <td>78</td>\n      <td>77</td>\n      <td>40</td>\n      <td>23</td>\n      <td>60</td>\n      <td>89</td>\n    </tr>\n    <tr>\n      <th>1</th>\n      <td>2308024244</td>\n      <td>23080242</td>\n      <td>F</td>\n      <td>Zhou, Yi</td>\n      <td>66</td>\n      <td>91</td>\n      <td>75</td>\n      <td>47</td>\n      <td>47</td>\n      <td>44</td>\n      <td>82</td>\n    </tr>\n    <tr>\n      <th>2</th>\n      <td>2308024251</td>\n      <td>23080242</td>\n      <td>M</td>\n      <td>Zhang， Bo</td>\n      <td>85</td>\n      <td>81</td>\n      <td>75</td>\n      <td>45</td>\n      <td>45</td>\n      <td>60</td>\n      <td>80</td>\n    </tr>\n    <tr>\n      <th>3</th>\n      <td>2308024249</td>\n      <td>23080242</td>\n      <td>M</td>\n      <td>Zhu, Hao</td>\n      <td>65</td>\n      <td>50</td>\n      <td>80</td>\n      <td>72</td>\n      <td>62</td>\n      <td>71</td>\n      <td>82</td>\n    </tr>\n    <tr>\n      <th>4</th>\n      <td>2308024219</td>\n      <td>23080242</td>\n      <td>F</td>\n      <td>Feng, Yin</td>\n      <td>73</td>\n      <td>88</td>\n      <td>92</td>\n      <td>61</td>\n      <td>47</td>\n      <td>46</td>\n      <td>83</td>\n    </tr>\n    <tr>\n      <th>5</th>\n      <td>2308024201</td>\n      <td>23080242</td>\n      <td>M</td>\n      <td>Chi, Pei</td>\n      <td>60</td>\n      <td>50</td>\n      <td>89</td>\n      <td>71</td>\n      <td>76</td>\n      <td>71</td>\n      <td>82</td>\n    </tr>\n    <tr>\n      <th>6</th>\n      <td>2308024347</td>\n      <td>23080243</td>\n      <td>F</td>\n      <td>Li, Hua</td>\n      <td>67</td>\n      <td>61</td>\n      <td>84</td>\n      <td>61</td>\n      <td>65</td>\n      <td>78</td>\n      <td>83</td>\n    </tr>\n    <tr>\n      <th>7</th>\n      <td>2308024307</td>\n      <td>23080243</td>\n      <td>M</td>\n      <td>Chen, Ten</td>\n      <td>76</td>\n      <td>79</td>\n      <td>86</td>\n      <td>69</td>\n      <td>40</td>\n      <td>69</td>\n      <td>82</td>\n    </tr>\n    <tr>\n      <th>8</th>\n      <td>2308024226</td>\n      <td>23080243</td>\n      <td>M</td>\n      <td>Yu, Hao</td>\n      <td>66</td>\n      <td>67</td>\n      <td>85</td>\n      <td>65</td>\n      <td>61</td>\n      <td>71</td>\n      <td>95</td>\n    </tr>\n    <tr>\n      <th>9</th>\n      <td>2308024220</td>\n      <td>23080243</td>\n      <td>F</td>\n      <td>Li, Jia</td>\n      <td>62</td>\n      <td>60</td>\n      <td>90</td>\n      <td>60</td>\n      <td>67</td>\n      <td>7</td>\n      <td>95</td>\n    </tr>\n    <tr>\n      <th>10</th>\n      <td>2308024242</td>\n      <td>23080243</td>\n      <td>M</td>\n      <td>Li, Shang Chu</td>\n      <td>76</td>\n      <td>90</td>\n      <td>84</td>\n      <td>60</td>\n      <td>66</td>\n      <td>60</td>\n      <td>82</td>\n    </tr>\n    <tr>\n      <th>11</th>\n      <td>2308024210</td>\n      <td>23080243</td>\n      <td>F</td>\n      <td>Guo, Yi</td>\n      <td>79</td>\n      <td>67</td>\n      <td>84</td>\n      <td>64</td>\n      <td>64</td>\n      <td>79</td>\n      <td>85</td>\n    </tr>\n    <tr>\n      <th>12</th>\n      <td>2308024435</td>\n      <td>23080244</td>\n      <td>M</td>\n      <td>Jiang, Yi Tao</td>\n      <td>77</td>\n      <td>71</td>\n      <td>71</td>\n      <td>87</td>\n      <td>61</td>\n      <td>73</td>\n      <td>76</td>\n    </tr>\n    <tr>\n      <th>13</th>\n      <td>2308024432</td>\n      <td>23080244</td>\n      <td>M</td>\n      <td>Zhao, Yu</td>\n      <td>74</td>\n      <td>74</td>\n      <td>74</td>\n      <td>88</td>\n      <td>68</td>\n      <td>70</td>\n      <td>71</td>\n    </tr>\n    <tr>\n      <th>14</th>\n      <td>2308024446</td>\n      <td>23080244</td>\n      <td>F</td>\n      <td>Zhou, Lu</td>\n      <td>76</td>\n      <td>80</td>\n      <td>77</td>\n      <td>61</td>\n      <td>74</td>\n      <td>80</td>\n      <td>85</td>\n    </tr>\n    <tr>\n      <th>15</th>\n      <td>2308024421</td>\n      <td>23080244</td>\n      <td>M</td>\n      <td>Lin, Jian Xian</td>\n      <td>73</td>\n      <td>72</td>\n      <td>81</td>\n      <td>63</td>\n      <td>90</td>\n      <td>75</td>\n      <td>85</td>\n    </tr>\n    <tr>\n      <th>16</th>\n      <td>2308024433</td>\n      <td>23080244</td>\n      <td>M</td>\n      <td>Li, Da Qiang</td>\n      <td>79</td>\n      <td>76</td>\n      <td>77</td>\n      <td>78</td>\n      <td>70</td>\n      <td>70</td>\n      <td>89</td>\n    </tr>\n    <tr>\n      <th>17</th>\n      <td>2308024428</td>\n      <td>23080244</td>\n      <td>M</td>\n      <td>Li, Che Tong</td>\n      <td>64</td>\n      <td>96</td>\n      <td>91</td>\n      <td>69</td>\n      <td>60</td>\n      <td>77</td>\n      <td>83</td>\n    </tr>\n    <tr>\n      <th>18</th>\n      <td>2308024402</td>\n      <td>23080244</td>\n      <td>F</td>\n      <td>Wang, hui</td>\n      <td>73</td>\n      <td>74</td>\n      <td>93</td>\n      <td>70</td>\n      <td>71</td>\n      <td>75</td>\n      <td>88</td>\n    </tr>\n    <tr>\n      <th>19</th>\n      <td>2308024422</td>\n      <td>23080244</td>\n      <td>M</td>\n      <td>Li, Xiao Liang</td>\n      <td>85</td>\n      <td>60</td>\n      <td>85</td>\n      <td>72</td>\n      <td>72</td>\n      <td>83</td>\n      <td>89</td>\n    </tr>\n  </tbody>\n</table>\n</div>"
     },
     "execution_count": 65,
     "metadata": {},
     "output_type": "execute_result"
    }
   ],
   "source": [
    "df.groupby(by=['Class']).sum()\n",
    "df"
   ],
   "metadata": {
    "collapsed": false,
    "pycharm": {
     "name": "#%%\n"
    }
   }
  },
  {
   "cell_type": "code",
   "execution_count": 66,
   "outputs": [
    {
     "data": {
      "text/plain": "    School Num     Class Sex            Name  English  Physics  Military  \\\n0   2308024241  23080242   M      Chen, Long       76       78        77   \n1   2308024244  23080242   F        Zhou, Yi       66       91        75   \n2   2308024251  23080242   M       Zhang， Bo       85       81        75   \n3   2308024249  23080242   M        Zhu, Hao       65       50        80   \n4   2308024219  23080242   F       Feng, Yin       73       88        92   \n5   2308024201  23080242   M        Chi, Pei       60       50        89   \n6   2308024347  23080243   F         Li, Hua       67       61        84   \n7   2308024307  23080243   M       Chen, Ten       76       79        86   \n8   2308024226  23080243   M         Yu, Hao       66       67        85   \n9   2308024220  23080243   F         Li, Jia       62       60        90   \n10  2308024242  23080243   M   Li, Shang Chu       76       90        84   \n11  2308024210  23080243   F         Guo, Yi       79       67        84   \n12  2308024435  23080244   M   Jiang, Yi Tao       77       71        71   \n13  2308024432  23080244   M        Zhao, Yu       74       74        74   \n14  2308024446  23080244   F        Zhou, Lu       76       80        77   \n15  2308024421  23080244   M  Lin, Jian Xian       73       72        81   \n16  2308024433  23080244   M    Li, Da Qiang       79       76        77   \n17  2308024428  23080244   M    Li, Che Tong       64       96        91   \n18  2308024402  23080244   F       Wang, hui       73       74        93   \n19  2308024422  23080244   M  Li, Xiao Liang       85       60        85   \n\n    Maths  Algebra  Geometry  Computer  \n0      40       23        60        89  \n1      47       47        44        82  \n2      45       45        60        80  \n3      72       62        71        82  \n4      61       47        46        83  \n5      71       76        71        82  \n6      61       65        78        83  \n7      69       40        69        82  \n8      65       61        71        95  \n9      60       67         7        95  \n10     60       66        60        82  \n11     64       64        79        85  \n12     87       61        73        76  \n13     88       68        70        71  \n14     61       74        80        85  \n15     63       90        75        85  \n16     78       70        70        89  \n17     69       60        77        83  \n18     70       71        75        88  \n19     72       72        83        89  ",
      "text/html": "<div>\n<style scoped>\n    .dataframe tbody tr th:only-of-type {\n        vertical-align: middle;\n    }\n\n    .dataframe tbody tr th {\n        vertical-align: top;\n    }\n\n    .dataframe thead th {\n        text-align: right;\n    }\n</style>\n<table border=\"1\" class=\"dataframe\">\n  <thead>\n    <tr style=\"text-align: right;\">\n      <th></th>\n      <th>School Num</th>\n      <th>Class</th>\n      <th>Sex</th>\n      <th>Name</th>\n      <th>English</th>\n      <th>Physics</th>\n      <th>Military</th>\n      <th>Maths</th>\n      <th>Algebra</th>\n      <th>Geometry</th>\n      <th>Computer</th>\n    </tr>\n  </thead>\n  <tbody>\n    <tr>\n      <th>0</th>\n      <td>2308024241</td>\n      <td>23080242</td>\n      <td>M</td>\n      <td>Chen, Long</td>\n      <td>76</td>\n      <td>78</td>\n      <td>77</td>\n      <td>40</td>\n      <td>23</td>\n      <td>60</td>\n      <td>89</td>\n    </tr>\n    <tr>\n      <th>1</th>\n      <td>2308024244</td>\n      <td>23080242</td>\n      <td>F</td>\n      <td>Zhou, Yi</td>\n      <td>66</td>\n      <td>91</td>\n      <td>75</td>\n      <td>47</td>\n      <td>47</td>\n      <td>44</td>\n      <td>82</td>\n    </tr>\n    <tr>\n      <th>2</th>\n      <td>2308024251</td>\n      <td>23080242</td>\n      <td>M</td>\n      <td>Zhang， Bo</td>\n      <td>85</td>\n      <td>81</td>\n      <td>75</td>\n      <td>45</td>\n      <td>45</td>\n      <td>60</td>\n      <td>80</td>\n    </tr>\n    <tr>\n      <th>3</th>\n      <td>2308024249</td>\n      <td>23080242</td>\n      <td>M</td>\n      <td>Zhu, Hao</td>\n      <td>65</td>\n      <td>50</td>\n      <td>80</td>\n      <td>72</td>\n      <td>62</td>\n      <td>71</td>\n      <td>82</td>\n    </tr>\n    <tr>\n      <th>4</th>\n      <td>2308024219</td>\n      <td>23080242</td>\n      <td>F</td>\n      <td>Feng, Yin</td>\n      <td>73</td>\n      <td>88</td>\n      <td>92</td>\n      <td>61</td>\n      <td>47</td>\n      <td>46</td>\n      <td>83</td>\n    </tr>\n    <tr>\n      <th>5</th>\n      <td>2308024201</td>\n      <td>23080242</td>\n      <td>M</td>\n      <td>Chi, Pei</td>\n      <td>60</td>\n      <td>50</td>\n      <td>89</td>\n      <td>71</td>\n      <td>76</td>\n      <td>71</td>\n      <td>82</td>\n    </tr>\n    <tr>\n      <th>6</th>\n      <td>2308024347</td>\n      <td>23080243</td>\n      <td>F</td>\n      <td>Li, Hua</td>\n      <td>67</td>\n      <td>61</td>\n      <td>84</td>\n      <td>61</td>\n      <td>65</td>\n      <td>78</td>\n      <td>83</td>\n    </tr>\n    <tr>\n      <th>7</th>\n      <td>2308024307</td>\n      <td>23080243</td>\n      <td>M</td>\n      <td>Chen, Ten</td>\n      <td>76</td>\n      <td>79</td>\n      <td>86</td>\n      <td>69</td>\n      <td>40</td>\n      <td>69</td>\n      <td>82</td>\n    </tr>\n    <tr>\n      <th>8</th>\n      <td>2308024226</td>\n      <td>23080243</td>\n      <td>M</td>\n      <td>Yu, Hao</td>\n      <td>66</td>\n      <td>67</td>\n      <td>85</td>\n      <td>65</td>\n      <td>61</td>\n      <td>71</td>\n      <td>95</td>\n    </tr>\n    <tr>\n      <th>9</th>\n      <td>2308024220</td>\n      <td>23080243</td>\n      <td>F</td>\n      <td>Li, Jia</td>\n      <td>62</td>\n      <td>60</td>\n      <td>90</td>\n      <td>60</td>\n      <td>67</td>\n      <td>7</td>\n      <td>95</td>\n    </tr>\n    <tr>\n      <th>10</th>\n      <td>2308024242</td>\n      <td>23080243</td>\n      <td>M</td>\n      <td>Li, Shang Chu</td>\n      <td>76</td>\n      <td>90</td>\n      <td>84</td>\n      <td>60</td>\n      <td>66</td>\n      <td>60</td>\n      <td>82</td>\n    </tr>\n    <tr>\n      <th>11</th>\n      <td>2308024210</td>\n      <td>23080243</td>\n      <td>F</td>\n      <td>Guo, Yi</td>\n      <td>79</td>\n      <td>67</td>\n      <td>84</td>\n      <td>64</td>\n      <td>64</td>\n      <td>79</td>\n      <td>85</td>\n    </tr>\n    <tr>\n      <th>12</th>\n      <td>2308024435</td>\n      <td>23080244</td>\n      <td>M</td>\n      <td>Jiang, Yi Tao</td>\n      <td>77</td>\n      <td>71</td>\n      <td>71</td>\n      <td>87</td>\n      <td>61</td>\n      <td>73</td>\n      <td>76</td>\n    </tr>\n    <tr>\n      <th>13</th>\n      <td>2308024432</td>\n      <td>23080244</td>\n      <td>M</td>\n      <td>Zhao, Yu</td>\n      <td>74</td>\n      <td>74</td>\n      <td>74</td>\n      <td>88</td>\n      <td>68</td>\n      <td>70</td>\n      <td>71</td>\n    </tr>\n    <tr>\n      <th>14</th>\n      <td>2308024446</td>\n      <td>23080244</td>\n      <td>F</td>\n      <td>Zhou, Lu</td>\n      <td>76</td>\n      <td>80</td>\n      <td>77</td>\n      <td>61</td>\n      <td>74</td>\n      <td>80</td>\n      <td>85</td>\n    </tr>\n    <tr>\n      <th>15</th>\n      <td>2308024421</td>\n      <td>23080244</td>\n      <td>M</td>\n      <td>Lin, Jian Xian</td>\n      <td>73</td>\n      <td>72</td>\n      <td>81</td>\n      <td>63</td>\n      <td>90</td>\n      <td>75</td>\n      <td>85</td>\n    </tr>\n    <tr>\n      <th>16</th>\n      <td>2308024433</td>\n      <td>23080244</td>\n      <td>M</td>\n      <td>Li, Da Qiang</td>\n      <td>79</td>\n      <td>76</td>\n      <td>77</td>\n      <td>78</td>\n      <td>70</td>\n      <td>70</td>\n      <td>89</td>\n    </tr>\n    <tr>\n      <th>17</th>\n      <td>2308024428</td>\n      <td>23080244</td>\n      <td>M</td>\n      <td>Li, Che Tong</td>\n      <td>64</td>\n      <td>96</td>\n      <td>91</td>\n      <td>69</td>\n      <td>60</td>\n      <td>77</td>\n      <td>83</td>\n    </tr>\n    <tr>\n      <th>18</th>\n      <td>2308024402</td>\n      <td>23080244</td>\n      <td>F</td>\n      <td>Wang, hui</td>\n      <td>73</td>\n      <td>74</td>\n      <td>93</td>\n      <td>70</td>\n      <td>71</td>\n      <td>75</td>\n      <td>88</td>\n    </tr>\n    <tr>\n      <th>19</th>\n      <td>2308024422</td>\n      <td>23080244</td>\n      <td>M</td>\n      <td>Li, Xiao Liang</td>\n      <td>85</td>\n      <td>60</td>\n      <td>85</td>\n      <td>72</td>\n      <td>72</td>\n      <td>83</td>\n      <td>89</td>\n    </tr>\n  </tbody>\n</table>\n</div>"
     },
     "execution_count": 66,
     "metadata": {},
     "output_type": "execute_result"
    }
   ],
   "source": [
    "df.groupby(by=['Class','Sex']).sum()\n",
    "df"
   ],
   "metadata": {
    "collapsed": false,
    "pycharm": {
     "name": "#%%\n"
    }
   }
  },
  {
   "cell_type": "code",
   "execution_count": 67,
   "outputs": [
    {
     "data": {
      "text/plain": "              min  max\nClass    Sex          \n23080242 F     75   92\n         M     75   89\n23080243 F     84   90\n         M     84   86\n23080244 F     77   93\n         M     71   91",
      "text/html": "<div>\n<style scoped>\n    .dataframe tbody tr th:only-of-type {\n        vertical-align: middle;\n    }\n\n    .dataframe tbody tr th {\n        vertical-align: top;\n    }\n\n    .dataframe thead th {\n        text-align: right;\n    }\n</style>\n<table border=\"1\" class=\"dataframe\">\n  <thead>\n    <tr style=\"text-align: right;\">\n      <th></th>\n      <th></th>\n      <th>min</th>\n      <th>max</th>\n    </tr>\n    <tr>\n      <th>Class</th>\n      <th>Sex</th>\n      <th></th>\n      <th></th>\n    </tr>\n  </thead>\n  <tbody>\n    <tr>\n      <th rowspan=\"2\" valign=\"top\">23080242</th>\n      <th>F</th>\n      <td>75</td>\n      <td>92</td>\n    </tr>\n    <tr>\n      <th>M</th>\n      <td>75</td>\n      <td>89</td>\n    </tr>\n    <tr>\n      <th rowspan=\"2\" valign=\"top\">23080243</th>\n      <th>F</th>\n      <td>84</td>\n      <td>90</td>\n    </tr>\n    <tr>\n      <th>M</th>\n      <td>84</td>\n      <td>86</td>\n    </tr>\n    <tr>\n      <th rowspan=\"2\" valign=\"top\">23080244</th>\n      <th>F</th>\n      <td>77</td>\n      <td>93</td>\n    </tr>\n    <tr>\n      <th>M</th>\n      <td>71</td>\n      <td>91</td>\n    </tr>\n  </tbody>\n</table>\n</div>"
     },
     "execution_count": 67,
     "metadata": {},
     "output_type": "execute_result"
    }
   ],
   "source": [
    "df.groupby(by=['Class','Sex'])['Military'].agg(['min','max'])"
   ],
   "metadata": {
    "collapsed": false,
    "pycharm": {
     "name": "#%%\n"
    }
   }
  },
  {
   "cell_type": "code",
   "execution_count": 68,
   "outputs": [
    {
     "data": {
      "text/plain": "              min  max  sum       mean         var        std  size\nClass    Sex                                                       \n23080242 F     75   92  167  83.500000  144.500000  12.020815     2\n         M     75   89  321  80.250000   38.250000   6.184658     4\n23080243 F     84   90  258  86.000000   12.000000   3.464102     3\n         M     84   86  255  85.000000    1.000000   1.000000     3\n23080244 F     77   93  170  85.000000  128.000000  11.313708     2\n         M     71   91  479  79.833333   54.566667   7.386925     6",
      "text/html": "<div>\n<style scoped>\n    .dataframe tbody tr th:only-of-type {\n        vertical-align: middle;\n    }\n\n    .dataframe tbody tr th {\n        vertical-align: top;\n    }\n\n    .dataframe thead th {\n        text-align: right;\n    }\n</style>\n<table border=\"1\" class=\"dataframe\">\n  <thead>\n    <tr style=\"text-align: right;\">\n      <th></th>\n      <th></th>\n      <th>min</th>\n      <th>max</th>\n      <th>sum</th>\n      <th>mean</th>\n      <th>var</th>\n      <th>std</th>\n      <th>size</th>\n    </tr>\n    <tr>\n      <th>Class</th>\n      <th>Sex</th>\n      <th></th>\n      <th></th>\n      <th></th>\n      <th></th>\n      <th></th>\n      <th></th>\n      <th></th>\n    </tr>\n  </thead>\n  <tbody>\n    <tr>\n      <th rowspan=\"2\" valign=\"top\">23080242</th>\n      <th>F</th>\n      <td>75</td>\n      <td>92</td>\n      <td>167</td>\n      <td>83.500000</td>\n      <td>144.500000</td>\n      <td>12.020815</td>\n      <td>2</td>\n    </tr>\n    <tr>\n      <th>M</th>\n      <td>75</td>\n      <td>89</td>\n      <td>321</td>\n      <td>80.250000</td>\n      <td>38.250000</td>\n      <td>6.184658</td>\n      <td>4</td>\n    </tr>\n    <tr>\n      <th rowspan=\"2\" valign=\"top\">23080243</th>\n      <th>F</th>\n      <td>84</td>\n      <td>90</td>\n      <td>258</td>\n      <td>86.000000</td>\n      <td>12.000000</td>\n      <td>3.464102</td>\n      <td>3</td>\n    </tr>\n    <tr>\n      <th>M</th>\n      <td>84</td>\n      <td>86</td>\n      <td>255</td>\n      <td>85.000000</td>\n      <td>1.000000</td>\n      <td>1.000000</td>\n      <td>3</td>\n    </tr>\n    <tr>\n      <th rowspan=\"2\" valign=\"top\">23080244</th>\n      <th>F</th>\n      <td>77</td>\n      <td>93</td>\n      <td>170</td>\n      <td>85.000000</td>\n      <td>128.000000</td>\n      <td>11.313708</td>\n      <td>2</td>\n    </tr>\n    <tr>\n      <th>M</th>\n      <td>71</td>\n      <td>91</td>\n      <td>479</td>\n      <td>79.833333</td>\n      <td>54.566667</td>\n      <td>7.386925</td>\n      <td>6</td>\n    </tr>\n  </tbody>\n</table>\n</div>"
     },
     "execution_count": 68,
     "metadata": {},
     "output_type": "execute_result"
    }
   ],
   "source": [
    "df.groupby(by=['Class','Sex'])['Military'].agg(['min','max','sum','mean','var','std','size'])"
   ],
   "metadata": {
    "collapsed": false,
    "pycharm": {
     "name": "#%%\n"
    }
   }
  },
  {
   "cell_type": "code",
   "execution_count": 69,
   "outputs": [
    {
     "data": {
      "text/plain": "    Unnamed: 0  School Num     Class Sex            Name  English  Physics  \\\n0            0  2308024241  23080242   M      Chen, Long       76       78   \n1            1  2308024244  23080242   F        Zhou, Yi       66       91   \n2            2  2308024251  23080242   M       Zhang， Bo       85       81   \n3            3  2308024249  23080242   M        Zhu, Hao       65       50   \n4            4  2308024219  23080242   F       Feng, Yin       73       88   \n5            5  2308024201  23080242   M        Chi, Pei       60       50   \n6            6  2308024347  23080243   F         Li, Hua       67       61   \n7            7  2308024307  23080243   M       Chen, Ten       76       79   \n8            8  2308024226  23080243   M         Yu, Hao       66       67   \n9            9  2308024220  23080243   F         Li, Jia       62       60   \n10          10  2308024242  23080243   M   Li, Shang Chu       76       90   \n11          11  2308024210  23080243   F         Guo, Yi       79       67   \n12          12  2308024435  23080244   M   Jiang, Yi Tao       77       71   \n13          13  2308024432  23080244   M        Zhao, Yu       74       74   \n14          14  2308024446  23080244   F        Zhou, Lu       76       80   \n15          15  2308024421  23080244   M  Lin, Jian Xian       73       72   \n16          16  2308024433  23080244   M    Li, Da Qiang       79       76   \n17          17  2308024428  23080244   M    Li, Che Tong       64       96   \n18          18  2308024402  23080244   F       Wang, hui       73       74   \n19          19  2308024422  23080244   M  Li, Xiao Liang       85       60   \n\n    Military  Maths  Algebra  Geometry  Computer  \n0         77     40       23        60        89  \n1         75     47       47        44        82  \n2         75     45       45        60        80  \n3         80     72       62        71        82  \n4         92     61       47        46        83  \n5         89     71       76        71        82  \n6         84     61       65        78        83  \n7         86     69       40        69        82  \n8         85     65       61        71        95  \n9         90     60       67         7        95  \n10        84     60       66        60        82  \n11        84     64       64        79        85  \n12        71     87       61        73        76  \n13        74     88       68        70        71  \n14        77     61       74        80        85  \n15        81     63       90        75        85  \n16        77     78       70        70        89  \n17        91     69       60        77        83  \n18        93     70       71        75        88  \n19        85     72       72        83        89  ",
      "text/html": "<div>\n<style scoped>\n    .dataframe tbody tr th:only-of-type {\n        vertical-align: middle;\n    }\n\n    .dataframe tbody tr th {\n        vertical-align: top;\n    }\n\n    .dataframe thead th {\n        text-align: right;\n    }\n</style>\n<table border=\"1\" class=\"dataframe\">\n  <thead>\n    <tr style=\"text-align: right;\">\n      <th></th>\n      <th>Unnamed: 0</th>\n      <th>School Num</th>\n      <th>Class</th>\n      <th>Sex</th>\n      <th>Name</th>\n      <th>English</th>\n      <th>Physics</th>\n      <th>Military</th>\n      <th>Maths</th>\n      <th>Algebra</th>\n      <th>Geometry</th>\n      <th>Computer</th>\n    </tr>\n  </thead>\n  <tbody>\n    <tr>\n      <th>0</th>\n      <td>0</td>\n      <td>2308024241</td>\n      <td>23080242</td>\n      <td>M</td>\n      <td>Chen, Long</td>\n      <td>76</td>\n      <td>78</td>\n      <td>77</td>\n      <td>40</td>\n      <td>23</td>\n      <td>60</td>\n      <td>89</td>\n    </tr>\n    <tr>\n      <th>1</th>\n      <td>1</td>\n      <td>2308024244</td>\n      <td>23080242</td>\n      <td>F</td>\n      <td>Zhou, Yi</td>\n      <td>66</td>\n      <td>91</td>\n      <td>75</td>\n      <td>47</td>\n      <td>47</td>\n      <td>44</td>\n      <td>82</td>\n    </tr>\n    <tr>\n      <th>2</th>\n      <td>2</td>\n      <td>2308024251</td>\n      <td>23080242</td>\n      <td>M</td>\n      <td>Zhang， Bo</td>\n      <td>85</td>\n      <td>81</td>\n      <td>75</td>\n      <td>45</td>\n      <td>45</td>\n      <td>60</td>\n      <td>80</td>\n    </tr>\n    <tr>\n      <th>3</th>\n      <td>3</td>\n      <td>2308024249</td>\n      <td>23080242</td>\n      <td>M</td>\n      <td>Zhu, Hao</td>\n      <td>65</td>\n      <td>50</td>\n      <td>80</td>\n      <td>72</td>\n      <td>62</td>\n      <td>71</td>\n      <td>82</td>\n    </tr>\n    <tr>\n      <th>4</th>\n      <td>4</td>\n      <td>2308024219</td>\n      <td>23080242</td>\n      <td>F</td>\n      <td>Feng, Yin</td>\n      <td>73</td>\n      <td>88</td>\n      <td>92</td>\n      <td>61</td>\n      <td>47</td>\n      <td>46</td>\n      <td>83</td>\n    </tr>\n    <tr>\n      <th>5</th>\n      <td>5</td>\n      <td>2308024201</td>\n      <td>23080242</td>\n      <td>M</td>\n      <td>Chi, Pei</td>\n      <td>60</td>\n      <td>50</td>\n      <td>89</td>\n      <td>71</td>\n      <td>76</td>\n      <td>71</td>\n      <td>82</td>\n    </tr>\n    <tr>\n      <th>6</th>\n      <td>6</td>\n      <td>2308024347</td>\n      <td>23080243</td>\n      <td>F</td>\n      <td>Li, Hua</td>\n      <td>67</td>\n      <td>61</td>\n      <td>84</td>\n      <td>61</td>\n      <td>65</td>\n      <td>78</td>\n      <td>83</td>\n    </tr>\n    <tr>\n      <th>7</th>\n      <td>7</td>\n      <td>2308024307</td>\n      <td>23080243</td>\n      <td>M</td>\n      <td>Chen, Ten</td>\n      <td>76</td>\n      <td>79</td>\n      <td>86</td>\n      <td>69</td>\n      <td>40</td>\n      <td>69</td>\n      <td>82</td>\n    </tr>\n    <tr>\n      <th>8</th>\n      <td>8</td>\n      <td>2308024226</td>\n      <td>23080243</td>\n      <td>M</td>\n      <td>Yu, Hao</td>\n      <td>66</td>\n      <td>67</td>\n      <td>85</td>\n      <td>65</td>\n      <td>61</td>\n      <td>71</td>\n      <td>95</td>\n    </tr>\n    <tr>\n      <th>9</th>\n      <td>9</td>\n      <td>2308024220</td>\n      <td>23080243</td>\n      <td>F</td>\n      <td>Li, Jia</td>\n      <td>62</td>\n      <td>60</td>\n      <td>90</td>\n      <td>60</td>\n      <td>67</td>\n      <td>7</td>\n      <td>95</td>\n    </tr>\n    <tr>\n      <th>10</th>\n      <td>10</td>\n      <td>2308024242</td>\n      <td>23080243</td>\n      <td>M</td>\n      <td>Li, Shang Chu</td>\n      <td>76</td>\n      <td>90</td>\n      <td>84</td>\n      <td>60</td>\n      <td>66</td>\n      <td>60</td>\n      <td>82</td>\n    </tr>\n    <tr>\n      <th>11</th>\n      <td>11</td>\n      <td>2308024210</td>\n      <td>23080243</td>\n      <td>F</td>\n      <td>Guo, Yi</td>\n      <td>79</td>\n      <td>67</td>\n      <td>84</td>\n      <td>64</td>\n      <td>64</td>\n      <td>79</td>\n      <td>85</td>\n    </tr>\n    <tr>\n      <th>12</th>\n      <td>12</td>\n      <td>2308024435</td>\n      <td>23080244</td>\n      <td>M</td>\n      <td>Jiang, Yi Tao</td>\n      <td>77</td>\n      <td>71</td>\n      <td>71</td>\n      <td>87</td>\n      <td>61</td>\n      <td>73</td>\n      <td>76</td>\n    </tr>\n    <tr>\n      <th>13</th>\n      <td>13</td>\n      <td>2308024432</td>\n      <td>23080244</td>\n      <td>M</td>\n      <td>Zhao, Yu</td>\n      <td>74</td>\n      <td>74</td>\n      <td>74</td>\n      <td>88</td>\n      <td>68</td>\n      <td>70</td>\n      <td>71</td>\n    </tr>\n    <tr>\n      <th>14</th>\n      <td>14</td>\n      <td>2308024446</td>\n      <td>23080244</td>\n      <td>F</td>\n      <td>Zhou, Lu</td>\n      <td>76</td>\n      <td>80</td>\n      <td>77</td>\n      <td>61</td>\n      <td>74</td>\n      <td>80</td>\n      <td>85</td>\n    </tr>\n    <tr>\n      <th>15</th>\n      <td>15</td>\n      <td>2308024421</td>\n      <td>23080244</td>\n      <td>M</td>\n      <td>Lin, Jian Xian</td>\n      <td>73</td>\n      <td>72</td>\n      <td>81</td>\n      <td>63</td>\n      <td>90</td>\n      <td>75</td>\n      <td>85</td>\n    </tr>\n    <tr>\n      <th>16</th>\n      <td>16</td>\n      <td>2308024433</td>\n      <td>23080244</td>\n      <td>M</td>\n      <td>Li, Da Qiang</td>\n      <td>79</td>\n      <td>76</td>\n      <td>77</td>\n      <td>78</td>\n      <td>70</td>\n      <td>70</td>\n      <td>89</td>\n    </tr>\n    <tr>\n      <th>17</th>\n      <td>17</td>\n      <td>2308024428</td>\n      <td>23080244</td>\n      <td>M</td>\n      <td>Li, Che Tong</td>\n      <td>64</td>\n      <td>96</td>\n      <td>91</td>\n      <td>69</td>\n      <td>60</td>\n      <td>77</td>\n      <td>83</td>\n    </tr>\n    <tr>\n      <th>18</th>\n      <td>18</td>\n      <td>2308024402</td>\n      <td>23080244</td>\n      <td>F</td>\n      <td>Wang, hui</td>\n      <td>73</td>\n      <td>74</td>\n      <td>93</td>\n      <td>70</td>\n      <td>71</td>\n      <td>75</td>\n      <td>88</td>\n    </tr>\n    <tr>\n      <th>19</th>\n      <td>19</td>\n      <td>2308024422</td>\n      <td>23080244</td>\n      <td>M</td>\n      <td>Li, Xiao Liang</td>\n      <td>85</td>\n      <td>60</td>\n      <td>85</td>\n      <td>72</td>\n      <td>72</td>\n      <td>83</td>\n      <td>89</td>\n    </tr>\n  </tbody>\n</table>\n</div>"
     },
     "execution_count": 69,
     "metadata": {},
     "output_type": "execute_result"
    }
   ],
   "source": [
    "import  numpy as np\n",
    "import pandas as pd\n",
    "df1 = pd.read_excel('rz4.xls')\n",
    "df1"
   ],
   "metadata": {
    "collapsed": false,
    "pycharm": {
     "name": "#%%############################3###########################\n"
    }
   }
  },
  {
   "cell_type": "code",
   "execution_count": 70,
   "outputs": [
    {
     "data": {
      "text/plain": "    School Num     Class Sex            Name  English  Physics  Military  \\\n0   2308024241  23080242   M      Chen, Long       76       78        77   \n1   2308024244  23080242   F        Zhou, Yi       66       91        75   \n2   2308024251  23080242   M       Zhang， Bo       85       81        75   \n3   2308024249  23080242   M        Zhu, Hao       65       50        80   \n4   2308024219  23080242   F       Feng, Yin       73       88        92   \n5   2308024201  23080242   M        Chi, Pei       60       50        89   \n6   2308024347  23080243   F         Li, Hua       67       61        84   \n7   2308024307  23080243   M       Chen, Ten       76       79        86   \n8   2308024226  23080243   M         Yu, Hao       66       67        85   \n9   2308024220  23080243   F         Li, Jia       62       60        90   \n10  2308024242  23080243   M   Li, Shang Chu       76       90        84   \n11  2308024210  23080243   F         Guo, Yi       79       67        84   \n12  2308024435  23080244   M   Jiang, Yi Tao       77       71        71   \n13  2308024432  23080244   M        Zhao, Yu       74       74        74   \n14  2308024446  23080244   F        Zhou, Lu       76       80        77   \n15  2308024421  23080244   M  Lin, Jian Xian       73       72        81   \n16  2308024433  23080244   M    Li, Da Qiang       79       76        77   \n17  2308024428  23080244   M    Li, Che Tong       64       96        91   \n18  2308024402  23080244   F       Wang, hui       73       74        93   \n19  2308024422  23080244   M  Li, Xiao Liang       85       60        85   \n\n    Maths  Algebra  Geometry  Computer  \n0      40       23        60        89  \n1      47       47        44        82  \n2      45       45        60        80  \n3      72       62        71        82  \n4      61       47        46        83  \n5      71       76        71        82  \n6      61       65        78        83  \n7      69       40        69        82  \n8      65       61        71        95  \n9      60       67         7        95  \n10     60       66        60        82  \n11     64       64        79        85  \n12     87       61        73        76  \n13     88       68        70        71  \n14     61       74        80        85  \n15     63       90        75        85  \n16     78       70        70        89  \n17     69       60        77        83  \n18     70       71        75        88  \n19     72       72        83        89  ",
      "text/html": "<div>\n<style scoped>\n    .dataframe tbody tr th:only-of-type {\n        vertical-align: middle;\n    }\n\n    .dataframe tbody tr th {\n        vertical-align: top;\n    }\n\n    .dataframe thead th {\n        text-align: right;\n    }\n</style>\n<table border=\"1\" class=\"dataframe\">\n  <thead>\n    <tr style=\"text-align: right;\">\n      <th></th>\n      <th>School Num</th>\n      <th>Class</th>\n      <th>Sex</th>\n      <th>Name</th>\n      <th>English</th>\n      <th>Physics</th>\n      <th>Military</th>\n      <th>Maths</th>\n      <th>Algebra</th>\n      <th>Geometry</th>\n      <th>Computer</th>\n    </tr>\n  </thead>\n  <tbody>\n    <tr>\n      <th>0</th>\n      <td>2308024241</td>\n      <td>23080242</td>\n      <td>M</td>\n      <td>Chen, Long</td>\n      <td>76</td>\n      <td>78</td>\n      <td>77</td>\n      <td>40</td>\n      <td>23</td>\n      <td>60</td>\n      <td>89</td>\n    </tr>\n    <tr>\n      <th>1</th>\n      <td>2308024244</td>\n      <td>23080242</td>\n      <td>F</td>\n      <td>Zhou, Yi</td>\n      <td>66</td>\n      <td>91</td>\n      <td>75</td>\n      <td>47</td>\n      <td>47</td>\n      <td>44</td>\n      <td>82</td>\n    </tr>\n    <tr>\n      <th>2</th>\n      <td>2308024251</td>\n      <td>23080242</td>\n      <td>M</td>\n      <td>Zhang， Bo</td>\n      <td>85</td>\n      <td>81</td>\n      <td>75</td>\n      <td>45</td>\n      <td>45</td>\n      <td>60</td>\n      <td>80</td>\n    </tr>\n    <tr>\n      <th>3</th>\n      <td>2308024249</td>\n      <td>23080242</td>\n      <td>M</td>\n      <td>Zhu, Hao</td>\n      <td>65</td>\n      <td>50</td>\n      <td>80</td>\n      <td>72</td>\n      <td>62</td>\n      <td>71</td>\n      <td>82</td>\n    </tr>\n    <tr>\n      <th>4</th>\n      <td>2308024219</td>\n      <td>23080242</td>\n      <td>F</td>\n      <td>Feng, Yin</td>\n      <td>73</td>\n      <td>88</td>\n      <td>92</td>\n      <td>61</td>\n      <td>47</td>\n      <td>46</td>\n      <td>83</td>\n    </tr>\n    <tr>\n      <th>5</th>\n      <td>2308024201</td>\n      <td>23080242</td>\n      <td>M</td>\n      <td>Chi, Pei</td>\n      <td>60</td>\n      <td>50</td>\n      <td>89</td>\n      <td>71</td>\n      <td>76</td>\n      <td>71</td>\n      <td>82</td>\n    </tr>\n    <tr>\n      <th>6</th>\n      <td>2308024347</td>\n      <td>23080243</td>\n      <td>F</td>\n      <td>Li, Hua</td>\n      <td>67</td>\n      <td>61</td>\n      <td>84</td>\n      <td>61</td>\n      <td>65</td>\n      <td>78</td>\n      <td>83</td>\n    </tr>\n    <tr>\n      <th>7</th>\n      <td>2308024307</td>\n      <td>23080243</td>\n      <td>M</td>\n      <td>Chen, Ten</td>\n      <td>76</td>\n      <td>79</td>\n      <td>86</td>\n      <td>69</td>\n      <td>40</td>\n      <td>69</td>\n      <td>82</td>\n    </tr>\n    <tr>\n      <th>8</th>\n      <td>2308024226</td>\n      <td>23080243</td>\n      <td>M</td>\n      <td>Yu, Hao</td>\n      <td>66</td>\n      <td>67</td>\n      <td>85</td>\n      <td>65</td>\n      <td>61</td>\n      <td>71</td>\n      <td>95</td>\n    </tr>\n    <tr>\n      <th>9</th>\n      <td>2308024220</td>\n      <td>23080243</td>\n      <td>F</td>\n      <td>Li, Jia</td>\n      <td>62</td>\n      <td>60</td>\n      <td>90</td>\n      <td>60</td>\n      <td>67</td>\n      <td>7</td>\n      <td>95</td>\n    </tr>\n    <tr>\n      <th>10</th>\n      <td>2308024242</td>\n      <td>23080243</td>\n      <td>M</td>\n      <td>Li, Shang Chu</td>\n      <td>76</td>\n      <td>90</td>\n      <td>84</td>\n      <td>60</td>\n      <td>66</td>\n      <td>60</td>\n      <td>82</td>\n    </tr>\n    <tr>\n      <th>11</th>\n      <td>2308024210</td>\n      <td>23080243</td>\n      <td>F</td>\n      <td>Guo, Yi</td>\n      <td>79</td>\n      <td>67</td>\n      <td>84</td>\n      <td>64</td>\n      <td>64</td>\n      <td>79</td>\n      <td>85</td>\n    </tr>\n    <tr>\n      <th>12</th>\n      <td>2308024435</td>\n      <td>23080244</td>\n      <td>M</td>\n      <td>Jiang, Yi Tao</td>\n      <td>77</td>\n      <td>71</td>\n      <td>71</td>\n      <td>87</td>\n      <td>61</td>\n      <td>73</td>\n      <td>76</td>\n    </tr>\n    <tr>\n      <th>13</th>\n      <td>2308024432</td>\n      <td>23080244</td>\n      <td>M</td>\n      <td>Zhao, Yu</td>\n      <td>74</td>\n      <td>74</td>\n      <td>74</td>\n      <td>88</td>\n      <td>68</td>\n      <td>70</td>\n      <td>71</td>\n    </tr>\n    <tr>\n      <th>14</th>\n      <td>2308024446</td>\n      <td>23080244</td>\n      <td>F</td>\n      <td>Zhou, Lu</td>\n      <td>76</td>\n      <td>80</td>\n      <td>77</td>\n      <td>61</td>\n      <td>74</td>\n      <td>80</td>\n      <td>85</td>\n    </tr>\n    <tr>\n      <th>15</th>\n      <td>2308024421</td>\n      <td>23080244</td>\n      <td>M</td>\n      <td>Lin, Jian Xian</td>\n      <td>73</td>\n      <td>72</td>\n      <td>81</td>\n      <td>63</td>\n      <td>90</td>\n      <td>75</td>\n      <td>85</td>\n    </tr>\n    <tr>\n      <th>16</th>\n      <td>2308024433</td>\n      <td>23080244</td>\n      <td>M</td>\n      <td>Li, Da Qiang</td>\n      <td>79</td>\n      <td>76</td>\n      <td>77</td>\n      <td>78</td>\n      <td>70</td>\n      <td>70</td>\n      <td>89</td>\n    </tr>\n    <tr>\n      <th>17</th>\n      <td>2308024428</td>\n      <td>23080244</td>\n      <td>M</td>\n      <td>Li, Che Tong</td>\n      <td>64</td>\n      <td>96</td>\n      <td>91</td>\n      <td>69</td>\n      <td>60</td>\n      <td>77</td>\n      <td>83</td>\n    </tr>\n    <tr>\n      <th>18</th>\n      <td>2308024402</td>\n      <td>23080244</td>\n      <td>F</td>\n      <td>Wang, hui</td>\n      <td>73</td>\n      <td>74</td>\n      <td>93</td>\n      <td>70</td>\n      <td>71</td>\n      <td>75</td>\n      <td>88</td>\n    </tr>\n    <tr>\n      <th>19</th>\n      <td>2308024422</td>\n      <td>23080244</td>\n      <td>M</td>\n      <td>Li, Xiao Liang</td>\n      <td>85</td>\n      <td>60</td>\n      <td>85</td>\n      <td>72</td>\n      <td>72</td>\n      <td>83</td>\n      <td>89</td>\n    </tr>\n  </tbody>\n</table>\n</div>"
     },
     "execution_count": 70,
     "metadata": {},
     "output_type": "execute_result"
    }
   ],
   "source": [
    "del df1[\"Unnamed: 0\"]\n",
    "df"
   ],
   "metadata": {
    "collapsed": false,
    "pycharm": {
     "name": "#%%\n"
    }
   }
  },
  {
   "cell_type": "code",
   "execution_count": 71,
   "outputs": [
    {
     "data": {
      "text/plain": "<bound method NDFrame._add_numeric_operations.<locals>.sum of     School Num     Class Sex            Name  English  Physics  Military  \\\n0   2308024241  23080242   M      Chen, Long       76       78        77   \n1   2308024244  23080242   F        Zhou, Yi       66       91        75   \n2   2308024251  23080242   M       Zhang， Bo       85       81        75   \n3   2308024249  23080242   M        Zhu, Hao       65       50        80   \n4   2308024219  23080242   F       Feng, Yin       73       88        92   \n5   2308024201  23080242   M        Chi, Pei       60       50        89   \n6   2308024347  23080243   F         Li, Hua       67       61        84   \n7   2308024307  23080243   M       Chen, Ten       76       79        86   \n8   2308024226  23080243   M         Yu, Hao       66       67        85   \n9   2308024220  23080243   F         Li, Jia       62       60        90   \n10  2308024242  23080243   M   Li, Shang Chu       76       90        84   \n11  2308024210  23080243   F         Guo, Yi       79       67        84   \n12  2308024435  23080244   M   Jiang, Yi Tao       77       71        71   \n13  2308024432  23080244   M        Zhao, Yu       74       74        74   \n14  2308024446  23080244   F        Zhou, Lu       76       80        77   \n15  2308024421  23080244   M  Lin, Jian Xian       73       72        81   \n16  2308024433  23080244   M    Li, Da Qiang       79       76        77   \n17  2308024428  23080244   M    Li, Che Tong       64       96        91   \n18  2308024402  23080244   F       Wang, hui       73       74        93   \n19  2308024422  23080244   M  Li, Xiao Liang       85       60        85   \n\n    Maths  Algebra  Geometry  Computer  \n0      40       23        60        89  \n1      47       47        44        82  \n2      45       45        60        80  \n3      72       62        71        82  \n4      61       47        46        83  \n5      71       76        71        82  \n6      61       65        78        83  \n7      69       40        69        82  \n8      65       61        71        95  \n9      60       67         7        95  \n10     60       66        60        82  \n11     64       64        79        85  \n12     87       61        73        76  \n13     88       68        70        71  \n14     61       74        80        85  \n15     63       90        75        85  \n16     78       70        70        89  \n17     69       60        77        83  \n18     70       71        75        88  \n19     72       72        83        89  >"
     },
     "execution_count": 71,
     "metadata": {},
     "output_type": "execute_result"
    }
   ],
   "source": [
    "df1.sum"
   ],
   "metadata": {
    "collapsed": false,
    "pycharm": {
     "name": "#%%\n"
    }
   }
  },
  {
   "cell_type": "code",
   "execution_count": 72,
   "outputs": [
    {
     "data": {
      "text/plain": "    Unnamed: 0       YHM         TCSJ          YWXT               IP\n0            0  S1402048  18922254812  1.225790e+17    221.205.98.55\n1            1  S1411023  13522255003  1.225790e+17  183.184.226.205\n2            2  S1402048  13422259938           NaN    221.205.98.55\n3            3  20031509  18822256753           NaN    222.31.51.200\n4            4  S1405010  13422259313  1.225790e+17     120.207.64.3\n5            5  20140007  13822254373  1.225790e+17    222.31.51.200\n6            6  S1404095  13322252452  1.225790e+17    222.31.59.220\n7            7  S1402048  18922257681  1.225790e+17    221.205.98.55\n8            8  S1405011  13322252452  1.225790e+17   183.184.230.38\n9            9  S1402048  18922253721  1.225790e+17    221.205.98.55\n10          10  S1405011  18922257681  1.225790e+17   183.184.230.38",
      "text/html": "<div>\n<style scoped>\n    .dataframe tbody tr th:only-of-type {\n        vertical-align: middle;\n    }\n\n    .dataframe tbody tr th {\n        vertical-align: top;\n    }\n\n    .dataframe thead th {\n        text-align: right;\n    }\n</style>\n<table border=\"1\" class=\"dataframe\">\n  <thead>\n    <tr style=\"text-align: right;\">\n      <th></th>\n      <th>Unnamed: 0</th>\n      <th>YHM</th>\n      <th>TCSJ</th>\n      <th>YWXT</th>\n      <th>IP</th>\n    </tr>\n  </thead>\n  <tbody>\n    <tr>\n      <th>0</th>\n      <td>0</td>\n      <td>S1402048</td>\n      <td>18922254812</td>\n      <td>1.225790e+17</td>\n      <td>221.205.98.55</td>\n    </tr>\n    <tr>\n      <th>1</th>\n      <td>1</td>\n      <td>S1411023</td>\n      <td>13522255003</td>\n      <td>1.225790e+17</td>\n      <td>183.184.226.205</td>\n    </tr>\n    <tr>\n      <th>2</th>\n      <td>2</td>\n      <td>S1402048</td>\n      <td>13422259938</td>\n      <td>NaN</td>\n      <td>221.205.98.55</td>\n    </tr>\n    <tr>\n      <th>3</th>\n      <td>3</td>\n      <td>20031509</td>\n      <td>18822256753</td>\n      <td>NaN</td>\n      <td>222.31.51.200</td>\n    </tr>\n    <tr>\n      <th>4</th>\n      <td>4</td>\n      <td>S1405010</td>\n      <td>13422259313</td>\n      <td>1.225790e+17</td>\n      <td>120.207.64.3</td>\n    </tr>\n    <tr>\n      <th>5</th>\n      <td>5</td>\n      <td>20140007</td>\n      <td>13822254373</td>\n      <td>1.225790e+17</td>\n      <td>222.31.51.200</td>\n    </tr>\n    <tr>\n      <th>6</th>\n      <td>6</td>\n      <td>S1404095</td>\n      <td>13322252452</td>\n      <td>1.225790e+17</td>\n      <td>222.31.59.220</td>\n    </tr>\n    <tr>\n      <th>7</th>\n      <td>7</td>\n      <td>S1402048</td>\n      <td>18922257681</td>\n      <td>1.225790e+17</td>\n      <td>221.205.98.55</td>\n    </tr>\n    <tr>\n      <th>8</th>\n      <td>8</td>\n      <td>S1405011</td>\n      <td>13322252452</td>\n      <td>1.225790e+17</td>\n      <td>183.184.230.38</td>\n    </tr>\n    <tr>\n      <th>9</th>\n      <td>9</td>\n      <td>S1402048</td>\n      <td>18922253721</td>\n      <td>1.225790e+17</td>\n      <td>221.205.98.55</td>\n    </tr>\n    <tr>\n      <th>10</th>\n      <td>10</td>\n      <td>S1405011</td>\n      <td>18922257681</td>\n      <td>1.225790e+17</td>\n      <td>183.184.230.38</td>\n    </tr>\n  </tbody>\n</table>\n</div>"
     },
     "execution_count": 72,
     "metadata": {},
     "output_type": "execute_result"
    }
   ],
   "source": [
    "df1 = pd.read_excel('rz2.xls')\n",
    "df1"
   ],
   "metadata": {
    "collapsed": false,
    "pycharm": {
     "name": "#%%\n"
    }
   }
  },
  {
   "cell_type": "code",
   "execution_count": 73,
   "outputs": [
    {
     "data": {
      "text/plain": "         YHM         TCSJ          YWXT               IP\n0   S1402048  18922254812  1.225790e+17    221.205.98.55\n1   S1411023  13522255003  1.225790e+17  183.184.226.205\n2   S1402048  13422259938           NaN    221.205.98.55\n3   20031509  18822256753           NaN    222.31.51.200\n4   S1405010  13422259313  1.225790e+17     120.207.64.3\n5   20140007  13822254373  1.225790e+17    222.31.51.200\n6   S1404095  13322252452  1.225790e+17    222.31.59.220\n7   S1402048  18922257681  1.225790e+17    221.205.98.55\n8   S1405011  13322252452  1.225790e+17   183.184.230.38\n9   S1402048  18922253721  1.225790e+17    221.205.98.55\n10  S1405011  18922257681  1.225790e+17   183.184.230.38",
      "text/html": "<div>\n<style scoped>\n    .dataframe tbody tr th:only-of-type {\n        vertical-align: middle;\n    }\n\n    .dataframe tbody tr th {\n        vertical-align: top;\n    }\n\n    .dataframe thead th {\n        text-align: right;\n    }\n</style>\n<table border=\"1\" class=\"dataframe\">\n  <thead>\n    <tr style=\"text-align: right;\">\n      <th></th>\n      <th>YHM</th>\n      <th>TCSJ</th>\n      <th>YWXT</th>\n      <th>IP</th>\n    </tr>\n  </thead>\n  <tbody>\n    <tr>\n      <th>0</th>\n      <td>S1402048</td>\n      <td>18922254812</td>\n      <td>1.225790e+17</td>\n      <td>221.205.98.55</td>\n    </tr>\n    <tr>\n      <th>1</th>\n      <td>S1411023</td>\n      <td>13522255003</td>\n      <td>1.225790e+17</td>\n      <td>183.184.226.205</td>\n    </tr>\n    <tr>\n      <th>2</th>\n      <td>S1402048</td>\n      <td>13422259938</td>\n      <td>NaN</td>\n      <td>221.205.98.55</td>\n    </tr>\n    <tr>\n      <th>3</th>\n      <td>20031509</td>\n      <td>18822256753</td>\n      <td>NaN</td>\n      <td>222.31.51.200</td>\n    </tr>\n    <tr>\n      <th>4</th>\n      <td>S1405010</td>\n      <td>13422259313</td>\n      <td>1.225790e+17</td>\n      <td>120.207.64.3</td>\n    </tr>\n    <tr>\n      <th>5</th>\n      <td>20140007</td>\n      <td>13822254373</td>\n      <td>1.225790e+17</td>\n      <td>222.31.51.200</td>\n    </tr>\n    <tr>\n      <th>6</th>\n      <td>S1404095</td>\n      <td>13322252452</td>\n      <td>1.225790e+17</td>\n      <td>222.31.59.220</td>\n    </tr>\n    <tr>\n      <th>7</th>\n      <td>S1402048</td>\n      <td>18922257681</td>\n      <td>1.225790e+17</td>\n      <td>221.205.98.55</td>\n    </tr>\n    <tr>\n      <th>8</th>\n      <td>S1405011</td>\n      <td>13322252452</td>\n      <td>1.225790e+17</td>\n      <td>183.184.230.38</td>\n    </tr>\n    <tr>\n      <th>9</th>\n      <td>S1402048</td>\n      <td>18922253721</td>\n      <td>1.225790e+17</td>\n      <td>221.205.98.55</td>\n    </tr>\n    <tr>\n      <th>10</th>\n      <td>S1405011</td>\n      <td>18922257681</td>\n      <td>1.225790e+17</td>\n      <td>183.184.230.38</td>\n    </tr>\n  </tbody>\n</table>\n</div>"
     },
     "execution_count": 73,
     "metadata": {},
     "output_type": "execute_result"
    }
   ],
   "source": [
    "del df1[\"Unnamed: 0\"]\n",
    "df1"
   ],
   "metadata": {
    "collapsed": false,
    "pycharm": {
     "name": "#%%\n"
    }
   }
  },
  {
   "cell_type": "code",
   "execution_count": 74,
   "outputs": [
    {
     "data": {
      "text/plain": "   Unnamed: 0       YHM         TCSJ          YWXT               IP\n0           0  S1402011  18603514812  1.225790e+17    221.205.98.55\n1           1  S1411022  13103515003  1.225790e+17  183.184.226.205\n2           2  S1402033  13203559930           NaN    221.205.98.55",
      "text/html": "<div>\n<style scoped>\n    .dataframe tbody tr th:only-of-type {\n        vertical-align: middle;\n    }\n\n    .dataframe tbody tr th {\n        vertical-align: top;\n    }\n\n    .dataframe thead th {\n        text-align: right;\n    }\n</style>\n<table border=\"1\" class=\"dataframe\">\n  <thead>\n    <tr style=\"text-align: right;\">\n      <th></th>\n      <th>Unnamed: 0</th>\n      <th>YHM</th>\n      <th>TCSJ</th>\n      <th>YWXT</th>\n      <th>IP</th>\n    </tr>\n  </thead>\n  <tbody>\n    <tr>\n      <th>0</th>\n      <td>0</td>\n      <td>S1402011</td>\n      <td>18603514812</td>\n      <td>1.225790e+17</td>\n      <td>221.205.98.55</td>\n    </tr>\n    <tr>\n      <th>1</th>\n      <td>1</td>\n      <td>S1411022</td>\n      <td>13103515003</td>\n      <td>1.225790e+17</td>\n      <td>183.184.226.205</td>\n    </tr>\n    <tr>\n      <th>2</th>\n      <td>2</td>\n      <td>S1402033</td>\n      <td>13203559930</td>\n      <td>NaN</td>\n      <td>221.205.98.55</td>\n    </tr>\n  </tbody>\n</table>\n</div>"
     },
     "execution_count": 74,
     "metadata": {},
     "output_type": "execute_result"
    }
   ],
   "source": [
    "df2 = pd.read_excel('rz3.xls')\n",
    "df2"
   ],
   "metadata": {
    "collapsed": false,
    "pycharm": {
     "name": "#%%\n"
    }
   }
  },
  {
   "cell_type": "code",
   "execution_count": 75,
   "outputs": [
    {
     "data": {
      "text/plain": "        YHM         TCSJ          YWXT               IP\n0  S1402011  18603514812  1.225790e+17    221.205.98.55\n1  S1411022  13103515003  1.225790e+17  183.184.226.205\n2  S1402033  13203559930           NaN    221.205.98.55",
      "text/html": "<div>\n<style scoped>\n    .dataframe tbody tr th:only-of-type {\n        vertical-align: middle;\n    }\n\n    .dataframe tbody tr th {\n        vertical-align: top;\n    }\n\n    .dataframe thead th {\n        text-align: right;\n    }\n</style>\n<table border=\"1\" class=\"dataframe\">\n  <thead>\n    <tr style=\"text-align: right;\">\n      <th></th>\n      <th>YHM</th>\n      <th>TCSJ</th>\n      <th>YWXT</th>\n      <th>IP</th>\n    </tr>\n  </thead>\n  <tbody>\n    <tr>\n      <th>0</th>\n      <td>S1402011</td>\n      <td>18603514812</td>\n      <td>1.225790e+17</td>\n      <td>221.205.98.55</td>\n    </tr>\n    <tr>\n      <th>1</th>\n      <td>S1411022</td>\n      <td>13103515003</td>\n      <td>1.225790e+17</td>\n      <td>183.184.226.205</td>\n    </tr>\n    <tr>\n      <th>2</th>\n      <td>S1402033</td>\n      <td>13203559930</td>\n      <td>NaN</td>\n      <td>221.205.98.55</td>\n    </tr>\n  </tbody>\n</table>\n</div>"
     },
     "execution_count": 75,
     "metadata": {},
     "output_type": "execute_result"
    }
   ],
   "source": [
    "del df2[\"Unnamed: 0\"]\n",
    "df2"
   ],
   "metadata": {
    "collapsed": false,
    "pycharm": {
     "name": "#%%\n"
    }
   }
  },
  {
   "cell_type": "code",
   "execution_count": 76,
   "outputs": [
    {
     "data": {
      "text/plain": "         YHM         TCSJ          YWXT               IP\n0   S1402048  18922254812  1.225790e+17    221.205.98.55\n1   S1411023  13522255003  1.225790e+17  183.184.226.205\n2   S1402048  13422259938           NaN    221.205.98.55\n3   20031509  18822256753           NaN    222.31.51.200\n4   S1405010  13422259313  1.225790e+17     120.207.64.3\n5   20140007  13822254373  1.225790e+17    222.31.51.200\n6   S1404095  13322252452  1.225790e+17    222.31.59.220\n7   S1402048  18922257681  1.225790e+17    221.205.98.55\n8   S1405011  13322252452  1.225790e+17   183.184.230.38\n9   S1402048  18922253721  1.225790e+17    221.205.98.55\n10  S1405011  18922257681  1.225790e+17   183.184.230.38\n0   S1402011  18603514812  1.225790e+17    221.205.98.55\n1   S1411022  13103515003  1.225790e+17  183.184.226.205\n2   S1402033  13203559930           NaN    221.205.98.55",
      "text/html": "<div>\n<style scoped>\n    .dataframe tbody tr th:only-of-type {\n        vertical-align: middle;\n    }\n\n    .dataframe tbody tr th {\n        vertical-align: top;\n    }\n\n    .dataframe thead th {\n        text-align: right;\n    }\n</style>\n<table border=\"1\" class=\"dataframe\">\n  <thead>\n    <tr style=\"text-align: right;\">\n      <th></th>\n      <th>YHM</th>\n      <th>TCSJ</th>\n      <th>YWXT</th>\n      <th>IP</th>\n    </tr>\n  </thead>\n  <tbody>\n    <tr>\n      <th>0</th>\n      <td>S1402048</td>\n      <td>18922254812</td>\n      <td>1.225790e+17</td>\n      <td>221.205.98.55</td>\n    </tr>\n    <tr>\n      <th>1</th>\n      <td>S1411023</td>\n      <td>13522255003</td>\n      <td>1.225790e+17</td>\n      <td>183.184.226.205</td>\n    </tr>\n    <tr>\n      <th>2</th>\n      <td>S1402048</td>\n      <td>13422259938</td>\n      <td>NaN</td>\n      <td>221.205.98.55</td>\n    </tr>\n    <tr>\n      <th>3</th>\n      <td>20031509</td>\n      <td>18822256753</td>\n      <td>NaN</td>\n      <td>222.31.51.200</td>\n    </tr>\n    <tr>\n      <th>4</th>\n      <td>S1405010</td>\n      <td>13422259313</td>\n      <td>1.225790e+17</td>\n      <td>120.207.64.3</td>\n    </tr>\n    <tr>\n      <th>5</th>\n      <td>20140007</td>\n      <td>13822254373</td>\n      <td>1.225790e+17</td>\n      <td>222.31.51.200</td>\n    </tr>\n    <tr>\n      <th>6</th>\n      <td>S1404095</td>\n      <td>13322252452</td>\n      <td>1.225790e+17</td>\n      <td>222.31.59.220</td>\n    </tr>\n    <tr>\n      <th>7</th>\n      <td>S1402048</td>\n      <td>18922257681</td>\n      <td>1.225790e+17</td>\n      <td>221.205.98.55</td>\n    </tr>\n    <tr>\n      <th>8</th>\n      <td>S1405011</td>\n      <td>13322252452</td>\n      <td>1.225790e+17</td>\n      <td>183.184.230.38</td>\n    </tr>\n    <tr>\n      <th>9</th>\n      <td>S1402048</td>\n      <td>18922253721</td>\n      <td>1.225790e+17</td>\n      <td>221.205.98.55</td>\n    </tr>\n    <tr>\n      <th>10</th>\n      <td>S1405011</td>\n      <td>18922257681</td>\n      <td>1.225790e+17</td>\n      <td>183.184.230.38</td>\n    </tr>\n    <tr>\n      <th>0</th>\n      <td>S1402011</td>\n      <td>18603514812</td>\n      <td>1.225790e+17</td>\n      <td>221.205.98.55</td>\n    </tr>\n    <tr>\n      <th>1</th>\n      <td>S1411022</td>\n      <td>13103515003</td>\n      <td>1.225790e+17</td>\n      <td>183.184.226.205</td>\n    </tr>\n    <tr>\n      <th>2</th>\n      <td>S1402033</td>\n      <td>13203559930</td>\n      <td>NaN</td>\n      <td>221.205.98.55</td>\n    </tr>\n  </tbody>\n</table>\n</div>"
     },
     "execution_count": 76,
     "metadata": {},
     "output_type": "execute_result"
    }
   ],
   "source": [
    "import pandas as pd\n",
    "df12 = pd.concat([df1,df2])\n",
    "df12"
   ],
   "metadata": {
    "collapsed": false,
    "pycharm": {
     "name": "#%%\n"
    }
   }
  },
  {
   "cell_type": "code",
   "execution_count": 77,
   "outputs": [
    {
     "data": {
      "text/plain": "         YHM         TCSJ          YWXT               IP\n0   S1402048  18922254812  1.225790e+17    221.205.98.55\n1   S1411023  13522255003  1.225790e+17  183.184.226.205\n2   S1402048  13422259938           NaN    221.205.98.55\n3   20031509  18822256753           NaN    222.31.51.200\n4   S1405010  13422259313  1.225790e+17     120.207.64.3\n5   20140007  13822254373  1.225790e+17    222.31.51.200\n6   S1404095  13322252452  1.225790e+17    222.31.59.220\n7   S1402048  18922257681  1.225790e+17    221.205.98.55\n8   S1405011  13322252452  1.225790e+17   183.184.230.38\n9   S1402048  18922253721  1.225790e+17    221.205.98.55\n10  S1405011  18922257681  1.225790e+17   183.184.230.38\n11  S1402011  18603514812  1.225790e+17    221.205.98.55\n12  S1411022  13103515003  1.225790e+17  183.184.226.205\n13  S1402033  13203559930           NaN    221.205.98.55",
      "text/html": "<div>\n<style scoped>\n    .dataframe tbody tr th:only-of-type {\n        vertical-align: middle;\n    }\n\n    .dataframe tbody tr th {\n        vertical-align: top;\n    }\n\n    .dataframe thead th {\n        text-align: right;\n    }\n</style>\n<table border=\"1\" class=\"dataframe\">\n  <thead>\n    <tr style=\"text-align: right;\">\n      <th></th>\n      <th>YHM</th>\n      <th>TCSJ</th>\n      <th>YWXT</th>\n      <th>IP</th>\n    </tr>\n  </thead>\n  <tbody>\n    <tr>\n      <th>0</th>\n      <td>S1402048</td>\n      <td>18922254812</td>\n      <td>1.225790e+17</td>\n      <td>221.205.98.55</td>\n    </tr>\n    <tr>\n      <th>1</th>\n      <td>S1411023</td>\n      <td>13522255003</td>\n      <td>1.225790e+17</td>\n      <td>183.184.226.205</td>\n    </tr>\n    <tr>\n      <th>2</th>\n      <td>S1402048</td>\n      <td>13422259938</td>\n      <td>NaN</td>\n      <td>221.205.98.55</td>\n    </tr>\n    <tr>\n      <th>3</th>\n      <td>20031509</td>\n      <td>18822256753</td>\n      <td>NaN</td>\n      <td>222.31.51.200</td>\n    </tr>\n    <tr>\n      <th>4</th>\n      <td>S1405010</td>\n      <td>13422259313</td>\n      <td>1.225790e+17</td>\n      <td>120.207.64.3</td>\n    </tr>\n    <tr>\n      <th>5</th>\n      <td>20140007</td>\n      <td>13822254373</td>\n      <td>1.225790e+17</td>\n      <td>222.31.51.200</td>\n    </tr>\n    <tr>\n      <th>6</th>\n      <td>S1404095</td>\n      <td>13322252452</td>\n      <td>1.225790e+17</td>\n      <td>222.31.59.220</td>\n    </tr>\n    <tr>\n      <th>7</th>\n      <td>S1402048</td>\n      <td>18922257681</td>\n      <td>1.225790e+17</td>\n      <td>221.205.98.55</td>\n    </tr>\n    <tr>\n      <th>8</th>\n      <td>S1405011</td>\n      <td>13322252452</td>\n      <td>1.225790e+17</td>\n      <td>183.184.230.38</td>\n    </tr>\n    <tr>\n      <th>9</th>\n      <td>S1402048</td>\n      <td>18922253721</td>\n      <td>1.225790e+17</td>\n      <td>221.205.98.55</td>\n    </tr>\n    <tr>\n      <th>10</th>\n      <td>S1405011</td>\n      <td>18922257681</td>\n      <td>1.225790e+17</td>\n      <td>183.184.230.38</td>\n    </tr>\n    <tr>\n      <th>11</th>\n      <td>S1402011</td>\n      <td>18603514812</td>\n      <td>1.225790e+17</td>\n      <td>221.205.98.55</td>\n    </tr>\n    <tr>\n      <th>12</th>\n      <td>S1411022</td>\n      <td>13103515003</td>\n      <td>1.225790e+17</td>\n      <td>183.184.226.205</td>\n    </tr>\n    <tr>\n      <th>13</th>\n      <td>S1402033</td>\n      <td>13203559930</td>\n      <td>NaN</td>\n      <td>221.205.98.55</td>\n    </tr>\n  </tbody>\n</table>\n</div>"
     },
     "execution_count": 77,
     "metadata": {},
     "output_type": "execute_result"
    }
   ],
   "source": [
    "df13 = pd.concat([df1,df2],ignore_index=True)\n",
    "df13"
   ],
   "metadata": {
    "collapsed": false,
    "pycharm": {
     "name": "#%%\n"
    }
   }
  },
  {
   "cell_type": "code",
   "execution_count": 78,
   "outputs": [
    {
     "data": {
      "text/plain": "        band   area    num\nNaN     band   area    num\n0.0      189   2225   4812\n1.0      135   2225   5003\n2.0      134   2225   9938\n3.0      188   2225   6753\n4.0      189   2225   3721\n5.0      134   2225   9313\n6.0      138   2225   4373\n7.0      133   2225   2452\n8.0      189   2225   7681",
      "text/html": "<div>\n<style scoped>\n    .dataframe tbody tr th:only-of-type {\n        vertical-align: middle;\n    }\n\n    .dataframe tbody tr th {\n        vertical-align: top;\n    }\n\n    .dataframe thead th {\n        text-align: right;\n    }\n</style>\n<table border=\"1\" class=\"dataframe\">\n  <thead>\n    <tr style=\"text-align: right;\">\n      <th></th>\n      <th>band</th>\n      <th>area</th>\n      <th>num</th>\n    </tr>\n  </thead>\n  <tbody>\n    <tr>\n      <th>NaN</th>\n      <td>band</td>\n      <td>area</td>\n      <td>num</td>\n    </tr>\n    <tr>\n      <th>0.0</th>\n      <td>189</td>\n      <td>2225</td>\n      <td>4812</td>\n    </tr>\n    <tr>\n      <th>1.0</th>\n      <td>135</td>\n      <td>2225</td>\n      <td>5003</td>\n    </tr>\n    <tr>\n      <th>2.0</th>\n      <td>134</td>\n      <td>2225</td>\n      <td>9938</td>\n    </tr>\n    <tr>\n      <th>3.0</th>\n      <td>188</td>\n      <td>2225</td>\n      <td>6753</td>\n    </tr>\n    <tr>\n      <th>4.0</th>\n      <td>189</td>\n      <td>2225</td>\n      <td>3721</td>\n    </tr>\n    <tr>\n      <th>5.0</th>\n      <td>134</td>\n      <td>2225</td>\n      <td>9313</td>\n    </tr>\n    <tr>\n      <th>6.0</th>\n      <td>138</td>\n      <td>2225</td>\n      <td>4373</td>\n    </tr>\n    <tr>\n      <th>7.0</th>\n      <td>133</td>\n      <td>2225</td>\n      <td>2452</td>\n    </tr>\n    <tr>\n      <th>8.0</th>\n      <td>189</td>\n      <td>2225</td>\n      <td>7681</td>\n    </tr>\n  </tbody>\n</table>\n</div>"
     },
     "execution_count": 78,
     "metadata": {},
     "output_type": "execute_result"
    }
   ],
   "source": [
    "import pandas as pd\n",
    "from pandas import DataFrame\n",
    "\n",
    "df = pd.read_csv('rz4.csv',sep=',',names=['band','area','num'])\n",
    "df"
   ],
   "metadata": {
    "collapsed": false,
    "pycharm": {
     "name": "#%%###########################################################\n"
    }
   }
  },
  {
   "cell_type": "code",
   "execution_count": 79,
   "outputs": [
    {
     "data": {
      "text/plain": "     band   area    num\n0.0   189   2225   4812\n1.0   135   2225   5003\n2.0   134   2225   9938\n3.0   188   2225   6753\n4.0   189   2225   3721\n5.0   134   2225   9313\n6.0   138   2225   4373\n7.0   133   2225   2452\n8.0   189   2225   7681",
      "text/html": "<div>\n<style scoped>\n    .dataframe tbody tr th:only-of-type {\n        vertical-align: middle;\n    }\n\n    .dataframe tbody tr th {\n        vertical-align: top;\n    }\n\n    .dataframe thead th {\n        text-align: right;\n    }\n</style>\n<table border=\"1\" class=\"dataframe\">\n  <thead>\n    <tr style=\"text-align: right;\">\n      <th></th>\n      <th>band</th>\n      <th>area</th>\n      <th>num</th>\n    </tr>\n  </thead>\n  <tbody>\n    <tr>\n      <th>0.0</th>\n      <td>189</td>\n      <td>2225</td>\n      <td>4812</td>\n    </tr>\n    <tr>\n      <th>1.0</th>\n      <td>135</td>\n      <td>2225</td>\n      <td>5003</td>\n    </tr>\n    <tr>\n      <th>2.0</th>\n      <td>134</td>\n      <td>2225</td>\n      <td>9938</td>\n    </tr>\n    <tr>\n      <th>3.0</th>\n      <td>188</td>\n      <td>2225</td>\n      <td>6753</td>\n    </tr>\n    <tr>\n      <th>4.0</th>\n      <td>189</td>\n      <td>2225</td>\n      <td>3721</td>\n    </tr>\n    <tr>\n      <th>5.0</th>\n      <td>134</td>\n      <td>2225</td>\n      <td>9313</td>\n    </tr>\n    <tr>\n      <th>6.0</th>\n      <td>138</td>\n      <td>2225</td>\n      <td>4373</td>\n    </tr>\n    <tr>\n      <th>7.0</th>\n      <td>133</td>\n      <td>2225</td>\n      <td>2452</td>\n    </tr>\n    <tr>\n      <th>8.0</th>\n      <td>189</td>\n      <td>2225</td>\n      <td>7681</td>\n    </tr>\n  </tbody>\n</table>\n</div>"
     },
     "execution_count": 79,
     "metadata": {},
     "output_type": "execute_result"
    }
   ],
   "source": [
    "df.drop(df.index[0])"
   ],
   "metadata": {
    "collapsed": false,
    "pycharm": {
     "name": "#%%\n"
    }
   }
  },
  {
   "cell_type": "code",
   "execution_count": 80,
   "outputs": [
    {
     "data": {
      "text/plain": "   Unnamed: 0     band   area   num\n0         189     2225   4812   NaN\n1         135     2225   5003   NaN\n2         134     2225   9938   NaN\n3         188     2225   6753   NaN\n4         189     2225   3721   NaN\n5         134     2225   9313   NaN\n6         138     2225   4373   NaN\n7         133     2225   2452   NaN\n8         189     2225   7681   NaN",
      "text/html": "<div>\n<style scoped>\n    .dataframe tbody tr th:only-of-type {\n        vertical-align: middle;\n    }\n\n    .dataframe tbody tr th {\n        vertical-align: top;\n    }\n\n    .dataframe thead th {\n        text-align: right;\n    }\n</style>\n<table border=\"1\" class=\"dataframe\">\n  <thead>\n    <tr style=\"text-align: right;\">\n      <th></th>\n      <th>Unnamed: 0</th>\n      <th>band</th>\n      <th>area</th>\n      <th>num</th>\n    </tr>\n  </thead>\n  <tbody>\n    <tr>\n      <th>0</th>\n      <td>189</td>\n      <td>2225</td>\n      <td>4812</td>\n      <td>NaN</td>\n    </tr>\n    <tr>\n      <th>1</th>\n      <td>135</td>\n      <td>2225</td>\n      <td>5003</td>\n      <td>NaN</td>\n    </tr>\n    <tr>\n      <th>2</th>\n      <td>134</td>\n      <td>2225</td>\n      <td>9938</td>\n      <td>NaN</td>\n    </tr>\n    <tr>\n      <th>3</th>\n      <td>188</td>\n      <td>2225</td>\n      <td>6753</td>\n      <td>NaN</td>\n    </tr>\n    <tr>\n      <th>4</th>\n      <td>189</td>\n      <td>2225</td>\n      <td>3721</td>\n      <td>NaN</td>\n    </tr>\n    <tr>\n      <th>5</th>\n      <td>134</td>\n      <td>2225</td>\n      <td>9313</td>\n      <td>NaN</td>\n    </tr>\n    <tr>\n      <th>6</th>\n      <td>138</td>\n      <td>2225</td>\n      <td>4373</td>\n      <td>NaN</td>\n    </tr>\n    <tr>\n      <th>7</th>\n      <td>133</td>\n      <td>2225</td>\n      <td>2452</td>\n      <td>NaN</td>\n    </tr>\n    <tr>\n      <th>8</th>\n      <td>189</td>\n      <td>2225</td>\n      <td>7681</td>\n      <td>NaN</td>\n    </tr>\n  </tbody>\n</table>\n</div>"
     },
     "execution_count": 80,
     "metadata": {},
     "output_type": "execute_result"
    }
   ],
   "source": [
    "df  = pd.read_csv('rz4.csv',sep=\",\")\n",
    "df"
   ],
   "metadata": {
    "collapsed": false,
    "pycharm": {
     "name": "#%%############################################################\n"
    }
   }
  },
  {
   "cell_type": "code",
   "execution_count": 81,
   "outputs": [
    {
     "data": {
      "text/plain": "Index(['Unnamed: 0', '   band', ' area', ' num'], dtype='object')"
     },
     "execution_count": 81,
     "metadata": {},
     "output_type": "execute_result"
    }
   ],
   "source": [
    "df.keys()"
   ],
   "metadata": {
    "collapsed": false,
    "pycharm": {
     "name": "#%%\n"
    }
   }
  },
  {
   "cell_type": "code",
   "execution_count": 82,
   "outputs": [
    {
     "data": {
      "text/plain": "   Unnamed: 0     band   area\n0         189     2225   4812\n1         135     2225   5003\n2         134     2225   9938\n3         188     2225   6753\n4         189     2225   3721\n5         134     2225   9313\n6         138     2225   4373\n7         133     2225   2452\n8         189     2225   7681",
      "text/html": "<div>\n<style scoped>\n    .dataframe tbody tr th:only-of-type {\n        vertical-align: middle;\n    }\n\n    .dataframe tbody tr th {\n        vertical-align: top;\n    }\n\n    .dataframe thead th {\n        text-align: right;\n    }\n</style>\n<table border=\"1\" class=\"dataframe\">\n  <thead>\n    <tr style=\"text-align: right;\">\n      <th></th>\n      <th>Unnamed: 0</th>\n      <th>band</th>\n      <th>area</th>\n    </tr>\n  </thead>\n  <tbody>\n    <tr>\n      <th>0</th>\n      <td>189</td>\n      <td>2225</td>\n      <td>4812</td>\n    </tr>\n    <tr>\n      <th>1</th>\n      <td>135</td>\n      <td>2225</td>\n      <td>5003</td>\n    </tr>\n    <tr>\n      <th>2</th>\n      <td>134</td>\n      <td>2225</td>\n      <td>9938</td>\n    </tr>\n    <tr>\n      <th>3</th>\n      <td>188</td>\n      <td>2225</td>\n      <td>6753</td>\n    </tr>\n    <tr>\n      <th>4</th>\n      <td>189</td>\n      <td>2225</td>\n      <td>3721</td>\n    </tr>\n    <tr>\n      <th>5</th>\n      <td>134</td>\n      <td>2225</td>\n      <td>9313</td>\n    </tr>\n    <tr>\n      <th>6</th>\n      <td>138</td>\n      <td>2225</td>\n      <td>4373</td>\n    </tr>\n    <tr>\n      <th>7</th>\n      <td>133</td>\n      <td>2225</td>\n      <td>2452</td>\n    </tr>\n    <tr>\n      <th>8</th>\n      <td>189</td>\n      <td>2225</td>\n      <td>7681</td>\n    </tr>\n  </tbody>\n</table>\n</div>"
     },
     "execution_count": 82,
     "metadata": {},
     "output_type": "execute_result"
    }
   ],
   "source": [
    "del df[\" num\"]\n",
    "df"
   ],
   "metadata": {
    "collapsed": false,
    "pycharm": {
     "name": "#%%\n"
    }
   }
  },
  {
   "cell_type": "code",
   "execution_count": 83,
   "outputs": [
    {
     "data": {
      "text/plain": "   band  area   num\n0   189  2225  4812\n1   135  2225  5003\n2   134  2225  9938\n3   188  2225  6753\n4   189  2225  3721\n5   134  2225  9313\n6   138  2225  4373\n7   133  2225  2452\n8   189  2225  7681",
      "text/html": "<div>\n<style scoped>\n    .dataframe tbody tr th:only-of-type {\n        vertical-align: middle;\n    }\n\n    .dataframe tbody tr th {\n        vertical-align: top;\n    }\n\n    .dataframe thead th {\n        text-align: right;\n    }\n</style>\n<table border=\"1\" class=\"dataframe\">\n  <thead>\n    <tr style=\"text-align: right;\">\n      <th></th>\n      <th>band</th>\n      <th>area</th>\n      <th>num</th>\n    </tr>\n  </thead>\n  <tbody>\n    <tr>\n      <th>0</th>\n      <td>189</td>\n      <td>2225</td>\n      <td>4812</td>\n    </tr>\n    <tr>\n      <th>1</th>\n      <td>135</td>\n      <td>2225</td>\n      <td>5003</td>\n    </tr>\n    <tr>\n      <th>2</th>\n      <td>134</td>\n      <td>2225</td>\n      <td>9938</td>\n    </tr>\n    <tr>\n      <th>3</th>\n      <td>188</td>\n      <td>2225</td>\n      <td>6753</td>\n    </tr>\n    <tr>\n      <th>4</th>\n      <td>189</td>\n      <td>2225</td>\n      <td>3721</td>\n    </tr>\n    <tr>\n      <th>5</th>\n      <td>134</td>\n      <td>2225</td>\n      <td>9313</td>\n    </tr>\n    <tr>\n      <th>6</th>\n      <td>138</td>\n      <td>2225</td>\n      <td>4373</td>\n    </tr>\n    <tr>\n      <th>7</th>\n      <td>133</td>\n      <td>2225</td>\n      <td>2452</td>\n    </tr>\n    <tr>\n      <th>8</th>\n      <td>189</td>\n      <td>2225</td>\n      <td>7681</td>\n    </tr>\n  </tbody>\n</table>\n</div>"
     },
     "execution_count": 83,
     "metadata": {},
     "output_type": "execute_result"
    }
   ],
   "source": [
    "df.columns = ['band','area','num']\n",
    "df"
   ],
   "metadata": {
    "collapsed": false,
    "pycharm": {
     "name": "#%%\n"
    }
   }
  },
  {
   "cell_type": "code",
   "execution_count": 84,
   "outputs": [
    {
     "data": {
      "text/plain": "  band  area   num\n0  189  2225  4812\n1  135  2225  5003\n2  134  2225  9938\n3  188  2225  6753\n4  189  2225  3721\n5  134  2225  9313\n6  138  2225  4373\n7  133  2225  2452\n8  189  2225  7681",
      "text/html": "<div>\n<style scoped>\n    .dataframe tbody tr th:only-of-type {\n        vertical-align: middle;\n    }\n\n    .dataframe tbody tr th {\n        vertical-align: top;\n    }\n\n    .dataframe thead th {\n        text-align: right;\n    }\n</style>\n<table border=\"1\" class=\"dataframe\">\n  <thead>\n    <tr style=\"text-align: right;\">\n      <th></th>\n      <th>band</th>\n      <th>area</th>\n      <th>num</th>\n    </tr>\n  </thead>\n  <tbody>\n    <tr>\n      <th>0</th>\n      <td>189</td>\n      <td>2225</td>\n      <td>4812</td>\n    </tr>\n    <tr>\n      <th>1</th>\n      <td>135</td>\n      <td>2225</td>\n      <td>5003</td>\n    </tr>\n    <tr>\n      <th>2</th>\n      <td>134</td>\n      <td>2225</td>\n      <td>9938</td>\n    </tr>\n    <tr>\n      <th>3</th>\n      <td>188</td>\n      <td>2225</td>\n      <td>6753</td>\n    </tr>\n    <tr>\n      <th>4</th>\n      <td>189</td>\n      <td>2225</td>\n      <td>3721</td>\n    </tr>\n    <tr>\n      <th>5</th>\n      <td>134</td>\n      <td>2225</td>\n      <td>9313</td>\n    </tr>\n    <tr>\n      <th>6</th>\n      <td>138</td>\n      <td>2225</td>\n      <td>4373</td>\n    </tr>\n    <tr>\n      <th>7</th>\n      <td>133</td>\n      <td>2225</td>\n      <td>2452</td>\n    </tr>\n    <tr>\n      <th>8</th>\n      <td>189</td>\n      <td>2225</td>\n      <td>7681</td>\n    </tr>\n  </tbody>\n</table>\n</div>"
     },
     "execution_count": 84,
     "metadata": {},
     "output_type": "execute_result"
    }
   ],
   "source": [
    "df = df.astype(str)\n",
    "df"
   ],
   "metadata": {
    "collapsed": false,
    "pycharm": {
     "name": "#%%\n"
    }
   }
  },
  {
   "cell_type": "code",
   "execution_count": 85,
   "outputs": [
    {
     "data": {
      "text/plain": "0    18922254812\n1    13522255003\n2    13422259938\n3    18822256753\n4    18922253721\n5    13422259313\n6    13822254373\n7    13322252452\n8    18922257681\ndtype: object"
     },
     "execution_count": 85,
     "metadata": {},
     "output_type": "execute_result"
    }
   ],
   "source": [
    "tel = df['band']+df['area']+df['num']\n",
    "tel"
   ],
   "metadata": {
    "collapsed": false,
    "pycharm": {
     "name": "#%%\n"
    }
   }
  },
  {
   "cell_type": "code",
   "execution_count": 85,
   "outputs": [],
   "source": [],
   "metadata": {
    "collapsed": false,
    "pycharm": {
     "name": "#%%\n"
    }
   }
  },
  {
   "cell_type": "code",
   "execution_count": 86,
   "outputs": [
    {
     "data": {
      "text/plain": "   Unnamed: 0  id  band  num\n0           0   1   130  123\n1           1   2   131  124\n2           2   4   133  125\n3           3   5   134  126",
      "text/html": "<div>\n<style scoped>\n    .dataframe tbody tr th:only-of-type {\n        vertical-align: middle;\n    }\n\n    .dataframe tbody tr th {\n        vertical-align: top;\n    }\n\n    .dataframe thead th {\n        text-align: right;\n    }\n</style>\n<table border=\"1\" class=\"dataframe\">\n  <thead>\n    <tr style=\"text-align: right;\">\n      <th></th>\n      <th>Unnamed: 0</th>\n      <th>id</th>\n      <th>band</th>\n      <th>num</th>\n    </tr>\n  </thead>\n  <tbody>\n    <tr>\n      <th>0</th>\n      <td>0</td>\n      <td>1</td>\n      <td>130</td>\n      <td>123</td>\n    </tr>\n    <tr>\n      <th>1</th>\n      <td>1</td>\n      <td>2</td>\n      <td>131</td>\n      <td>124</td>\n    </tr>\n    <tr>\n      <th>2</th>\n      <td>2</td>\n      <td>4</td>\n      <td>133</td>\n      <td>125</td>\n    </tr>\n    <tr>\n      <th>3</th>\n      <td>3</td>\n      <td>5</td>\n      <td>134</td>\n      <td>126</td>\n    </tr>\n  </tbody>\n</table>\n</div>"
     },
     "execution_count": 86,
     "metadata": {},
     "output_type": "execute_result"
    }
   ],
   "source": [
    "df1 = pd.read_excel('ry1.xls')\n",
    "df1"
   ],
   "metadata": {
    "collapsed": false,
    "pycharm": {
     "name": "#%%#############################################################\n"
    }
   }
  },
  {
   "cell_type": "code",
   "execution_count": 87,
   "outputs": [
    {
     "data": {
      "text/plain": "   Unnamed: 0  id  band  area\n0           0   1   130   351\n1           1   2   131   352\n2           2   3   132   353\n3           3   4   133   354\n4           4   5   134   355\n5           5   5   135   356",
      "text/html": "<div>\n<style scoped>\n    .dataframe tbody tr th:only-of-type {\n        vertical-align: middle;\n    }\n\n    .dataframe tbody tr th {\n        vertical-align: top;\n    }\n\n    .dataframe thead th {\n        text-align: right;\n    }\n</style>\n<table border=\"1\" class=\"dataframe\">\n  <thead>\n    <tr style=\"text-align: right;\">\n      <th></th>\n      <th>Unnamed: 0</th>\n      <th>id</th>\n      <th>band</th>\n      <th>area</th>\n    </tr>\n  </thead>\n  <tbody>\n    <tr>\n      <th>0</th>\n      <td>0</td>\n      <td>1</td>\n      <td>130</td>\n      <td>351</td>\n    </tr>\n    <tr>\n      <th>1</th>\n      <td>1</td>\n      <td>2</td>\n      <td>131</td>\n      <td>352</td>\n    </tr>\n    <tr>\n      <th>2</th>\n      <td>2</td>\n      <td>3</td>\n      <td>132</td>\n      <td>353</td>\n    </tr>\n    <tr>\n      <th>3</th>\n      <td>3</td>\n      <td>4</td>\n      <td>133</td>\n      <td>354</td>\n    </tr>\n    <tr>\n      <th>4</th>\n      <td>4</td>\n      <td>5</td>\n      <td>134</td>\n      <td>355</td>\n    </tr>\n    <tr>\n      <th>5</th>\n      <td>5</td>\n      <td>5</td>\n      <td>135</td>\n      <td>356</td>\n    </tr>\n  </tbody>\n</table>\n</div>"
     },
     "execution_count": 87,
     "metadata": {},
     "output_type": "execute_result"
    }
   ],
   "source": [
    "df2 = pd.read_excel('ry2.xls')\n",
    "df2"
   ],
   "metadata": {
    "collapsed": false,
    "pycharm": {
     "name": "#%%\n"
    }
   }
  },
  {
   "cell_type": "code",
   "execution_count": 88,
   "outputs": [
    {
     "data": {
      "text/plain": "   Unnamed: 0_x  id  band_x  num  Unnamed: 0_y  band_y  area\n0             0   1     130  123             0     130   351\n1             1   2     131  124             1     131   352\n2             2   4     133  125             3     133   354\n3             3   5     134  126             4     134   355\n4             3   5     134  126             5     135   356",
      "text/html": "<div>\n<style scoped>\n    .dataframe tbody tr th:only-of-type {\n        vertical-align: middle;\n    }\n\n    .dataframe tbody tr th {\n        vertical-align: top;\n    }\n\n    .dataframe thead th {\n        text-align: right;\n    }\n</style>\n<table border=\"1\" class=\"dataframe\">\n  <thead>\n    <tr style=\"text-align: right;\">\n      <th></th>\n      <th>Unnamed: 0_x</th>\n      <th>id</th>\n      <th>band_x</th>\n      <th>num</th>\n      <th>Unnamed: 0_y</th>\n      <th>band_y</th>\n      <th>area</th>\n    </tr>\n  </thead>\n  <tbody>\n    <tr>\n      <th>0</th>\n      <td>0</td>\n      <td>1</td>\n      <td>130</td>\n      <td>123</td>\n      <td>0</td>\n      <td>130</td>\n      <td>351</td>\n    </tr>\n    <tr>\n      <th>1</th>\n      <td>1</td>\n      <td>2</td>\n      <td>131</td>\n      <td>124</td>\n      <td>1</td>\n      <td>131</td>\n      <td>352</td>\n    </tr>\n    <tr>\n      <th>2</th>\n      <td>2</td>\n      <td>4</td>\n      <td>133</td>\n      <td>125</td>\n      <td>3</td>\n      <td>133</td>\n      <td>354</td>\n    </tr>\n    <tr>\n      <th>3</th>\n      <td>3</td>\n      <td>5</td>\n      <td>134</td>\n      <td>126</td>\n      <td>4</td>\n      <td>134</td>\n      <td>355</td>\n    </tr>\n    <tr>\n      <th>4</th>\n      <td>3</td>\n      <td>5</td>\n      <td>134</td>\n      <td>126</td>\n      <td>5</td>\n      <td>135</td>\n      <td>356</td>\n    </tr>\n  </tbody>\n</table>\n</div>"
     },
     "execution_count": 88,
     "metadata": {},
     "output_type": "execute_result"
    }
   ],
   "source": [
    "pd.merge(df1,df2,left_on= 'id',right_on='id')"
   ],
   "metadata": {
    "collapsed": false,
    "pycharm": {
     "name": "#%%\n"
    }
   }
  },
  {
   "cell_type": "code",
   "execution_count": 89,
   "outputs": [
    {
     "data": {
      "text/plain": "      id   band   num   price  Unnamed: 4\n0      1    130   123     159         NaN\n1      2    131   124     753         NaN\n2      3    132   125     456         NaN\n3      4    133   126     852         NaN",
      "text/html": "<div>\n<style scoped>\n    .dataframe tbody tr th:only-of-type {\n        vertical-align: middle;\n    }\n\n    .dataframe tbody tr th {\n        vertical-align: top;\n    }\n\n    .dataframe thead th {\n        text-align: right;\n    }\n</style>\n<table border=\"1\" class=\"dataframe\">\n  <thead>\n    <tr style=\"text-align: right;\">\n      <th></th>\n      <th>id</th>\n      <th>band</th>\n      <th>num</th>\n      <th>price</th>\n      <th>Unnamed: 4</th>\n    </tr>\n  </thead>\n  <tbody>\n    <tr>\n      <th>0</th>\n      <td>1</td>\n      <td>130</td>\n      <td>123</td>\n      <td>159</td>\n      <td>NaN</td>\n    </tr>\n    <tr>\n      <th>1</th>\n      <td>2</td>\n      <td>131</td>\n      <td>124</td>\n      <td>753</td>\n      <td>NaN</td>\n    </tr>\n    <tr>\n      <th>2</th>\n      <td>3</td>\n      <td>132</td>\n      <td>125</td>\n      <td>456</td>\n      <td>NaN</td>\n    </tr>\n    <tr>\n      <th>3</th>\n      <td>4</td>\n      <td>133</td>\n      <td>126</td>\n      <td>852</td>\n      <td>NaN</td>\n    </tr>\n  </tbody>\n</table>\n</div>"
     },
     "execution_count": 89,
     "metadata": {},
     "output_type": "execute_result"
    }
   ],
   "source": [
    "df = pd.read_csv('rz2.csv')\n",
    "df"
   ],
   "metadata": {
    "collapsed": false,
    "pycharm": {
     "name": "#%%\n"
    }
   }
  },
  {
   "cell_type": "code",
   "execution_count": 90,
   "outputs": [
    {
     "data": {
      "text/plain": "      id   band   num   price\n0      1    130   123     159\n1      2    131   124     753\n2      3    132   125     456\n3      4    133   126     852",
      "text/html": "<div>\n<style scoped>\n    .dataframe tbody tr th:only-of-type {\n        vertical-align: middle;\n    }\n\n    .dataframe tbody tr th {\n        vertical-align: top;\n    }\n\n    .dataframe thead th {\n        text-align: right;\n    }\n</style>\n<table border=\"1\" class=\"dataframe\">\n  <thead>\n    <tr style=\"text-align: right;\">\n      <th></th>\n      <th>id</th>\n      <th>band</th>\n      <th>num</th>\n      <th>price</th>\n    </tr>\n  </thead>\n  <tbody>\n    <tr>\n      <th>0</th>\n      <td>1</td>\n      <td>130</td>\n      <td>123</td>\n      <td>159</td>\n    </tr>\n    <tr>\n      <th>1</th>\n      <td>2</td>\n      <td>131</td>\n      <td>124</td>\n      <td>753</td>\n    </tr>\n    <tr>\n      <th>2</th>\n      <td>3</td>\n      <td>132</td>\n      <td>125</td>\n      <td>456</td>\n    </tr>\n    <tr>\n      <th>3</th>\n      <td>4</td>\n      <td>133</td>\n      <td>126</td>\n      <td>852</td>\n    </tr>\n  </tbody>\n</table>\n</div>"
     },
     "execution_count": 90,
     "metadata": {},
     "output_type": "execute_result"
    }
   ],
   "source": [
    "del df[\"Unnamed: 4\"]\n",
    "df"
   ],
   "metadata": {
    "collapsed": false,
    "pycharm": {
     "name": "#%%\n"
    }
   }
  },
  {
   "cell_type": "code",
   "execution_count": 91,
   "outputs": [
    {
     "data": {
      "text/plain": "0     19557\n1     93372\n2     57000\n3    107352\ndtype: int64"
     },
     "execution_count": 91,
     "metadata": {},
     "output_type": "execute_result"
    }
   ],
   "source": [
    "df = df.rename(columns={\"  id\":\"id\",\" band\":'band',\" num\":\"num\",\" price\":\"price\"})\n",
    "result = df.price*df.num\n",
    "result"
   ],
   "metadata": {
    "collapsed": false,
    "pycharm": {
     "name": "#%%\n"
    }
   }
  },
  {
   "cell_type": "code",
   "execution_count": 92,
   "outputs": [
    {
     "data": {
      "text/plain": "0    159\n1    753\n2    456\n3    852\nName: price, dtype: int64"
     },
     "execution_count": 92,
     "metadata": {},
     "output_type": "execute_result"
    }
   ],
   "source": [
    "df.price"
   ],
   "metadata": {
    "collapsed": false,
    "pycharm": {
     "name": "#%%\n"
    }
   }
  },
  {
   "cell_type": "code",
   "execution_count": 93,
   "outputs": [
    {
     "data": {
      "text/plain": "      id  band  num  price  result\n0      1   130  123    159   19557\n1      2   131  124    753   93372\n2      3   132  125    456   57000\n3      4   133  126    852  107352",
      "text/html": "<div>\n<style scoped>\n    .dataframe tbody tr th:only-of-type {\n        vertical-align: middle;\n    }\n\n    .dataframe tbody tr th {\n        vertical-align: top;\n    }\n\n    .dataframe thead th {\n        text-align: right;\n    }\n</style>\n<table border=\"1\" class=\"dataframe\">\n  <thead>\n    <tr style=\"text-align: right;\">\n      <th></th>\n      <th>id</th>\n      <th>band</th>\n      <th>num</th>\n      <th>price</th>\n      <th>result</th>\n    </tr>\n  </thead>\n  <tbody>\n    <tr>\n      <th>0</th>\n      <td>1</td>\n      <td>130</td>\n      <td>123</td>\n      <td>159</td>\n      <td>19557</td>\n    </tr>\n    <tr>\n      <th>1</th>\n      <td>2</td>\n      <td>131</td>\n      <td>124</td>\n      <td>753</td>\n      <td>93372</td>\n    </tr>\n    <tr>\n      <th>2</th>\n      <td>3</td>\n      <td>132</td>\n      <td>125</td>\n      <td>456</td>\n      <td>57000</td>\n    </tr>\n    <tr>\n      <th>3</th>\n      <td>4</td>\n      <td>133</td>\n      <td>126</td>\n      <td>852</td>\n      <td>107352</td>\n    </tr>\n  </tbody>\n</table>\n</div>"
     },
     "execution_count": 93,
     "metadata": {},
     "output_type": "execute_result"
    }
   ],
   "source": [
    "df[\"result\"] = result\n",
    "df"
   ],
   "metadata": {
    "collapsed": false,
    "pycharm": {
     "name": "#%%\n"
    }
   }
  },
  {
   "cell_type": "code",
   "execution_count": 94,
   "outputs": [
    {
     "data": {
      "text/plain": "      id   band   num   price  Unnamed: 4\n0      1    130   123     159         NaN\n1      2    131   124     753         NaN\n2      3    132   125     456         NaN\n3      4    133   126     852         NaN",
      "text/html": "<div>\n<style scoped>\n    .dataframe tbody tr th:only-of-type {\n        vertical-align: middle;\n    }\n\n    .dataframe tbody tr th {\n        vertical-align: top;\n    }\n\n    .dataframe thead th {\n        text-align: right;\n    }\n</style>\n<table border=\"1\" class=\"dataframe\">\n  <thead>\n    <tr style=\"text-align: right;\">\n      <th></th>\n      <th>id</th>\n      <th>band</th>\n      <th>num</th>\n      <th>price</th>\n      <th>Unnamed: 4</th>\n    </tr>\n  </thead>\n  <tbody>\n    <tr>\n      <th>0</th>\n      <td>1</td>\n      <td>130</td>\n      <td>123</td>\n      <td>159</td>\n      <td>NaN</td>\n    </tr>\n    <tr>\n      <th>1</th>\n      <td>2</td>\n      <td>131</td>\n      <td>124</td>\n      <td>753</td>\n      <td>NaN</td>\n    </tr>\n    <tr>\n      <th>2</th>\n      <td>3</td>\n      <td>132</td>\n      <td>125</td>\n      <td>456</td>\n      <td>NaN</td>\n    </tr>\n    <tr>\n      <th>3</th>\n      <td>4</td>\n      <td>133</td>\n      <td>126</td>\n      <td>852</td>\n      <td>NaN</td>\n    </tr>\n  </tbody>\n</table>\n</div>"
     },
     "execution_count": 94,
     "metadata": {},
     "output_type": "execute_result"
    }
   ],
   "source": [
    "df = pd.read_csv('rz2.csv',sep=',')\n",
    "df"
   ],
   "metadata": {
    "collapsed": false,
    "pycharm": {
     "name": "#%%############################################################33\n"
    }
   }
  },
  {
   "cell_type": "code",
   "execution_count": 95,
   "outputs": [
    {
     "data": {
      "text/plain": "Index(['   id', ' band', ' num', ' price', 'Unnamed: 4'], dtype='object')"
     },
     "execution_count": 95,
     "metadata": {},
     "output_type": "execute_result"
    }
   ],
   "source": [
    "df.keys()"
   ],
   "metadata": {
    "collapsed": false,
    "pycharm": {
     "name": "#%%\n"
    }
   }
  },
  {
   "cell_type": "code",
   "execution_count": 96,
   "outputs": [
    {
     "data": {
      "text/plain": "   id  band  num  price\n0   1   130  123    159\n1   2   131  124    753\n2   3   132  125    456\n3   4   133  126    852",
      "text/html": "<div>\n<style scoped>\n    .dataframe tbody tr th:only-of-type {\n        vertical-align: middle;\n    }\n\n    .dataframe tbody tr th {\n        vertical-align: top;\n    }\n\n    .dataframe thead th {\n        text-align: right;\n    }\n</style>\n<table border=\"1\" class=\"dataframe\">\n  <thead>\n    <tr style=\"text-align: right;\">\n      <th></th>\n      <th>id</th>\n      <th>band</th>\n      <th>num</th>\n      <th>price</th>\n    </tr>\n  </thead>\n  <tbody>\n    <tr>\n      <th>0</th>\n      <td>1</td>\n      <td>130</td>\n      <td>123</td>\n      <td>159</td>\n    </tr>\n    <tr>\n      <th>1</th>\n      <td>2</td>\n      <td>131</td>\n      <td>124</td>\n      <td>753</td>\n    </tr>\n    <tr>\n      <th>2</th>\n      <td>3</td>\n      <td>132</td>\n      <td>125</td>\n      <td>456</td>\n    </tr>\n    <tr>\n      <th>3</th>\n      <td>4</td>\n      <td>133</td>\n      <td>126</td>\n      <td>852</td>\n    </tr>\n  </tbody>\n</table>\n</div>"
     },
     "execution_count": 96,
     "metadata": {},
     "output_type": "execute_result"
    }
   ],
   "source": [
    "del df[\"Unnamed: 4\"]\n",
    "df.columns = ['id','band','num','price']\n",
    "df"
   ],
   "metadata": {
    "collapsed": false,
    "pycharm": {
     "name": "#%%\n"
    }
   }
  },
  {
   "cell_type": "code",
   "execution_count": 97,
   "outputs": [
    {
     "data": {
      "text/plain": "0   -0.571429\n1    0.285714\n2   -0.142857\n3    0.428571\nName: price, dtype: float64"
     },
     "execution_count": 97,
     "metadata": {},
     "output_type": "execute_result"
    }
   ],
   "source": [
    "scale = (df.price-df.price.mean())/(df.price.max()-df.price.min())\n",
    "scale"
   ],
   "metadata": {
    "collapsed": false,
    "pycharm": {
     "name": "#%%\n"
    }
   }
  },
  {
   "cell_type": "code",
   "execution_count": 98,
   "outputs": [
    {
     "data": {
      "text/plain": "0    (158, 500]\n1    (500, 853]\n2    (158, 500]\n3    (500, 853]\nName: price, dtype: category\nCategories (2, interval[int64]): [(158, 500] < (500, 853]]"
     },
     "execution_count": 98,
     "metadata": {},
     "output_type": "execute_result"
    }
   ],
   "source": [
    "bins = [min(df.price)-1,500,max(df.price)+1]\n",
    "label = [\"<500\",\">500\"]\n",
    "pd.cut(df.price,bins)"
   ],
   "metadata": {
    "collapsed": false,
    "pycharm": {
     "name": "#%%\n"
    }
   }
  },
  {
   "cell_type": "code",
   "execution_count": 99,
   "outputs": [
    {
     "data": {
      "text/plain": "0    <500\n1    >500\n2    <500\n3    >500\nName: price, dtype: category\nCategories (2, object): ['<500' < '>500']"
     },
     "execution_count": 99,
     "metadata": {},
     "output_type": "execute_result"
    }
   ],
   "source": [
    "pd.cut(df.price,bins,right=False,labels = label)"
   ],
   "metadata": {
    "collapsed": false,
    "pycharm": {
     "name": "#%%\n"
    }
   }
  },
  {
   "cell_type": "code",
   "execution_count": 100,
   "outputs": [
    {
     "data": {
      "text/plain": "   id  band  num  price label\n0   1   130  123    159  <500\n1   2   131  124    753  >500\n2   3   132  125    456  <500\n3   4   133  126    852  >500",
      "text/html": "<div>\n<style scoped>\n    .dataframe tbody tr th:only-of-type {\n        vertical-align: middle;\n    }\n\n    .dataframe tbody tr th {\n        vertical-align: top;\n    }\n\n    .dataframe thead th {\n        text-align: right;\n    }\n</style>\n<table border=\"1\" class=\"dataframe\">\n  <thead>\n    <tr style=\"text-align: right;\">\n      <th></th>\n      <th>id</th>\n      <th>band</th>\n      <th>num</th>\n      <th>price</th>\n      <th>label</th>\n    </tr>\n  </thead>\n  <tbody>\n    <tr>\n      <th>0</th>\n      <td>1</td>\n      <td>130</td>\n      <td>123</td>\n      <td>159</td>\n      <td>&lt;500</td>\n    </tr>\n    <tr>\n      <th>1</th>\n      <td>2</td>\n      <td>131</td>\n      <td>124</td>\n      <td>753</td>\n      <td>&gt;500</td>\n    </tr>\n    <tr>\n      <th>2</th>\n      <td>3</td>\n      <td>132</td>\n      <td>125</td>\n      <td>456</td>\n      <td>&lt;500</td>\n    </tr>\n    <tr>\n      <th>3</th>\n      <td>4</td>\n      <td>133</td>\n      <td>126</td>\n      <td>852</td>\n      <td>&gt;500</td>\n    </tr>\n  </tbody>\n</table>\n</div>"
     },
     "execution_count": 100,
     "metadata": {},
     "output_type": "execute_result"
    }
   ],
   "source": [
    "df['label'] = pd.cut(df.price,bins,right=False,labels = label)\n",
    "df"
   ],
   "metadata": {
    "collapsed": false,
    "pycharm": {
     "name": "#%%\n"
    }
   }
  },
  {
   "cell_type": "code",
   "execution_count": 101,
   "outputs": [
    {
     "data": {
      "text/plain": "     num price year month date\n0    0 123 159 2016 1 2016/6/1\n1    1 124 753 2016 2 2016/6/2\n2    2 125 456 2016 3 2016/6/3\n3    3 126 852 2016 4 2016/6/4\n4    4 127 210 2016 5 2016/6/5\n5    5 115 299 2016 6 2016/6/6\n6    6 102 699 2016 7 2016/6/7\n7    7 201 599 2016 8 2016/6/8\n8    8 154 199 2016 9 2016/6/9\n9  9 142 899 2016 10 2016/6/10",
      "text/html": "<div>\n<style scoped>\n    .dataframe tbody tr th:only-of-type {\n        vertical-align: middle;\n    }\n\n    .dataframe tbody tr th {\n        vertical-align: top;\n    }\n\n    .dataframe thead th {\n        text-align: right;\n    }\n</style>\n<table border=\"1\" class=\"dataframe\">\n  <thead>\n    <tr style=\"text-align: right;\">\n      <th></th>\n      <th>num price year month date</th>\n    </tr>\n  </thead>\n  <tbody>\n    <tr>\n      <th>0</th>\n      <td>0 123 159 2016 1 2016/6/1</td>\n    </tr>\n    <tr>\n      <th>1</th>\n      <td>1 124 753 2016 2 2016/6/2</td>\n    </tr>\n    <tr>\n      <th>2</th>\n      <td>2 125 456 2016 3 2016/6/3</td>\n    </tr>\n    <tr>\n      <th>3</th>\n      <td>3 126 852 2016 4 2016/6/4</td>\n    </tr>\n    <tr>\n      <th>4</th>\n      <td>4 127 210 2016 5 2016/6/5</td>\n    </tr>\n    <tr>\n      <th>5</th>\n      <td>5 115 299 2016 6 2016/6/6</td>\n    </tr>\n    <tr>\n      <th>6</th>\n      <td>6 102 699 2016 7 2016/6/7</td>\n    </tr>\n    <tr>\n      <th>7</th>\n      <td>7 201 599 2016 8 2016/6/8</td>\n    </tr>\n    <tr>\n      <th>8</th>\n      <td>8 154 199 2016 9 2016/6/9</td>\n    </tr>\n    <tr>\n      <th>9</th>\n      <td>9 142 899 2016 10 2016/6/10</td>\n    </tr>\n  </tbody>\n</table>\n</div>"
     },
     "execution_count": 101,
     "metadata": {},
     "output_type": "execute_result"
    }
   ],
   "source": [
    "from pandas import to_datetime\n",
    "df = pd.read_csv('rz3.csv',sep=',',encoding='utf8')\n",
    "df"
   ],
   "metadata": {
    "collapsed": false,
    "pycharm": {
     "name": "#%%\n"
    }
   }
  },
  {
   "cell_type": "code",
   "execution_count": 102,
   "outputs": [
    {
     "data": {
      "text/plain": "   num  price  year  month       date\n0  123    159  2016      1   2016/6/1\n1  124    753  2016      2   2016/6/2\n2  125    456  2016      3   2016/6/3\n3  126    852  2016      4   2016/6/4\n4  127    210  2016      5   2016/6/5\n5  115    299  2016      6   2016/6/6\n6  102    699  2016      7   2016/6/7\n7  201    599  2016      8   2016/6/8\n8  154    199  2016      9   2016/6/9\n9  142    899  2016     10  2016/6/10",
      "text/html": "<div>\n<style scoped>\n    .dataframe tbody tr th:only-of-type {\n        vertical-align: middle;\n    }\n\n    .dataframe tbody tr th {\n        vertical-align: top;\n    }\n\n    .dataframe thead th {\n        text-align: right;\n    }\n</style>\n<table border=\"1\" class=\"dataframe\">\n  <thead>\n    <tr style=\"text-align: right;\">\n      <th></th>\n      <th>num</th>\n      <th>price</th>\n      <th>year</th>\n      <th>month</th>\n      <th>date</th>\n    </tr>\n  </thead>\n  <tbody>\n    <tr>\n      <th>0</th>\n      <td>123</td>\n      <td>159</td>\n      <td>2016</td>\n      <td>1</td>\n      <td>2016/6/1</td>\n    </tr>\n    <tr>\n      <th>1</th>\n      <td>124</td>\n      <td>753</td>\n      <td>2016</td>\n      <td>2</td>\n      <td>2016/6/2</td>\n    </tr>\n    <tr>\n      <th>2</th>\n      <td>125</td>\n      <td>456</td>\n      <td>2016</td>\n      <td>3</td>\n      <td>2016/6/3</td>\n    </tr>\n    <tr>\n      <th>3</th>\n      <td>126</td>\n      <td>852</td>\n      <td>2016</td>\n      <td>4</td>\n      <td>2016/6/4</td>\n    </tr>\n    <tr>\n      <th>4</th>\n      <td>127</td>\n      <td>210</td>\n      <td>2016</td>\n      <td>5</td>\n      <td>2016/6/5</td>\n    </tr>\n    <tr>\n      <th>5</th>\n      <td>115</td>\n      <td>299</td>\n      <td>2016</td>\n      <td>6</td>\n      <td>2016/6/6</td>\n    </tr>\n    <tr>\n      <th>6</th>\n      <td>102</td>\n      <td>699</td>\n      <td>2016</td>\n      <td>7</td>\n      <td>2016/6/7</td>\n    </tr>\n    <tr>\n      <th>7</th>\n      <td>201</td>\n      <td>599</td>\n      <td>2016</td>\n      <td>8</td>\n      <td>2016/6/8</td>\n    </tr>\n    <tr>\n      <th>8</th>\n      <td>154</td>\n      <td>199</td>\n      <td>2016</td>\n      <td>9</td>\n      <td>2016/6/9</td>\n    </tr>\n    <tr>\n      <th>9</th>\n      <td>142</td>\n      <td>899</td>\n      <td>2016</td>\n      <td>10</td>\n      <td>2016/6/10</td>\n    </tr>\n  </tbody>\n</table>\n</div>"
     },
     "execution_count": 102,
     "metadata": {},
     "output_type": "execute_result"
    }
   ],
   "source": [
    "df = pd.read_csv('rz3.csv',delim_whitespace=True,encoding='utf8')\n",
    "df"
   ],
   "metadata": {
    "collapsed": false,
    "pycharm": {
     "name": "#%%\n"
    }
   }
  },
  {
   "cell_type": "code",
   "execution_count": 103,
   "outputs": [
    {
     "data": {
      "text/plain": "0   2016-06-01\n1   2016-06-02\n2   2016-06-03\n3   2016-06-04\n4   2016-06-05\n5   2016-06-06\n6   2016-06-07\n7   2016-06-08\n8   2016-06-09\n9   2016-06-10\nName: date, dtype: datetime64[ns]"
     },
     "execution_count": 103,
     "metadata": {},
     "output_type": "execute_result"
    }
   ],
   "source": [
    "df_dt = pd.to_datetime(df.date,format=\"%Y/%m/%d\")\n",
    "df_dt"
   ],
   "metadata": {
    "collapsed": false,
    "pycharm": {
     "name": "#%%\n"
    }
   }
  },
  {
   "cell_type": "code",
   "execution_count": 104,
   "outputs": [
    {
     "data": {
      "text/plain": "0    2016\n1    2016\n2    2016\n3    2016\n4    2016\n5    2016\n6    2016\n7    2016\n8    2016\n9    2016\nName: date, dtype: int64"
     },
     "execution_count": 104,
     "metadata": {},
     "output_type": "execute_result"
    }
   ],
   "source": [
    "df_dt.dt.year"
   ],
   "metadata": {
    "collapsed": false,
    "pycharm": {
     "name": "#%%\n"
    }
   }
  },
  {
   "cell_type": "code",
   "execution_count": 105,
   "outputs": [
    {
     "data": {
      "text/plain": "0     1\n1     2\n2     3\n3     4\n4     5\n5     6\n6     7\n7     8\n8     9\n9    10\nName: date, dtype: int64"
     },
     "execution_count": 105,
     "metadata": {},
     "output_type": "execute_result"
    }
   ],
   "source": [
    "df_dt.dt.day"
   ],
   "metadata": {
    "collapsed": false,
    "pycharm": {
     "name": "#%%\n"
    }
   }
  },
  {
   "cell_type": "code",
   "execution_count": 106,
   "outputs": [
    {
     "data": {
      "text/plain": "    School Num     Class Sex            Name  English  Physics  Military  \\\n0   2308024241  23080242   M      Chen, Long       76       78        77   \n1   2308024244  23080242   F        Zhou, Yi       66       91        75   \n2   2308024251  23080242   M       Zhang， Bo       85       81        75   \n3   2308024249  23080242   M        Zhu, Hao       65       50        80   \n4   2308024219  23080242   F       Feng, Yin       73       88        92   \n5   2308024201  23080242   M        Chi, Pei       60       50        89   \n6   2308024347  23080243   F         Li, Hua       67       61        84   \n7   2308024307  23080243   M       Chen, Ten       76       79        86   \n8   2308024226  23080243   M         Yu, Hao       66       67        85   \n9   2308024220  23080243   F         Li, Jia       62       60        90   \n10  2308024242  23080243   M   Li, Shang Chu       76       90        84   \n11  2308024210  23080243   F         Guo, Yi       79       67        84   \n12  2308024435  23080244   M   Jiang, Yi Tao       77       71        71   \n13  2308024432  23080244   M        Zhao, Yu       74       74        74   \n14  2308024446  23080244   F        Zhou, Lu       76       80        77   \n15  2308024421  23080244   M  Lin, Jian Xian       73       72        81   \n16  2308024433  23080244   M    Li, Da Qiang       79       76        77   \n17  2308024428  23080244   M    Li, Che Tong       64       96        91   \n18  2308024402  23080244   F       Wang, hui       73       74        93   \n19  2308024422  23080244   M  Li, Xiao Liang       85       60        85   \n\n    Maths  Algebra  Geometry  Computer  \n0      40       23        60        89  \n1      47       47        44        82  \n2      45       45        60        80  \n3      72       62        71        82  \n4      61       47        46        83  \n5      71       76        71        82  \n6      61       65        78        83  \n7      69       40        69        82  \n8      65       61        71        95  \n9      60       67         7        95  \n10     60       66        60        82  \n11     64       64        79        85  \n12     87       61        73        76  \n13     88       68        70        71  \n14     61       74        80        85  \n15     63       90        75        85  \n16     78       70        70        89  \n17     69       60        77        83  \n18     70       71        75        88  \n19     72       72        83        89  ",
      "text/html": "<div>\n<style scoped>\n    .dataframe tbody tr th:only-of-type {\n        vertical-align: middle;\n    }\n\n    .dataframe tbody tr th {\n        vertical-align: top;\n    }\n\n    .dataframe thead th {\n        text-align: right;\n    }\n</style>\n<table border=\"1\" class=\"dataframe\">\n  <thead>\n    <tr style=\"text-align: right;\">\n      <th></th>\n      <th>School Num</th>\n      <th>Class</th>\n      <th>Sex</th>\n      <th>Name</th>\n      <th>English</th>\n      <th>Physics</th>\n      <th>Military</th>\n      <th>Maths</th>\n      <th>Algebra</th>\n      <th>Geometry</th>\n      <th>Computer</th>\n    </tr>\n  </thead>\n  <tbody>\n    <tr>\n      <th>0</th>\n      <td>2308024241</td>\n      <td>23080242</td>\n      <td>M</td>\n      <td>Chen, Long</td>\n      <td>76</td>\n      <td>78</td>\n      <td>77</td>\n      <td>40</td>\n      <td>23</td>\n      <td>60</td>\n      <td>89</td>\n    </tr>\n    <tr>\n      <th>1</th>\n      <td>2308024244</td>\n      <td>23080242</td>\n      <td>F</td>\n      <td>Zhou, Yi</td>\n      <td>66</td>\n      <td>91</td>\n      <td>75</td>\n      <td>47</td>\n      <td>47</td>\n      <td>44</td>\n      <td>82</td>\n    </tr>\n    <tr>\n      <th>2</th>\n      <td>2308024251</td>\n      <td>23080242</td>\n      <td>M</td>\n      <td>Zhang， Bo</td>\n      <td>85</td>\n      <td>81</td>\n      <td>75</td>\n      <td>45</td>\n      <td>45</td>\n      <td>60</td>\n      <td>80</td>\n    </tr>\n    <tr>\n      <th>3</th>\n      <td>2308024249</td>\n      <td>23080242</td>\n      <td>M</td>\n      <td>Zhu, Hao</td>\n      <td>65</td>\n      <td>50</td>\n      <td>80</td>\n      <td>72</td>\n      <td>62</td>\n      <td>71</td>\n      <td>82</td>\n    </tr>\n    <tr>\n      <th>4</th>\n      <td>2308024219</td>\n      <td>23080242</td>\n      <td>F</td>\n      <td>Feng, Yin</td>\n      <td>73</td>\n      <td>88</td>\n      <td>92</td>\n      <td>61</td>\n      <td>47</td>\n      <td>46</td>\n      <td>83</td>\n    </tr>\n    <tr>\n      <th>5</th>\n      <td>2308024201</td>\n      <td>23080242</td>\n      <td>M</td>\n      <td>Chi, Pei</td>\n      <td>60</td>\n      <td>50</td>\n      <td>89</td>\n      <td>71</td>\n      <td>76</td>\n      <td>71</td>\n      <td>82</td>\n    </tr>\n    <tr>\n      <th>6</th>\n      <td>2308024347</td>\n      <td>23080243</td>\n      <td>F</td>\n      <td>Li, Hua</td>\n      <td>67</td>\n      <td>61</td>\n      <td>84</td>\n      <td>61</td>\n      <td>65</td>\n      <td>78</td>\n      <td>83</td>\n    </tr>\n    <tr>\n      <th>7</th>\n      <td>2308024307</td>\n      <td>23080243</td>\n      <td>M</td>\n      <td>Chen, Ten</td>\n      <td>76</td>\n      <td>79</td>\n      <td>86</td>\n      <td>69</td>\n      <td>40</td>\n      <td>69</td>\n      <td>82</td>\n    </tr>\n    <tr>\n      <th>8</th>\n      <td>2308024226</td>\n      <td>23080243</td>\n      <td>M</td>\n      <td>Yu, Hao</td>\n      <td>66</td>\n      <td>67</td>\n      <td>85</td>\n      <td>65</td>\n      <td>61</td>\n      <td>71</td>\n      <td>95</td>\n    </tr>\n    <tr>\n      <th>9</th>\n      <td>2308024220</td>\n      <td>23080243</td>\n      <td>F</td>\n      <td>Li, Jia</td>\n      <td>62</td>\n      <td>60</td>\n      <td>90</td>\n      <td>60</td>\n      <td>67</td>\n      <td>7</td>\n      <td>95</td>\n    </tr>\n    <tr>\n      <th>10</th>\n      <td>2308024242</td>\n      <td>23080243</td>\n      <td>M</td>\n      <td>Li, Shang Chu</td>\n      <td>76</td>\n      <td>90</td>\n      <td>84</td>\n      <td>60</td>\n      <td>66</td>\n      <td>60</td>\n      <td>82</td>\n    </tr>\n    <tr>\n      <th>11</th>\n      <td>2308024210</td>\n      <td>23080243</td>\n      <td>F</td>\n      <td>Guo, Yi</td>\n      <td>79</td>\n      <td>67</td>\n      <td>84</td>\n      <td>64</td>\n      <td>64</td>\n      <td>79</td>\n      <td>85</td>\n    </tr>\n    <tr>\n      <th>12</th>\n      <td>2308024435</td>\n      <td>23080244</td>\n      <td>M</td>\n      <td>Jiang, Yi Tao</td>\n      <td>77</td>\n      <td>71</td>\n      <td>71</td>\n      <td>87</td>\n      <td>61</td>\n      <td>73</td>\n      <td>76</td>\n    </tr>\n    <tr>\n      <th>13</th>\n      <td>2308024432</td>\n      <td>23080244</td>\n      <td>M</td>\n      <td>Zhao, Yu</td>\n      <td>74</td>\n      <td>74</td>\n      <td>74</td>\n      <td>88</td>\n      <td>68</td>\n      <td>70</td>\n      <td>71</td>\n    </tr>\n    <tr>\n      <th>14</th>\n      <td>2308024446</td>\n      <td>23080244</td>\n      <td>F</td>\n      <td>Zhou, Lu</td>\n      <td>76</td>\n      <td>80</td>\n      <td>77</td>\n      <td>61</td>\n      <td>74</td>\n      <td>80</td>\n      <td>85</td>\n    </tr>\n    <tr>\n      <th>15</th>\n      <td>2308024421</td>\n      <td>23080244</td>\n      <td>M</td>\n      <td>Lin, Jian Xian</td>\n      <td>73</td>\n      <td>72</td>\n      <td>81</td>\n      <td>63</td>\n      <td>90</td>\n      <td>75</td>\n      <td>85</td>\n    </tr>\n    <tr>\n      <th>16</th>\n      <td>2308024433</td>\n      <td>23080244</td>\n      <td>M</td>\n      <td>Li, Da Qiang</td>\n      <td>79</td>\n      <td>76</td>\n      <td>77</td>\n      <td>78</td>\n      <td>70</td>\n      <td>70</td>\n      <td>89</td>\n    </tr>\n    <tr>\n      <th>17</th>\n      <td>2308024428</td>\n      <td>23080244</td>\n      <td>M</td>\n      <td>Li, Che Tong</td>\n      <td>64</td>\n      <td>96</td>\n      <td>91</td>\n      <td>69</td>\n      <td>60</td>\n      <td>77</td>\n      <td>83</td>\n    </tr>\n    <tr>\n      <th>18</th>\n      <td>2308024402</td>\n      <td>23080244</td>\n      <td>F</td>\n      <td>Wang, hui</td>\n      <td>73</td>\n      <td>74</td>\n      <td>93</td>\n      <td>70</td>\n      <td>71</td>\n      <td>75</td>\n      <td>88</td>\n    </tr>\n    <tr>\n      <th>19</th>\n      <td>2308024422</td>\n      <td>23080244</td>\n      <td>M</td>\n      <td>Li, Xiao Liang</td>\n      <td>85</td>\n      <td>60</td>\n      <td>85</td>\n      <td>72</td>\n      <td>72</td>\n      <td>83</td>\n      <td>89</td>\n    </tr>\n  </tbody>\n</table>\n</div>"
     },
     "execution_count": 106,
     "metadata": {},
     "output_type": "execute_result"
    }
   ],
   "source": [
    "df = pd.read_excel('rz4.xls')\n",
    "del df [\"Unnamed: 0\"]\n",
    "df"
   ],
   "metadata": {
    "collapsed": false,
    "pycharm": {
     "name": "#%%###########################################################\n"
    }
   }
  },
  {
   "cell_type": "code",
   "execution_count": 107,
   "outputs": [
    {
     "data": {
      "text/plain": "              sum  size       mean         var        std  amax  amin\nClass    Sex                                                         \n23080242 F    167     2  83.500000  144.500000  12.020815    92    75\n         M    321     4  80.250000   38.250000   6.184658    89    75\n23080243 F    258     3  86.000000   12.000000   3.464102    90    84\n         M    255     3  85.000000    1.000000   1.000000    86    84\n23080244 F    170     2  85.000000  128.000000  11.313708    93    77\n         M    479     6  79.833333   54.566667   7.386925    91    71",
      "text/html": "<div>\n<style scoped>\n    .dataframe tbody tr th:only-of-type {\n        vertical-align: middle;\n    }\n\n    .dataframe tbody tr th {\n        vertical-align: top;\n    }\n\n    .dataframe thead th {\n        text-align: right;\n    }\n</style>\n<table border=\"1\" class=\"dataframe\">\n  <thead>\n    <tr style=\"text-align: right;\">\n      <th></th>\n      <th></th>\n      <th>sum</th>\n      <th>size</th>\n      <th>mean</th>\n      <th>var</th>\n      <th>std</th>\n      <th>amax</th>\n      <th>amin</th>\n    </tr>\n    <tr>\n      <th>Class</th>\n      <th>Sex</th>\n      <th></th>\n      <th></th>\n      <th></th>\n      <th></th>\n      <th></th>\n      <th></th>\n      <th></th>\n    </tr>\n  </thead>\n  <tbody>\n    <tr>\n      <th rowspan=\"2\" valign=\"top\">23080242</th>\n      <th>F</th>\n      <td>167</td>\n      <td>2</td>\n      <td>83.500000</td>\n      <td>144.500000</td>\n      <td>12.020815</td>\n      <td>92</td>\n      <td>75</td>\n    </tr>\n    <tr>\n      <th>M</th>\n      <td>321</td>\n      <td>4</td>\n      <td>80.250000</td>\n      <td>38.250000</td>\n      <td>6.184658</td>\n      <td>89</td>\n      <td>75</td>\n    </tr>\n    <tr>\n      <th rowspan=\"2\" valign=\"top\">23080243</th>\n      <th>F</th>\n      <td>258</td>\n      <td>3</td>\n      <td>86.000000</td>\n      <td>12.000000</td>\n      <td>3.464102</td>\n      <td>90</td>\n      <td>84</td>\n    </tr>\n    <tr>\n      <th>M</th>\n      <td>255</td>\n      <td>3</td>\n      <td>85.000000</td>\n      <td>1.000000</td>\n      <td>1.000000</td>\n      <td>86</td>\n      <td>84</td>\n    </tr>\n    <tr>\n      <th rowspan=\"2\" valign=\"top\">23080244</th>\n      <th>F</th>\n      <td>170</td>\n      <td>2</td>\n      <td>85.000000</td>\n      <td>128.000000</td>\n      <td>11.313708</td>\n      <td>93</td>\n      <td>77</td>\n    </tr>\n    <tr>\n      <th>M</th>\n      <td>479</td>\n      <td>6</td>\n      <td>79.833333</td>\n      <td>54.566667</td>\n      <td>7.386925</td>\n      <td>91</td>\n      <td>71</td>\n    </tr>\n  </tbody>\n</table>\n</div>"
     },
     "execution_count": 107,
     "metadata": {},
     "output_type": "execute_result"
    }
   ],
   "source": [
    "import  numpy as np\n",
    "df.groupby(by=['Class','Sex'])['Military'].agg([np.sum,np.size,np.mean,np.var,np.std,np.max,np.min])"
   ],
   "metadata": {
    "collapsed": false,
    "pycharm": {
     "name": "#%%\n"
    }
   }
  },
  {
   "cell_type": "code",
   "execution_count": 108,
   "outputs": [
    {
     "data": {
      "text/plain": "0     443\n1     452\n2     471\n3     482\n4     490\n5     499\n6     499\n7     501\n8     510\n9     441\n10    518\n11    522\n12    516\n13    519\n14    533\n15    539\n16    539\n17    540\n18    544\n19    546\ndtype: int64"
     },
     "execution_count": 108,
     "metadata": {},
     "output_type": "execute_result"
    }
   ],
   "source": [
    "Total = df.English+df.Physics+df.Military+df.Maths+df.Algebra+df.Computer+df.Geometry\n",
    "Total"
   ],
   "metadata": {
    "collapsed": false,
    "pycharm": {
     "name": "#%%\n"
    }
   }
  },
  {
   "cell_type": "code",
   "execution_count": 109,
   "outputs": [
    {
     "data": {
      "text/plain": "    School Num     Class Sex            Name  English  Physics  Military  \\\n0   2308024241  23080242   M      Chen, Long       76       78        77   \n1   2308024244  23080242   F        Zhou, Yi       66       91        75   \n2   2308024251  23080242   M       Zhang， Bo       85       81        75   \n3   2308024249  23080242   M        Zhu, Hao       65       50        80   \n4   2308024219  23080242   F       Feng, Yin       73       88        92   \n5   2308024201  23080242   M        Chi, Pei       60       50        89   \n6   2308024347  23080243   F         Li, Hua       67       61        84   \n7   2308024307  23080243   M       Chen, Ten       76       79        86   \n8   2308024226  23080243   M         Yu, Hao       66       67        85   \n9   2308024220  23080243   F         Li, Jia       62       60        90   \n10  2308024242  23080243   M   Li, Shang Chu       76       90        84   \n11  2308024210  23080243   F         Guo, Yi       79       67        84   \n12  2308024435  23080244   M   Jiang, Yi Tao       77       71        71   \n13  2308024432  23080244   M        Zhao, Yu       74       74        74   \n14  2308024446  23080244   F        Zhou, Lu       76       80        77   \n15  2308024421  23080244   M  Lin, Jian Xian       73       72        81   \n16  2308024433  23080244   M    Li, Da Qiang       79       76        77   \n17  2308024428  23080244   M    Li, Che Tong       64       96        91   \n18  2308024402  23080244   F       Wang, hui       73       74        93   \n19  2308024422  23080244   M  Li, Xiao Liang       85       60        85   \n\n    Maths  Algebra  Geometry  Computer  Total  \n0      40       23        60        89    443  \n1      47       47        44        82    452  \n2      45       45        60        80    471  \n3      72       62        71        82    482  \n4      61       47        46        83    490  \n5      71       76        71        82    499  \n6      61       65        78        83    499  \n7      69       40        69        82    501  \n8      65       61        71        95    510  \n9      60       67         7        95    441  \n10     60       66        60        82    518  \n11     64       64        79        85    522  \n12     87       61        73        76    516  \n13     88       68        70        71    519  \n14     61       74        80        85    533  \n15     63       90        75        85    539  \n16     78       70        70        89    539  \n17     69       60        77        83    540  \n18     70       71        75        88    544  \n19     72       72        83        89    546  ",
      "text/html": "<div>\n<style scoped>\n    .dataframe tbody tr th:only-of-type {\n        vertical-align: middle;\n    }\n\n    .dataframe tbody tr th {\n        vertical-align: top;\n    }\n\n    .dataframe thead th {\n        text-align: right;\n    }\n</style>\n<table border=\"1\" class=\"dataframe\">\n  <thead>\n    <tr style=\"text-align: right;\">\n      <th></th>\n      <th>School Num</th>\n      <th>Class</th>\n      <th>Sex</th>\n      <th>Name</th>\n      <th>English</th>\n      <th>Physics</th>\n      <th>Military</th>\n      <th>Maths</th>\n      <th>Algebra</th>\n      <th>Geometry</th>\n      <th>Computer</th>\n      <th>Total</th>\n    </tr>\n  </thead>\n  <tbody>\n    <tr>\n      <th>0</th>\n      <td>2308024241</td>\n      <td>23080242</td>\n      <td>M</td>\n      <td>Chen, Long</td>\n      <td>76</td>\n      <td>78</td>\n      <td>77</td>\n      <td>40</td>\n      <td>23</td>\n      <td>60</td>\n      <td>89</td>\n      <td>443</td>\n    </tr>\n    <tr>\n      <th>1</th>\n      <td>2308024244</td>\n      <td>23080242</td>\n      <td>F</td>\n      <td>Zhou, Yi</td>\n      <td>66</td>\n      <td>91</td>\n      <td>75</td>\n      <td>47</td>\n      <td>47</td>\n      <td>44</td>\n      <td>82</td>\n      <td>452</td>\n    </tr>\n    <tr>\n      <th>2</th>\n      <td>2308024251</td>\n      <td>23080242</td>\n      <td>M</td>\n      <td>Zhang， Bo</td>\n      <td>85</td>\n      <td>81</td>\n      <td>75</td>\n      <td>45</td>\n      <td>45</td>\n      <td>60</td>\n      <td>80</td>\n      <td>471</td>\n    </tr>\n    <tr>\n      <th>3</th>\n      <td>2308024249</td>\n      <td>23080242</td>\n      <td>M</td>\n      <td>Zhu, Hao</td>\n      <td>65</td>\n      <td>50</td>\n      <td>80</td>\n      <td>72</td>\n      <td>62</td>\n      <td>71</td>\n      <td>82</td>\n      <td>482</td>\n    </tr>\n    <tr>\n      <th>4</th>\n      <td>2308024219</td>\n      <td>23080242</td>\n      <td>F</td>\n      <td>Feng, Yin</td>\n      <td>73</td>\n      <td>88</td>\n      <td>92</td>\n      <td>61</td>\n      <td>47</td>\n      <td>46</td>\n      <td>83</td>\n      <td>490</td>\n    </tr>\n    <tr>\n      <th>5</th>\n      <td>2308024201</td>\n      <td>23080242</td>\n      <td>M</td>\n      <td>Chi, Pei</td>\n      <td>60</td>\n      <td>50</td>\n      <td>89</td>\n      <td>71</td>\n      <td>76</td>\n      <td>71</td>\n      <td>82</td>\n      <td>499</td>\n    </tr>\n    <tr>\n      <th>6</th>\n      <td>2308024347</td>\n      <td>23080243</td>\n      <td>F</td>\n      <td>Li, Hua</td>\n      <td>67</td>\n      <td>61</td>\n      <td>84</td>\n      <td>61</td>\n      <td>65</td>\n      <td>78</td>\n      <td>83</td>\n      <td>499</td>\n    </tr>\n    <tr>\n      <th>7</th>\n      <td>2308024307</td>\n      <td>23080243</td>\n      <td>M</td>\n      <td>Chen, Ten</td>\n      <td>76</td>\n      <td>79</td>\n      <td>86</td>\n      <td>69</td>\n      <td>40</td>\n      <td>69</td>\n      <td>82</td>\n      <td>501</td>\n    </tr>\n    <tr>\n      <th>8</th>\n      <td>2308024226</td>\n      <td>23080243</td>\n      <td>M</td>\n      <td>Yu, Hao</td>\n      <td>66</td>\n      <td>67</td>\n      <td>85</td>\n      <td>65</td>\n      <td>61</td>\n      <td>71</td>\n      <td>95</td>\n      <td>510</td>\n    </tr>\n    <tr>\n      <th>9</th>\n      <td>2308024220</td>\n      <td>23080243</td>\n      <td>F</td>\n      <td>Li, Jia</td>\n      <td>62</td>\n      <td>60</td>\n      <td>90</td>\n      <td>60</td>\n      <td>67</td>\n      <td>7</td>\n      <td>95</td>\n      <td>441</td>\n    </tr>\n    <tr>\n      <th>10</th>\n      <td>2308024242</td>\n      <td>23080243</td>\n      <td>M</td>\n      <td>Li, Shang Chu</td>\n      <td>76</td>\n      <td>90</td>\n      <td>84</td>\n      <td>60</td>\n      <td>66</td>\n      <td>60</td>\n      <td>82</td>\n      <td>518</td>\n    </tr>\n    <tr>\n      <th>11</th>\n      <td>2308024210</td>\n      <td>23080243</td>\n      <td>F</td>\n      <td>Guo, Yi</td>\n      <td>79</td>\n      <td>67</td>\n      <td>84</td>\n      <td>64</td>\n      <td>64</td>\n      <td>79</td>\n      <td>85</td>\n      <td>522</td>\n    </tr>\n    <tr>\n      <th>12</th>\n      <td>2308024435</td>\n      <td>23080244</td>\n      <td>M</td>\n      <td>Jiang, Yi Tao</td>\n      <td>77</td>\n      <td>71</td>\n      <td>71</td>\n      <td>87</td>\n      <td>61</td>\n      <td>73</td>\n      <td>76</td>\n      <td>516</td>\n    </tr>\n    <tr>\n      <th>13</th>\n      <td>2308024432</td>\n      <td>23080244</td>\n      <td>M</td>\n      <td>Zhao, Yu</td>\n      <td>74</td>\n      <td>74</td>\n      <td>74</td>\n      <td>88</td>\n      <td>68</td>\n      <td>70</td>\n      <td>71</td>\n      <td>519</td>\n    </tr>\n    <tr>\n      <th>14</th>\n      <td>2308024446</td>\n      <td>23080244</td>\n      <td>F</td>\n      <td>Zhou, Lu</td>\n      <td>76</td>\n      <td>80</td>\n      <td>77</td>\n      <td>61</td>\n      <td>74</td>\n      <td>80</td>\n      <td>85</td>\n      <td>533</td>\n    </tr>\n    <tr>\n      <th>15</th>\n      <td>2308024421</td>\n      <td>23080244</td>\n      <td>M</td>\n      <td>Lin, Jian Xian</td>\n      <td>73</td>\n      <td>72</td>\n      <td>81</td>\n      <td>63</td>\n      <td>90</td>\n      <td>75</td>\n      <td>85</td>\n      <td>539</td>\n    </tr>\n    <tr>\n      <th>16</th>\n      <td>2308024433</td>\n      <td>23080244</td>\n      <td>M</td>\n      <td>Li, Da Qiang</td>\n      <td>79</td>\n      <td>76</td>\n      <td>77</td>\n      <td>78</td>\n      <td>70</td>\n      <td>70</td>\n      <td>89</td>\n      <td>539</td>\n    </tr>\n    <tr>\n      <th>17</th>\n      <td>2308024428</td>\n      <td>23080244</td>\n      <td>M</td>\n      <td>Li, Che Tong</td>\n      <td>64</td>\n      <td>96</td>\n      <td>91</td>\n      <td>69</td>\n      <td>60</td>\n      <td>77</td>\n      <td>83</td>\n      <td>540</td>\n    </tr>\n    <tr>\n      <th>18</th>\n      <td>2308024402</td>\n      <td>23080244</td>\n      <td>F</td>\n      <td>Wang, hui</td>\n      <td>73</td>\n      <td>74</td>\n      <td>93</td>\n      <td>70</td>\n      <td>71</td>\n      <td>75</td>\n      <td>88</td>\n      <td>544</td>\n    </tr>\n    <tr>\n      <th>19</th>\n      <td>2308024422</td>\n      <td>23080244</td>\n      <td>M</td>\n      <td>Li, Xiao Liang</td>\n      <td>85</td>\n      <td>60</td>\n      <td>85</td>\n      <td>72</td>\n      <td>72</td>\n      <td>83</td>\n      <td>89</td>\n      <td>546</td>\n    </tr>\n  </tbody>\n</table>\n</div>"
     },
     "execution_count": 109,
     "metadata": {},
     "output_type": "execute_result"
    }
   ],
   "source": [
    "df['Total'] = Total\n",
    "df"
   ],
   "metadata": {
    "collapsed": false,
    "pycharm": {
     "name": "#%%\n"
    }
   }
  },
  {
   "cell_type": "code",
   "execution_count": 110,
   "outputs": [
    {
     "data": {
      "text/plain": "0        <450\n1     450-500\n2     450-500\n3     450-500\n4     450-500\n5     450-500\n6     450-500\n7        >500\n8        >500\n9        <450\n10       >500\n11       >500\n12       >500\n13       >500\n14       >500\n15       >500\n16       >500\n17       >500\n18       >500\n19       >500\nName: Total, dtype: category\nCategories (3, object): ['<450' < '450-500' < '>500']"
     },
     "execution_count": 110,
     "metadata": {},
     "output_type": "execute_result"
    }
   ],
   "source": [
    "bins = [min(df.Total)-1,450,500,max(df.Total)+1]\n",
    "labels = ['<450','450-500','>500']\n",
    "Total_1 = pd.cut(df.Total,bins,labels=labels)\n",
    "Total_1"
   ],
   "metadata": {
    "collapsed": false,
    "pycharm": {
     "name": "#%%\n"
    }
   }
  },
  {
   "cell_type": "code",
   "execution_count": 111,
   "outputs": [
    {
     "data": {
      "text/plain": "    School Num     Class Sex            Name  English  Physics  Military  \\\n0   2308024241  23080242   M      Chen, Long       76       78        77   \n1   2308024244  23080242   F        Zhou, Yi       66       91        75   \n2   2308024251  23080242   M       Zhang， Bo       85       81        75   \n3   2308024249  23080242   M        Zhu, Hao       65       50        80   \n4   2308024219  23080242   F       Feng, Yin       73       88        92   \n5   2308024201  23080242   M        Chi, Pei       60       50        89   \n6   2308024347  23080243   F         Li, Hua       67       61        84   \n7   2308024307  23080243   M       Chen, Ten       76       79        86   \n8   2308024226  23080243   M         Yu, Hao       66       67        85   \n9   2308024220  23080243   F         Li, Jia       62       60        90   \n10  2308024242  23080243   M   Li, Shang Chu       76       90        84   \n11  2308024210  23080243   F         Guo, Yi       79       67        84   \n12  2308024435  23080244   M   Jiang, Yi Tao       77       71        71   \n13  2308024432  23080244   M        Zhao, Yu       74       74        74   \n14  2308024446  23080244   F        Zhou, Lu       76       80        77   \n15  2308024421  23080244   M  Lin, Jian Xian       73       72        81   \n16  2308024433  23080244   M    Li, Da Qiang       79       76        77   \n17  2308024428  23080244   M    Li, Che Tong       64       96        91   \n18  2308024402  23080244   F       Wang, hui       73       74        93   \n19  2308024422  23080244   M  Li, Xiao Liang       85       60        85   \n\n    Maths  Algebra  Geometry  Computer  Total Category  \n0      40       23        60        89    443     <450  \n1      47       47        44        82    452  450-500  \n2      45       45        60        80    471  450-500  \n3      72       62        71        82    482  450-500  \n4      61       47        46        83    490  450-500  \n5      71       76        71        82    499  450-500  \n6      61       65        78        83    499  450-500  \n7      69       40        69        82    501     >500  \n8      65       61        71        95    510     >500  \n9      60       67         7        95    441     <450  \n10     60       66        60        82    518     >500  \n11     64       64        79        85    522     >500  \n12     87       61        73        76    516     >500  \n13     88       68        70        71    519     >500  \n14     61       74        80        85    533     >500  \n15     63       90        75        85    539     >500  \n16     78       70        70        89    539     >500  \n17     69       60        77        83    540     >500  \n18     70       71        75        88    544     >500  \n19     72       72        83        89    546     >500  ",
      "text/html": "<div>\n<style scoped>\n    .dataframe tbody tr th:only-of-type {\n        vertical-align: middle;\n    }\n\n    .dataframe tbody tr th {\n        vertical-align: top;\n    }\n\n    .dataframe thead th {\n        text-align: right;\n    }\n</style>\n<table border=\"1\" class=\"dataframe\">\n  <thead>\n    <tr style=\"text-align: right;\">\n      <th></th>\n      <th>School Num</th>\n      <th>Class</th>\n      <th>Sex</th>\n      <th>Name</th>\n      <th>English</th>\n      <th>Physics</th>\n      <th>Military</th>\n      <th>Maths</th>\n      <th>Algebra</th>\n      <th>Geometry</th>\n      <th>Computer</th>\n      <th>Total</th>\n      <th>Category</th>\n    </tr>\n  </thead>\n  <tbody>\n    <tr>\n      <th>0</th>\n      <td>2308024241</td>\n      <td>23080242</td>\n      <td>M</td>\n      <td>Chen, Long</td>\n      <td>76</td>\n      <td>78</td>\n      <td>77</td>\n      <td>40</td>\n      <td>23</td>\n      <td>60</td>\n      <td>89</td>\n      <td>443</td>\n      <td>&lt;450</td>\n    </tr>\n    <tr>\n      <th>1</th>\n      <td>2308024244</td>\n      <td>23080242</td>\n      <td>F</td>\n      <td>Zhou, Yi</td>\n      <td>66</td>\n      <td>91</td>\n      <td>75</td>\n      <td>47</td>\n      <td>47</td>\n      <td>44</td>\n      <td>82</td>\n      <td>452</td>\n      <td>450-500</td>\n    </tr>\n    <tr>\n      <th>2</th>\n      <td>2308024251</td>\n      <td>23080242</td>\n      <td>M</td>\n      <td>Zhang， Bo</td>\n      <td>85</td>\n      <td>81</td>\n      <td>75</td>\n      <td>45</td>\n      <td>45</td>\n      <td>60</td>\n      <td>80</td>\n      <td>471</td>\n      <td>450-500</td>\n    </tr>\n    <tr>\n      <th>3</th>\n      <td>2308024249</td>\n      <td>23080242</td>\n      <td>M</td>\n      <td>Zhu, Hao</td>\n      <td>65</td>\n      <td>50</td>\n      <td>80</td>\n      <td>72</td>\n      <td>62</td>\n      <td>71</td>\n      <td>82</td>\n      <td>482</td>\n      <td>450-500</td>\n    </tr>\n    <tr>\n      <th>4</th>\n      <td>2308024219</td>\n      <td>23080242</td>\n      <td>F</td>\n      <td>Feng, Yin</td>\n      <td>73</td>\n      <td>88</td>\n      <td>92</td>\n      <td>61</td>\n      <td>47</td>\n      <td>46</td>\n      <td>83</td>\n      <td>490</td>\n      <td>450-500</td>\n    </tr>\n    <tr>\n      <th>5</th>\n      <td>2308024201</td>\n      <td>23080242</td>\n      <td>M</td>\n      <td>Chi, Pei</td>\n      <td>60</td>\n      <td>50</td>\n      <td>89</td>\n      <td>71</td>\n      <td>76</td>\n      <td>71</td>\n      <td>82</td>\n      <td>499</td>\n      <td>450-500</td>\n    </tr>\n    <tr>\n      <th>6</th>\n      <td>2308024347</td>\n      <td>23080243</td>\n      <td>F</td>\n      <td>Li, Hua</td>\n      <td>67</td>\n      <td>61</td>\n      <td>84</td>\n      <td>61</td>\n      <td>65</td>\n      <td>78</td>\n      <td>83</td>\n      <td>499</td>\n      <td>450-500</td>\n    </tr>\n    <tr>\n      <th>7</th>\n      <td>2308024307</td>\n      <td>23080243</td>\n      <td>M</td>\n      <td>Chen, Ten</td>\n      <td>76</td>\n      <td>79</td>\n      <td>86</td>\n      <td>69</td>\n      <td>40</td>\n      <td>69</td>\n      <td>82</td>\n      <td>501</td>\n      <td>&gt;500</td>\n    </tr>\n    <tr>\n      <th>8</th>\n      <td>2308024226</td>\n      <td>23080243</td>\n      <td>M</td>\n      <td>Yu, Hao</td>\n      <td>66</td>\n      <td>67</td>\n      <td>85</td>\n      <td>65</td>\n      <td>61</td>\n      <td>71</td>\n      <td>95</td>\n      <td>510</td>\n      <td>&gt;500</td>\n    </tr>\n    <tr>\n      <th>9</th>\n      <td>2308024220</td>\n      <td>23080243</td>\n      <td>F</td>\n      <td>Li, Jia</td>\n      <td>62</td>\n      <td>60</td>\n      <td>90</td>\n      <td>60</td>\n      <td>67</td>\n      <td>7</td>\n      <td>95</td>\n      <td>441</td>\n      <td>&lt;450</td>\n    </tr>\n    <tr>\n      <th>10</th>\n      <td>2308024242</td>\n      <td>23080243</td>\n      <td>M</td>\n      <td>Li, Shang Chu</td>\n      <td>76</td>\n      <td>90</td>\n      <td>84</td>\n      <td>60</td>\n      <td>66</td>\n      <td>60</td>\n      <td>82</td>\n      <td>518</td>\n      <td>&gt;500</td>\n    </tr>\n    <tr>\n      <th>11</th>\n      <td>2308024210</td>\n      <td>23080243</td>\n      <td>F</td>\n      <td>Guo, Yi</td>\n      <td>79</td>\n      <td>67</td>\n      <td>84</td>\n      <td>64</td>\n      <td>64</td>\n      <td>79</td>\n      <td>85</td>\n      <td>522</td>\n      <td>&gt;500</td>\n    </tr>\n    <tr>\n      <th>12</th>\n      <td>2308024435</td>\n      <td>23080244</td>\n      <td>M</td>\n      <td>Jiang, Yi Tao</td>\n      <td>77</td>\n      <td>71</td>\n      <td>71</td>\n      <td>87</td>\n      <td>61</td>\n      <td>73</td>\n      <td>76</td>\n      <td>516</td>\n      <td>&gt;500</td>\n    </tr>\n    <tr>\n      <th>13</th>\n      <td>2308024432</td>\n      <td>23080244</td>\n      <td>M</td>\n      <td>Zhao, Yu</td>\n      <td>74</td>\n      <td>74</td>\n      <td>74</td>\n      <td>88</td>\n      <td>68</td>\n      <td>70</td>\n      <td>71</td>\n      <td>519</td>\n      <td>&gt;500</td>\n    </tr>\n    <tr>\n      <th>14</th>\n      <td>2308024446</td>\n      <td>23080244</td>\n      <td>F</td>\n      <td>Zhou, Lu</td>\n      <td>76</td>\n      <td>80</td>\n      <td>77</td>\n      <td>61</td>\n      <td>74</td>\n      <td>80</td>\n      <td>85</td>\n      <td>533</td>\n      <td>&gt;500</td>\n    </tr>\n    <tr>\n      <th>15</th>\n      <td>2308024421</td>\n      <td>23080244</td>\n      <td>M</td>\n      <td>Lin, Jian Xian</td>\n      <td>73</td>\n      <td>72</td>\n      <td>81</td>\n      <td>63</td>\n      <td>90</td>\n      <td>75</td>\n      <td>85</td>\n      <td>539</td>\n      <td>&gt;500</td>\n    </tr>\n    <tr>\n      <th>16</th>\n      <td>2308024433</td>\n      <td>23080244</td>\n      <td>M</td>\n      <td>Li, Da Qiang</td>\n      <td>79</td>\n      <td>76</td>\n      <td>77</td>\n      <td>78</td>\n      <td>70</td>\n      <td>70</td>\n      <td>89</td>\n      <td>539</td>\n      <td>&gt;500</td>\n    </tr>\n    <tr>\n      <th>17</th>\n      <td>2308024428</td>\n      <td>23080244</td>\n      <td>M</td>\n      <td>Li, Che Tong</td>\n      <td>64</td>\n      <td>96</td>\n      <td>91</td>\n      <td>69</td>\n      <td>60</td>\n      <td>77</td>\n      <td>83</td>\n      <td>540</td>\n      <td>&gt;500</td>\n    </tr>\n    <tr>\n      <th>18</th>\n      <td>2308024402</td>\n      <td>23080244</td>\n      <td>F</td>\n      <td>Wang, hui</td>\n      <td>73</td>\n      <td>74</td>\n      <td>93</td>\n      <td>70</td>\n      <td>71</td>\n      <td>75</td>\n      <td>88</td>\n      <td>544</td>\n      <td>&gt;500</td>\n    </tr>\n    <tr>\n      <th>19</th>\n      <td>2308024422</td>\n      <td>23080244</td>\n      <td>M</td>\n      <td>Li, Xiao Liang</td>\n      <td>85</td>\n      <td>60</td>\n      <td>85</td>\n      <td>72</td>\n      <td>72</td>\n      <td>83</td>\n      <td>89</td>\n      <td>546</td>\n      <td>&gt;500</td>\n    </tr>\n  </tbody>\n</table>\n</div>"
     },
     "execution_count": 111,
     "metadata": {},
     "output_type": "execute_result"
    }
   ],
   "source": [
    "df['Category'] = Total_1\n",
    "df"
   ],
   "metadata": {
    "collapsed": false,
    "pycharm": {
     "name": "#%%\n"
    }
   }
  },
  {
   "cell_type": "code",
   "execution_count": 112,
   "outputs": [
    {
     "data": {
      "text/plain": "Category\n<450        2\n450-500     6\n>500       12\nName: Total, dtype: int64"
     },
     "execution_count": 112,
     "metadata": {},
     "output_type": "execute_result"
    }
   ],
   "source": [
    "df.groupby(by=[\"Category\"])['Total'].agg('size')"
   ],
   "metadata": {
    "collapsed": false,
    "pycharm": {
     "name": "#%%\n"
    }
   }
  },
  {
   "cell_type": "code",
   "execution_count": 112,
   "outputs": [],
   "source": [],
   "metadata": {
    "collapsed": false,
    "pycharm": {
     "name": "#%%\n"
    }
   }
  },
  {
   "cell_type": "code",
   "execution_count": 112,
   "outputs": [],
   "source": [],
   "metadata": {
    "collapsed": false,
    "pycharm": {
     "name": "#%%\n"
    }
   }
  },
  {
   "cell_type": "code",
   "execution_count": 112,
   "outputs": [],
   "source": [],
   "metadata": {
    "collapsed": false,
    "pycharm": {
     "name": "#%%\n"
    }
   }
  },
  {
   "cell_type": "code",
   "execution_count": 112,
   "outputs": [],
   "source": [],
   "metadata": {
    "collapsed": false,
    "pycharm": {
     "name": "#%%\n"
    }
   }
  },
  {
   "cell_type": "code",
   "execution_count": 112,
   "outputs": [],
   "source": [],
   "metadata": {
    "collapsed": false,
    "pycharm": {
     "name": "#%%\n"
    }
   }
  }
 ],
 "metadata": {
  "kernelspec": {
   "display_name": "Python 3",
   "language": "python",
   "name": "python3"
  },
  "language_info": {
   "codemirror_mode": {
    "name": "ipython",
    "version": 2
   },
   "file_extension": ".py",
   "mimetype": "text/x-python",
   "name": "python",
   "nbconvert_exporter": "python",
   "pygments_lexer": "ipython2",
   "version": "2.7.6"
  }
 },
 "nbformat": 4,
 "nbformat_minor": 0
}
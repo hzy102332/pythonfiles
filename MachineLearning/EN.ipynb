{
 "cells": [
  {
   "cell_type": "code",
   "execution_count": 1,
   "metadata": {
    "collapsed": true
   },
   "outputs": [],
   "source": [
    "from sklearn.datasets import load_boston\n",
    "from sklearn.linear_model import ElasticNet, ElasticNetCV\n",
    "from sklearn.metrics import mean_squared_error\n",
    "from sklearn.model_selection import train_test_split\n",
    "import matplotlib.pyplot as plt\n",
    "import numpy as np\n"
   ]
  },
  {
   "cell_type": "code",
   "execution_count": 2,
   "outputs": [],
   "source": [
    "boston = load_boston()\n",
    "x, y = boston.data, boston.target"
   ],
   "metadata": {
    "collapsed": false,
    "pycharm": {
     "name": "#%%\n"
    }
   }
  },
  {
   "cell_type": "code",
   "execution_count": 3,
   "outputs": [],
   "source": [
    "xtrain, xtest, ytrain, ytest = train_test_split(x, y, test_size=0.15)"
   ],
   "metadata": {
    "collapsed": false,
    "pycharm": {
     "name": "#%%\n"
    }
   }
  },
  {
   "cell_type": "code",
   "execution_count": 4,
   "outputs": [
    {
     "data": {
      "text/plain": "array([[1.09600e-02, 5.50000e+01, 2.25000e+00, ..., 1.53000e+01,\n        3.94720e+02, 8.23000e+00],\n       [7.83932e+00, 0.00000e+00, 1.81000e+01, ..., 2.02000e+01,\n        3.96900e+02, 1.32200e+01],\n       [1.80028e+00, 0.00000e+00, 1.95800e+01, ..., 1.47000e+01,\n        2.27610e+02, 1.21400e+01],\n       ...,\n       [8.64476e+00, 0.00000e+00, 1.81000e+01, ..., 2.02000e+01,\n        3.96900e+02, 1.51700e+01],\n       [3.49400e-01, 0.00000e+00, 9.90000e+00, ..., 1.84000e+01,\n        3.96240e+02, 9.97000e+00],\n       [1.42502e+00, 0.00000e+00, 1.95800e+01, ..., 1.47000e+01,\n        3.64310e+02, 7.39000e+00]])"
     },
     "execution_count": 4,
     "metadata": {},
     "output_type": "execute_result"
    }
   ],
   "source": [
    "xtrain"
   ],
   "metadata": {
    "collapsed": false,
    "pycharm": {
     "name": "#%%\n"
    }
   }
  },
  {
   "cell_type": "code",
   "execution_count": 5,
   "outputs": [],
   "source": [
    "alphas = [0.0001, 0.001, 0.01, 0.1, 0.3, 0.5, 0.7, 1]"
   ],
   "metadata": {
    "collapsed": false,
    "pycharm": {
     "name": "#%%\n"
    }
   }
  },
  {
   "cell_type": "code",
   "execution_count": 6,
   "outputs": [
    {
     "name": "stdout",
     "output_type": "stream",
     "text": [
      "Alpha: 0.0001, R2: 0.74, MSE: 21.90, RMSE:4.679\n",
      "Alpha: 0.0010, R2: 0.74, MSE: 21.92, RMSE:4.681\n",
      "Alpha: 0.0100, R2: 0.74, MSE: 22.32, RMSE:4.724\n",
      "Alpha: 0.1000, R2: 0.73, MSE: 23.16, RMSE:4.812\n",
      "Alpha: 0.3000, R2: 0.71, MSE: 24.08, RMSE:4.907\n",
      "Alpha: 0.5000, R2: 0.71, MSE: 24.85, RMSE:4.985\n",
      "Alpha: 0.7000, R2: 0.70, MSE: 25.55, RMSE:5.055\n",
      "Alpha: 1.0000, R2: 0.69, MSE: 26.50, RMSE:5.148\n"
     ]
    }
   ],
   "source": [
    "for a in alphas:\n",
    "    model = ElasticNet(alpha=a).fit(x, y)\n",
    "    score = model.score(x, y)\n",
    "    pred_y = model.predict(x)\n",
    "    mse = mean_squared_error(y, pred_y)\n",
    "    print(\"Alpha: {0:.4f}, R2: {1:.2f}, MSE: {2:.2f}, RMSE:{3:.3f}\".format(a,score,mse,np.sqrt(mse)))"
   ],
   "metadata": {
    "collapsed": false,
    "pycharm": {
     "name": "#%%\n"
    }
   }
  },
  {
   "cell_type": "code",
   "execution_count": 7,
   "outputs": [],
   "source": [
    "elastic = ElasticNet(alpha=0.01).fit(xtrain, ytrain)"
   ],
   "metadata": {
    "collapsed": false,
    "pycharm": {
     "name": "#%%\n"
    }
   }
  },
  {
   "cell_type": "code",
   "execution_count": 8,
   "outputs": [
    {
     "data": {
      "text/plain": "array([24.36090664, 25.68198708, 18.27222013, 34.50938577, 16.18710585,\n       21.47643262, 23.23416532, 10.16858381, 37.61022146, 21.58479248,\n       19.27163162, 21.51570816, 19.57910687, 32.94106462, 28.8409536 ,\n       22.15382909, 12.91403756, 25.7033331 , 23.34750345, 37.53619802,\n       20.21756454, 30.74126102, 20.46454041, 15.17591053, 13.61719175,\n        6.72801244, 15.85321495, 28.27561988, 36.12167409, 21.12937318,\n       27.64444674, 12.00345084, 21.14446783, 30.23022221, 13.02740528,\n       20.61758373, 19.162623  , 12.31551325, 42.39886635, 10.37806964,\n        8.40136165, 23.2409663 , 17.40709577,  9.45726718, 31.79433511,\n       19.7332379 , 23.54408065, 18.34791747, 30.32883425, 19.97542473,\n       24.50559709, 37.657797  , 28.07489906, 23.8812092 , 12.68261255,\n       20.01429774, 30.664375  , 18.40892271, 17.0272267 , 20.78499223,\n       26.63187379, 10.22646505,  9.37061288, 30.39274553, 30.27768024,\n       20.61181505, 30.54692412, 25.12895517, 31.57596473, 38.94444018,\n       14.9288971 , 24.20253716, 26.04377247, 31.65343493, 21.65599533,\n       31.6173579 ])"
     },
     "execution_count": 8,
     "metadata": {},
     "output_type": "execute_result"
    }
   ],
   "source": [
    "ypred = elastic.predict(xtest)\n",
    "ypred"
   ],
   "metadata": {
    "collapsed": false,
    "pycharm": {
     "name": "#%%\n"
    }
   }
  },
  {
   "cell_type": "code",
   "execution_count": 9,
   "outputs": [
    {
     "data": {
      "text/plain": "1.0"
     },
     "execution_count": 9,
     "metadata": {},
     "output_type": "execute_result"
    }
   ],
   "source": [
    "score = elastic.score(xtest, ypred)\n",
    "score"
   ],
   "metadata": {
    "collapsed": false,
    "pycharm": {
     "name": "#%%\n"
    }
   }
  },
  {
   "cell_type": "code",
   "execution_count": 10,
   "outputs": [
    {
     "data": {
      "text/plain": "16.9254229593072"
     },
     "execution_count": 10,
     "metadata": {},
     "output_type": "execute_result"
    }
   ],
   "source": [
    "mse = mean_squared_error(ytest, ypred)\n",
    "mse"
   ],
   "metadata": {
    "collapsed": false,
    "pycharm": {
     "name": "#%%\n"
    }
   }
  },
  {
   "cell_type": "code",
   "execution_count": 11,
   "outputs": [
    {
     "name": "stdout",
     "output_type": "stream",
     "text": [
      "R2:1.000, MSE:16.93, RMSE:4.11\n"
     ]
    }
   ],
   "source": [
    "print('R2:{0:.3f}, MSE:{1:.2f}, RMSE:{2:.2f}'.format(score, mse, np.sqrt(mse)))"
   ],
   "metadata": {
    "collapsed": false,
    "pycharm": {
     "name": "#%%\n"
    }
   }
  },
  {
   "cell_type": "code",
   "execution_count": 12,
   "outputs": [
    {
     "data": {
      "text/plain": "<Figure size 432x288 with 1 Axes>",
      "image/png": "[encoded data removed]"
     },
     "metadata": {
      "needs_background": "light"
     },
     "output_type": "display_data"
    }
   ],
   "source": [
    "x_ax = range(len(xtest))\n",
    "plt.scatter(x_ax, ytest, s=5, color='blue', label='original')\n",
    "plt.plot(x_ax, ypred, lw=0.8, color='red', label='prediction')\n",
    "plt.legend()\n",
    "plt.show()"
   ],
   "metadata": {
    "collapsed": false,
    "pycharm": {
     "name": "#%%\n"
    }
   }
  },
  {
   "cell_type": "code",
   "source": [
    "elastic_cv = ElasticNetCV(alphas=alphas, cv=5)\n",
    "model = elastic_cv.fit(xtrain, ytrain)\n",
    "print(model.alpha_)\n",
    "print(model.intercept_)"
   ],
   "metadata": {
    "collapsed": false,
    "pycharm": {
     "name": "#%%\n"
    }
   },
   "execution_count": 13,
   "outputs": [
    {
     "name": "stdout",
     "output_type": "stream",
     "text": [
      "0.0001\n",
      "38.715029620135454\n"
     ]
    }
   ]
  },
  {
   "cell_type": "code",
   "execution_count": 14,
   "outputs": [
    {
     "data": {
      "text/plain": "array([22.85389549, 25.5608651 , 18.77159787, 34.87799298, 15.9000967 ,\n       20.6849525 , 22.93319848, 10.31814046, 37.73829939, 20.37763339,\n       18.66013626, 21.55151126, 19.10086372, 33.252282  , 28.72960107,\n       22.21011016, 12.79359838, 25.6688879 , 23.49883596, 36.81404937,\n       19.97233492, 30.81441829, 20.21906735, 15.10837478, 11.50038931,\n        6.6255171 , 15.7255968 , 28.30816877, 36.75120317, 20.20002813,\n       27.46625632, 11.88515393, 21.51182106, 29.99365882, 13.25053021,\n       20.40298989, 18.58142268, 11.67477879, 42.77187324, 10.20238513,\n        8.82851878, 24.28382275, 18.57894871,  9.03363917, 32.35134746,\n       19.76954264, 24.33050921, 19.507136  , 30.41663217, 20.13155757,\n       24.20992945, 38.06463255, 27.8079125 , 24.23067746, 13.58877164,\n       20.57986717, 30.44154718, 18.33241897, 16.17982536, 20.62285065,\n       26.05383602,  8.16467947,  9.70888378, 30.94896304, 30.197395  ,\n       20.8845669 , 30.77823735, 24.88366143, 31.27383663, 39.39437055,\n       14.45636225, 24.29855029, 27.11973067, 31.78650585, 21.17781066,\n       32.41005086])"
     },
     "execution_count": 14,
     "metadata": {},
     "output_type": "execute_result"
    }
   ],
   "source": [
    "ypred = model.predict(xtest)\n",
    "ypred"
   ],
   "metadata": {
    "collapsed": false,
    "pycharm": {
     "name": "#%%\n"
    }
   }
  },
  {
   "cell_type": "code",
   "execution_count": 15,
   "outputs": [
    {
     "name": "stdout",
     "output_type": "stream",
     "text": [
      "R2:0.817, MSE:17.39, RMSE:4.17\n"
     ]
    }
   ],
   "source": [
    "score = model.score(xtest, ytest)\n",
    "mse = mean_squared_error(ytest, ypred)\n",
    "print('R2:{0:.3f}, MSE:{1:.2f}, RMSE:{2:.2f}'.format(score, mse, np.sqrt(mse)))"
   ],
   "metadata": {
    "collapsed": false,
    "pycharm": {
     "name": "#%%\n"
    }
   }
  },
  {
   "cell_type": "code",
   "execution_count": 16,
   "outputs": [
    {
     "data": {
      "text/plain": "<Figure size 432x288 with 1 Axes>",
      "image/png": "[encoded data removed]"
     },
     "metadata": {
      "needs_background": "light"
     },
     "output_type": "display_data"
    }
   ],
   "source": [
    "x_ax = range(len(xtest))\n",
    "plt.scatter(x_ax, ytest, s=5, color='blue', label='original')\n",
    "plt.plot(x_ax, ypred, lw=0.8, color='red', label='prediction')\n",
    "plt.legend()\n",
    "plt.show()"
   ],
   "metadata": {
    "collapsed": false,
    "pycharm": {
     "name": "#%%\n"
    }
   }
  },
  {
   "cell_type": "code",
   "execution_count": 17,
   "outputs": [],
   "source": [
    "from sklearn.svm import SVC\n",
    "from sklearn.preprocessing import StandardScaler\n",
    "from sklearn.datasets import make_classification\n",
    "from sklearn.pipeline import Pipeline\n",
    "X, y = make_classification(random_state=0)"
   ],
   "metadata": {
    "collapsed": false,
    "pycharm": {
     "name": "#%%\n"
    }
   }
  },
  {
   "cell_type": "code",
   "execution_count": 18,
   "outputs": [],
   "source": [
    "X_train, X_test, y_train, y_test = train_test_split(X, y, random_state=0)"
   ],
   "metadata": {
    "collapsed": false,
    "pycharm": {
     "name": "#%%\n"
    }
   }
  },
  {
   "cell_type": "code",
   "execution_count": 19,
   "outputs": [],
   "source": [
    "pipe = Pipeline([('scaler', StandardScaler()), ('svc', SVC())])"
   ],
   "metadata": {
    "collapsed": false,
    "pycharm": {
     "name": "#%%\n"
    }
   }
  },
  {
   "cell_type": "code",
   "execution_count": 20,
   "outputs": [
    {
     "data": {
      "text/plain": "Pipeline(steps=[('scaler', StandardScaler()), ('svc', SVC())])"
     },
     "execution_count": 20,
     "metadata": {},
     "output_type": "execute_result"
    }
   ],
   "source": [
    "pipe.fit(X_train, y_train)"
   ],
   "metadata": {
    "collapsed": false,
    "pycharm": {
     "name": "#%%\n"
    }
   }
  },
  {
   "cell_type": "code",
   "execution_count": 21,
   "outputs": [
    {
     "data": {
      "text/plain": "0.88"
     },
     "execution_count": 21,
     "metadata": {},
     "output_type": "execute_result"
    }
   ],
   "source": [
    "pipe.score(X_test, y_test)"
   ],
   "metadata": {
    "collapsed": false,
    "pycharm": {
     "name": "#%%\n"
    }
   }
  },
  {
   "cell_type": "code",
   "execution_count": 22,
   "outputs": [],
   "source": [
    "from sklearn.datasets import load_iris\n",
    "iriskk = load_iris()\n",
    "X, y = iriskk.data, iriskk.target"
   ],
   "metadata": {
    "collapsed": false,
    "pycharm": {
     "name": "#%%\n"
    }
   }
  },
  {
   "cell_type": "code",
   "execution_count": 23,
   "outputs": [],
   "source": [
    "X_train, X_test, y_train, y_test = train_test_split(X, y, random_state=0)"
   ],
   "metadata": {
    "collapsed": false,
    "pycharm": {
     "name": "#%%\n"
    }
   }
  },
  {
   "cell_type": "code",
   "execution_count": 24,
   "outputs": [],
   "source": [
    "pipe2 = Pipeline([('scaler', StandardScaler()), ('svc', SVC())])\n"
   ],
   "metadata": {
    "collapsed": false,
    "pycharm": {
     "name": "#%%\n"
    }
   }
  },
  {
   "cell_type": "code",
   "execution_count": 25,
   "outputs": [],
   "source": [
    "model = pipe2.fit(X_train, y_train)"
   ],
   "metadata": {
    "collapsed": false,
    "pycharm": {
     "name": "#%%\n"
    }
   }
  },
  {
   "cell_type": "code",
   "execution_count": 26,
   "outputs": [
    {
     "data": {
      "text/plain": "0.9736842105263158"
     },
     "execution_count": 26,
     "metadata": {},
     "output_type": "execute_result"
    }
   ],
   "source": [
    "pipe2.score(X_test, y_test)"
   ],
   "metadata": {
    "collapsed": false,
    "pycharm": {
     "name": "#%%\n"
    }
   }
  },
  {
   "cell_type": "code",
   "execution_count": 27,
   "outputs": [
    {
     "data": {
      "text/plain": "<Figure size 432x288 with 1 Axes>",
      "image/png": "[encoded data removed]"
     },
     "metadata": {
      "needs_background": "light"
     },
     "output_type": "display_data"
    }
   ],
   "source": [
    "y_pred = model.predict(X_test)\n",
    "x_ax = range(len(X_test))\n",
    "plt.scatter(x_ax, y_test, s=5, color='blue', label='original')\n",
    "plt.plot(x_ax, y_pred, lw=0.8, color='red', label='prediction')\n",
    "plt.legend()\n",
    "plt.show()\n"
   ],
   "metadata": {
    "collapsed": false,
    "pycharm": {
     "name": "#%%\n"
    }
   }
  }
 ],
 "metadata": {
  "kernelspec": {
   "display_name": "Python 3",
   "language": "python",
   "name": "python3"
  },
  "language_info": {
   "codemirror_mode": {
    "name": "ipython",
    "version": 2
   },
   "file_extension": ".py",
   "mimetype": "text/x-python",
   "name": "python",
   "nbconvert_exporter": "python",
   "pygments_lexer": "ipython2",
   "version": "2.7.6"
  }
 },
 "nbformat": 4,
 "nbformat_minor": 0
}
{
 "cells": [
  {
   "cell_type": "code",
   "execution_count": 8,
   "outputs": [],
   "source": [
    "from sklearn.datasets import load_digits\n",
    "from sklearn.decomposition import FactorAnalysis\n",
    "\n",
    "x,y = load_digits(return_X_y=True)"
   ],
   "metadata": {
    "collapsed": false,
    "pycharm": {
     "name": "#%%\n"
    }
   }
  },
  {
   "cell_type": "code",
   "execution_count": 9,
   "outputs": [
    {
     "name": "stdout",
     "output_type": "stream",
     "text": [
      "[[ 0.  0.  5. ...  0.  0.  0.]\n",
      " [ 0.  0.  0. ... 10.  0.  0.]\n",
      " [ 0.  0.  0. ... 16.  9.  0.]\n",
      " ...\n",
      " [ 0.  0.  1. ...  6.  0.  0.]\n",
      " [ 0.  0.  2. ... 12.  0.  0.]\n",
      " [ 0.  0. 10. ... 12.  1.  0.]] \n",
      " [0 1 2 ... 8 9 8]\n"
     ]
    }
   ],
   "source": [
    "print(x,\"\\n\",y)"
   ],
   "metadata": {
    "collapsed": false,
    "pycharm": {
     "name": "#%%\n"
    }
   }
  },
  {
   "cell_type": "code",
   "execution_count": 10,
   "outputs": [
    {
     "data": {
      "text/plain": "(1797,)"
     },
     "execution_count": 10,
     "metadata": {},
     "output_type": "execute_result"
    }
   ],
   "source": [
    "y.shape"
   ],
   "metadata": {
    "collapsed": false,
    "pycharm": {
     "name": "#%%\n"
    }
   }
  },
  {
   "cell_type": "code",
   "execution_count": 11,
   "outputs": [
    {
     "data": {
      "text/plain": "(1797, 64)"
     },
     "execution_count": 11,
     "metadata": {},
     "output_type": "execute_result"
    }
   ],
   "source": [
    "x.shape"
   ],
   "metadata": {
    "collapsed": false,
    "pycharm": {
     "name": "#%%\n"
    }
   }
  },
  {
   "cell_type": "code",
   "execution_count": 12,
   "outputs": [],
   "source": [
    "transformer = FactorAnalysis(n_components=7,random_state=0)"
   ],
   "metadata": {
    "collapsed": false,
    "pycharm": {
     "name": "#%%  ####################################################\n"
    }
   }
  },
  {
   "cell_type": "code",
   "execution_count": 13,
   "outputs": [],
   "source": [
    "x_transform = transformer.fit_transform(x)"
   ],
   "metadata": {
    "collapsed": false,
    "pycharm": {
     "name": "#%%\n"
    }
   }
  },
  {
   "cell_type": "code",
   "execution_count": 14,
   "outputs": [
    {
     "data": {
      "text/plain": "array([[-0.10390271,  0.28198204,  1.93908236, ..., -0.38873227,\n        -0.30377059,  0.7951861 ],\n       [-0.96261823,  0.18862239, -1.73202491, ..., -0.02628507,\n        -0.33583478, -1.4748951 ],\n       [-1.07572294, -0.31865454, -1.38943619, ..., -0.99384465,\n        -0.52678795,  0.52332889],\n       ...,\n       [-0.68171725,  0.05397779, -0.80913822, ..., -0.01853757,\n        -0.92232969, -0.28710684],\n       [-0.34632883, -0.12407529,  1.22216715, ...,  0.21910061,\n        -0.29530191, -0.7910442 ],\n       [ 0.66672038, -0.92771996, -0.0150591 , ..., -0.84866807,\n         0.21509133,  0.51120728]])"
     },
     "execution_count": 14,
     "metadata": {},
     "output_type": "execute_result"
    }
   ],
   "source": [
    "x_transform"
   ],
   "metadata": {
    "collapsed": false,
    "pycharm": {
     "name": "#%%\n"
    }
   }
  },
  {
   "cell_type": "code",
   "execution_count": 15,
   "outputs": [
    {
     "data": {
      "text/plain": "(1797, 7)"
     },
     "execution_count": 15,
     "metadata": {},
     "output_type": "execute_result"
    }
   ],
   "source": [
    "x_transform.shape"
   ],
   "metadata": {
    "collapsed": false,
    "pycharm": {
     "name": "#%%\n"
    }
   }
  },
  {
   "cell_type": "code",
   "execution_count": 17,
   "metadata": {
    "collapsed": true,
    "pycharm": {
     "name": "#%% ###########################################################\n"
    }
   },
   "outputs": [
    {
     "name": "stdout",
     "output_type": "stream",
     "text": [
      "Automatically created module for IPython interactive environment\n"
     ]
    }
   ],
   "source": [
    "import matplotlib.pyplot as plt\n",
    "import numpy as np\n",
    "from sklearn.decomposition import FactorAnalysis\n",
    "from sklearn.decomposition import PCA\n",
    "from sklearn.preprocessing import StandardScaler\n",
    "from sklearn.datasets import load_iris\n",
    "print(__doc__)"
   ]
  },
  {
   "cell_type": "code",
   "execution_count": 19,
   "outputs": [
    {
     "data": {
      "text/plain": "{'data': array([[5.1, 3.5, 1.4, 0.2],\n        [4.9, 3. , 1.4, 0.2],\n        [4.7, 3.2, 1.3, 0.2],\n        [4.6, 3.1, 1.5, 0.2],\n        [5. , 3.6, 1.4, 0.2],\n        [5.4, 3.9, 1.7, 0.4],\n        [4.6, 3.4, 1.4, 0.3],\n        [5. , 3.4, 1.5, 0.2],\n        [4.4, 2.9, 1.4, 0.2],\n        [4.9, 3.1, 1.5, 0.1],\n        [5.4, 3.7, 1.5, 0.2],\n        [4.8, 3.4, 1.6, 0.2],\n        [4.8, 3. , 1.4, 0.1],\n        [4.3, 3. , 1.1, 0.1],\n        [5.8, 4. , 1.2, 0.2],\n        [5.7, 4.4, 1.5, 0.4],\n        [5.4, 3.9, 1.3, 0.4],\n        [5.1, 3.5, 1.4, 0.3],\n        [5.7, 3.8, 1.7, 0.3],\n        [5.1, 3.8, 1.5, 0.3],\n        [5.4, 3.4, 1.7, 0.2],\n        [5.1, 3.7, 1.5, 0.4],\n        [4.6, 3.6, 1. , 0.2],\n        [5.1, 3.3, 1.7, 0.5],\n        [4.8, 3.4, 1.9, 0.2],\n        [5. , 3. , 1.6, 0.2],\n        [5. , 3.4, 1.6, 0.4],\n        [5.2, 3.5, 1.5, 0.2],\n        [5.2, 3.4, 1.4, 0.2],\n        [4.7, 3.2, 1.6, 0.2],\n        [4.8, 3.1, 1.6, 0.2],\n        [5.4, 3.4, 1.5, 0.4],\n        [5.2, 4.1, 1.5, 0.1],\n        [5.5, 4.2, 1.4, 0.2],\n        [4.9, 3.1, 1.5, 0.2],\n        [5. , 3.2, 1.2, 0.2],\n        [5.5, 3.5, 1.3, 0.2],\n        [4.9, 3.6, 1.4, 0.1],\n        [4.4, 3. , 1.3, 0.2],\n        [5.1, 3.4, 1.5, 0.2],\n        [5. , 3.5, 1.3, 0.3],\n        [4.5, 2.3, 1.3, 0.3],\n        [4.4, 3.2, 1.3, 0.2],\n        [5. , 3.5, 1.6, 0.6],\n        [5.1, 3.8, 1.9, 0.4],\n        [4.8, 3. , 1.4, 0.3],\n        [5.1, 3.8, 1.6, 0.2],\n        [4.6, 3.2, 1.4, 0.2],\n        [5.3, 3.7, 1.5, 0.2],\n        [5. , 3.3, 1.4, 0.2],\n        [7. , 3.2, 4.7, 1.4],\n        [6.4, 3.2, 4.5, 1.5],\n        [6.9, 3.1, 4.9, 1.5],\n        [5.5, 2.3, 4. , 1.3],\n        [6.5, 2.8, 4.6, 1.5],\n        [5.7, 2.8, 4.5, 1.3],\n        [6.3, 3.3, 4.7, 1.6],\n        [4.9, 2.4, 3.3, 1. ],\n        [6.6, 2.9, 4.6, 1.3],\n        [5.2, 2.7, 3.9, 1.4],\n        [5. , 2. , 3.5, 1. ],\n        [5.9, 3. , 4.2, 1.5],\n        [6. , 2.2, 4. , 1. ],\n        [6.1, 2.9, 4.7, 1.4],\n        [5.6, 2.9, 3.6, 1.3],\n        [6.7, 3.1, 4.4, 1.4],\n        [5.6, 3. , 4.5, 1.5],\n        [5.8, 2.7, 4.1, 1. ],\n        [6.2, 2.2, 4.5, 1.5],\n        [5.6, 2.5, 3.9, 1.1],\n        [5.9, 3.2, 4.8, 1.8],\n        [6.1, 2.8, 4. , 1.3],\n        [6.3, 2.5, 4.9, 1.5],\n        [6.1, 2.8, 4.7, 1.2],\n        [6.4, 2.9, 4.3, 1.3],\n        [6.6, 3. , 4.4, 1.4],\n        [6.8, 2.8, 4.8, 1.4],\n        [6.7, 3. , 5. , 1.7],\n        [6. , 2.9, 4.5, 1.5],\n        [5.7, 2.6, 3.5, 1. ],\n        [5.5, 2.4, 3.8, 1.1],\n        [5.5, 2.4, 3.7, 1. ],\n        [5.8, 2.7, 3.9, 1.2],\n        [6. , 2.7, 5.1, 1.6],\n        [5.4, 3. , 4.5, 1.5],\n        [6. , 3.4, 4.5, 1.6],\n        [6.7, 3.1, 4.7, 1.5],\n        [6.3, 2.3, 4.4, 1.3],\n        [5.6, 3. , 4.1, 1.3],\n        [5.5, 2.5, 4. , 1.3],\n        [5.5, 2.6, 4.4, 1.2],\n        [6.1, 3. , 4.6, 1.4],\n        [5.8, 2.6, 4. , 1.2],\n        [5. , 2.3, 3.3, 1. ],\n        [5.6, 2.7, 4.2, 1.3],\n        [5.7, 3. , 4.2, 1.2],\n        [5.7, 2.9, 4.2, 1.3],\n        [6.2, 2.9, 4.3, 1.3],\n        [5.1, 2.5, 3. , 1.1],\n        [5.7, 2.8, 4.1, 1.3],\n        [6.3, 3.3, 6. , 2.5],\n        [5.8, 2.7, 5.1, 1.9],\n        [7.1, 3. , 5.9, 2.1],\n        [6.3, 2.9, 5.6, 1.8],\n        [6.5, 3. , 5.8, 2.2],\n        [7.6, 3. , 6.6, 2.1],\n        [4.9, 2.5, 4.5, 1.7],\n        [7.3, 2.9, 6.3, 1.8],\n        [6.7, 2.5, 5.8, 1.8],\n        [7.2, 3.6, 6.1, 2.5],\n        [6.5, 3.2, 5.1, 2. ],\n        [6.4, 2.7, 5.3, 1.9],\n        [6.8, 3. , 5.5, 2.1],\n        [5.7, 2.5, 5. , 2. ],\n        [5.8, 2.8, 5.1, 2.4],\n        [6.4, 3.2, 5.3, 2.3],\n        [6.5, 3. , 5.5, 1.8],\n        [7.7, 3.8, 6.7, 2.2],\n        [7.7, 2.6, 6.9, 2.3],\n        [6. , 2.2, 5. , 1.5],\n        [6.9, 3.2, 5.7, 2.3],\n        [5.6, 2.8, 4.9, 2. ],\n        [7.7, 2.8, 6.7, 2. ],\n        [6.3, 2.7, 4.9, 1.8],\n        [6.7, 3.3, 5.7, 2.1],\n        [7.2, 3.2, 6. , 1.8],\n        [6.2, 2.8, 4.8, 1.8],\n        [6.1, 3. , 4.9, 1.8],\n        [6.4, 2.8, 5.6, 2.1],\n        [7.2, 3. , 5.8, 1.6],\n        [7.4, 2.8, 6.1, 1.9],\n        [7.9, 3.8, 6.4, 2. ],\n        [6.4, 2.8, 5.6, 2.2],\n        [6.3, 2.8, 5.1, 1.5],\n        [6.1, 2.6, 5.6, 1.4],\n        [7.7, 3. , 6.1, 2.3],\n        [6.3, 3.4, 5.6, 2.4],\n        [6.4, 3.1, 5.5, 1.8],\n        [6. , 3. , 4.8, 1.8],\n        [6.9, 3.1, 5.4, 2.1],\n        [6.7, 3.1, 5.6, 2.4],\n        [6.9, 3.1, 5.1, 2.3],\n        [5.8, 2.7, 5.1, 1.9],\n        [6.8, 3.2, 5.9, 2.3],\n        [6.7, 3.3, 5.7, 2.5],\n        [6.7, 3. , 5.2, 2.3],\n        [6.3, 2.5, 5. , 1.9],\n        [6.5, 3. , 5.2, 2. ],\n        [6.2, 3.4, 5.4, 2.3],\n        [5.9, 3. , 5.1, 1.8]]),\n 'target': array([0, 0, 0, 0, 0, 0, 0, 0, 0, 0, 0, 0, 0, 0, 0, 0, 0, 0, 0, 0, 0, 0,\n        0, 0, 0, 0, 0, 0, 0, 0, 0, 0, 0, 0, 0, 0, 0, 0, 0, 0, 0, 0, 0, 0,\n        0, 0, 0, 0, 0, 0, 1, 1, 1, 1, 1, 1, 1, 1, 1, 1, 1, 1, 1, 1, 1, 1,\n        1, 1, 1, 1, 1, 1, 1, 1, 1, 1, 1, 1, 1, 1, 1, 1, 1, 1, 1, 1, 1, 1,\n        1, 1, 1, 1, 1, 1, 1, 1, 1, 1, 1, 1, 2, 2, 2, 2, 2, 2, 2, 2, 2, 2,\n        2, 2, 2, 2, 2, 2, 2, 2, 2, 2, 2, 2, 2, 2, 2, 2, 2, 2, 2, 2, 2, 2,\n        2, 2, 2, 2, 2, 2, 2, 2, 2, 2, 2, 2, 2, 2, 2, 2, 2, 2]),\n 'frame': None,\n 'target_names': array(['setosa', 'versicolor', 'virginica'], dtype='<U10'),\n 'DESCR': '.. _iris_dataset:\\n\\nIris plants dataset\\n--------------------\\n\\n**Data Set Characteristics:**\\n\\n    :Number of Instances: 150 (50 in each of three classes)\\n    :Number of Attributes: 4 numeric, predictive attributes and the class\\n    :Attribute Information:\\n        - sepal length in cm\\n        - sepal width in cm\\n        - petal length in cm\\n        - petal width in cm\\n        - class:\\n                - Iris-Setosa\\n                - Iris-Versicolour\\n                - Iris-Virginica\\n                \\n    :Summary Statistics:\\n\\n    ============== ==== ==== ======= ===== ====================\\n                    Min  Max   Mean    SD   Class Correlation\\n    ============== ==== ==== ======= ===== ====================\\n    sepal length:   4.3  7.9   5.84   0.83    0.7826\\n    sepal width:    2.0  4.4   3.05   0.43   -0.4194\\n    petal length:   1.0  6.9   3.76   1.76    0.9490  (high!)\\n    petal width:    0.1  2.5   1.20   0.76    0.9565  (high!)\\n    ============== ==== ==== ======= ===== ====================\\n\\n    :Missing Attribute Values: None\\n    :Class Distribution: 33.3% for each of 3 classes.\\n    :Creator: R.A. Fisher\\n    :Donor: Michael Marshall (MARSHALL%PLU@io.arc.nasa.gov)\\n    :Date: July, 1988\\n\\nThe famous Iris database, first used by Sir R.A. Fisher. The dataset is taken\\nfrom Fisher\\'s paper. Note that it\\'s the same as in R, but not as in the UCI\\nMachine Learning Repository, which has two wrong data points.\\n\\nThis is perhaps the best known database to be found in the\\npattern recognition literature.  Fisher\\'s paper is a classic in the field and\\nis referenced frequently to this day.  (See Duda & Hart, for example.)  The\\ndata set contains 3 classes of 50 instances each, where each class refers to a\\ntype of iris plant.  One class is linearly separable from the other 2; the\\nlatter are NOT linearly separable from each other.\\n\\n.. topic:: References\\n\\n   - Fisher, R.A. \"The use of multiple measurements in taxonomic problems\"\\n     Annual Eugenics, 7, Part II, 179-188 (1936); also in \"Contributions to\\n     Mathematical Statistics\" (John Wiley, NY, 1950).\\n   - Duda, R.O., & Hart, P.E. (1973) Pattern Classification and Scene Analysis.\\n     (Q327.D83) John Wiley & Sons.  ISBN 0-471-22361-1.  See page 218.\\n   - Dasarathy, B.V. (1980) \"Nosing Around the Neighborhood: A New System\\n     Structure and Classification Rule for Recognition in Partially Exposed\\n     Environments\".  IEEE Transactions on Pattern Analysis and Machine\\n     Intelligence, Vol. PAMI-2, No. 1, 67-71.\\n   - Gates, G.W. (1972) \"The Reduced Nearest Neighbor Rule\".  IEEE Transactions\\n     on Information Theory, May 1972, 431-433.\\n   - See also: 1988 MLC Proceedings, 54-64.  Cheeseman et al\"s AUTOCLASS II\\n     conceptual clustering system finds 3 classes in the data.\\n   - Many, many more ...',\n 'feature_names': ['sepal length (cm)',\n  'sepal width (cm)',\n  'petal length (cm)',\n  'petal width (cm)'],\n 'filename': 'f:\\\\python3.9.2\\\\lib\\\\site-packages\\\\sklearn\\\\datasets\\\\data\\\\iris.csv'}"
     },
     "execution_count": 19,
     "metadata": {},
     "output_type": "execute_result"
    }
   ],
   "source": [
    "data = load_iris()\n",
    "data"
   ],
   "metadata": {
    "collapsed": false,
    "pycharm": {
     "name": "#%%\n"
    }
   }
  },
  {
   "cell_type": "code",
   "execution_count": 20,
   "outputs": [
    {
     "data": {
      "text/plain": "array([[-9.00681170e-01,  1.01900435e+00, -1.34022653e+00,\n        -1.31544430e+00],\n       [-1.14301691e+00, -1.31979479e-01, -1.34022653e+00,\n        -1.31544430e+00],\n       [-1.38535265e+00,  3.28414053e-01, -1.39706395e+00,\n        -1.31544430e+00],\n       [-1.50652052e+00,  9.82172869e-02, -1.28338910e+00,\n        -1.31544430e+00],\n       [-1.02184904e+00,  1.24920112e+00, -1.34022653e+00,\n        -1.31544430e+00],\n       [-5.37177559e-01,  1.93979142e+00, -1.16971425e+00,\n        -1.05217993e+00],\n       [-1.50652052e+00,  7.88807586e-01, -1.34022653e+00,\n        -1.18381211e+00],\n       [-1.02184904e+00,  7.88807586e-01, -1.28338910e+00,\n        -1.31544430e+00],\n       [-1.74885626e+00, -3.62176246e-01, -1.34022653e+00,\n        -1.31544430e+00],\n       [-1.14301691e+00,  9.82172869e-02, -1.28338910e+00,\n        -1.44707648e+00],\n       [-5.37177559e-01,  1.47939788e+00, -1.28338910e+00,\n        -1.31544430e+00],\n       [-1.26418478e+00,  7.88807586e-01, -1.22655167e+00,\n        -1.31544430e+00],\n       [-1.26418478e+00, -1.31979479e-01, -1.34022653e+00,\n        -1.44707648e+00],\n       [-1.87002413e+00, -1.31979479e-01, -1.51073881e+00,\n        -1.44707648e+00],\n       [-5.25060772e-02,  2.16998818e+00, -1.45390138e+00,\n        -1.31544430e+00],\n       [-1.73673948e-01,  3.09077525e+00, -1.28338910e+00,\n        -1.05217993e+00],\n       [-5.37177559e-01,  1.93979142e+00, -1.39706395e+00,\n        -1.05217993e+00],\n       [-9.00681170e-01,  1.01900435e+00, -1.34022653e+00,\n        -1.18381211e+00],\n       [-1.73673948e-01,  1.70959465e+00, -1.16971425e+00,\n        -1.18381211e+00],\n       [-9.00681170e-01,  1.70959465e+00, -1.28338910e+00,\n        -1.18381211e+00],\n       [-5.37177559e-01,  7.88807586e-01, -1.16971425e+00,\n        -1.31544430e+00],\n       [-9.00681170e-01,  1.47939788e+00, -1.28338910e+00,\n        -1.05217993e+00],\n       [-1.50652052e+00,  1.24920112e+00, -1.56757623e+00,\n        -1.31544430e+00],\n       [-9.00681170e-01,  5.58610819e-01, -1.16971425e+00,\n        -9.20547742e-01],\n       [-1.26418478e+00,  7.88807586e-01, -1.05603939e+00,\n        -1.31544430e+00],\n       [-1.02184904e+00, -1.31979479e-01, -1.22655167e+00,\n        -1.31544430e+00],\n       [-1.02184904e+00,  7.88807586e-01, -1.22655167e+00,\n        -1.05217993e+00],\n       [-7.79513300e-01,  1.01900435e+00, -1.28338910e+00,\n        -1.31544430e+00],\n       [-7.79513300e-01,  7.88807586e-01, -1.34022653e+00,\n        -1.31544430e+00],\n       [-1.38535265e+00,  3.28414053e-01, -1.22655167e+00,\n        -1.31544430e+00],\n       [-1.26418478e+00,  9.82172869e-02, -1.22655167e+00,\n        -1.31544430e+00],\n       [-5.37177559e-01,  7.88807586e-01, -1.28338910e+00,\n        -1.05217993e+00],\n       [-7.79513300e-01,  2.40018495e+00, -1.28338910e+00,\n        -1.44707648e+00],\n       [-4.16009689e-01,  2.63038172e+00, -1.34022653e+00,\n        -1.31544430e+00],\n       [-1.14301691e+00,  9.82172869e-02, -1.28338910e+00,\n        -1.31544430e+00],\n       [-1.02184904e+00,  3.28414053e-01, -1.45390138e+00,\n        -1.31544430e+00],\n       [-4.16009689e-01,  1.01900435e+00, -1.39706395e+00,\n        -1.31544430e+00],\n       [-1.14301691e+00,  1.24920112e+00, -1.34022653e+00,\n        -1.44707648e+00],\n       [-1.74885626e+00, -1.31979479e-01, -1.39706395e+00,\n        -1.31544430e+00],\n       [-9.00681170e-01,  7.88807586e-01, -1.28338910e+00,\n        -1.31544430e+00],\n       [-1.02184904e+00,  1.01900435e+00, -1.39706395e+00,\n        -1.18381211e+00],\n       [-1.62768839e+00, -1.74335684e+00, -1.39706395e+00,\n        -1.18381211e+00],\n       [-1.74885626e+00,  3.28414053e-01, -1.39706395e+00,\n        -1.31544430e+00],\n       [-1.02184904e+00,  1.01900435e+00, -1.22655167e+00,\n        -7.88915558e-01],\n       [-9.00681170e-01,  1.70959465e+00, -1.05603939e+00,\n        -1.05217993e+00],\n       [-1.26418478e+00, -1.31979479e-01, -1.34022653e+00,\n        -1.18381211e+00],\n       [-9.00681170e-01,  1.70959465e+00, -1.22655167e+00,\n        -1.31544430e+00],\n       [-1.50652052e+00,  3.28414053e-01, -1.34022653e+00,\n        -1.31544430e+00],\n       [-6.58345429e-01,  1.47939788e+00, -1.28338910e+00,\n        -1.31544430e+00],\n       [-1.02184904e+00,  5.58610819e-01, -1.34022653e+00,\n        -1.31544430e+00],\n       [ 1.40150837e+00,  3.28414053e-01,  5.35408562e-01,\n         2.64141916e-01],\n       [ 6.74501145e-01,  3.28414053e-01,  4.21733708e-01,\n         3.95774101e-01],\n       [ 1.28034050e+00,  9.82172869e-02,  6.49083415e-01,\n         3.95774101e-01],\n       [-4.16009689e-01, -1.74335684e+00,  1.37546573e-01,\n         1.32509732e-01],\n       [ 7.95669016e-01, -5.92373012e-01,  4.78571135e-01,\n         3.95774101e-01],\n       [-1.73673948e-01, -5.92373012e-01,  4.21733708e-01,\n         1.32509732e-01],\n       [ 5.53333275e-01,  5.58610819e-01,  5.35408562e-01,\n         5.27406285e-01],\n       [-1.14301691e+00, -1.51316008e+00, -2.60315415e-01,\n        -2.62386821e-01],\n       [ 9.16836886e-01, -3.62176246e-01,  4.78571135e-01,\n         1.32509732e-01],\n       [-7.79513300e-01, -8.22569778e-01,  8.07091462e-02,\n         2.64141916e-01],\n       [-1.02184904e+00, -2.43394714e+00, -1.46640561e-01,\n        -2.62386821e-01],\n       [ 6.86617933e-02, -1.31979479e-01,  2.51221427e-01,\n         3.95774101e-01],\n       [ 1.89829664e-01, -1.97355361e+00,  1.37546573e-01,\n        -2.62386821e-01],\n       [ 3.10997534e-01, -3.62176246e-01,  5.35408562e-01,\n         2.64141916e-01],\n       [-2.94841818e-01, -3.62176246e-01, -8.98031345e-02,\n         1.32509732e-01],\n       [ 1.03800476e+00,  9.82172869e-02,  3.64896281e-01,\n         2.64141916e-01],\n       [-2.94841818e-01, -1.31979479e-01,  4.21733708e-01,\n         3.95774101e-01],\n       [-5.25060772e-02, -8.22569778e-01,  1.94384000e-01,\n        -2.62386821e-01],\n       [ 4.32165405e-01, -1.97355361e+00,  4.21733708e-01,\n         3.95774101e-01],\n       [-2.94841818e-01, -1.28296331e+00,  8.07091462e-02,\n        -1.30754636e-01],\n       [ 6.86617933e-02,  3.28414053e-01,  5.92245988e-01,\n         7.90670654e-01],\n       [ 3.10997534e-01, -5.92373012e-01,  1.37546573e-01,\n         1.32509732e-01],\n       [ 5.53333275e-01, -1.28296331e+00,  6.49083415e-01,\n         3.95774101e-01],\n       [ 3.10997534e-01, -5.92373012e-01,  5.35408562e-01,\n         8.77547895e-04],\n       [ 6.74501145e-01, -3.62176246e-01,  3.08058854e-01,\n         1.32509732e-01],\n       [ 9.16836886e-01, -1.31979479e-01,  3.64896281e-01,\n         2.64141916e-01],\n       [ 1.15917263e+00, -5.92373012e-01,  5.92245988e-01,\n         2.64141916e-01],\n       [ 1.03800476e+00, -1.31979479e-01,  7.05920842e-01,\n         6.59038469e-01],\n       [ 1.89829664e-01, -3.62176246e-01,  4.21733708e-01,\n         3.95774101e-01],\n       [-1.73673948e-01, -1.05276654e+00, -1.46640561e-01,\n        -2.62386821e-01],\n       [-4.16009689e-01, -1.51316008e+00,  2.38717193e-02,\n        -1.30754636e-01],\n       [-4.16009689e-01, -1.51316008e+00, -3.29657076e-02,\n        -2.62386821e-01],\n       [-5.25060772e-02, -8.22569778e-01,  8.07091462e-02,\n         8.77547895e-04],\n       [ 1.89829664e-01, -8.22569778e-01,  7.62758269e-01,\n         5.27406285e-01],\n       [-5.37177559e-01, -1.31979479e-01,  4.21733708e-01,\n         3.95774101e-01],\n       [ 1.89829664e-01,  7.88807586e-01,  4.21733708e-01,\n         5.27406285e-01],\n       [ 1.03800476e+00,  9.82172869e-02,  5.35408562e-01,\n         3.95774101e-01],\n       [ 5.53333275e-01, -1.74335684e+00,  3.64896281e-01,\n         1.32509732e-01],\n       [-2.94841818e-01, -1.31979479e-01,  1.94384000e-01,\n         1.32509732e-01],\n       [-4.16009689e-01, -1.28296331e+00,  1.37546573e-01,\n         1.32509732e-01],\n       [-4.16009689e-01, -1.05276654e+00,  3.64896281e-01,\n         8.77547895e-04],\n       [ 3.10997534e-01, -1.31979479e-01,  4.78571135e-01,\n         2.64141916e-01],\n       [-5.25060772e-02, -1.05276654e+00,  1.37546573e-01,\n         8.77547895e-04],\n       [-1.02184904e+00, -1.74335684e+00, -2.60315415e-01,\n        -2.62386821e-01],\n       [-2.94841818e-01, -8.22569778e-01,  2.51221427e-01,\n         1.32509732e-01],\n       [-1.73673948e-01, -1.31979479e-01,  2.51221427e-01,\n         8.77547895e-04],\n       [-1.73673948e-01, -3.62176246e-01,  2.51221427e-01,\n         1.32509732e-01],\n       [ 4.32165405e-01, -3.62176246e-01,  3.08058854e-01,\n         1.32509732e-01],\n       [-9.00681170e-01, -1.28296331e+00, -4.30827696e-01,\n        -1.30754636e-01],\n       [-1.73673948e-01, -5.92373012e-01,  1.94384000e-01,\n         1.32509732e-01],\n       [ 5.53333275e-01,  5.58610819e-01,  1.27429511e+00,\n         1.71209594e+00],\n       [-5.25060772e-02, -8.22569778e-01,  7.62758269e-01,\n         9.22302838e-01],\n       [ 1.52267624e+00, -1.31979479e-01,  1.21745768e+00,\n         1.18556721e+00],\n       [ 5.53333275e-01, -3.62176246e-01,  1.04694540e+00,\n         7.90670654e-01],\n       [ 7.95669016e-01, -1.31979479e-01,  1.16062026e+00,\n         1.31719939e+00],\n       [ 2.12851559e+00, -1.31979479e-01,  1.61531967e+00,\n         1.18556721e+00],\n       [-1.14301691e+00, -1.28296331e+00,  4.21733708e-01,\n         6.59038469e-01],\n       [ 1.76501198e+00, -3.62176246e-01,  1.44480739e+00,\n         7.90670654e-01],\n       [ 1.03800476e+00, -1.28296331e+00,  1.16062026e+00,\n         7.90670654e-01],\n       [ 1.64384411e+00,  1.24920112e+00,  1.33113254e+00,\n         1.71209594e+00],\n       [ 7.95669016e-01,  3.28414053e-01,  7.62758269e-01,\n         1.05393502e+00],\n       [ 6.74501145e-01, -8.22569778e-01,  8.76433123e-01,\n         9.22302838e-01],\n       [ 1.15917263e+00, -1.31979479e-01,  9.90107977e-01,\n         1.18556721e+00],\n       [-1.73673948e-01, -1.28296331e+00,  7.05920842e-01,\n         1.05393502e+00],\n       [-5.25060772e-02, -5.92373012e-01,  7.62758269e-01,\n         1.58046376e+00],\n       [ 6.74501145e-01,  3.28414053e-01,  8.76433123e-01,\n         1.44883158e+00],\n       [ 7.95669016e-01, -1.31979479e-01,  9.90107977e-01,\n         7.90670654e-01],\n       [ 2.24968346e+00,  1.70959465e+00,  1.67215710e+00,\n         1.31719939e+00],\n       [ 2.24968346e+00, -1.05276654e+00,  1.78583195e+00,\n         1.44883158e+00],\n       [ 1.89829664e-01, -1.97355361e+00,  7.05920842e-01,\n         3.95774101e-01],\n       [ 1.28034050e+00,  3.28414053e-01,  1.10378283e+00,\n         1.44883158e+00],\n       [-2.94841818e-01, -5.92373012e-01,  6.49083415e-01,\n         1.05393502e+00],\n       [ 2.24968346e+00, -5.92373012e-01,  1.67215710e+00,\n         1.05393502e+00],\n       [ 5.53333275e-01, -8.22569778e-01,  6.49083415e-01,\n         7.90670654e-01],\n       [ 1.03800476e+00,  5.58610819e-01,  1.10378283e+00,\n         1.18556721e+00],\n       [ 1.64384411e+00,  3.28414053e-01,  1.27429511e+00,\n         7.90670654e-01],\n       [ 4.32165405e-01, -5.92373012e-01,  5.92245988e-01,\n         7.90670654e-01],\n       [ 3.10997534e-01, -1.31979479e-01,  6.49083415e-01,\n         7.90670654e-01],\n       [ 6.74501145e-01, -5.92373012e-01,  1.04694540e+00,\n         1.18556721e+00],\n       [ 1.64384411e+00, -1.31979479e-01,  1.16062026e+00,\n         5.27406285e-01],\n       [ 1.88617985e+00, -5.92373012e-01,  1.33113254e+00,\n         9.22302838e-01],\n       [ 2.49201920e+00,  1.70959465e+00,  1.50164482e+00,\n         1.05393502e+00],\n       [ 6.74501145e-01, -5.92373012e-01,  1.04694540e+00,\n         1.31719939e+00],\n       [ 5.53333275e-01, -5.92373012e-01,  7.62758269e-01,\n         3.95774101e-01],\n       [ 3.10997534e-01, -1.05276654e+00,  1.04694540e+00,\n         2.64141916e-01],\n       [ 2.24968346e+00, -1.31979479e-01,  1.33113254e+00,\n         1.44883158e+00],\n       [ 5.53333275e-01,  7.88807586e-01,  1.04694540e+00,\n         1.58046376e+00],\n       [ 6.74501145e-01,  9.82172869e-02,  9.90107977e-01,\n         7.90670654e-01],\n       [ 1.89829664e-01, -1.31979479e-01,  5.92245988e-01,\n         7.90670654e-01],\n       [ 1.28034050e+00,  9.82172869e-02,  9.33270550e-01,\n         1.18556721e+00],\n       [ 1.03800476e+00,  9.82172869e-02,  1.04694540e+00,\n         1.58046376e+00],\n       [ 1.28034050e+00,  9.82172869e-02,  7.62758269e-01,\n         1.44883158e+00],\n       [-5.25060772e-02, -8.22569778e-01,  7.62758269e-01,\n         9.22302838e-01],\n       [ 1.15917263e+00,  3.28414053e-01,  1.21745768e+00,\n         1.44883158e+00],\n       [ 1.03800476e+00,  5.58610819e-01,  1.10378283e+00,\n         1.71209594e+00],\n       [ 1.03800476e+00, -1.31979479e-01,  8.19595696e-01,\n         1.44883158e+00],\n       [ 5.53333275e-01, -1.28296331e+00,  7.05920842e-01,\n         9.22302838e-01],\n       [ 7.95669016e-01, -1.31979479e-01,  8.19595696e-01,\n         1.05393502e+00],\n       [ 4.32165405e-01,  7.88807586e-01,  9.33270550e-01,\n         1.44883158e+00],\n       [ 6.86617933e-02, -1.31979479e-01,  7.62758269e-01,\n         7.90670654e-01]])"
     },
     "execution_count": 20,
     "metadata": {},
     "output_type": "execute_result"
    }
   ],
   "source": [
    "x = StandardScaler().fit_transform(data[\"data\"])\n",
    "x"
   ],
   "metadata": {
    "collapsed": false,
    "pycharm": {
     "name": "#%%\n"
    }
   }
  },
  {
   "cell_type": "code",
   "execution_count": 21,
   "outputs": [
    {
     "data": {
      "text/plain": "['sepal length (cm)',\n 'sepal width (cm)',\n 'petal length (cm)',\n 'petal width (cm)']"
     },
     "execution_count": 21,
     "metadata": {},
     "output_type": "execute_result"
    }
   ],
   "source": [
    "feature_name = data[\"feature_names\"]\n",
    "feature_name"
   ],
   "metadata": {
    "collapsed": false,
    "pycharm": {
     "name": "#%%\n"
    }
   }
  },
  {
   "cell_type": "code",
   "execution_count": 28,
   "outputs": [
    {
     "data": {
      "text/plain": "<Figure size 432x288 with 2 Axes>",
      "image/png": "[encoded data removed]"
     },
     "metadata": {
      "needs_background": "light"
     },
     "output_type": "display_data"
    }
   ],
   "source": [
    "ax = plt.axes()\n",
    "im = ax.imshow(np.corrcoef(x.T),cmap=\"RdBu_r\",vmin=-1,vmax=1)\n",
    "ax.set_xticks([0,1,2,3])\n",
    "ax.set_xticklabels(list(feature_name),rotation = 90)\n",
    "ax.set_yticks([0,1,2,3])\n",
    "ax.set_yticklabels(list(feature_name))\n",
    "plt.colorbar(im).ax.set_ylabel(\"$r$\",rotation=0)\n",
    "ax.set_title(\"Iris Feature correlation matrix\")\n",
    "plt.tight_layout()\n"
   ],
   "metadata": {
    "collapsed": false,
    "pycharm": {
     "name": "#%%\n"
    }
   }
  },
  {
   "cell_type": "code",
   "execution_count": 35,
   "outputs": [
    {
     "name": "stdout",
     "output_type": "stream",
     "text": [
      "\n",
      " PCA: \n",
      "\n",
      "[[ 0.52106591  0.37741762]\n",
      " [-0.26934744  0.92329566]\n",
      " [ 0.5804131   0.02449161]\n",
      " [ 0.56485654  0.06694199]]\n",
      "\n",
      " Unrotated FA: \n",
      "\n",
      "[[ 0.88096009 -0.4472869 ]\n",
      " [-0.41691605 -0.55390036]\n",
      " [ 0.99918858  0.01915283]\n",
      " [ 0.96228895  0.05840206]]\n",
      "\n",
      " Varimax FA: \n",
      "\n",
      "[[ 0.98633022 -0.05752333]\n",
      " [-0.16052385 -0.67443065]\n",
      " [ 0.90809432  0.41726413]\n",
      " [ 0.85857475  0.43847489]]\n"
     ]
    },
    {
     "data": {
      "text/plain": "<Figure size 720x576 with 3 Axes>",
      "image/png": "[encoded data removed]"
     },
     "metadata": {
      "needs_background": "light"
     },
     "output_type": "display_data"
    }
   ],
   "source": [
    "n_compa = 2\n",
    "methods = [('PCA',PCA()),\n",
    "           ('Unrotated FA', FactorAnalysis()),\n",
    "           ('Varimax FA',FactorAnalysis(rotation='varimax'))]\n",
    "fig,axen = plt.subplots(ncols=len(methods),figsize = (10,8))\n",
    "for ax,(method,fa) in zip(axen,methods):\n",
    "    fa.set_params(n_components = n_compa)\n",
    "    fa.fit(x)\n",
    "    components = fa.components_.T\n",
    "    print(\"\\n %s: \\n\" %method)\n",
    "    print(components)\n",
    "    vmax =  np.abs(components.max())\n",
    "    ax.imshow(components,cmap=\"RdBu_r\",vmax =vmax,vmin=-vmax)\n",
    "    ax.set_yticks(np.arange(len(feature_name)))\n",
    "    if ax.is_last_col():\n",
    "        ax.set_yticklabels(feature_name)\n",
    "    else:\n",
    "        ax.set_yticklabels([])\n",
    "    ax.set_title(str(method))\n",
    "    ax.set_xticks([0,1])\n",
    "    ax.set_xticklabels([\"Comp. 1\",\"Comp. 2\"])\n",
    "\n",
    "fig.suptitle(\"Factors\")\n",
    "plt.tight_layout()\n",
    "plt.show()"
   ],
   "metadata": {
    "collapsed": false,
    "pycharm": {
     "name": "#%%  run factor analysis with Varimax rotation\n"
    }
   }
  },
  {
   "cell_type": "code",
   "execution_count": null,
   "outputs": [],
   "source": [],
   "metadata": {
    "collapsed": false,
    "pycharm": {
     "name": "#%%\n"
    }
   }
  },
  {
   "cell_type": "code",
   "execution_count": null,
   "outputs": [],
   "source": [],
   "metadata": {
    "collapsed": false,
    "pycharm": {
     "name": "#%%\n"
    }
   }
  },
  {
   "cell_type": "code",
   "execution_count": null,
   "outputs": [],
   "source": [],
   "metadata": {
    "collapsed": false,
    "pycharm": {
     "name": "#%%\n"
    }
   }
  },
  {
   "cell_type": "code",
   "execution_count": null,
   "outputs": [],
   "source": [],
   "metadata": {
    "collapsed": false,
    "pycharm": {
     "name": "#%%\n"
    }
   }
  },
  {
   "cell_type": "code",
   "execution_count": null,
   "outputs": [],
   "source": [],
   "metadata": {
    "collapsed": false,
    "pycharm": {
     "name": "#%%\n"
    }
   }
  },
  {
   "cell_type": "code",
   "execution_count": null,
   "outputs": [],
   "source": [],
   "metadata": {
    "collapsed": false,
    "pycharm": {
     "name": "#%%\n"
    }
   }
  },
  {
   "cell_type": "code",
   "execution_count": 6,
   "outputs": [],
   "source": [],
   "metadata": {
    "collapsed": false,
    "pycharm": {
     "name": "#%%\n"
    }
   }
  },
  {
   "cell_type": "code",
   "execution_count": 6,
   "outputs": [],
   "source": [],
   "metadata": {
    "collapsed": false,
    "pycharm": {
     "name": "#%%\n"
    }
   }
  },
  {
   "cell_type": "code",
   "execution_count": 6,
   "outputs": [],
   "source": [],
   "metadata": {
    "collapsed": false,
    "pycharm": {
     "name": "#%%\n"
    }
   }
  },
  {
   "cell_type": "code",
   "execution_count": 6,
   "outputs": [],
   "source": [],
   "metadata": {
    "collapsed": false,
    "pycharm": {
     "name": "#%%\n"
    }
   }
  },
  {
   "cell_type": "code",
   "execution_count": 6,
   "outputs": [],
   "source": [],
   "metadata": {
    "collapsed": false,
    "pycharm": {
     "name": "#%%\n"
    }
   }
  }
 ],
 "metadata": {
  "kernelspec": {
   "display_name": "Python 3",
   "language": "python",
   "name": "python3"
  },
  "language_info": {
   "codemirror_mode": {
    "name": "ipython",
    "version": 2
   },
   "file_extension": ".py",
   "mimetype": "text/x-python",
   "name": "python",
   "nbconvert_exporter": "python",
   "pygments_lexer": "ipython2",
   "version": "2.7.6"
  }
 },
 "nbformat": 4,
 "nbformat_minor": 0
}
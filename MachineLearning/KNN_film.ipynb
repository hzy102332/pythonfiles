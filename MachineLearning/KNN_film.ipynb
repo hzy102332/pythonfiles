{
 "cells": [
  {
   "cell_type": "code",
   "execution_count": 12,
   "metadata": {
    "collapsed": true,
    "pycharm": {
     "name": "#%%电影预测\n"
    }
   },
   "outputs": [
    {
     "data": {
      "text/plain": "{'Girl of the big house': [45, 2, 9, 'comedy'],\n 'Mermaid': [21, 17, 5, 'comedy'],\n 'From Vegas to Macau 3': [54, 9, 11, 'comedy'],\n 'Kong Fu Panda 3': [39, 0, 31, 'comedy'],\n 'The Bourne Identity': [5, 2, 57, 'Action'],\n 'IP man 3': [3, 2, 65, 'Action'],\n 'London has fallen': [2, 3, 55, 'Action'],\n 'The body Guard': [6, 4, 21, 'Action'],\n 'Run for love': [7, 46, 4, 'Affection'],\n 'Night Peacock': [9, 39, 8, 'Affection'],\n 'Acting lover': [9, 38, 2, 'Affection'],\n 'Treading on thin ice': [8, 34, 17, 'Affection']}"
     },
     "execution_count": 12,
     "metadata": {},
     "output_type": "execute_result"
    }
   ],
   "source": [
    "import math\n",
    "moive_data = {  \"Girl of the big house\":[45,2,9,\"comedy\"],\n",
    "                \"Mermaid\":[21,17,5,\"comedy\"],\n",
    "                \"From Vegas to Macau 3\":[54,9,11,\"comedy\"],\n",
    "                \"Kong Fu Panda 3\":[39,0,31,\"comedy\"],\n",
    "                \"The Bourne Identity\":[5,2,57,\"Action\"],\n",
    "                \"IP man 3\":[3,2,65,\"Action\"],\n",
    "                \"London has fallen\":[2,3,55,\"Action\"],\n",
    "                \"The body Guard\":[6,4,21,\"Action\"],\n",
    "                \"Run for love\":[7,46,4,\"Affection\"],\n",
    "                \"Night Peacock\":[9,39,8,\"Affection\"],\n",
    "                \"Acting lover\":[9,38,2,\"Affection\"],\n",
    "                \"Treading on thin ice\":[8,34,17,\"Affection\"]}\n",
    "moive_data"
   ]
  },
  {
   "cell_type": "code",
   "execution_count": 6,
   "outputs": [
    {
     "name": "stdout",
     "output_type": "stream",
     "text": [
      "[['Girl of the big house', 23.43], ['Mermaid', 18.55], ['From Vegas to Macau 3', 32.14], ['Kong Fu Panda 3', 21.47], ['The Bourne Identity', 43.87], ['IP man 3', 52.01], ['London has fallen', 43.42], ['The body Guard', 17.49], ['Run for love', 47.69], ['Night Peacock', 39.66], ['Acting lover', 40.57], ['Treading on thin ice', 34.44]]\n"
     ]
    }
   ],
   "source": [
    "# chinatwon detective :[45,2,9,\"?\"]\n",
    "x = [23,3,17]\n",
    "KNN = []\n",
    "for key,v in moive_data.items():\n",
    "    d = math.sqrt((x[0]-v[0])**2+(x[1]-v[1])**2+(x[2]-v[2])**2)\n",
    "    KNN.append([key,round(d,2)])\n",
    "print(KNN)\n"
   ],
   "metadata": {
    "collapsed": false,
    "pycharm": {
     "name": "#%%\n"
    }
   }
  },
  {
   "cell_type": "code",
   "execution_count": 8,
   "outputs": [
    {
     "data": {
      "text/plain": "[['The body Guard', 17.49],\n ['Mermaid', 18.55],\n ['Kong Fu Panda 3', 21.47],\n ['Girl of the big house', 23.43],\n ['From Vegas to Macau 3', 32.14],\n ['Treading on thin ice', 34.44],\n ['Night Peacock', 39.66],\n ['Acting lover', 40.57],\n ['London has fallen', 43.42],\n ['The Bourne Identity', 43.87],\n ['Run for love', 47.69],\n ['IP man 3', 52.01]]"
     },
     "execution_count": 8,
     "metadata": {},
     "output_type": "execute_result"
    }
   ],
   "source": [
    "KNN.sort(key=lambda dis:dis[1])\n",
    "KNN"
   ],
   "metadata": {
    "collapsed": false,
    "pycharm": {
     "name": "#%%\n"
    }
   }
  },
  {
   "cell_type": "code",
   "execution_count": 9,
   "outputs": [
    {
     "name": "stdout",
     "output_type": "stream",
     "text": [
      "[['The body Guard', 17.49], ['Mermaid', 18.55], ['Kong Fu Panda 3', 21.47], ['Girl of the big house', 23.43], ['From Vegas to Macau 3', 32.14]]\n"
     ]
    }
   ],
   "source": [
    "KNN = KNN[:5]\n",
    "print(KNN)"
   ],
   "metadata": {
    "collapsed": false,
    "pycharm": {
     "name": "#%%\n"
    }
   }
  },
  {
   "cell_type": "code",
   "execution_count": 11,
   "outputs": [
    {
     "name": "stdout",
     "output_type": "stream",
     "text": [
      "[('comedy', 4), ('Action', 1), ('Affection', 0)]\n",
      "Result is :\n",
      "comedy\n"
     ]
    }
   ],
   "source": [
    "labels = {\"comedy\":0,\"Action\":0,\"Affection\":0}\n",
    "for s in KNN:\n",
    "    label = moive_data[s[0]]\n",
    "    labels[label[3]] += 1\n",
    "labels = sorted(labels.items(),key=lambda l: l[1], reverse= True)\n",
    "print(labels,\"Result is :\",labels[0][0],sep='\\n')"
   ],
   "metadata": {
    "collapsed": false,
    "pycharm": {
     "name": "#%%\n"
    }
   }
  },
  {
   "cell_type": "code",
   "execution_count": 13,
   "outputs": [
    {
     "name": "stdout",
     "output_type": "stream",
     "text": [
      "{'Girl of the big house': [45, 2, 9, 'comedy'], 'Mermaid': [21, 17, 5, 'comedy'], 'From Vegas to Macau 3': [54, 9, 11, 'comedy'], 'Kong Fu Panda 3': [39, 0, 31, 'comedy'], 'The Bourne Identity': [5, 2, 57, 'Action'], 'IP man 3': [3, 2, 65, 'Action'], 'London has fallen': [2, 3, 55, 'Action'], 'The body Guard': [6, 4, 21, 'Action'], 'Run for love': [7, 46, 4, 'Affection'], 'Night Peacock': [9, 39, 8, 'Affection'], 'Acting lover': [9, 38, 2, 'Affection'], 'Treading on thin ice': [8, 34, 17, 'Affection']}\n"
     ]
    }
   ],
   "source": [],
   "metadata": {
    "collapsed": false,
    "pycharm": {
     "name": "#%%\n"
    }
   }
  },
  {
   "cell_type": "code",
   "execution_count": 5,
   "outputs": [],
   "source": [],
   "metadata": {
    "collapsed": false,
    "pycharm": {
     "name": "#%%\n"
    }
   }
  },
  {
   "cell_type": "code",
   "execution_count": 5,
   "outputs": [],
   "source": [],
   "metadata": {
    "collapsed": false,
    "pycharm": {
     "name": "#%%\n"
    }
   }
  },
  {
   "cell_type": "code",
   "execution_count": 5,
   "outputs": [],
   "source": [],
   "metadata": {
    "collapsed": false,
    "pycharm": {
     "name": "#%%\n"
    }
   }
  },
  {
   "cell_type": "code",
   "execution_count": 5,
   "outputs": [],
   "source": [],
   "metadata": {
    "collapsed": false,
    "pycharm": {
     "name": "#%%\n"
    }
   }
  },
  {
   "cell_type": "code",
   "execution_count": 5,
   "outputs": [],
   "source": [],
   "metadata": {
    "collapsed": false,
    "pycharm": {
     "name": "#%%\n"
    }
   }
  },
  {
   "cell_type": "code",
   "execution_count": 5,
   "outputs": [],
   "source": [],
   "metadata": {
    "collapsed": false,
    "pycharm": {
     "name": "#%%\n"
    }
   }
  },
  {
   "cell_type": "code",
   "execution_count": 5,
   "outputs": [],
   "source": [],
   "metadata": {
    "collapsed": false,
    "pycharm": {
     "name": "#%%\n"
    }
   }
  },
  {
   "cell_type": "code",
   "execution_count": 5,
   "outputs": [],
   "source": [],
   "metadata": {
    "collapsed": false,
    "pycharm": {
     "name": "#%%\n"
    }
   }
  },
  {
   "cell_type": "code",
   "execution_count": 5,
   "outputs": [],
   "source": [],
   "metadata": {
    "collapsed": false,
    "pycharm": {
     "name": "#%%\n"
    }
   }
  },
  {
   "cell_type": "code",
   "execution_count": 5,
   "outputs": [],
   "source": [],
   "metadata": {
    "collapsed": false,
    "pycharm": {
     "name": "#%%\n"
    }
   }
  }
 ],
 "metadata": {
  "kernelspec": {
   "display_name": "Python 3",
   "language": "python",
   "name": "python3"
  },
  "language_info": {
   "codemirror_mode": {
    "name": "ipython",
    "version": 2
   },
   "file_extension": ".py",
   "mimetype": "text/x-python",
   "name": "python",
   "nbconvert_exporter": "python",
   "pygments_lexer": "ipython2",
   "version": "2.7.6"
  }
 },
 "nbformat": 4,
 "nbformat_minor": 0
}